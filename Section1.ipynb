{
 "cells": [
  {
   "cell_type": "markdown",
   "metadata": {},
   "source": [
    "# Section 1\n",
    "\n",
    "*Question Formulation* -- Introduce the goal of your analysis. What questions will you seek to\n",
    "answer, why do people perform this kind of analysis on this kind of data? Preview what level of\n",
    "performance your model would need to achieve to be practically useful"
   ]
  },
  {
   "cell_type": "markdown",
   "metadata": {},
   "source": [
    "The goal of our analysis is to predict the clickthrough rate in online advertising. In online advertising platforms, advertisers publihs ads to websites where potential customers can view and click on them. For example, Nike as an advertiser might post an ad for running shoes on the ESPN.com website or in a google search for shoes. The position of the ad, the audience and the time that the ad is displayed may all significantly influence a user decision to click on it. \n",
    "\n",
    "Since several billions of ads are posted online each day, there is a vast amount of user log data that is collected showing the ad placement and whether or not a user clicked on an ad. \n",
    "\n",
    "The goal is to build a model that can predict given the features of the ad whether or not a user will click on the ad. \n",
    "\n",
    "A baseline for any model would be to measure the average click-through rate (CTR, percent of ads clicked). We also focus on log-loss as a measure of the performance of the model since it provides better calibrated probabilities. To be practically useful we would want a prediction accuracy that is higher than the baseline, which we get currently with no model. "
   ]
  },
  {
   "cell_type": "code",
   "execution_count": null,
   "metadata": {},
   "outputs": [],
   "source": []
  }
 ],
 "metadata": {
  "kernelspec": {
   "display_name": "Python 3",
   "language": "python",
   "name": "python3"
  },
  "language_info": {
   "codemirror_mode": {
    "name": "ipython",
    "version": 3
   },
   "file_extension": ".py",
   "mimetype": "text/x-python",
   "name": "python",
   "nbconvert_exporter": "python",
   "pygments_lexer": "ipython3",
   "version": "3.6.8"
  }
 },
 "nbformat": 4,
 "nbformat_minor": 4
}
