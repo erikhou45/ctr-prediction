{
 "cells": [
  {
   "cell_type": "markdown",
   "metadata": {},
   "source": [
    "# EDA"
   ]
  },
  {
   "cell_type": "markdown",
   "metadata": {},
   "source": [
    "## Setup Spark and Libraries"
   ]
  },
  {
   "cell_type": "code",
   "execution_count": 5,
   "metadata": {},
   "outputs": [],
   "source": [
    "import re\n",
    "import ast\n",
    "import time\n",
    "import numpy as np\n",
    "import pandas as pd\n",
    "import seaborn as sns\n",
    "import networkx as nx\n",
    "import matplotlib.pyplot as plt"
   ]
  },
  {
   "cell_type": "code",
   "execution_count": 6,
   "metadata": {},
   "outputs": [],
   "source": [
    "%reload_ext autoreload\n",
    "%autoreload 2"
   ]
  },
  {
   "cell_type": "code",
   "execution_count": 7,
   "metadata": {},
   "outputs": [],
   "source": [
    "PWD = !pwd\n",
    "PWD = PWD[0]"
   ]
  },
  {
   "cell_type": "code",
   "execution_count": 8,
   "metadata": {},
   "outputs": [],
   "source": [
    "from pyspark.sql import SparkSession\n",
    "app_name = \"final_project\"\n",
    "master = \"local[*]\"\n",
    "spark = SparkSession\\\n",
    "        .builder\\\n",
    "        .appName(app_name)\\\n",
    "        .master(master)\\\n",
    "        .getOrCreate()\n",
    "sc = spark.sparkContext"
   ]
  },
  {
   "cell_type": "code",
   "execution_count": 9,
   "metadata": {},
   "outputs": [
    {
     "data": {
      "text/html": [
       "\n",
       "            <div>\n",
       "                <p><b>SparkSession - in-memory</b></p>\n",
       "                \n",
       "        <div>\n",
       "            <p><b>SparkContext</b></p>\n",
       "\n",
       "            <p><a href=\"http://docker.w261:4040\">Spark UI</a></p>\n",
       "\n",
       "            <dl>\n",
       "              <dt>Version</dt>\n",
       "                <dd><code>v2.3.1</code></dd>\n",
       "              <dt>Master</dt>\n",
       "                <dd><code>local[*]</code></dd>\n",
       "              <dt>AppName</dt>\n",
       "                <dd><code>final_project</code></dd>\n",
       "            </dl>\n",
       "        </div>\n",
       "        \n",
       "            </div>\n",
       "        "
      ],
      "text/plain": [
       "<pyspark.sql.session.SparkSession at 0x7f73cc832be0>"
      ]
     },
     "execution_count": 9,
     "metadata": {},
     "output_type": "execute_result"
    }
   ],
   "source": [
    "spark"
   ]
  },
  {
   "cell_type": "markdown",
   "metadata": {},
   "source": [
    "## What is the Input Data?"
   ]
  },
  {
   "cell_type": "code",
   "execution_count": 13,
   "metadata": {},
   "outputs": [
    {
     "name": "stdout",
     "output_type": "stream",
     "text": [
      "0\t1\t1\t5\t0\t1382\t4\t15\t2\t181\t1\t2\t\t2\t68fd1e64\t80e26c9b\tfb936136\t7b4723c4\t25c83c98\t7e0ccccf\tde7995b8\t1f89b562\ta73ee510\ta8cd5504\tb2cb9c98\t37c9c164\t2824a5f6\t1adce6ef\t8ba8b39a\t891b62e7\te5ba7672\tf54016b9\t21ddcdc9\tb1252a9d\t07b5194c\t\t3a171ecb\tc5c50484\te8b83407\t9727dd16\n"
     ]
    }
   ],
   "source": [
    "!head -1 data/dac/train.txt"
   ]
  },
  {
   "cell_type": "markdown",
   "metadata": {},
   "source": [
    "The data has previously been loaded into memory and saved as a parquet file because lots of column-wise aggregation was expected"
   ]
  },
  {
   "cell_type": "code",
   "execution_count": 10,
   "metadata": {},
   "outputs": [],
   "source": [
    "# Load parquet df, save as different name and cache it\n",
    "parquet_df = spark.read.parquet('data/dac/train-parquet')"
   ]
  },
  {
   "cell_type": "code",
   "execution_count": 11,
   "metadata": {},
   "outputs": [
    {
     "name": "stdout",
     "output_type": "stream",
     "text": [
      "root\n",
      " |-- _1: string (nullable = true)\n",
      " |-- _2: string (nullable = true)\n",
      " |-- _3: string (nullable = true)\n",
      " |-- _4: string (nullable = true)\n",
      " |-- _5: string (nullable = true)\n",
      " |-- _6: string (nullable = true)\n",
      " |-- _7: string (nullable = true)\n",
      " |-- _8: string (nullable = true)\n",
      " |-- _9: string (nullable = true)\n",
      " |-- _10: string (nullable = true)\n",
      " |-- _11: string (nullable = true)\n",
      " |-- _12: string (nullable = true)\n",
      " |-- _13: string (nullable = true)\n",
      " |-- _14: string (nullable = true)\n",
      " |-- _15: string (nullable = true)\n",
      " |-- _16: string (nullable = true)\n",
      " |-- _17: string (nullable = true)\n",
      " |-- _18: string (nullable = true)\n",
      " |-- _19: string (nullable = true)\n",
      " |-- _20: string (nullable = true)\n",
      " |-- _21: string (nullable = true)\n",
      " |-- _22: string (nullable = true)\n",
      " |-- _23: string (nullable = true)\n",
      " |-- _24: string (nullable = true)\n",
      " |-- _25: string (nullable = true)\n",
      " |-- _26: string (nullable = true)\n",
      " |-- _27: string (nullable = true)\n",
      " |-- _28: string (nullable = true)\n",
      " |-- _29: string (nullable = true)\n",
      " |-- _30: string (nullable = true)\n",
      " |-- _31: string (nullable = true)\n",
      " |-- _32: string (nullable = true)\n",
      " |-- _33: string (nullable = true)\n",
      " |-- _34: string (nullable = true)\n",
      " |-- _35: string (nullable = true)\n",
      " |-- _36: string (nullable = true)\n",
      " |-- _37: string (nullable = true)\n",
      " |-- _38: string (nullable = true)\n",
      " |-- _39: string (nullable = true)\n",
      " |-- _40: string (nullable = true)\n",
      "\n"
     ]
    }
   ],
   "source": [
    "parquet_df.printSchema()"
   ]
  },
  {
   "cell_type": "markdown",
   "metadata": {},
   "source": [
    "## Transform column names\n",
    "The column names are transformed to more easily differentiate between columns that are integer or categorical features"
   ]
  },
  {
   "cell_type": "code",
   "execution_count": 15,
   "metadata": {},
   "outputs": [],
   "source": [
    "int_column_names = [f\"int_feat_{i}\" for i in range(0, 13)]\n",
    "cat_column_names = [f\"cat_feat_{i}\" for i in range(0, 26)]\n",
    "column_names = [\"class\"] + int_column_names + cat_column_names\n",
    "new_columns_df = parquet_df.toDF(*column_names)"
   ]
  },
  {
   "cell_type": "markdown",
   "metadata": {},
   "source": [
    "## Casting columns\n",
    "I kind of assumed all the numeric values were integers although I didn't verify that is exactly the case. Should be verify this?"
   ]
  },
  {
   "cell_type": "code",
   "execution_count": 16,
   "metadata": {},
   "outputs": [],
   "source": [
    "data_types = [\"int\"] + [\"int\"] * 13 + [\"string\"] * 26"
   ]
  },
  {
   "cell_type": "code",
   "execution_count": 17,
   "metadata": {},
   "outputs": [],
   "source": [
    "for i, data_type in enumerate(data_types):\n",
    "    new_columns_df = new_columns_df.withColumn(column_names[i], new_columns_df[column_names[i]].cast(data_type))"
   ]
  },
  {
   "cell_type": "code",
   "execution_count": 18,
   "metadata": {},
   "outputs": [
    {
     "name": "stdout",
     "output_type": "stream",
     "text": [
      "root\n",
      " |-- class: integer (nullable = true)\n",
      " |-- int_feat_0: integer (nullable = true)\n",
      " |-- int_feat_1: integer (nullable = true)\n",
      " |-- int_feat_2: integer (nullable = true)\n",
      " |-- int_feat_3: integer (nullable = true)\n",
      " |-- int_feat_4: integer (nullable = true)\n",
      " |-- int_feat_5: integer (nullable = true)\n",
      " |-- int_feat_6: integer (nullable = true)\n",
      " |-- int_feat_7: integer (nullable = true)\n",
      " |-- int_feat_8: integer (nullable = true)\n",
      " |-- int_feat_9: integer (nullable = true)\n",
      " |-- int_feat_10: integer (nullable = true)\n",
      " |-- int_feat_11: integer (nullable = true)\n",
      " |-- int_feat_12: integer (nullable = true)\n",
      " |-- cat_feat_0: string (nullable = true)\n",
      " |-- cat_feat_1: string (nullable = true)\n",
      " |-- cat_feat_2: string (nullable = true)\n",
      " |-- cat_feat_3: string (nullable = true)\n",
      " |-- cat_feat_4: string (nullable = true)\n",
      " |-- cat_feat_5: string (nullable = true)\n",
      " |-- cat_feat_6: string (nullable = true)\n",
      " |-- cat_feat_7: string (nullable = true)\n",
      " |-- cat_feat_8: string (nullable = true)\n",
      " |-- cat_feat_9: string (nullable = true)\n",
      " |-- cat_feat_10: string (nullable = true)\n",
      " |-- cat_feat_11: string (nullable = true)\n",
      " |-- cat_feat_12: string (nullable = true)\n",
      " |-- cat_feat_13: string (nullable = true)\n",
      " |-- cat_feat_14: string (nullable = true)\n",
      " |-- cat_feat_15: string (nullable = true)\n",
      " |-- cat_feat_16: string (nullable = true)\n",
      " |-- cat_feat_17: string (nullable = true)\n",
      " |-- cat_feat_18: string (nullable = true)\n",
      " |-- cat_feat_19: string (nullable = true)\n",
      " |-- cat_feat_20: string (nullable = true)\n",
      " |-- cat_feat_21: string (nullable = true)\n",
      " |-- cat_feat_22: string (nullable = true)\n",
      " |-- cat_feat_23: string (nullable = true)\n",
      " |-- cat_feat_24: string (nullable = true)\n",
      " |-- cat_feat_25: string (nullable = true)\n",
      "\n"
     ]
    }
   ],
   "source": [
    "new_columns_df.printSchema()"
   ]
  },
  {
   "cell_type": "markdown",
   "metadata": {},
   "source": [
    "## Summary Statistics"
   ]
  },
  {
   "cell_type": "code",
   "execution_count": 195,
   "metadata": {},
   "outputs": [],
   "source": [
    "summary_df = new_columns_df.summary()"
   ]
  },
  {
   "cell_type": "code",
   "execution_count": 221,
   "metadata": {},
   "outputs": [
    {
     "name": "stdout",
     "output_type": "stream",
     "text": [
      "+-------+------------------+\n",
      "|summary|        int_feat_5|\n",
      "+-------+------------------+\n",
      "|  count|          35588289|\n",
      "|   mean|116.06185085211598|\n",
      "| stddev|382.56644937124145|\n",
      "|    min|                 0|\n",
      "|    25%|                 8|\n",
      "|    50%|                33|\n",
      "|    75%|               103|\n",
      "|    max|            431037|\n",
      "+-------+------------------+\n",
      "\n"
     ]
    }
   ],
   "source": [
    "summary_df.select('summary', 'int_feat_5').show()"
   ]
  },
  {
   "cell_type": "markdown",
   "metadata": {},
   "source": [
    "## How Many Distinct Values in Each Column?"
   ]
  },
  {
   "cell_type": "code",
   "execution_count": 19,
   "metadata": {},
   "outputs": [],
   "source": [
    "toy_df = spark.createDataFrame([\n",
    "    [1, \"a\", \"c\"],\n",
    "    [2, \"a\", \"d\"],\n",
    "    [3, \"b\", \"c\"],\n",
    "    [4, \"d\", \"a\"],\n",
    "    [5, \"e\", \"a\"],\n",
    "    [1, \"a\", \"c\"],\n",
    "    [2, \"a\", \"d\"],\n",
    "    [3, \"b\", \"c\"],\n",
    "    [4, \"e\", \"a\"],\n",
    "    [5, \"e\", \"a\"]\n",
    "])"
   ]
  },
  {
   "cell_type": "code",
   "execution_count": 113,
   "metadata": {},
   "outputs": [
    {
     "name": "stdout",
     "output_type": "stream",
     "text": [
      "+-----+\n",
      "|myCol|\n",
      "+-----+\n",
      "|    0|\n",
      "|    1|\n",
      "|    2|\n",
      "|   20|\n",
      "+-----+\n",
      "\n"
     ]
    }
   ],
   "source": [
    "firstDF = spark.range(3).toDF(\"myCol\")\n",
    "newRow = spark.createDataFrame([[20]])\n",
    "appended = firstDF.union(newRow)\n",
    "appended.show()"
   ]
  },
  {
   "cell_type": "code",
   "execution_count": 114,
   "metadata": {},
   "outputs": [],
   "source": [
    "def get_distinct_summary(df, col):\n",
    "    summary_values = [col]\n",
    "    summary_values.append(df.select(col).distinct().count())\n",
    "    \n",
    "    count_df = df.groupBy(col).count()\n",
    "    filters = [\"count >= 10\", \"count >= 100\", \"count >= 1000\"]\n",
    "    filtered_counts = [count_df.filter(condition).count() for condition in filters]\n",
    "    summary_values.extend(filtered_counts)\n",
    "    return summary_values"
   ]
  },
  {
   "cell_type": "code",
   "execution_count": 119,
   "metadata": {},
   "outputs": [],
   "source": [
    "distinct_summary = [get_distinct_summary(new_columns_df, c) for c in new_columns_df.columns]"
   ]
  },
  {
   "cell_type": "code",
   "execution_count": 121,
   "metadata": {},
   "outputs": [
    {
     "ename": "Py4JError",
     "evalue": "An error occurred while calling o1980.showString. Trace:\npy4j.Py4JException: Method showString([class java.lang.String, class java.lang.Integer, class java.lang.Boolean]) does not exist\n\tat py4j.reflection.ReflectionEngine.getMethod(ReflectionEngine.java:318)\n\tat py4j.reflection.ReflectionEngine.getMethod(ReflectionEngine.java:326)\n\tat py4j.Gateway.invoke(Gateway.java:274)\n\tat py4j.commands.AbstractCommand.invokeMethod(AbstractCommand.java:132)\n\tat py4j.commands.CallCommand.execute(CallCommand.java:79)\n\tat py4j.GatewayConnection.run(GatewayConnection.java:238)\n\tat java.lang.Thread.run(Thread.java:748)\n\n",
     "output_type": "error",
     "traceback": [
      "\u001b[0;31m\u001b[0m",
      "\u001b[0;31mPy4JError\u001b[0mTraceback (most recent call last)",
      "\u001b[0;32m<ipython-input-121-0504257c2826>\u001b[0m in \u001b[0;36m<module>\u001b[0;34m()\u001b[0m\n\u001b[1;32m      1\u001b[0m \u001b[0mtest_df\u001b[0m \u001b[0;34m=\u001b[0m \u001b[0mspark\u001b[0m\u001b[0;34m.\u001b[0m\u001b[0mcreateDataFrame\u001b[0m\u001b[0;34m(\u001b[0m\u001b[0mdistinct_summary\u001b[0m\u001b[0;34m,\u001b[0m \u001b[0;34m[\u001b[0m\u001b[0;34m'Feature'\u001b[0m\u001b[0;34m,\u001b[0m \u001b[0;34m'Distinct'\u001b[0m\u001b[0;34m,\u001b[0m \u001b[0;34m'Distinct Count > 10'\u001b[0m\u001b[0;34m,\u001b[0m \u001b[0;34m'Distinct Count > 100'\u001b[0m\u001b[0;34m,\u001b[0m \u001b[0;34m'Distinct Count  > 1000'\u001b[0m\u001b[0;34m]\u001b[0m\u001b[0;34m)\u001b[0m\u001b[0;34m\u001b[0m\u001b[0m\n\u001b[0;32m----> 2\u001b[0;31m \u001b[0mtest_df\u001b[0m\u001b[0;34m.\u001b[0m\u001b[0mshow\u001b[0m\u001b[0;34m(\u001b[0m\u001b[0;34m\"*\"\u001b[0m\u001b[0;34m)\u001b[0m\u001b[0;34m\u001b[0m\u001b[0m\n\u001b[0m",
      "\u001b[0;32m/opt/anaconda/lib/python3.6/site-packages/pyspark-2.3.1-py3.6.egg/pyspark/sql/dataframe.py\u001b[0m in \u001b[0;36mshow\u001b[0;34m(self, n, truncate, vertical)\u001b[0m\n\u001b[1;32m    348\u001b[0m         \"\"\"\n\u001b[1;32m    349\u001b[0m         \u001b[0;32mif\u001b[0m \u001b[0misinstance\u001b[0m\u001b[0;34m(\u001b[0m\u001b[0mtruncate\u001b[0m\u001b[0;34m,\u001b[0m \u001b[0mbool\u001b[0m\u001b[0;34m)\u001b[0m \u001b[0;32mand\u001b[0m \u001b[0mtruncate\u001b[0m\u001b[0;34m:\u001b[0m\u001b[0;34m\u001b[0m\u001b[0m\n\u001b[0;32m--> 350\u001b[0;31m             \u001b[0mprint\u001b[0m\u001b[0;34m(\u001b[0m\u001b[0mself\u001b[0m\u001b[0;34m.\u001b[0m\u001b[0m_jdf\u001b[0m\u001b[0;34m.\u001b[0m\u001b[0mshowString\u001b[0m\u001b[0;34m(\u001b[0m\u001b[0mn\u001b[0m\u001b[0;34m,\u001b[0m \u001b[0;36m20\u001b[0m\u001b[0;34m,\u001b[0m \u001b[0mvertical\u001b[0m\u001b[0;34m)\u001b[0m\u001b[0;34m)\u001b[0m\u001b[0;34m\u001b[0m\u001b[0m\n\u001b[0m\u001b[1;32m    351\u001b[0m         \u001b[0;32melse\u001b[0m\u001b[0;34m:\u001b[0m\u001b[0;34m\u001b[0m\u001b[0m\n\u001b[1;32m    352\u001b[0m             \u001b[0mprint\u001b[0m\u001b[0;34m(\u001b[0m\u001b[0mself\u001b[0m\u001b[0;34m.\u001b[0m\u001b[0m_jdf\u001b[0m\u001b[0;34m.\u001b[0m\u001b[0mshowString\u001b[0m\u001b[0;34m(\u001b[0m\u001b[0mn\u001b[0m\u001b[0;34m,\u001b[0m \u001b[0mint\u001b[0m\u001b[0;34m(\u001b[0m\u001b[0mtruncate\u001b[0m\u001b[0;34m)\u001b[0m\u001b[0;34m,\u001b[0m \u001b[0mvertical\u001b[0m\u001b[0;34m)\u001b[0m\u001b[0;34m)\u001b[0m\u001b[0;34m\u001b[0m\u001b[0m\n",
      "\u001b[0;32m/opt/anaconda/lib/python3.6/site-packages/py4j-0.10.7-py3.6.egg/py4j/java_gateway.py\u001b[0m in \u001b[0;36m__call__\u001b[0;34m(self, *args)\u001b[0m\n\u001b[1;32m   1255\u001b[0m         \u001b[0manswer\u001b[0m \u001b[0;34m=\u001b[0m \u001b[0mself\u001b[0m\u001b[0;34m.\u001b[0m\u001b[0mgateway_client\u001b[0m\u001b[0;34m.\u001b[0m\u001b[0msend_command\u001b[0m\u001b[0;34m(\u001b[0m\u001b[0mcommand\u001b[0m\u001b[0;34m)\u001b[0m\u001b[0;34m\u001b[0m\u001b[0m\n\u001b[1;32m   1256\u001b[0m         return_value = get_return_value(\n\u001b[0;32m-> 1257\u001b[0;31m             answer, self.gateway_client, self.target_id, self.name)\n\u001b[0m\u001b[1;32m   1258\u001b[0m \u001b[0;34m\u001b[0m\u001b[0m\n\u001b[1;32m   1259\u001b[0m         \u001b[0;32mfor\u001b[0m \u001b[0mtemp_arg\u001b[0m \u001b[0;32min\u001b[0m \u001b[0mtemp_args\u001b[0m\u001b[0;34m:\u001b[0m\u001b[0;34m\u001b[0m\u001b[0m\n",
      "\u001b[0;32m/opt/anaconda/lib/python3.6/site-packages/pyspark-2.3.1-py3.6.egg/pyspark/sql/utils.py\u001b[0m in \u001b[0;36mdeco\u001b[0;34m(*a, **kw)\u001b[0m\n\u001b[1;32m     61\u001b[0m     \u001b[0;32mdef\u001b[0m \u001b[0mdeco\u001b[0m\u001b[0;34m(\u001b[0m\u001b[0;34m*\u001b[0m\u001b[0ma\u001b[0m\u001b[0;34m,\u001b[0m \u001b[0;34m**\u001b[0m\u001b[0mkw\u001b[0m\u001b[0;34m)\u001b[0m\u001b[0;34m:\u001b[0m\u001b[0;34m\u001b[0m\u001b[0m\n\u001b[1;32m     62\u001b[0m         \u001b[0;32mtry\u001b[0m\u001b[0;34m:\u001b[0m\u001b[0;34m\u001b[0m\u001b[0m\n\u001b[0;32m---> 63\u001b[0;31m             \u001b[0;32mreturn\u001b[0m \u001b[0mf\u001b[0m\u001b[0;34m(\u001b[0m\u001b[0;34m*\u001b[0m\u001b[0ma\u001b[0m\u001b[0;34m,\u001b[0m \u001b[0;34m**\u001b[0m\u001b[0mkw\u001b[0m\u001b[0;34m)\u001b[0m\u001b[0;34m\u001b[0m\u001b[0m\n\u001b[0m\u001b[1;32m     64\u001b[0m         \u001b[0;32mexcept\u001b[0m \u001b[0mpy4j\u001b[0m\u001b[0;34m.\u001b[0m\u001b[0mprotocol\u001b[0m\u001b[0;34m.\u001b[0m\u001b[0mPy4JJavaError\u001b[0m \u001b[0;32mas\u001b[0m \u001b[0me\u001b[0m\u001b[0;34m:\u001b[0m\u001b[0;34m\u001b[0m\u001b[0m\n\u001b[1;32m     65\u001b[0m             \u001b[0ms\u001b[0m \u001b[0;34m=\u001b[0m \u001b[0me\u001b[0m\u001b[0;34m.\u001b[0m\u001b[0mjava_exception\u001b[0m\u001b[0;34m.\u001b[0m\u001b[0mtoString\u001b[0m\u001b[0;34m(\u001b[0m\u001b[0;34m)\u001b[0m\u001b[0;34m\u001b[0m\u001b[0m\n",
      "\u001b[0;32m/opt/anaconda/lib/python3.6/site-packages/py4j-0.10.7-py3.6.egg/py4j/protocol.py\u001b[0m in \u001b[0;36mget_return_value\u001b[0;34m(answer, gateway_client, target_id, name)\u001b[0m\n\u001b[1;32m    330\u001b[0m                 raise Py4JError(\n\u001b[1;32m    331\u001b[0m                     \u001b[0;34m\"An error occurred while calling {0}{1}{2}. Trace:\\n{3}\\n\"\u001b[0m\u001b[0;34m.\u001b[0m\u001b[0;34m\u001b[0m\u001b[0m\n\u001b[0;32m--> 332\u001b[0;31m                     format(target_id, \".\", name, value))\n\u001b[0m\u001b[1;32m    333\u001b[0m         \u001b[0;32melse\u001b[0m\u001b[0;34m:\u001b[0m\u001b[0;34m\u001b[0m\u001b[0m\n\u001b[1;32m    334\u001b[0m             raise Py4JError(\n",
      "\u001b[0;31mPy4JError\u001b[0m: An error occurred while calling o1980.showString. Trace:\npy4j.Py4JException: Method showString([class java.lang.String, class java.lang.Integer, class java.lang.Boolean]) does not exist\n\tat py4j.reflection.ReflectionEngine.getMethod(ReflectionEngine.java:318)\n\tat py4j.reflection.ReflectionEngine.getMethod(ReflectionEngine.java:326)\n\tat py4j.Gateway.invoke(Gateway.java:274)\n\tat py4j.commands.AbstractCommand.invokeMethod(AbstractCommand.java:132)\n\tat py4j.commands.CallCommand.execute(CallCommand.java:79)\n\tat py4j.GatewayConnection.run(GatewayConnection.java:238)\n\tat java.lang.Thread.run(Thread.java:748)\n\n"
     ]
    }
   ],
   "source": [
    "test_df = spark.createDataFrame(distinct_summary, ['Feature', 'Distinct', 'Distinct Count > 10', 'Distinct Count > 100', 'Distinct Count > 1000'])\n",
    "test_df.show(\"*\")"
   ]
  },
  {
   "cell_type": "code",
   "execution_count": 174,
   "metadata": {},
   "outputs": [],
   "source": [
    "pd_df = test_df.toPandas()"
   ]
  },
  {
   "cell_type": "code",
   "execution_count": 176,
   "metadata": {},
   "outputs": [],
   "source": [
    "pd_df[\"%Distinct > 10\"] = pd_df[\"Distinct Count > 10\"] / pd_df[\"Distinct\"]\n",
    "pd_df[\"%Distinct > 100\"] = pd_df[\"Distinct Count > 100\"] / pd_df[\"Distinct\"]\n",
    "pd_df[\"%Distinct > 1000\"] = pd_df[\"Distinct Count  > 1000\"] / pd_df[\"Distinct\"]"
   ]
  },
  {
   "cell_type": "code",
   "execution_count": 190,
   "metadata": {},
   "outputs": [
    {
     "data": {
      "text/plain": [
       "<matplotlib.axes._subplots.AxesSubplot at 0x7f73c80f8eb8>"
      ]
     },
     "execution_count": 190,
     "metadata": {},
     "output_type": "execute_result"
    },
    {
     "data": {
      "image/png": "[encoded data removed]",
      "text/plain": [
       "<Figure size 1080x504 with 1 Axes>"
      ]
     },
     "metadata": {},
     "output_type": "display_data"
    }
   ],
   "source": [
    "pd_df.plot(x=\"Feature\", y=[\"%Distinct > 10\"], kind='bar', figsize=(15,7))"
   ]
  },
  {
   "cell_type": "code",
   "execution_count": 191,
   "metadata": {},
   "outputs": [
    {
     "data": {
      "text/plain": [
       "<matplotlib.axes._subplots.AxesSubplot at 0x7f73c2276ef0>"
      ]
     },
     "execution_count": 191,
     "metadata": {},
     "output_type": "execute_result"
    },
    {
     "data": {
      "image/png": "[encoded data removed]",
      "text/plain": [
       "<Figure size 1080x504 with 1 Axes>"
      ]
     },
     "metadata": {},
     "output_type": "display_data"
    }
   ],
   "source": [
    "pd_df.plot(x=\"Feature\", y=[\"%Distinct > 100\"], kind='bar', figsize=(15,7))"
   ]
  },
  {
   "cell_type": "markdown",
   "metadata": {},
   "source": [
    "## How Many Missing Values in Each Column?"
   ]
  },
  {
   "cell_type": "code",
   "execution_count": 186,
   "metadata": {},
   "outputs": [
    {
     "data": {
      "text/plain": [
       "<matplotlib.axes._subplots.AxesSubplot at 0x7f73c81d26a0>"
      ]
     },
     "execution_count": 186,
     "metadata": {},
     "output_type": "execute_result"
    },
    {
     "data": {
      "image/png": "[encoded data removed]",
      "text/plain": [
       "<Figure size 1440x720 with 1 Axes>"
      ]
     },
     "metadata": {},
     "output_type": "display_data"
    }
   ],
   "source": [
    "# pd_df = pd_df.set_index('Feature')\n",
    "pd_df.plot(x=\"Feature\", y=[\"Distinct\"], kind='bar', figsize=(20,10))"
   ]
  },
  {
   "cell_type": "code",
   "execution_count": null,
   "metadata": {},
   "outputs": [],
   "source": [
    "null_values = [new_columns_df.filter((new_columns_df[c].isNull()) | (new_columns_df[c] == \"\")).count() for c in new_columns_df.columns]"
   ]
  },
  {
   "cell_type": "code",
   "execution_count": 168,
   "metadata": {},
   "outputs": [],
   "source": [
    "total_rows = new_columns_df.count()"
   ]
  },
  {
   "cell_type": "code",
   "execution_count": 128,
   "metadata": {},
   "outputs": [],
   "source": [
    "eda_df = spark.createDataFrame(zip(column_names, distinct_count, null_values), ['Feature', 'Distinct', 'Null Count'])"
   ]
  },
  {
   "cell_type": "code",
   "execution_count": 129,
   "metadata": {},
   "outputs": [],
   "source": [
    "eda_df = eda_df.withColumn('Null %', col('Null Count')/total_rows)"
   ]
  },
  {
   "cell_type": "code",
   "execution_count": 164,
   "metadata": {},
   "outputs": [
    {
     "data": {
      "text/plain": [
       "[Row(sum(Distinct)=34290908)]"
      ]
     },
     "execution_count": 164,
     "metadata": {},
     "output_type": "execute_result"
    }
   ],
   "source": [
    "eda_df.groupBy().sum(\"Distinct\").collect()"
   ]
  },
  {
   "cell_type": "code",
   "execution_count": 130,
   "metadata": {},
   "outputs": [
    {
     "name": "stdout",
     "output_type": "stream",
     "text": [
      "+-----------+--------+----------+-------------------+\n",
      "|    Feature|Distinct|Null Count|             Null %|\n",
      "+-----------+--------+----------+-------------------+\n",
      "|      class|       2|         0|                0.0|\n",
      "| int_feat_0|     649|  20793556|0.45360550011794126|\n",
      "| int_feat_1|    9364|         0|                0.0|\n",
      "| int_feat_2|   14746|   9839447| 0.2146447330759095|\n",
      "| int_feat_3|     490|   9937369| 0.2167808736082239|\n",
      "| int_feat_4|  476707|   1183117|0.02580936028849699|\n",
      "| int_feat_5|   11618|  10252328| 0.2236516144623446|\n",
      "| int_feat_6|    4142|   1982866|0.04325565687739325|\n",
      "| int_feat_7|    1373|     22773|4.96786507040252E-4|\n",
      "| int_feat_8|    7275|   1982866|0.04325565687739325|\n",
      "| int_feat_9|      13|  20793556|0.45360550011794126|\n",
      "|int_feat_10|     169|   1982866|0.04325565687739325|\n",
      "|int_feat_11|     407|  35071652| 0.7650780965709951|\n",
      "|int_feat_12|    1376|   9937369| 0.2167808736082239|\n",
      "| cat_feat_0|    1460|         0|                0.0|\n",
      "| cat_feat_1|     583|         0|                0.0|\n",
      "| cat_feat_2|10131227|   1559473|0.03401945920579559|\n",
      "| cat_feat_3| 2202608|   1559473|0.03401945920579559|\n",
      "| cat_feat_4|     305|         0|                0.0|\n",
      "| cat_feat_5|      24|   5540625|0.12086715586747011|\n",
      "| cat_feat_6|   12517|         0|                0.0|\n",
      "| cat_feat_7|     633|         0|                0.0|\n",
      "| cat_feat_8|       3|         0|                0.0|\n",
      "| cat_feat_9|   93145|         0|                0.0|\n",
      "|cat_feat_10|    5683|         0|                0.0|\n",
      "|cat_feat_11| 8351593|   1559473|0.03401945920579559|\n",
      "|cat_feat_12|    3194|         0|                0.0|\n",
      "|cat_feat_13|      27|         0|                0.0|\n",
      "|cat_feat_14|   14992|         0|                0.0|\n",
      "|cat_feat_15| 5461306|   1559473|0.03401945920579559|\n",
      "|cat_feat_16|      10|         0|                0.0|\n",
      "|cat_feat_17|    5652|         0|                0.0|\n",
      "|cat_feat_18|    2173|  20172858| 0.4400651500829494|\n",
      "|cat_feat_19|       4|  20172858| 0.4400651500829494|\n",
      "|cat_feat_20| 7046547|   1559473|0.03401945920579559|\n",
      "|cat_feat_21|      18|  34955073| 0.7625349588990044|\n",
      "|cat_feat_22|      15|         0|                0.0|\n",
      "|cat_feat_23|  286181|   1559473|0.03401945920579559|\n",
      "|cat_feat_24|     105|  20172858| 0.4400651500829494|\n",
      "|cat_feat_25|  142572|  20172858| 0.4400651500829494|\n",
      "+-----------+--------+----------+-------------------+\n",
      "\n"
     ]
    }
   ],
   "source": [
    "eda_df.show(40)"
   ]
  },
  {
   "cell_type": "code",
   "execution_count": 136,
   "metadata": {},
   "outputs": [],
   "source": [
    "positive_ctr = new_columns_df.filter(new_columns_df['class'] == '1').count()"
   ]
  },
  {
   "cell_type": "code",
   "execution_count": 137,
   "metadata": {},
   "outputs": [
    {
     "data": {
      "text/plain": [
       "11745438"
      ]
     },
     "execution_count": 137,
     "metadata": {},
     "output_type": "execute_result"
    }
   ],
   "source": [
    "positive_ctr"
   ]
  },
  {
   "cell_type": "code",
   "execution_count": 133,
   "metadata": {},
   "outputs": [],
   "source": [
    "negative_ctr = new_columns_df.filter(new_columns_df['class'] == 0).count()"
   ]
  },
  {
   "cell_type": "code",
   "execution_count": 134,
   "metadata": {},
   "outputs": [
    {
     "data": {
      "text/plain": [
       "34095179"
      ]
     },
     "execution_count": 134,
     "metadata": {},
     "output_type": "execute_result"
    }
   ],
   "source": [
    "negative_ctr"
   ]
  },
  {
   "cell_type": "code",
   "execution_count": 12,
   "metadata": {},
   "outputs": [
    {
     "data": {
      "text/plain": [
       "0    int64\n",
       "1    int64\n",
       "2    int64\n",
       "dtype: object"
      ]
     },
     "execution_count": 12,
     "metadata": {},
     "output_type": "execute_result"
    }
   ],
   "source": [
    "toy.dtypes"
   ]
  },
  {
   "cell_type": "code",
   "execution_count": 247,
   "metadata": {},
   "outputs": [],
   "source": [
    "toy_df = spark.createDataFrame([\n",
    "    [1, \"a\", \"c\"],\n",
    "    [2, \"a\", \"d\"],\n",
    "    [3, \"b\", \"c\"],\n",
    "    [4, \"d\", \"a\"],\n",
    "    [5, \"e\", \"a\"],\n",
    "    [1, \"a\", \"c\"],\n",
    "    [2, \"a\", \"d\"],\n",
    "    [3, \"b\", \"c\"],\n",
    "    [4, \"e\", \"a\"],\n",
    "    [5, \"e\", \"a\"]\n",
    "])"
   ]
  },
  {
   "cell_type": "code",
   "execution_count": 216,
   "metadata": {},
   "outputs": [],
   "source": [
    "from pyspark.sql.functions import grouping\n",
    "\n",
    "new_df = toy_df.cube('_2').agg(count('_2')).select(\"count(_2)\")"
   ]
  },
  {
   "cell_type": "code",
   "execution_count": 254,
   "metadata": {},
   "outputs": [
    {
     "name": "stdout",
     "output_type": "stream",
     "text": [
      "+---+-----+\n",
      "| _2|count|\n",
      "+---+-----+\n",
      "|  e|    3|\n",
      "|  d|    1|\n",
      "|  b|    2|\n",
      "|  a|    4|\n",
      "+---+-----+\n",
      "\n",
      "+---+-----+\n",
      "| _3|count|\n",
      "+---+-----+\n",
      "|  d|    2|\n",
      "|  c|    4|\n",
      "|  a|    4|\n",
      "+---+-----+\n",
      "\n"
     ]
    }
   ],
   "source": [
    "cols = [\"_2\", \"_3\"]\n",
    "count_dfs = [toy_df.groupBy(c).count() for c in cols]\n",
    "for count_df in count_dfs:\n",
    "    count_df.show()\n",
    "# [[count_df.filter(condition).count() for condition in filters]\n",
    "# [ toy_df.groupBy('_2').count().filter(\"count >= 2\").show()"
   ]
  },
  {
   "cell_type": "code",
   "execution_count": 258,
   "metadata": {},
   "outputs": [
    {
     "data": {
      "text/plain": [
       "[[3, 1, 0], [3, 2, 0]]"
      ]
     },
     "execution_count": 258,
     "metadata": {},
     "output_type": "execute_result"
    }
   ],
   "source": [
    "[[df.filter(condition).count() for condition in filters] for df in count_dfs]"
   ]
  },
  {
   "cell_type": "code",
   "execution_count": 262,
   "metadata": {},
   "outputs": [
    {
     "name": "stdout",
     "output_type": "stream",
     "text": [
      "+----------+-----+\n",
      "|cat_feat_0|count|\n",
      "+----------+-----+\n",
      "|  a802ce3c|  560|\n",
      "|  b9179aaa|   70|\n",
      "|  4a0593ee|   70|\n",
      "|  b17fad8e|   70|\n",
      "|  ba9a5693|   40|\n",
      "|  cd3695ae|10220|\n",
      "|  7ceef477| 8614|\n",
      "|  3205b8bc|  140|\n",
      "|  aa6e9735|   70|\n",
      "|  a3259f78|   70|\n",
      "|  b2ac6ea7|   70|\n",
      "|  22cd0fd5|  330|\n",
      "|  decf6fa6| 6945|\n",
      "|  40e1377d|  800|\n",
      "|  45dc7070|  470|\n",
      "|  d4682c8d|   70|\n",
      "|  d5ce4bca|  350|\n",
      "|  95d53c03|  140|\n",
      "|  6be8853f|   70|\n",
      "|  dfc12ca5|   70|\n",
      "+----------+-----+\n",
      "only showing top 20 rows\n",
      "\n"
     ]
    }
   ],
   "source": [
    "count_dfs = [new_columns_df.groupBy(c).count() for c in cat_column_names]\n",
    "count_dfs[0].show()"
   ]
  },
  {
   "cell_type": "code",
   "execution_count": 263,
   "metadata": {},
   "outputs": [
    {
     "data": {
      "text/plain": [
       "[[1457, 700, 212],\n",
       " [554, 539, 481],\n",
       " [193948, 21054, 2584],\n",
       " [138800, 23838, 3555],\n",
       " [305, 181, 72],\n",
       " [18, 14, 11],\n",
       " [11969, 10102, 5276],\n",
       " [633, 350, 119],\n",
       " [3, 3, 3],\n",
       " [42645, 16432, 4408],\n",
       " [5177, 4495, 3105],\n",
       " [192772, 21497, 2651],\n",
       " [3174, 3102, 2554],\n",
       " [26, 26, 25],\n",
       " [11421, 6966, 3002],\n",
       " [181074, 22553, 3014],\n",
       " [10, 10, 10],\n",
       " [4653, 3275, 1685],\n",
       " [2031, 1612, 822],\n",
       " [4, 4, 4],\n",
       " [189656, 21967, 2754],\n",
       " [17, 13, 9],\n",
       " [15, 14, 14],\n",
       " [59696, 15130, 3072],\n",
       " [85, 60, 42],\n",
       " [45570, 12295, 2291]]"
      ]
     },
     "execution_count": 263,
     "metadata": {},
     "output_type": "execute_result"
    }
   ],
   "source": [
    "[[df.filter(condition).count() for condition in filters] for df in count_dfs]"
   ]
  },
  {
   "cell_type": "code",
   "execution_count": 240,
   "metadata": {},
   "outputs": [
    {
     "name": "stdout",
     "output_type": "stream",
     "text": [
      "+---+-----+\n",
      "| _3|count|\n",
      "+---+-----+\n",
      "|  c|    2|\n",
      "|  a|    2|\n",
      "+---+-----+\n",
      "\n"
     ]
    }
   ],
   "source": [
    "toy_df.groupBy('_3').count().filter(\"count >= 2\").show()"
   ]
  },
  {
   "cell_type": "code",
   "execution_count": 228,
   "metadata": {},
   "outputs": [
    {
     "name": "stdout",
     "output_type": "stream",
     "text": [
      "+------------------+\n",
      "|count(DISTINCT _2)|\n",
      "+------------------+\n",
      "|                 4|\n",
      "+------------------+\n",
      "\n"
     ]
    }
   ],
   "source": [
    "toy_df.agg(countDistinct('_2')).show()"
   ]
  },
  {
   "cell_type": "code",
   "execution_count": 238,
   "metadata": {},
   "outputs": [
    {
     "name": "stdout",
     "output_type": "stream",
     "text": [
      "+-------+------------------+----+----+\n",
      "|summary|                _1|  _2|  _3|\n",
      "+-------+------------------+----+----+\n",
      "|  count|                 5|   5|   5|\n",
      "|   mean|               3.0|null|null|\n",
      "| stddev|1.5811388300841898|null|null|\n",
      "|    min|                 1|   a|   a|\n",
      "|    max|                 5|   e|   d|\n",
      "+-------+------------------+----+----+\n",
      "\n"
     ]
    }
   ],
   "source": [
    "toy_df.describe().show()"
   ]
  },
  {
   "cell_type": "code",
   "execution_count": 218,
   "metadata": {},
   "outputs": [
    {
     "name": "stdout",
     "output_type": "stream",
     "text": [
      "+---------+\n",
      "|count(_2)|\n",
      "+---------+\n",
      "|        2|\n",
      "|        5|\n",
      "+---------+\n",
      "\n"
     ]
    }
   ],
   "source": [
    "new_df.filter(new_df[\"count(_2)\"] >= 2).show()"
   ]
  },
  {
   "cell_type": "code",
   "execution_count": 236,
   "metadata": {},
   "outputs": [
    {
     "name": "stdout",
     "output_type": "stream",
     "text": [
      "+---+------+------+------+\n",
      "|  k|avg(v)|sum(v)|max(v)|\n",
      "+---+------+------+------+\n",
      "|  1|   3.0|   6.0|   3.0|\n",
      "|  2|  -5.0|  -5.0|  -5.0|\n",
      "+---+------+------+------+\n",
      "\n"
     ]
    }
   ],
   "source": [
    "from pyspark.sql.functions import mean, sum, max, col\n",
    "\n",
    "df = sc.parallelize([(1, 3.0), (1, 3.0), (2, -5.0)]).toDF([\"k\", \"v\"])\n",
    "groupBy = [\"k\"]\n",
    "aggregate = [\"v\"] \n",
    "funs = [mean, sum, max]\n",
    "\n",
    "exprs = [f(col(c)) for f in funs for c in aggregate]\n",
    "\n",
    "# or equivalent df.groupby(groupBy).agg(*exprs)\n",
    "df.groupby(*groupBy).agg(*exprs).show()"
   ]
  },
  {
   "cell_type": "markdown",
   "metadata": {},
   "source": [
    "# Hashing"
   ]
  },
  {
   "cell_type": "markdown",
   "metadata": {},
   "source": [
    "Can we just use this? Or do we want hash size to be a parameter?"
   ]
  },
  {
   "cell_type": "code",
   "execution_count": 262,
   "metadata": {},
   "outputs": [
    {
     "data": {
      "text/plain": [
       "-1735128748767905266"
      ]
     },
     "execution_count": 262,
     "metadata": {},
     "output_type": "execute_result"
    }
   ],
   "source": [
    "hash(\"I:368\")"
   ]
  },
  {
   "cell_type": "markdown",
   "metadata": {},
   "source": [
    "Do we need to normalize the data and does this make it hard?\n",
    "Does it help to have dimensionality reduction of the integers such as binning them?"
   ]
  },
  {
   "cell_type": "code",
   "execution_count": 226,
   "metadata": {},
   "outputs": [
    {
     "data": {
      "text/plain": [
       "-8377462871896521829"
      ]
     },
     "execution_count": 226,
     "metadata": {},
     "output_type": "execute_result"
    }
   ],
   "source": [
    "hash(f\"I:{int(np.log(22000000))}\")"
   ]
  },
  {
   "cell_type": "code",
   "execution_count": 246,
   "metadata": {},
   "outputs": [],
   "source": [
    "def hash_fn(value, hash_size):\n",
    "    return hash(value) % hash_size"
   ]
  },
  {
   "cell_type": "code",
   "execution_count": 260,
   "metadata": {},
   "outputs": [
    {
     "data": {
      "text/plain": [
       "626094"
      ]
     },
     "execution_count": 260,
     "metadata": {},
     "output_type": "execute_result"
    }
   ],
   "source": [
    "hash_fn(\"I:23080691\", 1000000)"
   ]
  },
  {
   "cell_type": "code",
   "execution_count": 257,
   "metadata": {},
   "outputs": [
    {
     "data": {
      "text/plain": [
       "5857543128032591645"
      ]
     },
     "execution_count": 257,
     "metadata": {},
     "output_type": "execute_result"
    }
   ],
   "source": [
    "hash(\"1\")"
   ]
  },
  {
   "cell_type": "code",
   "execution_count": 253,
   "metadata": {},
   "outputs": [
    {
     "data": {
      "text/plain": [
       "<1x1000000 sparse matrix of type '<class 'numpy.float64'>'\n",
       "\twith 5 stored elements in Compressed Sparse Row format>"
      ]
     },
     "execution_count": 253,
     "metadata": {},
     "output_type": "execute_result"
    }
   ],
   "source": [
    "from sklearn.feature_extraction import FeatureHasher\n",
    "hasher = FeatureHasher(n_features=1000000, input_type=\"string\")\n",
    "hasher.transform([\"I:368\"])"
   ]
  },
  {
   "cell_type": "code",
   "execution_count": 290,
   "metadata": {},
   "outputs": [
    {
     "data": {
      "text/plain": [
       "array([[0., 0., 0., 0., 0., 0., 0., 1., 0., 0.],\n",
       "       [0., 1., 0., 0., 0., 0., 0., 0., 0., 0.],\n",
       "       [1., 0., 0., 0., 0., 0., 0., 0., 0., 0.],\n",
       "       [0., 0., 1., 0., 0., 0., 0., 0., 0., 0.],\n",
       "       [1., 0., 0., 0., 0., 0., 0., 0., 0., 0.],\n",
       "       [0., 0., 1., 0., 0., 0., 0., 0., 0., 0.],\n",
       "       [0., 0., 0., 0., 0., 0., 0., 1., 0., 0.],\n",
       "       [1., 0., 0., 0., 0., 0., 0., 0., 0., 1.]])"
      ]
     },
     "execution_count": 290,
     "metadata": {},
     "output_type": "execute_result"
    }
   ],
   "source": [
    "train = [\"1\", \"2\", \"3\", \"4\", \"3\", \"4\", \"1\", \"a0\"]\n",
    "hasher = FeatureHasher(n_features=10, input_type=\"string\", alternate_sign=False)\n",
    "hasher.transform(train).toarray()"
   ]
  },
  {
   "cell_type": "code",
   "execution_count": 302,
   "metadata": {},
   "outputs": [],
   "source": [
    "hasher_df = spark.createDataFrame([[\"1\", 2],[\"2\", 3],[\"3\", 1]])"
   ]
  },
  {
   "cell_type": "code",
   "execution_count": 306,
   "metadata": {},
   "outputs": [
    {
     "name": "stdout",
     "output_type": "stream",
     "text": [
      "+---+---+--------------------+\n",
      "| _1| _2|            features|\n",
      "+---+---+--------------------+\n",
      "|  1|  2|(262144,[127086,1...|\n",
      "|  2|  3|(262144,[157696,1...|\n",
      "|  3|  1|(262144,[38866,15...|\n",
      "+---+---+--------------------+\n",
      "\n"
     ]
    }
   ],
   "source": [
    "from pyspark.ml.feature import FeatureHasher\n",
    "hasher = FeatureHasher()\n",
    "hasher.setInputCols([\"_1\", \"_2\"])\n",
    "hasher.setOutputCol(\"features\")\n",
    "\n",
    "hasher.transform(hasher_df).show()"
   ]
  },
  {
   "cell_type": "code",
   "execution_count": 305,
   "metadata": {},
   "outputs": [
    {
     "data": {
      "text/plain": [
       "\"categoricalCols: numeric columns to treat as categorical (undefined)\\ninputCols: input column names. (current: ['_1', '_2'])\\nnumFeatures: number of features. (default: 262144)\\noutputCol: output column name. (default: FeatureHasher_44b2b55806f05c5dd558__output, current: features)\""
      ]
     },
     "execution_count": 305,
     "metadata": {},
     "output_type": "execute_result"
    }
   ],
   "source": [
    "hasher.explainParams()"
   ]
  },
  {
   "cell_type": "code",
   "execution_count": null,
   "metadata": {},
   "outputs": [],
   "source": []
  }
 ],
 "metadata": {
  "kernelspec": {
   "display_name": "Python 3",
   "language": "python",
   "name": "python3"
  },
  "language_info": {
   "codemirror_mode": {
    "name": "ipython",
    "version": 3
   },
   "file_extension": ".py",
   "mimetype": "text/x-python",
   "name": "python",
   "nbconvert_exporter": "python",
   "pygments_lexer": "ipython3",
   "version": "3.6.6"
  }
 },
 "nbformat": 4,
 "nbformat_minor": 2
}
