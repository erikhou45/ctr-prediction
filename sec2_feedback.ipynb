{
 "cells": [
  {
   "cell_type": "markdown",
   "metadata": {},
   "source": [
    "## Loss function:\n",
    "\n",
    "This section shares my understanding of the following two formula and why I think they are the same. The two formula are:\n",
    "\n",
    "$$ LogLoss = - \\frac{1}{n} \\sum_{i=1}^n [y_i \\cdot log_e\\hat{y_i} + (1-y_i) \\cdot log_e(1-\\hat{y_i})],\\ where\\ \\hat{y_i} = \\phi(\\textbf{w},\\textbf{x})$$\n",
    "\n",
    "vs\n",
    "\n",
    "$$ Loss = \\frac{1}{n} \\sum_{i=1}^n log(1+exp(-\\bar{y_i}\\phi(\\textbf{w},\\textbf{x}_i))$$\n"
   ]
  },
  {
   "cell_type": "markdown",
   "metadata": {},
   "source": [
    "The two formula are acutually the same. It's just the $\\bar{y_i}$ in the loss function from the paper has to have this relationship with $y_i$, where  \n",
    "$$\\bar{y_i} = \n",
    "\\begin{cases}\n",
    "    1,\\ if\\ y_i=1\\\\\n",
    "    -1,\\ if\\ y_i=0\\\\\n",
    "\\end{cases}$$"
   ]
  },
  {
   "cell_type": "markdown",
   "metadata": {},
   "source": [
    "### More detailed derivation:\n",
    "\n",
    "<img src=\"derivation.png\">"
   ]
  },
  {
   "cell_type": "markdown",
   "metadata": {},
   "source": [
    "### Test in code using Connor's example:"
   ]
  },
  {
   "cell_type": "code",
   "execution_count": 11,
   "metadata": {},
   "outputs": [],
   "source": [
    "import numpy as np"
   ]
  },
  {
   "cell_type": "code",
   "execution_count": 35,
   "metadata": {},
   "outputs": [],
   "source": [
    "def getCTR(s):\n",
    "    \"\"\"calculate CTR using model output\"\"\"\n",
    "    return 1/(1+np.exp(-s))"
   ]
  },
  {
   "cell_type": "code",
   "execution_count": 36,
   "metadata": {},
   "outputs": [],
   "source": [
    "def getLoss(labels, ctr):\n",
    "    \"\"\"calculate loss using Log Loss\"\"\"\n",
    "    return -(labels * np.log(ctr)+(1-labels) * np.log(1-ctr))"
   ]
  },
  {
   "cell_type": "code",
   "execution_count": 42,
   "metadata": {},
   "outputs": [],
   "source": [
    "def getLossPaper(labels, s):\n",
    "    \"\"\"calculate loss using the formula from the paper\"\"\"\n",
    "    #map the labels, from y to yBar\n",
    "    modified_labels = np.where(labels == 0, -1, labels)\n",
    "    return np.log(1+np.exp(-modified_labels*s))"
   ]
  },
  {
   "cell_type": "code",
   "execution_count": 38,
   "metadata": {},
   "outputs": [],
   "source": [
    "#manually input data (copying Connor's example)\n",
    "s = np.asarray([-0.27,-0.55,-1.05,-0.93,0.05,-0.3,-0.93])\n",
    "labels = np.asarray([1,0,0,1,1,0,1])"
   ]
  },
  {
   "cell_type": "code",
   "execution_count": 39,
   "metadata": {},
   "outputs": [],
   "source": [
    "#calculate CTR and the two losses\n",
    "\n",
    "ctr = getCTR(s)\n",
    "loss = getLoss(labels, ctr)\n",
    "lossPaper = getLossPaper(labels, s)"
   ]
  },
  {
   "cell_type": "code",
   "execution_count": 41,
   "metadata": {},
   "outputs": [
    {
     "name": "stdout",
     "output_type": "stream",
     "text": [
      "Model Output: [-0.27 -0.55 -1.05 -0.93  0.05 -0.3  -0.93]\n",
      "Label: [1 0 0 1 1 0 1]\n",
      "CTR: [0.4329071  0.36586441 0.2592251  0.28292471 0.5124974  0.42555748\n",
      " 0.28292471]\n",
      "====================\n",
      "Log Loss:\n",
      " [0.83723214 0.45549248 0.30005848 1.26257444 0.66845965 0.55435524\n",
      " 1.26257444]\n",
      "Loss using formula from the paper:\n",
      " [0.83723214 0.45549248 0.30005848 1.26257444 0.66845965 0.55435524\n",
      " 1.26257444]\n",
      "Means of the Losses 0.7629638392999175 0.7629638392999174\n"
     ]
    }
   ],
   "source": [
    "print(\"Model Output:\", s)\n",
    "print(\"Label:\", labels)\n",
    "print(\"CTR:\", ctr)\n",
    "\n",
    "print(\"=\"*20)\n",
    "\n",
    "print(\"Log Loss:\\n\", loss)\n",
    "print(\"Loss using formula from the paper:\\n\", lossPaper)\n",
    "print(\"Means of the Losses\", np.mean(loss), np.mean(lossPaper))"
   ]
  }
 ],
 "metadata": {
  "kernelspec": {
   "display_name": "Python 3",
   "language": "python",
   "name": "python3"
  },
  "language_info": {
   "codemirror_mode": {
    "name": "ipython",
    "version": 3
   },
   "file_extension": ".py",
   "mimetype": "text/x-python",
   "name": "python",
   "nbconvert_exporter": "python",
   "pygments_lexer": "ipython3",
   "version": "3.6.6"
  }
 },
 "nbformat": 4,
 "nbformat_minor": 2
}
