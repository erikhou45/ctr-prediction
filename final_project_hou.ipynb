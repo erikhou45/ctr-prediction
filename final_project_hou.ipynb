{
 "cells": [
  {
   "cell_type": "markdown",
   "metadata": {},
   "source": [
    "# w261 Final Project - Clickthrough Rate Prediction\n"
   ]
  },
  {
   "cell_type": "markdown",
   "metadata": {},
   "source": [
    "[Your team number (from the spreadsheet)]   \n",
    "[Your team names]   \n",
    "Summer 2019, section [Your section numbers>]   "
   ]
  },
  {
   "cell_type": "markdown",
   "metadata": {},
   "source": [
    "## Table of Contents\n",
    "\n",
    "* __Section 1__ - Question Formulation\n",
    "* __Section 2__ - Algorithm Explanation\n",
    "* __Section 3__ - EDA & Challenges\n",
    "* __Section 4__ - Algorithm Implementation\n",
    "* __Section 5__ - Course Concepts"
   ]
  },
  {
   "cell_type": "markdown",
   "metadata": {},
   "source": [
    "# __Section 1__ - Question Formulation"
   ]
  },
  {
   "cell_type": "markdown",
   "metadata": {},
   "source": []
  },
  {
   "cell_type": "markdown",
   "metadata": {},
   "source": []
  },
  {
   "cell_type": "markdown",
   "metadata": {},
   "source": [
    "# __Section 2__ - Algorithm Explanation"
   ]
  },
  {
   "cell_type": "markdown",
   "metadata": {},
   "source": [
    "How do we justify the selection of a particular algorithm for our project?\n",
    "1. when data is sparse, FM and FFM work better (need to see if the data is sparse)\n",
    "2. how to justify the choice of FFM over neronets, and trees and other algorithm??"
   ]
  },
  {
   "cell_type": "markdown",
   "metadata": {},
   "source": []
  },
  {
   "cell_type": "markdown",
   "metadata": {},
   "source": [
    "# __Section 3__ - EDA & Challenges"
   ]
  },
  {
   "cell_type": "markdown",
   "metadata": {},
   "source": [
    "Do we run EDA on the entire dataset or just the sample train data?"
   ]
  },
  {
   "cell_type": "code",
   "execution_count": 90,
   "metadata": {},
   "outputs": [],
   "source": [
    "from pyspark.sql import types\n",
    "from pyspark.sql import SQLContext\n",
    "from pyspark.sql.functions import isnan\n",
    "from pyspark.sql import functions as F\n",
    "import numpy as np\n",
    "import matplotlib.pyplot as plt"
   ]
  },
  {
   "cell_type": "code",
   "execution_count": null,
   "metadata": {},
   "outputs": [],
   "source": [
    "# run if using local\n",
    "from pyspark.sql import SparkSession\n",
    "app_name = \"final_project\"\n",
    "master = \"local[*]\"\n",
    "spark = SparkSession\\\n",
    "        .builder\\\n",
    "        .appName(app_name)\\\n",
    "        .master(master)\\\n",
    "        .getOrCreate()\n",
    "\n",
    "# train_parquet = spark.read.parquet(f\"{PWD}/data/train.parquet\")\n",
    "train_parquet = spark.read.parquet(f\"{PWD}/data/mediumTrain.parquet\")\n",
    "oldColNames = train_parquet.schema.names"
   ]
  },
  {
   "cell_type": "code",
   "execution_count": null,
   "metadata": {},
   "outputs": [],
   "source": [
    "# run if using wk08 environment\n",
    "sc = spark.sparkContext\n",
    "sqlContext = SQLContext(sc)\n",
    "\n",
    "train_parquet = spark.read.parquet(\"gs://w261-bucket-hou/final-project/data/train.parquet\")\n",
    "oldColNames = train_parquet.schema.names"
   ]
  },
  {
   "cell_type": "code",
   "execution_count": null,
   "metadata": {},
   "outputs": [],
   "source": [
    "# read training data from bucket and write the parquet format of the file to bucket\n",
    "# train_data = spark.read.csv(\"gs://w261-bucket-hou/final-project/data/train.txt\", sep=\"\\t\")\n",
    "# train_data.write.format(\"parquet\").save(\"gs://w261-bucket-hou/final-project/data/train.parquet\")"
   ]
  },
  {
   "cell_type": "code",
   "execution_count": null,
   "metadata": {},
   "outputs": [],
   "source": [
    "# PWD = !pwd\n",
    "# PWD = PWD[0]\n",
    "# train_data = spark.read.csv(f\"{PWD}/data/train.txt\", sep=\"\\t\")\n",
    "# train_data.write.format(\"parquet\").save(f\"{PWD}/data/train.parquet\")\n",
    "# train_data = spark.read.csv(f\"{PWD}/data/mediumTrain.txt\", sep=\"\\t\")\n",
    "# train_data.write.format(\"parquet\").save(f\"{PWD}/data/mediumTrain.parquet\")"
   ]
  },
  {
   "cell_type": "code",
   "execution_count": null,
   "metadata": {},
   "outputs": [],
   "source": [
    "# !gsutil du -sh gs://w261-bucket-hou/final-project/data/train.txt\n",
    "# !gsutil du -sh gs://w261-bucket-hou/final-project/data/train.parquet"
   ]
  },
  {
   "cell_type": "code",
   "execution_count": null,
   "metadata": {
    "scrolled": true
   },
   "outputs": [],
   "source": [
    "train_parquet.printSchema()"
   ]
  },
  {
   "cell_type": "code",
   "execution_count": null,
   "metadata": {},
   "outputs": [],
   "source": [
    "#rename files and recast integer types on the first 13 features\n",
    "train_parquet = train_parquet.withColumn(\"label\", train_parquet[\"_c0\"])\n",
    "for colNum in range(1,14): \n",
    "    colName = \"_c\" + str(colNum)\n",
    "    train_parquet = train_parquet.withColumn(\"int_feature_\"+ str(colNum), train_parquet[colName].cast(types.IntegerType()))\n",
    "for colNum in range(14,40): \n",
    "    colName = \"_c\" + str(colNum)\n",
    "    train_parquet = train_parquet.withColumn(\"cate_feature_\"+ str(colNum-13), train_parquet[colName])\n",
    "    \n",
    "train_parquet = train_parquet.drop(*oldColNames)"
   ]
  },
  {
   "cell_type": "code",
   "execution_count": null,
   "metadata": {},
   "outputs": [],
   "source": [
    "train_parquet.printSchema()"
   ]
  },
  {
   "cell_type": "code",
   "execution_count": null,
   "metadata": {},
   "outputs": [],
   "source": [
    "#record feature names by feature type\n",
    "intFieldNames = [colName for colName, dType in train_parquet.dtypes if dType == 'int']\n",
    "cateFieldNames = [colName for colName, dType in train_parquet.dtypes if dType == 'string' and colName != 'label']"
   ]
  },
  {
   "cell_type": "code",
   "execution_count": null,
   "metadata": {},
   "outputs": [],
   "source": [
    "recCount = train_parquet.count() #get record count\n",
    "fieldCount = len(train_parquet.columns)-1 #get the count of features"
   ]
  },
  {
   "cell_type": "code",
   "execution_count": null,
   "metadata": {
    "scrolled": true
   },
   "outputs": [],
   "source": [
    "distinctValues = []\n",
    "nullValues = []\n",
    "for colName in train_parquet.schema.names:\n",
    "    distinctValues.append(train_parquet.select(colName).distinct().count())\n",
    "    nullValues.append(train_parquet.filter((train_parquet[colName] == \"\") | train_parquet[colName].isNull() | isnan(train_parquet[colName])).count())"
   ]
  },
  {
   "cell_type": "code",
   "execution_count": null,
   "metadata": {},
   "outputs": [],
   "source": [
    "print(\"Training Dataset Overview:\\n\")\n",
    "print(\"Record Count:\", recCount)\n",
    "print(\"Field Count:\", fieldCount)\n",
    "print(\"Null Value Percentage:\", str(round(float(sum(nullValues))/(recCount*fieldCount)*100,1)) + \"%\")\n",
    "\n",
    "print(\"=\"*70, \"\\n\")\n",
    "\n",
    "\n",
    "print(\"Column Level Information:\\n\")\n",
    "print('%-15s| %-15s| %-15s| %-15s' %('Field Name','Distinct Count', 'Null Count', 'Null Percent'))\n",
    "print('-'*70)\n",
    "for colName, distinctVal, nullVal in zip(train_parquet.schema.names, distinctValues, nullValues):\n",
    "    print('%-15s| %-15s| %-15s| %-15s' %(colName, distinctVal, nullVal, str(round(float(nullVal)/recCount*100,1)) + \"%\" ))"
   ]
  },
  {
   "cell_type": "code",
   "execution_count": 76,
   "metadata": {},
   "outputs": [],
   "source": [
    "def get_distinct_summary(df, col, thresholds):\n",
    "    summary_values = [col]\n",
    "    summary_values.append(df.select(col).distinct().count())\n",
    "    \n",
    "    count_df = df.groupBy(col).count()\n",
    "    filtered_counts = [count_df.filter(f\"count >= {threshold}\").count() + 1 for threshold in thresholds]\n",
    "    summary_values.extend(filtered_counts)\n",
    "    return summary_values"
   ]
  },
  {
   "cell_type": "code",
   "execution_count": 99,
   "metadata": {},
   "outputs": [],
   "source": [
    "thresholds = [5, 10, 25, 50, 100, 500, 1000]\n",
    "distinct_summary = [get_distinct_summary(train_parquet, c, thresholds) for c in cateFieldNames]"
   ]
  },
  {
   "cell_type": "code",
   "execution_count": 100,
   "metadata": {},
   "outputs": [
    {
     "name": "stdout",
     "output_type": "stream",
     "text": [
      "+---------------+--------+----------+-----------+-----------+-----------+------------+------------+-------------+\n",
      "|        Feature|Distinct|count >= 5|count >= 10|count >= 25|count >= 50|count >= 100|count >= 500|count >= 1000|\n",
      "+---------------+--------+----------+-----------+-----------+-----------+------------+------------+-------------+\n",
      "| cate_feature_1|     115|        35|         22|         13|          9|           7|           3|            2|\n",
      "| cate_feature_2|     332|       144|         95|         41|         20|          12|           2|            1|\n",
      "| cate_feature_3|    3292|        93|         41|         14|          5|           3|           1|            1|\n",
      "| cate_feature_4|    2421|       122|         55|         17|         10|           6|           1|            1|\n",
      "| cate_feature_5|      48|        19|         13|         10|          7|           6|           3|            2|\n",
      "| cate_feature_6|       7|         8|          8|          8|          8|           8|           5|            3|\n",
      "| cate_feature_7|    2238|       189|         56|         14|          4|           2|           1|            1|\n",
      "| cate_feature_8|      63|        23|         17|         12|          8|           6|           3|            2|\n",
      "| cate_feature_9|       2|         3|          3|          3|          3|           3|           3|            2|\n",
      "|cate_feature_10|    2085|       139|         34|          7|          3|           2|           2|            2|\n",
      "|cate_feature_11|    1576|       228|         78|         21|          8|           3|           1|            1|\n",
      "|cate_feature_12|    3111|       102|         43|         15|          6|           4|           1|            1|\n",
      "|cate_feature_13|    1349|       245|         93|         24|          9|           3|           1|            1|\n",
      "|cate_feature_14|      22|        17|         13|         11|          9|           7|           4|            3|\n",
      "|cate_feature_15|    1486|       246|        106|         27|          5|           1|           1|            1|\n",
      "|cate_feature_16|    2821|       117|         52|         18|          7|           4|           1|            1|\n",
      "|cate_feature_17|       9|        10|         10|         10|         10|          10|           4|            2|\n",
      "|cate_feature_18|     904|       216|        111|         37|         13|           7|           1|            1|\n",
      "|cate_feature_19|     360|        53|         21|          9|          4|           4|           3|            3|\n",
      "|cate_feature_20|       4|         5|          5|          5|          5|           5|           5|            2|\n",
      "|cate_feature_21|    2960|       111|         47|         17|          7|           4|           1|            1|\n",
      "|cate_feature_22|       7|         7|          7|          5|          4|           4|           3|            2|\n",
      "|cate_feature_23|      12|        13|         12|         10|          9|           8|           4|            3|\n",
      "|cate_feature_24|    1594|       114|         60|         22|         16|           9|           1|            1|\n",
      "|cate_feature_25|      35|        26|         19|         13|         11|          10|           4|            2|\n",
      "|cate_feature_26|    1210|        84|         33|         12|          8|           4|           2|            2|\n",
      "+---------------+--------+----------+-----------+-----------+-----------+------------+------------+-------------+\n",
      "\n"
     ]
    }
   ],
   "source": [
    "test_df = spark.createDataFrame(distinct_summary, ['Feature', 'Distinct'] + [f\"count >= {threshold}\" for threshold in thresholds] )\n",
    "test_df.show(40)"
   ]
  },
  {
   "cell_type": "code",
   "execution_count": 101,
   "metadata": {},
   "outputs": [],
   "source": [
    "distinct_counts = np.asarray(distinct_summary)[:,1:].astype(int)"
   ]
  },
  {
   "cell_type": "code",
   "execution_count": 102,
   "metadata": {},
   "outputs": [],
   "source": [
    "feat_num = np.sum(distinct_counts, axis = 0)"
   ]
  },
  {
   "cell_type": "code",
   "execution_count": 103,
   "metadata": {},
   "outputs": [],
   "source": [
    "feat_percent_preserv = np.sum(distinct_counts, axis = 0)/np.sum(distinct_counts, axis = 0)[0]"
   ]
  },
  {
   "cell_type": "code",
   "execution_count": 104,
   "metadata": {},
   "outputs": [
    {
     "data": {
      "image/png": "[encoded data removed]",
      "text/plain": [
       "<Figure size 432x288 with 1 Axes>"
      ]
     },
     "metadata": {},
     "output_type": "display_data"
    }
   ],
   "source": [
    "Ts = ['None'] + [f\"{threshold}\" for threshold in thresholds]\n",
    "y_pos = np.arange(len(Ts))\n",
    "\n",
    "plt.bar(y_pos, feat_num, align='center', alpha=0.5)\n",
    "plt.xticks(y_pos, Ts)\n",
    "plt.ylabel('Feature Count')\n",
    "plt.title('Feature Counts by Threshold')\n",
    "\n",
    "plt.show()"
   ]
  },
  {
   "cell_type": "code",
   "execution_count": 105,
   "metadata": {},
   "outputs": [
    {
     "data": {
      "image/png": "[encoded data removed]",
      "text/plain": [
       "<Figure size 432x288 with 1 Axes>"
      ]
     },
     "metadata": {},
     "output_type": "display_data"
    }
   ],
   "source": [
    "plt.bar(y_pos, feat_percent_preserv, align='center', alpha=0.5)\n",
    "plt.xticks(y_pos, Ts)\n",
    "plt.ylabel('Percentage of Features Preserved')\n",
    "plt.title('Percentages of Features Preserved by Threshold')\n",
    "\n",
    "plt.show()"
   ]
  },
  {
   "cell_type": "code",
   "execution_count": null,
   "metadata": {},
   "outputs": [],
   "source": [
    "# train_parquet.select('int_feature_1').distinct().count()\n",
    "# train_parquet.groupBy('cate_feature_3').count().show()\n",
    "# train_parquet.groupBy('cate_feature_3').count().agg(F.sum('count')).show()"
   ]
  },
  {
   "cell_type": "markdown",
   "metadata": {},
   "source": [
    "Callenges will be caused by dataset being very sparse:\n",
    "1. null values in the training data\n",
    "2. the zeros created by one-hot encoding of the categorical variables (too many distinct values for the categorical variables)\n",
    "\n",
    "Solutions:\n",
    "1. feature selections\n",
    "2. hashing categorical variables"
   ]
  },
  {
   "cell_type": "markdown",
   "metadata": {},
   "source": [
    "### Goals of the EDA:\n",
    "\n",
    "Rare values prompts the model to learn from the quirks of the training data. Therefore, the EDA seeks to establish a threshold that will convert a categorical values to a special value if the categorical value has less than a certain count in the training data. This is going to be part of the feature engineering for our model.\n",
    "\n",
    "Ways to identify the threshold:\n",
    "1. Look at the number of distinct categorical variables when different thresholds are applied. Note: the number of feature will be the sum of the number of distinct values in all the fields\n",
    "\n",
    "Another goal is to identify an appropriate way to discretize the numerical variables. \n",
    "\n"
   ]
  },
  {
   "cell_type": "code",
   "execution_count": null,
   "metadata": {},
   "outputs": [],
   "source": [
    "# !gsutil cp final_project_hou.ipynb gs://w261-bucket-hou/notebooks/FinalProject/final_project_hou.ipynb"
   ]
  },
  {
   "cell_type": "markdown",
   "metadata": {},
   "source": [
    "# __Section 4__ - Algorithm Implementation"
   ]
  },
  {
   "cell_type": "markdown",
   "metadata": {},
   "source": []
  },
  {
   "cell_type": "markdown",
   "metadata": {},
   "source": []
  },
  {
   "cell_type": "markdown",
   "metadata": {},
   "source": [
    "# __Section 5__ - Course Concepts"
   ]
  },
  {
   "cell_type": "markdown",
   "metadata": {},
   "source": []
  },
  {
   "cell_type": "markdown",
   "metadata": {},
   "source": []
  },
  {
   "cell_type": "code",
   "execution_count": null,
   "metadata": {},
   "outputs": [],
   "source": []
  }
 ],
 "metadata": {
  "kernelspec": {
   "display_name": "Python 3",
   "language": "python",
   "name": "python3"
  },
  "language_info": {
   "codemirror_mode": {
    "name": "ipython",
    "version": 3
   },
   "file_extension": ".py",
   "mimetype": "text/x-python",
   "name": "python",
   "nbconvert_exporter": "python",
   "pygments_lexer": "ipython3",
   "version": "3.6.6"
  }
 },
 "nbformat": 4,
 "nbformat_minor": 2
}
