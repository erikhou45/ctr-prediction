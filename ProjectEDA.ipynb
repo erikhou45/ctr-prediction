{
 "cells": [
  {
   "cell_type": "markdown",
   "metadata": {},
   "source": [
    "### Project for W261\n",
    "\n",
    "**Goal** Predict click-through rate from features"
   ]
  },
  {
   "cell_type": "code",
   "execution_count": 5,
   "metadata": {},
   "outputs": [],
   "source": [
    "import pyspark"
   ]
  },
  {
   "cell_type": "code",
   "execution_count": 6,
   "metadata": {},
   "outputs": [],
   "source": [
    "from pyspark.sql import SparkSession\n",
    "spark = SparkSession.builder.appName('abc').getOrCreate()"
   ]
  },
  {
   "cell_type": "code",
   "execution_count": 7,
   "metadata": {},
   "outputs": [],
   "source": [
    "import sklearn as skl\n",
    "\n",
    "from sklearn.linear_model import LogisticRegression\n",
    "\n",
    "from sklearn.model_selection import train_test_split\n",
    "\n",
    "import random\n",
    "\n",
    "import pandas as pd\n",
    "import seaborn as sns\n",
    "\n",
    "import numpy as np"
   ]
  },
  {
   "cell_type": "markdown",
   "metadata": {},
   "source": [
    "### Test Spark is working and can read the file"
   ]
  },
  {
   "cell_type": "code",
   "execution_count": 14,
   "metadata": {},
   "outputs": [],
   "source": [
    "sc = spark.sparkContext"
   ]
  },
  {
   "cell_type": "code",
   "execution_count": 15,
   "metadata": {},
   "outputs": [],
   "source": [
    "rdd = sc.parallelize(range(100))"
   ]
  },
  {
   "cell_type": "code",
   "execution_count": 16,
   "metadata": {},
   "outputs": [
    {
     "data": {
      "text/plain": [
       "[0, 1, 2, 3, 4, 5, 6, 7, 8, 9]"
      ]
     },
     "execution_count": 16,
     "metadata": {},
     "output_type": "execute_result"
    }
   ],
   "source": [
    "rdd.take(10)"
   ]
  },
  {
   "cell_type": "markdown",
   "metadata": {},
   "source": [
    "### Generate a small sample from the training data"
   ]
  },
  {
   "cell_type": "code",
   "execution_count": 17,
   "metadata": {},
   "outputs": [],
   "source": [
    "generate_sample = False\n"
   ]
  },
  {
   "cell_type": "code",
   "execution_count": 18,
   "metadata": {},
   "outputs": [],
   "source": [
    "if generate_sample:\n",
    "    with open('data/train.txt', 'r') as infile, open('data/sample.txt', 'w') as outfile:\n",
    "        for line in infile:\n",
    "            n = random.randint(0, 100)\n",
    "            if n == 0:\n",
    "                outfile.write(line)        "
   ]
  },
  {
   "cell_type": "code",
   "execution_count": 24,
   "metadata": {},
   "outputs": [],
   "source": [
    " with open('data/sample.txt', 'r') as infile, open('data/small_sample.txt', 'w') as outfile:\n",
    "        for n, line in zip(range(100), infile):\n",
    "            outfile.write(line)"
   ]
  },
  {
   "cell_type": "code",
   "execution_count": 19,
   "metadata": {},
   "outputs": [],
   "source": [
    "test_rdd = sc.textFile('data/test.txt')"
   ]
  },
  {
   "cell_type": "code",
   "execution_count": 20,
   "metadata": {},
   "outputs": [],
   "source": [
    "train_rdd = sc.textFile('data/train.txt')"
   ]
  },
  {
   "cell_type": "code",
   "execution_count": 21,
   "metadata": {},
   "outputs": [],
   "source": [
    "sample_rdd = sc.textFile('data/sample.txt')"
   ]
  },
  {
   "cell_type": "code",
   "execution_count": 25,
   "metadata": {},
   "outputs": [],
   "source": [
    "small_sample_rdd = sc.textFile('data/small_sample.txt')"
   ]
  },
  {
   "cell_type": "code",
   "execution_count": 22,
   "metadata": {},
   "outputs": [
    {
     "data": {
      "text/plain": [
       "['1\\t3\\t1697\\t3\\t1\\t27\\t0\\t4\\t45\\t144\\t2\\t3\\t\\t0\\t87552397\\t207b2d81\\td52980aa\\tb66d15e3\\t4cf72387\\t6f6d9be8\\t283d5555\\t0b153874\\ta73ee510\\t3b08e48b\\t3d5fb018\\tb519c595\\t94172618\\t64c94865\\t11b2ae92\\t7c8ae841\\te5ba7672\\t395856b0\\t21ddcdc9\\tb1252a9d\\t605305ee\\t\\t32c7478e\\tf090fae7\\t001f3601\\tcdc744c1',\n",
       " '0\\t0\\t1\\t7\\t0\\t3587\\t4\\t35\\t2\\t10\\t0\\t8\\t0\\t1\\t05db9164\\t404660bb\\tf1397040\\t09003f7b\\t25c83c98\\t7e0ccccf\\t1c86e0eb\\tc8ddd494\\ta73ee510\\tda87807c\\t755e4a50\\t0cdb9a18\\t5978055e\\t07d13a8f\\t633f1661\\t82708081\\te5ba7672\\t4b17f8a2\\t21ddcdc9\\t5840adea\\t4c14738f\\t\\t32c7478e\\ta86c0565\\tf0f449dd\\t984e0db0',\n",
       " '0\\t1\\t0\\t\\t9\\t27\\t9\\t1\\t10\\t9\\t1\\t1\\t\\t9\\t68fd1e64\\td833535f\\t77f2f2e5\\td16679b9\\t384874ce\\tfe6b92e5\\t52283d1c\\t0b153874\\ta73ee510\\t299aecf1\\te51ddf94\\t9f32b866\\t3516f6e6\\tb28479f6\\ta66dcf27\\t31ca40b6\\td4bb7bd8\\t7b49e3d2\\t\\t\\tdfcfc3fa\\t\\t3a171ecb\\taee52b6f\\t\\t',\n",
       " '0\\t\\t8\\t\\t2\\t30617\\t\\t0\\t5\\t40\\t\\t0\\t\\t2\\t05db9164\\td833535f\\t77f2f2e5\\td16679b9\\t4cf72387\\t7e0ccccf\\tba000501\\t1f89b562\\ta73ee510\\t9b83013e\\t60adb56e\\t9f32b866\\t53b60829\\t07d13a8f\\t943169c2\\t31ca40b6\\td4bb7bd8\\t281769c2\\t\\t\\tdfcfc3fa\\t\\t3a171ecb\\taee52b6f\\t\\t',\n",
       " '0\\t0\\t307\\t4\\t4\\t2826\\t4\\t4\\t4\\t20\\t0\\t2\\t\\t4\\t05db9164\\t3e4b7926\\t7442ec70\\tbb8645c3\\t25c83c98\\tfe6b92e5\\ta4ca48a1\\t0b153874\\ta73ee510\\t3b08e48b\\ta1288914\\ta5ab10e6\\t919200e1\\t07d13a8f\\te6863a8e\\t1cdb3603\\t07c540c4\\te261f8d8\\t21ddcdc9\\t5840adea\\t1380864e\\t\\t3a171ecb\\tbe2f0db5\\t47907db5\\t68d9ada1',\n",
       " '0\\t0\\t2\\t2\\t4\\t1787\\t19\\t5\\t7\\t75\\t0\\t2\\t\\t4\\t05db9164\\t5368c225\\te22844b2\\tfadd820a\\t25c83c98\\t7e0ccccf\\tbd6361af\\t0b153874\\ta73ee510\\t4a4e78ba\\t02efa108\\t2a4ef823\\t62555ac3\\t07d13a8f\\tcbdbab51\\teaead249\\te5ba7672\\ta53934cb\\t\\t\\t71e3dba8\\t\\t32c7478e\\t2cb8e5cc\\t\\t',\n",
       " '0\\t0\\t-1\\t63\\t40\\t1470\\t61\\t4\\t37\\t46\\t0\\t1\\t\\t40\\t68fd1e64\\t207b2d81\\t9dd3c4fc\\ta09fab49\\t25c83c98\\t\\t271190b7\\t5b392875\\ta73ee510\\t49d5fa15\\t26a64614\\t3c5900b5\\t51351dd6\\tb28479f6\\tc38116c9\\t0decd005\\te5ba7672\\td3303ea5\\t21ddcdc9\\tb1252a9d\\t7633c7c8\\t\\t32c7478e\\t17f458f7\\t001f3601\\t71236095',\n",
       " '0\\t0\\t7\\t1\\t3\\t1959\\t71\\t5\\t11\\t39\\t0\\t2\\t\\t3\\t05db9164\\t2a69d406\\tbd06b176\\t13508380\\t25c83c98\\tfbad5c96\\t86d55004\\t0b153874\\ta73ee510\\t1d17eb0d\\t7d87ae83\\ta3cdae89\\t6077fd1f\\t07d13a8f\\t3b2d8705\\t7acb4f0e\\te5ba7672\\t642f2610\\t55dd3565\\ta458ea53\\t6064673f\\t\\t423fab69\\t45ab94c8\\t2bf691b1\\tc84c4aec',\n",
       " '0\\t\\t58\\t6\\t\\t\\t\\t0\\t0\\t9\\t\\t0\\t\\t\\t68fd1e64\\t09e68b86\\t1763bed2\\t0138ac61\\t25c83c98\\t\\te7698644\\t062b5529\\t7cc72ec2\\t3b08e48b\\tf9d0f35e\\t3d298648\\tb55434a9\\tb28479f6\\t52baadf5\\t3261c9f7\\t2005abd1\\t5aed7436\\t4632bcdc\\tb1252a9d\\tf32fa7cc\\t\\tbe7c41b4\\tabd1cf6d\\te8b83407\\tb12333b3',\n",
       " '0\\t1\\t52\\t1\\t7\\t169\\t12\\t27\\t15\\t360\\t1\\t11\\t\\t7\\t68fd1e64\\t287130e0\\t0fa4f546\\tea124ac7\\t25c83c98\\t6f6d9be8\\t2be44e4e\\t0b153874\\ta73ee510\\t6f3d6efc\\t364e8b48\\teba7dda8\\t34cbb1bc\\t07d13a8f\\t6aaa8dbc\\t7b9c834f\\te5ba7672\\t53515e19\\t712d530c\\t5840adea\\t428cc7c7\\t\\t32c7478e\\ta4b9e88f\\tea9a246c\\t03219b28']"
      ]
     },
     "execution_count": 22,
     "metadata": {},
     "output_type": "execute_result"
    }
   ],
   "source": [
    "sample_rdd.take(10)"
   ]
  },
  {
   "cell_type": "code",
   "execution_count": 39,
   "metadata": {},
   "outputs": [
    {
     "data": {
      "text/plain": [
       "454529"
      ]
     },
     "execution_count": 39,
     "metadata": {},
     "output_type": "execute_result"
    }
   ],
   "source": [
    "sample_rdd.count()"
   ]
  },
  {
   "cell_type": "code",
   "execution_count": 43,
   "metadata": {},
   "outputs": [
    {
     "data": {
      "text/plain": [
       "[(0, 338426), (1, 116103)]"
      ]
     },
     "execution_count": 43,
     "metadata": {},
     "output_type": "execute_result"
    }
   ],
   "source": [
    "sample_rdd.map(lambda x: x.split('\\t'))\\\n",
    ".map(lambda x: (int(x[0]), 1))\\\n",
    ".reduceByKey(lambda x, y: x+y).collect()"
   ]
  },
  {
   "cell_type": "code",
   "execution_count": 44,
   "metadata": {},
   "outputs": [
    {
     "name": "stdout",
     "output_type": "stream",
     "text": [
      "total 33834552\n",
      "-rw-r--r--  1 anuyadav  staff   4576820670 Jun 21  2018 dac.tar.gz\n",
      "-rw-r--r--  1 anuyadav  staff         1927 Aug 22  2014 readme.txt\n",
      "-rw-r--r--  1 anuyadav  staff    110529428 Nov 15 19:19 sample.txt\n",
      "-rw-r--r--  1 anuyadav  staff   1460246311 Aug 22  2014 test.txt\n",
      "-rw-r--r--  1 anuyadav  staff  11147184845 May 12  2014 train.txt\n"
     ]
    }
   ],
   "source": [
    "!ls -l data/\n"
   ]
  },
  {
   "cell_type": "code",
   "execution_count": 49,
   "metadata": {},
   "outputs": [],
   "source": [
    "sample_df = pd.read_table('data/sample.txt', header=None)"
   ]
  },
  {
   "cell_type": "code",
   "execution_count": 50,
   "metadata": {},
   "outputs": [
    {
     "data": {
      "text/html": [
       "<div>\n",
       "<style scoped>\n",
       "    .dataframe tbody tr th:only-of-type {\n",
       "        vertical-align: middle;\n",
       "    }\n",
       "\n",
       "    .dataframe tbody tr th {\n",
       "        vertical-align: top;\n",
       "    }\n",
       "\n",
       "    .dataframe thead th {\n",
       "        text-align: right;\n",
       "    }\n",
       "</style>\n",
       "<table border=\"1\" class=\"dataframe\">\n",
       "  <thead>\n",
       "    <tr style=\"text-align: right;\">\n",
       "      <th></th>\n",
       "      <th>0</th>\n",
       "      <th>1</th>\n",
       "      <th>2</th>\n",
       "      <th>3</th>\n",
       "      <th>4</th>\n",
       "      <th>5</th>\n",
       "      <th>6</th>\n",
       "      <th>7</th>\n",
       "      <th>8</th>\n",
       "      <th>9</th>\n",
       "      <th>...</th>\n",
       "      <th>30</th>\n",
       "      <th>31</th>\n",
       "      <th>32</th>\n",
       "      <th>33</th>\n",
       "      <th>34</th>\n",
       "      <th>35</th>\n",
       "      <th>36</th>\n",
       "      <th>37</th>\n",
       "      <th>38</th>\n",
       "      <th>39</th>\n",
       "    </tr>\n",
       "  </thead>\n",
       "  <tbody>\n",
       "    <tr>\n",
       "      <td>0</td>\n",
       "      <td>1</td>\n",
       "      <td>3.0</td>\n",
       "      <td>1697</td>\n",
       "      <td>3.0</td>\n",
       "      <td>1.0</td>\n",
       "      <td>27.0</td>\n",
       "      <td>0.0</td>\n",
       "      <td>4.0</td>\n",
       "      <td>45.0</td>\n",
       "      <td>144.0</td>\n",
       "      <td>...</td>\n",
       "      <td>e5ba7672</td>\n",
       "      <td>395856b0</td>\n",
       "      <td>21ddcdc9</td>\n",
       "      <td>b1252a9d</td>\n",
       "      <td>605305ee</td>\n",
       "      <td>NaN</td>\n",
       "      <td>32c7478e</td>\n",
       "      <td>f090fae7</td>\n",
       "      <td>001f3601</td>\n",
       "      <td>cdc744c1</td>\n",
       "    </tr>\n",
       "    <tr>\n",
       "      <td>1</td>\n",
       "      <td>0</td>\n",
       "      <td>0.0</td>\n",
       "      <td>1</td>\n",
       "      <td>7.0</td>\n",
       "      <td>0.0</td>\n",
       "      <td>3587.0</td>\n",
       "      <td>4.0</td>\n",
       "      <td>35.0</td>\n",
       "      <td>2.0</td>\n",
       "      <td>10.0</td>\n",
       "      <td>...</td>\n",
       "      <td>e5ba7672</td>\n",
       "      <td>4b17f8a2</td>\n",
       "      <td>21ddcdc9</td>\n",
       "      <td>5840adea</td>\n",
       "      <td>4c14738f</td>\n",
       "      <td>NaN</td>\n",
       "      <td>32c7478e</td>\n",
       "      <td>a86c0565</td>\n",
       "      <td>f0f449dd</td>\n",
       "      <td>984e0db0</td>\n",
       "    </tr>\n",
       "    <tr>\n",
       "      <td>2</td>\n",
       "      <td>0</td>\n",
       "      <td>1.0</td>\n",
       "      <td>0</td>\n",
       "      <td>NaN</td>\n",
       "      <td>9.0</td>\n",
       "      <td>27.0</td>\n",
       "      <td>9.0</td>\n",
       "      <td>1.0</td>\n",
       "      <td>10.0</td>\n",
       "      <td>9.0</td>\n",
       "      <td>...</td>\n",
       "      <td>d4bb7bd8</td>\n",
       "      <td>7b49e3d2</td>\n",
       "      <td>NaN</td>\n",
       "      <td>NaN</td>\n",
       "      <td>dfcfc3fa</td>\n",
       "      <td>NaN</td>\n",
       "      <td>3a171ecb</td>\n",
       "      <td>aee52b6f</td>\n",
       "      <td>NaN</td>\n",
       "      <td>NaN</td>\n",
       "    </tr>\n",
       "    <tr>\n",
       "      <td>3</td>\n",
       "      <td>0</td>\n",
       "      <td>NaN</td>\n",
       "      <td>8</td>\n",
       "      <td>NaN</td>\n",
       "      <td>2.0</td>\n",
       "      <td>30617.0</td>\n",
       "      <td>NaN</td>\n",
       "      <td>0.0</td>\n",
       "      <td>5.0</td>\n",
       "      <td>40.0</td>\n",
       "      <td>...</td>\n",
       "      <td>d4bb7bd8</td>\n",
       "      <td>281769c2</td>\n",
       "      <td>NaN</td>\n",
       "      <td>NaN</td>\n",
       "      <td>dfcfc3fa</td>\n",
       "      <td>NaN</td>\n",
       "      <td>3a171ecb</td>\n",
       "      <td>aee52b6f</td>\n",
       "      <td>NaN</td>\n",
       "      <td>NaN</td>\n",
       "    </tr>\n",
       "    <tr>\n",
       "      <td>4</td>\n",
       "      <td>0</td>\n",
       "      <td>0.0</td>\n",
       "      <td>307</td>\n",
       "      <td>4.0</td>\n",
       "      <td>4.0</td>\n",
       "      <td>2826.0</td>\n",
       "      <td>4.0</td>\n",
       "      <td>4.0</td>\n",
       "      <td>4.0</td>\n",
       "      <td>20.0</td>\n",
       "      <td>...</td>\n",
       "      <td>07c540c4</td>\n",
       "      <td>e261f8d8</td>\n",
       "      <td>21ddcdc9</td>\n",
       "      <td>5840adea</td>\n",
       "      <td>1380864e</td>\n",
       "      <td>NaN</td>\n",
       "      <td>3a171ecb</td>\n",
       "      <td>be2f0db5</td>\n",
       "      <td>47907db5</td>\n",
       "      <td>68d9ada1</td>\n",
       "    </tr>\n",
       "  </tbody>\n",
       "</table>\n",
       "<p>5 rows × 40 columns</p>\n",
       "</div>"
      ],
      "text/plain": [
       "   0    1     2    3    4        5    6     7     8      9   ...        30  \\\n",
       "0   1  3.0  1697  3.0  1.0     27.0  0.0   4.0  45.0  144.0  ...  e5ba7672   \n",
       "1   0  0.0     1  7.0  0.0   3587.0  4.0  35.0   2.0   10.0  ...  e5ba7672   \n",
       "2   0  1.0     0  NaN  9.0     27.0  9.0   1.0  10.0    9.0  ...  d4bb7bd8   \n",
       "3   0  NaN     8  NaN  2.0  30617.0  NaN   0.0   5.0   40.0  ...  d4bb7bd8   \n",
       "4   0  0.0   307  4.0  4.0   2826.0  4.0   4.0   4.0   20.0  ...  07c540c4   \n",
       "\n",
       "         31        32        33        34   35        36        37        38  \\\n",
       "0  395856b0  21ddcdc9  b1252a9d  605305ee  NaN  32c7478e  f090fae7  001f3601   \n",
       "1  4b17f8a2  21ddcdc9  5840adea  4c14738f  NaN  32c7478e  a86c0565  f0f449dd   \n",
       "2  7b49e3d2       NaN       NaN  dfcfc3fa  NaN  3a171ecb  aee52b6f       NaN   \n",
       "3  281769c2       NaN       NaN  dfcfc3fa  NaN  3a171ecb  aee52b6f       NaN   \n",
       "4  e261f8d8  21ddcdc9  5840adea  1380864e  NaN  3a171ecb  be2f0db5  47907db5   \n",
       "\n",
       "         39  \n",
       "0  cdc744c1  \n",
       "1  984e0db0  \n",
       "2       NaN  \n",
       "3       NaN  \n",
       "4  68d9ada1  \n",
       "\n",
       "[5 rows x 40 columns]"
      ]
     },
     "execution_count": 50,
     "metadata": {},
     "output_type": "execute_result"
    }
   ],
   "source": [
    "sample_df.head()"
   ]
  },
  {
   "cell_type": "code",
   "execution_count": 56,
   "metadata": {},
   "outputs": [
    {
     "data": {
      "text/plain": [
       "0    338426\n",
       "1    116103\n",
       "Name: 0, dtype: int64"
      ]
     },
     "execution_count": 56,
     "metadata": {},
     "output_type": "execute_result"
    }
   ],
   "source": [
    "sample_df.loc[:,0].value_counts()"
   ]
  },
  {
   "cell_type": "code",
   "execution_count": 162,
   "metadata": {},
   "outputs": [],
   "source": [
    "# Some features are integer and some are categorical\n",
    "# Separate out\n",
    "integer_features = range(1, 14)\n",
    "cat_featrues = range(14, 14+26)"
   ]
  },
  {
   "cell_type": "markdown",
   "metadata": {},
   "source": [
    "#### Correlation matrix"
   ]
  },
  {
   "cell_type": "code",
   "execution_count": 168,
   "metadata": {},
   "outputs": [],
   "source": [
    "sample_df_int= sample_df.loc[:,integer_features]"
   ]
  },
  {
   "cell_type": "code",
   "execution_count": 169,
   "metadata": {},
   "outputs": [],
   "source": [
    "corr_mat = sample_df_int.corr()"
   ]
  },
  {
   "cell_type": "code",
   "execution_count": 172,
   "metadata": {},
   "outputs": [
    {
     "data": {
      "text/plain": [
       "<matplotlib.axes._subplots.AxesSubplot at 0x1a682f0f60>"
      ]
     },
     "execution_count": 172,
     "metadata": {},
     "output_type": "execute_result"
    },
    {
     "data": {
      "image/png": "[encoded data removed]",
      "text/plain": [
       "<Figure size 432x288 with 2 Axes>"
      ]
     },
     "metadata": {
      "needs_background": "light"
     },
     "output_type": "display_data"
    }
   ],
   "source": [
    "sns.heatmap(corr_mat)"
   ]
  },
  {
   "cell_type": "code",
   "execution_count": 173,
   "metadata": {},
   "outputs": [
    {
     "data": {
      "text/plain": [
       "1     0.096532\n",
       "2     0.043933\n",
       "3     0.013002\n",
       "4    -0.051974\n",
       "5    -0.080665\n",
       "6    -0.104261\n",
       "7     0.086208\n",
       "8    -0.027183\n",
       "9     0.022742\n",
       "10    0.172569\n",
       "11    0.156353\n",
       "12    0.094621\n",
       "13   -0.085857\n",
       "dtype: float64"
      ]
     },
     "execution_count": 173,
     "metadata": {},
     "output_type": "execute_result"
    }
   ],
   "source": [
    "# Correlation with target\n",
    "sample_df_int.corrwith(sample_df.loc[:,0])"
   ]
  },
  {
   "cell_type": "code",
   "execution_count": null,
   "metadata": {},
   "outputs": [],
   "source": []
  },
  {
   "cell_type": "code",
   "execution_count": 163,
   "metadata": {},
   "outputs": [
    {
     "data": {
      "text/plain": [
       "1     0.454534\n",
       "2     0.000000\n",
       "3     0.214299\n",
       "4     0.216745\n",
       "5     0.025684\n",
       "6     0.222839\n",
       "7     0.042930\n",
       "8     0.000462\n",
       "9     0.042930\n",
       "10    0.454534\n",
       "11    0.042930\n",
       "12    0.764594\n",
       "13    0.216745\n",
       "dtype: float64"
      ]
     },
     "execution_count": 163,
     "metadata": {},
     "output_type": "execute_result"
    }
   ],
   "source": [
    "sample_df.loc[:,integer_features].isna().sum()/len(sample_df)\n",
    "# Features 1, 10 seem to be the same missing values\n",
    "# Lots of values missing (over 20%) values in 1, 3, 4, 6, 10, 12, 13"
   ]
  },
  {
   "cell_type": "code",
   "execution_count": 65,
   "metadata": {},
   "outputs": [],
   "source": [
    "import matplotlib"
   ]
  },
  {
   "cell_type": "code",
   "execution_count": 73,
   "metadata": {},
   "outputs": [],
   "source": [
    "sample_df_int = sample_df.loc[:,integer_features]"
   ]
  },
  {
   "cell_type": "code",
   "execution_count": 75,
   "metadata": {},
   "outputs": [
    {
     "data": {
      "image/png": "[encoded data removed]",
      "text/plain": [
       "<Figure size 864x720 with 16 Axes>"
      ]
     },
     "metadata": {
      "needs_background": "light"
     },
     "output_type": "display_data"
    }
   ],
   "source": [
    "axs = sample_df_int.hist(figsize=(12, 10))"
   ]
  },
  {
   "cell_type": "code",
   "execution_count": 76,
   "metadata": {},
   "outputs": [],
   "source": [
    "sample_df_cat = sample_df.loc[:,cat_featrues]"
   ]
  },
  {
   "cell_type": "code",
   "execution_count": 164,
   "metadata": {},
   "outputs": [],
   "source": [
    "# Number of unique values in the dataframe\n",
    "# Keep only features with fewer than 30 values\n",
    "low_cat_values = sample_df_cat.nunique() < 30#/len(sample_df_cat)"
   ]
  },
  {
   "cell_type": "code",
   "execution_count": 145,
   "metadata": {},
   "outputs": [],
   "source": [
    "cat_features_final = list(low_cat_values.index[low_cat_values])"
   ]
  },
  {
   "cell_type": "code",
   "execution_count": 98,
   "metadata": {},
   "outputs": [],
   "source": [
    "def convert_str(x):\n",
    "    try:\n",
    "        return int(x, base=16)\n",
    "    except:\n",
    "        return 0"
   ]
  },
  {
   "cell_type": "code",
   "execution_count": 147,
   "metadata": {},
   "outputs": [],
   "source": [
    "y = sample_df[0]\n",
    "X = sample_df[list(integer_features)+cat_features_final]"
   ]
  },
  {
   "cell_type": "code",
   "execution_count": 148,
   "metadata": {},
   "outputs": [
    {
     "data": {
      "text/html": [
       "<div>\n",
       "<style scoped>\n",
       "    .dataframe tbody tr th:only-of-type {\n",
       "        vertical-align: middle;\n",
       "    }\n",
       "\n",
       "    .dataframe tbody tr th {\n",
       "        vertical-align: top;\n",
       "    }\n",
       "\n",
       "    .dataframe thead th {\n",
       "        text-align: right;\n",
       "    }\n",
       "</style>\n",
       "<table border=\"1\" class=\"dataframe\">\n",
       "  <thead>\n",
       "    <tr style=\"text-align: right;\">\n",
       "      <th></th>\n",
       "      <th>19</th>\n",
       "      <th>22</th>\n",
       "      <th>27</th>\n",
       "      <th>30</th>\n",
       "      <th>33</th>\n",
       "      <th>35</th>\n",
       "      <th>36</th>\n",
       "    </tr>\n",
       "  </thead>\n",
       "  <tbody>\n",
       "    <tr>\n",
       "      <td>0</td>\n",
       "      <td>1869454312</td>\n",
       "      <td>2805916944</td>\n",
       "      <td>1690912869</td>\n",
       "      <td>3854202482</td>\n",
       "      <td>2972002973</td>\n",
       "      <td>0</td>\n",
       "      <td>851920782</td>\n",
       "    </tr>\n",
       "    <tr>\n",
       "      <td>1</td>\n",
       "      <td>2114768079</td>\n",
       "      <td>2805916944</td>\n",
       "      <td>131152527</td>\n",
       "      <td>3854202482</td>\n",
       "      <td>1480633834</td>\n",
       "      <td>0</td>\n",
       "      <td>851920782</td>\n",
       "    </tr>\n",
       "    <tr>\n",
       "      <td>2</td>\n",
       "      <td>4268462821</td>\n",
       "      <td>2805916944</td>\n",
       "      <td>2995026422</td>\n",
       "      <td>3569056728</td>\n",
       "      <td>0</td>\n",
       "      <td>0</td>\n",
       "      <td>974593739</td>\n",
       "    </tr>\n",
       "    <tr>\n",
       "      <td>3</td>\n",
       "      <td>2114768079</td>\n",
       "      <td>2805916944</td>\n",
       "      <td>131152527</td>\n",
       "      <td>3569056728</td>\n",
       "      <td>0</td>\n",
       "      <td>0</td>\n",
       "      <td>974593739</td>\n",
       "    </tr>\n",
       "    <tr>\n",
       "      <td>4</td>\n",
       "      <td>4268462821</td>\n",
       "      <td>2805916944</td>\n",
       "      <td>131152527</td>\n",
       "      <td>130367684</td>\n",
       "      <td>1480633834</td>\n",
       "      <td>0</td>\n",
       "      <td>974593739</td>\n",
       "    </tr>\n",
       "  </tbody>\n",
       "</table>\n",
       "</div>"
      ],
      "text/plain": [
       "           19          22          27          30          33  35         36\n",
       "0  1869454312  2805916944  1690912869  3854202482  2972002973   0  851920782\n",
       "1  2114768079  2805916944   131152527  3854202482  1480633834   0  851920782\n",
       "2  4268462821  2805916944  2995026422  3569056728           0   0  974593739\n",
       "3  2114768079  2805916944   131152527  3569056728           0   0  974593739\n",
       "4  4268462821  2805916944   131152527   130367684  1480633834   0  974593739"
      ]
     },
     "execution_count": 148,
     "metadata": {},
     "output_type": "execute_result"
    }
   ],
   "source": [
    "X[cat_features_final].head().applymap(convert_str)"
   ]
  },
  {
   "cell_type": "code",
   "execution_count": 149,
   "metadata": {},
   "outputs": [
    {
     "name": "stderr",
     "output_type": "stream",
     "text": [
      "/Users/anuyadav/anaconda3/lib/python3.6/site-packages/pandas/core/indexing.py:494: SettingWithCopyWarning: \n",
      "A value is trying to be set on a copy of a slice from a DataFrame.\n",
      "Try using .loc[row_indexer,col_indexer] = value instead\n",
      "\n",
      "See the caveats in the documentation: http://pandas.pydata.org/pandas-docs/stable/user_guide/indexing.html#returning-a-view-versus-a-copy\n",
      "  self.obj[item] = s\n"
     ]
    }
   ],
   "source": [
    "X.loc[:,cat_features_final] = X[cat_features_final].applymap(convert_str)"
   ]
  },
  {
   "cell_type": "code",
   "execution_count": 150,
   "metadata": {},
   "outputs": [],
   "source": [
    "X.loc[:,integer_features] = X[integer_features].fillna(0)"
   ]
  },
  {
   "cell_type": "markdown",
   "metadata": {},
   "source": [
    "### Try a logistic regresssion\n",
    "\n",
    "Run training on just integer features and categorical features with a few unique values.\n",
    "Run alogistic regression to see what we get"
   ]
  },
  {
   "cell_type": "code",
   "execution_count": 151,
   "metadata": {},
   "outputs": [],
   "source": [
    "X_train, X_test, y_train, y_test = train_test_split(X.loc[:,integer_features], y)"
   ]
  },
  {
   "cell_type": "code",
   "execution_count": 152,
   "metadata": {},
   "outputs": [],
   "source": [
    "model = LogisticRegression()"
   ]
  },
  {
   "cell_type": "code",
   "execution_count": 153,
   "metadata": {},
   "outputs": [
    {
     "name": "stderr",
     "output_type": "stream",
     "text": [
      "/Users/anuyadav/anaconda3/lib/python3.6/site-packages/sklearn/linear_model/logistic.py:432: FutureWarning: Default solver will be changed to 'lbfgs' in 0.22. Specify a solver to silence this warning.\n",
      "  FutureWarning)\n",
      "/Users/anuyadav/anaconda3/lib/python3.6/site-packages/sklearn/svm/base.py:929: ConvergenceWarning: Liblinear failed to converge, increase the number of iterations.\n",
      "  \"the number of iterations.\", ConvergenceWarning)\n"
     ]
    },
    {
     "data": {
      "text/plain": [
       "LogisticRegression(C=1.0, class_weight=None, dual=False, fit_intercept=True,\n",
       "                   intercept_scaling=1, l1_ratio=None, max_iter=100,\n",
       "                   multi_class='warn', n_jobs=None, penalty='l2',\n",
       "                   random_state=None, solver='warn', tol=0.0001, verbose=0,\n",
       "                   warm_start=False)"
      ]
     },
     "execution_count": 153,
     "metadata": {},
     "output_type": "execute_result"
    }
   ],
   "source": [
    "model.fit(X_train, y_train)"
   ]
  },
  {
   "cell_type": "code",
   "execution_count": 154,
   "metadata": {},
   "outputs": [],
   "source": [
    "y_pred = model.predict(X_test)"
   ]
  },
  {
   "cell_type": "markdown",
   "metadata": {},
   "source": [
    "## Accuracy and precision and recall"
   ]
  },
  {
   "cell_type": "code",
   "execution_count": 155,
   "metadata": {},
   "outputs": [],
   "source": [
    "from sklearn.metrics import accuracy_score, precision_score, recall_score"
   ]
  },
  {
   "cell_type": "code",
   "execution_count": 156,
   "metadata": {},
   "outputs": [
    {
     "data": {
      "text/plain": [
       "array([0, 0, 0, ..., 0, 0, 0])"
      ]
     },
     "execution_count": 156,
     "metadata": {},
     "output_type": "execute_result"
    }
   ],
   "source": [
    "y_pred"
   ]
  },
  {
   "cell_type": "code",
   "execution_count": 157,
   "metadata": {},
   "outputs": [
    {
     "data": {
      "text/plain": [
       "0.7417123546856987"
      ]
     },
     "execution_count": 157,
     "metadata": {},
     "output_type": "execute_result"
    }
   ],
   "source": [
    "accuracy_score(y_test, y_pred)"
   ]
  },
  {
   "cell_type": "code",
   "execution_count": 158,
   "metadata": {},
   "outputs": [
    {
     "data": {
      "text/plain": [
       "0.06164313309856747"
      ]
     },
     "execution_count": 158,
     "metadata": {},
     "output_type": "execute_result"
    }
   ],
   "source": [
    "recall_score(y_test, y_pred)"
   ]
  },
  {
   "cell_type": "code",
   "execution_count": 159,
   "metadata": {},
   "outputs": [
    {
     "data": {
      "text/plain": [
       "0.4863771243593202"
      ]
     },
     "execution_count": 159,
     "metadata": {},
     "output_type": "execute_result"
    }
   ],
   "source": [
    "precision_score(y_test, y_pred)"
   ]
  },
  {
   "cell_type": "code",
   "execution_count": 129,
   "metadata": {},
   "outputs": [
    {
     "data": {
      "text/html": [
       "<div>\n",
       "<style scoped>\n",
       "    .dataframe tbody tr th:only-of-type {\n",
       "        vertical-align: middle;\n",
       "    }\n",
       "\n",
       "    .dataframe tbody tr th {\n",
       "        vertical-align: top;\n",
       "    }\n",
       "\n",
       "    .dataframe thead th {\n",
       "        text-align: right;\n",
       "    }\n",
       "</style>\n",
       "<table border=\"1\" class=\"dataframe\">\n",
       "  <thead>\n",
       "    <tr style=\"text-align: right;\">\n",
       "      <th></th>\n",
       "      <th>1</th>\n",
       "      <th>2</th>\n",
       "      <th>3</th>\n",
       "      <th>4</th>\n",
       "      <th>5</th>\n",
       "      <th>6</th>\n",
       "      <th>7</th>\n",
       "      <th>8</th>\n",
       "      <th>9</th>\n",
       "      <th>10</th>\n",
       "      <th>...</th>\n",
       "      <th>30</th>\n",
       "      <th>31</th>\n",
       "      <th>32</th>\n",
       "      <th>33</th>\n",
       "      <th>34</th>\n",
       "      <th>35</th>\n",
       "      <th>36</th>\n",
       "      <th>37</th>\n",
       "      <th>38</th>\n",
       "      <th>39</th>\n",
       "    </tr>\n",
       "  </thead>\n",
       "  <tbody>\n",
       "    <tr>\n",
       "      <td>222303</td>\n",
       "      <td>0.0</td>\n",
       "      <td>1</td>\n",
       "      <td>39.0</td>\n",
       "      <td>22.0</td>\n",
       "      <td>9082.0</td>\n",
       "      <td>109.0</td>\n",
       "      <td>4.0</td>\n",
       "      <td>40.0</td>\n",
       "      <td>109.0</td>\n",
       "      <td>0.0</td>\n",
       "      <td>...</td>\n",
       "      <td>3854202482</td>\n",
       "      <td>3560079444</td>\n",
       "      <td>0</td>\n",
       "      <td>0</td>\n",
       "      <td>1360682</td>\n",
       "      <td>0</td>\n",
       "      <td>1111468905</td>\n",
       "      <td>991444060</td>\n",
       "      <td>0</td>\n",
       "      <td>0</td>\n",
       "    </tr>\n",
       "    <tr>\n",
       "      <td>136777</td>\n",
       "      <td>0.0</td>\n",
       "      <td>0</td>\n",
       "      <td>1.0</td>\n",
       "      <td>0.0</td>\n",
       "      <td>1360.0</td>\n",
       "      <td>9.0</td>\n",
       "      <td>0.0</td>\n",
       "      <td>2.0</td>\n",
       "      <td>5.0</td>\n",
       "      <td>0.0</td>\n",
       "      <td>...</td>\n",
       "      <td>3569056728</td>\n",
       "      <td>1224985920</td>\n",
       "      <td>0</td>\n",
       "      <td>0</td>\n",
       "      <td>2795270511</td>\n",
       "      <td>0</td>\n",
       "      <td>974593739</td>\n",
       "      <td>206925917</td>\n",
       "      <td>0</td>\n",
       "      <td>0</td>\n",
       "    </tr>\n",
       "    <tr>\n",
       "      <td>102189</td>\n",
       "      <td>0.0</td>\n",
       "      <td>268</td>\n",
       "      <td>0.0</td>\n",
       "      <td>1.0</td>\n",
       "      <td>1879.0</td>\n",
       "      <td>7.0</td>\n",
       "      <td>1.0</td>\n",
       "      <td>1.0</td>\n",
       "      <td>5.0</td>\n",
       "      <td>0.0</td>\n",
       "      <td>...</td>\n",
       "      <td>3854202482</td>\n",
       "      <td>2856508582</td>\n",
       "      <td>0</td>\n",
       "      <td>0</td>\n",
       "      <td>1811940698</td>\n",
       "      <td>3386122794</td>\n",
       "      <td>851920782</td>\n",
       "      <td>4101523060</td>\n",
       "      <td>0</td>\n",
       "      <td>0</td>\n",
       "    </tr>\n",
       "    <tr>\n",
       "      <td>292553</td>\n",
       "      <td>1.0</td>\n",
       "      <td>-1</td>\n",
       "      <td>2.0</td>\n",
       "      <td>25.0</td>\n",
       "      <td>15.0</td>\n",
       "      <td>14.0</td>\n",
       "      <td>1.0</td>\n",
       "      <td>9.0</td>\n",
       "      <td>61.0</td>\n",
       "      <td>1.0</td>\n",
       "      <td>...</td>\n",
       "      <td>881205885</td>\n",
       "      <td>1875397627</td>\n",
       "      <td>0</td>\n",
       "      <td>0</td>\n",
       "      <td>1327145567</td>\n",
       "      <td>2905629419</td>\n",
       "      <td>1111468905</td>\n",
       "      <td>3738479305</td>\n",
       "      <td>0</td>\n",
       "      <td>0</td>\n",
       "    </tr>\n",
       "    <tr>\n",
       "      <td>133845</td>\n",
       "      <td>0.0</td>\n",
       "      <td>1</td>\n",
       "      <td>30.0</td>\n",
       "      <td>7.0</td>\n",
       "      <td>25649.0</td>\n",
       "      <td>0.0</td>\n",
       "      <td>0.0</td>\n",
       "      <td>29.0</td>\n",
       "      <td>40.0</td>\n",
       "      <td>0.0</td>\n",
       "      <td>...</td>\n",
       "      <td>3854202482</td>\n",
       "      <td>1525511222</td>\n",
       "      <td>1197784951</td>\n",
       "      <td>2757290579</td>\n",
       "      <td>3157861902</td>\n",
       "      <td>0</td>\n",
       "      <td>851920782</td>\n",
       "      <td>1071331371</td>\n",
       "      <td>3904386055</td>\n",
       "      <td>1238795398</td>\n",
       "    </tr>\n",
       "  </tbody>\n",
       "</table>\n",
       "<p>5 rows × 39 columns</p>\n",
       "</div>"
      ],
      "text/plain": [
       "         1    2     3     4        5      6    7     8      9    10  ...  \\\n",
       "222303  0.0    1  39.0  22.0   9082.0  109.0  4.0  40.0  109.0  0.0  ...   \n",
       "136777  0.0    0   1.0   0.0   1360.0    9.0  0.0   2.0    5.0  0.0  ...   \n",
       "102189  0.0  268   0.0   1.0   1879.0    7.0  1.0   1.0    5.0  0.0  ...   \n",
       "292553  1.0   -1   2.0  25.0     15.0   14.0  1.0   9.0   61.0  1.0  ...   \n",
       "133845  0.0    1  30.0   7.0  25649.0    0.0  0.0  29.0   40.0  0.0  ...   \n",
       "\n",
       "                30          31          32          33          34  \\\n",
       "222303  3854202482  3560079444           0           0     1360682   \n",
       "136777  3569056728  1224985920           0           0  2795270511   \n",
       "102189  3854202482  2856508582           0           0  1811940698   \n",
       "292553   881205885  1875397627           0           0  1327145567   \n",
       "133845  3854202482  1525511222  1197784951  2757290579  3157861902   \n",
       "\n",
       "                35          36          37          38          39  \n",
       "222303           0  1111468905   991444060           0           0  \n",
       "136777           0   974593739   206925917           0           0  \n",
       "102189  3386122794   851920782  4101523060           0           0  \n",
       "292553  2905629419  1111468905  3738479305           0           0  \n",
       "133845           0   851920782  1071331371  3904386055  1238795398  \n",
       "\n",
       "[5 rows x 39 columns]"
      ]
     },
     "execution_count": 129,
     "metadata": {},
     "output_type": "execute_result"
    }
   ],
   "source": [
    "X_train.head()"
   ]
  },
  {
   "cell_type": "code",
   "execution_count": 95,
   "metadata": {},
   "outputs": [
    {
     "data": {
      "text/plain": [
       "977863944"
      ]
     },
     "execution_count": 95,
     "metadata": {},
     "output_type": "execute_result"
    }
   ],
   "source": [
    "int('3a490508', base=16)"
   ]
  },
  {
   "cell_type": "code",
   "execution_count": null,
   "metadata": {},
   "outputs": [],
   "source": [
    "model."
   ]
  },
  {
   "cell_type": "code",
   "execution_count": 68,
   "metadata": {},
   "outputs": [],
   "source": [
    "import matplotlib.pyplot as plt"
   ]
  },
  {
   "cell_type": "code",
   "execution_count": 72,
   "metadata": {},
   "outputs": [
    {
     "data": {
      "text/plain": [
       "<Figure size 432x288 with 0 Axes>"
      ]
     },
     "execution_count": 72,
     "metadata": {},
     "output_type": "execute_result"
    },
    {
     "data": {
      "text/plain": [
       "<Figure size 432x288 with 0 Axes>"
      ]
     },
     "metadata": {},
     "output_type": "display_data"
    }
   ],
   "source": [
    "plt.gcf()"
   ]
  },
  {
   "cell_type": "code",
   "execution_count": 54,
   "metadata": {},
   "outputs": [
    {
     "ename": "TypeError",
     "evalue": "'numpy.ndarray' object is not callable",
     "output_type": "error",
     "traceback": [
      "\u001b[0;31m---------------------------------------------------------------------------\u001b[0m",
      "\u001b[0;31mTypeError\u001b[0m                                 Traceback (most recent call last)",
      "\u001b[0;32m<ipython-input-54-eb6770ab2f94>\u001b[0m in \u001b[0;36m<module>\u001b[0;34m\u001b[0m\n\u001b[0;32m----> 1\u001b[0;31m \u001b[0msample_df\u001b[0m\u001b[0;34m.\u001b[0m\u001b[0mcolumns\u001b[0m \u001b[0;34m=\u001b[0m \u001b[0;34m[\u001b[0m\u001b[0;34m'target'\u001b[0m\u001b[0;34m]\u001b[0m \u001b[0;34m+\u001b[0m \u001b[0msample_df\u001b[0m\u001b[0;34m.\u001b[0m\u001b[0mcolumns\u001b[0m\u001b[0;34m.\u001b[0m\u001b[0mvalues\u001b[0m\u001b[0;34m(\u001b[0m\u001b[0;34m)\u001b[0m\u001b[0;34m[\u001b[0m\u001b[0;36m1\u001b[0m\u001b[0;34m:\u001b[0m\u001b[0;34m]\u001b[0m\u001b[0;34m\u001b[0m\u001b[0;34m\u001b[0m\u001b[0m\n\u001b[0m",
      "\u001b[0;31mTypeError\u001b[0m: 'numpy.ndarray' object is not callable"
     ]
    }
   ],
   "source": [
    "sample_df.columns = ['target'] + sample_df.columns.values()[1:]"
   ]
  },
  {
   "cell_type": "code",
   "execution_count": 55,
   "metadata": {},
   "outputs": [
    {
     "data": {
      "text/plain": [
       "array([ 0,  1,  2,  3,  4,  5,  6,  7,  8,  9, 10, 11, 12, 13, 14, 15, 16,\n",
       "       17, 18, 19, 20, 21, 22, 23, 24, 25, 26, 27, 28, 29, 30, 31, 32, 33,\n",
       "       34, 35, 36, 37, 38, 39])"
      ]
     },
     "execution_count": 55,
     "metadata": {},
     "output_type": "execute_result"
    }
   ],
   "source": [
    "sample_df.columns.values"
   ]
  },
  {
   "cell_type": "markdown",
   "metadata": {},
   "source": [
    "### Implementing the factor machine algorithm \n",
    "\n",
    "Algorithm seeks to minimize \n",
    "\n",
    "$$L(w, x) = \\sum_{i=1}^N \\log(1 + \\exp(-y_i\\phi(w, x_i)) + \\lambda\\|w\\|^2$$\n",
    "\n",
    "Idea to parallelize using pyspark, so we need to re-write the gradient descient step. For simpliciity assume that $\\phi(w, x) = w^Tx$ (linear). \n",
    "\n",
    "#### Calculations\n",
    "\n",
    "$$\\frac{\\partial L}{\\partial w_k} =\\sum_{i=1}^N \\frac{-y_ix_{i,k}\\exp(-y_i w^Tx) }{1+\\exp(-y_i w^Tx_i} + \\lambda w_k$$\n",
    "\n",
    "This can be parallelized since each part of the sum depends on one data point. The gradient update is\n",
    "\n",
    "$$\\nabla L = \\sum_{i=1}^N y_i\\frac{u_i}{1+ u_i}x_i - \\lambda w$$, where $u_i = \\exp(-y_i w^Tx)$\n",
    "\n",
    "Assume that the RDD rows look like $(y, x_1, \\ldots, x_p)$ then in the first map step we compute the gradient\n",
    "\n",
    "$(x_1, x_2, \\ldots, x_p) \\times yu/(1+u)$ \n",
    "\n",
    "We then reduce this with a sum and subtract the $\\lambda w$ to get the new $w$"
   ]
  },
  {
   "cell_type": "markdown",
   "metadata": {},
   "source": [
    "#### Testing out algo"
   ]
  },
  {
   "cell_type": "code",
   "execution_count": 59,
   "metadata": {},
   "outputs": [],
   "source": [
    "reg_c = 1"
   ]
  },
  {
   "cell_type": "code",
   "execution_count": 64,
   "metadata": {},
   "outputs": [],
   "source": [
    "w = np.zeros((1,13), dtype=float)"
   ]
  },
  {
   "cell_type": "code",
   "execution_count": 65,
   "metadata": {},
   "outputs": [],
   "source": [
    "grad_1 = small_sample_rdd.map(convert_features).map(lambda x, w=w: compute_gradient(x, w)).sum() #x, y"
   ]
  },
  {
   "cell_type": "code",
   "execution_count": 66,
   "metadata": {},
   "outputs": [],
   "source": [
    "grad = grad_1 + reg_c*w"
   ]
  },
  {
   "cell_type": "code",
   "execution_count": 67,
   "metadata": {},
   "outputs": [],
   "source": [
    "w_new = w - learning_rate*grad"
   ]
  },
  {
   "cell_type": "code",
   "execution_count": 68,
   "metadata": {},
   "outputs": [
    {
     "data": {
      "text/plain": [
       "array([[-2.10000e+00, -3.31100e+02, -6.95000e+00, -7.35000e+00,\n",
       "        -4.44215e+03, -1.54000e+01, -1.58000e+01, -1.33000e+01,\n",
       "        -9.90500e+01, -7.50000e-01, -3.25000e+00, -5.00000e-02,\n",
       "        -4.55000e+00]])"
      ]
     },
     "execution_count": 68,
     "metadata": {},
     "output_type": "execute_result"
    }
   ],
   "source": [
    "w_new"
   ]
  },
  {
   "cell_type": "code",
   "execution_count": 89,
   "metadata": {},
   "outputs": [],
   "source": [
    "first_val = rdd.first()"
   ]
  },
  {
   "cell_type": "code",
   "execution_count": 145,
   "metadata": {},
   "outputs": [
    {
     "data": {
      "text/plain": [
       "(array([ 0.,  0., -1.,  0.,  0.,  0.,  0.,  0.,  0.,  0.,  0.,  0.,  0.,\n",
       "         0.]),\n",
       " array([1.00000e+00, 6.90000e+01, 1.94500e+03, 2.34000e+02, 4.20000e+01,\n",
       "        7.35072e+05, 8.61000e+02, 3.19000e+02, 4.90000e+01, 9.19000e+02,\n",
       "        3.00000e+00, 2.60000e+01, 1.00000e+00, 7.20000e+01]))"
      ]
     },
     "execution_count": 145,
     "metadata": {},
     "output_type": "execute_result"
    }
   ],
   "source": [
    "compute_ranges(rdd)"
   ]
  },
  {
   "cell_type": "code",
   "execution_count": 57,
   "metadata": {},
   "outputs": [],
   "source": [
    "def convert_features(x):\n",
    "    row = x.split('\\t')\n",
    "    row[0] = int(row[0])\n",
    "    for i in range(1, 14):\n",
    "        try:\n",
    "            row[i] = int(row[i])\n",
    "        except ValueError:\n",
    "            row[i] = 0\n",
    "#     for i in range(14, 14 + 26):\n",
    "#         try:\n",
    "#             row[i] = int(row[i], base=16)\n",
    "#         except ValueError:\n",
    "#             row[i] = 0\n",
    "    return row[:14]"
   ]
  },
  {
   "cell_type": "code",
   "execution_count": 101,
   "metadata": {},
   "outputs": [],
   "source": [
    "rdd = small_sample_rdd.map(convert_features)"
   ]
  },
  {
   "cell_type": "code",
   "execution_count": 104,
   "metadata": {},
   "outputs": [],
   "source": [
    "from pyspark import AccumulatorParam"
   ]
  },
  {
   "cell_type": "code",
   "execution_count": 105,
   "metadata": {},
   "outputs": [],
   "source": [
    "class FloatAccumParam(AccumulatorParam):\n",
    "    def zero(self, v=0.0):\n",
    "        return 0.0\n",
    "\n",
    "    def addInPlace(self, v1, v2):\n",
    "        return v1 + v2"
   ]
  },
  {
   "cell_type": "code",
   "execution_count": 126,
   "metadata": {},
   "outputs": [],
   "source": [
    "class FloatArrayParam(AccumulatorParam):\n",
    "    def zero(self, v):\n",
    "        return np.zeros(np.array(v).shape, dtype=float)\n",
    "\n",
    "    def addInPlace(self, v1, v2):\n",
    "        return np.array(v1) + np.array(v2)"
   ]
  },
  {
   "cell_type": "code",
   "execution_count": 120,
   "metadata": {},
   "outputs": [],
   "source": [
    "class FloatMinArrayParam(FloatArrayParam):\n",
    "    def addInPlace(self, v1, v2):\n",
    "        return np.array([min(x, y) for x, y in zip(v1, v2)])"
   ]
  },
  {
   "cell_type": "code",
   "execution_count": 121,
   "metadata": {},
   "outputs": [],
   "source": [
    "class FloatMaxArrayParam(FloatArrayParam):\n",
    "    def addInPlace(self, v1, v2):\n",
    "        return np.array([max(x, y) for x, y in zip(v1, v2)])"
   ]
  },
  {
   "cell_type": "code",
   "execution_count": 130,
   "metadata": {},
   "outputs": [],
   "source": [
    "ac = sc.accumulator([0.0, 0.3], FloatMinArrayParam())"
   ]
  },
  {
   "cell_type": "code",
   "execution_count": 132,
   "metadata": {},
   "outputs": [
    {
     "data": {
      "text/plain": [
       "Accumulator<id=5, value=[0.0, 0.3]>"
      ]
     },
     "execution_count": 132,
     "metadata": {},
     "output_type": "execute_result"
    }
   ],
   "source": [
    "ac"
   ]
  },
  {
   "cell_type": "code",
   "execution_count": 135,
   "metadata": {},
   "outputs": [],
   "source": [
    "ac += [-1,4]"
   ]
  },
  {
   "cell_type": "code",
   "execution_count": 136,
   "metadata": {},
   "outputs": [
    {
     "data": {
      "text/plain": [
       "Accumulator<id=5, value=[-1.   0.3]>"
      ]
     },
     "execution_count": 136,
     "metadata": {},
     "output_type": "execute_result"
    }
   ],
   "source": [
    "ac"
   ]
  },
  {
   "cell_type": "code",
   "execution_count": 139,
   "metadata": {},
   "outputs": [],
   "source": [
    "def update_accs(x, min_ac, max_ac):\n",
    "    min_ac += x\n",
    "    max_ac += x"
   ]
  },
  {
   "cell_type": "code",
   "execution_count": 144,
   "metadata": {},
   "outputs": [],
   "source": [
    "def compute_ranges(rdd):\n",
    "    first = rdd.first()\n",
    "    min_ac = sc.accumulator(first, FloatMinArrayParam())\n",
    "    max_ac = sc.accumulator(first, FloatMaxArrayParam())\n",
    "    rdd.foreach(lambda x: update_accs(x, min_ac, max_ac) )\n",
    "    return min_ac.value, max_ac.value"
   ]
  },
  {
   "cell_type": "code",
   "execution_count": 146,
   "metadata": {},
   "outputs": [],
   "source": [
    "def scale_feature(rdd):\n",
    "    min_v, max_v = compute_ranges(rdd)\n",
    "    return rdd.map(lambda x: (x - min_v)/(max_v - min_v))"
   ]
  },
  {
   "cell_type": "code",
   "execution_count": 156,
   "metadata": {},
   "outputs": [],
   "source": [
    "rdd_scaled = scale_feature(rdd)"
   ]
  },
  {
   "cell_type": "code",
   "execution_count": 147,
   "metadata": {},
   "outputs": [],
   "source": [
    "def compute_gradient(row, w):\n",
    "    y = row[0]\n",
    "    x = np.array(row[1:])\n",
    "    u = np.exp(-y * np.dot(w, x))\n",
    "    return y*u/(1+u)*x"
   ]
  },
  {
   "cell_type": "code",
   "execution_count": 152,
   "metadata": {},
   "outputs": [],
   "source": [
    "def run_logistic_regression(rdd, niters=10, learning_rate=0.1, reg_c=1):\n",
    "    first = rdd.first()\n",
    "    p = len(first) - 1\n",
    "    w = np.zeros((1,p), dtype=float)\n",
    "    for i in range(niters):\n",
    "        grad_1 = rdd.map(lambda x, w=w: compute_gradient(x, w)).sum()\n",
    "        grad = grad_1 + reg_c*w\n",
    "        print(grad)\n",
    "        w = w - learning_rate*grad\n",
    "        print(w)\n",
    "        \n",
    "    return w"
   ]
  },
  {
   "cell_type": "code",
   "execution_count": 157,
   "metadata": {},
   "outputs": [
    {
     "name": "stdout",
     "output_type": "stream",
     "text": [
      "[[0.30434783 1.70760534 0.29700855 1.75       0.0604315  0.17886179\n",
      "  0.49529781 2.71428571 1.07780196 2.5        1.25       0.5\n",
      "  0.63194444]]\n",
      "[[-0.03043478 -0.17076053 -0.02970085 -0.175      -0.00604315 -0.01788618\n",
      "  -0.04952978 -0.27142857 -0.1077802  -0.25       -0.125      -0.05\n",
      "  -0.06319444]]\n",
      "[[0.31941127 1.78065843 0.30726083 1.83036917 0.05714643 0.17382879\n",
      "  0.48644136 2.91294916 1.11588095 2.60184128 1.26529027 0.51844958\n",
      "  0.63483226]]\n",
      "[[-0.06237591 -0.34882638 -0.06042694 -0.35803692 -0.01175779 -0.03526906\n",
      "  -0.09817392 -0.56272349 -0.21936829 -0.51018413 -0.25152903 -0.10184496\n",
      "  -0.12667767]]\n",
      "[[0.33188613 1.83356972 0.31540403 1.89831391 0.05427092 0.16942918\n",
      "  0.47816313 3.06970871 1.14592857 2.68158618 1.2762797  0.53563478\n",
      "  0.63823012]]\n",
      "[[-0.09556452 -0.53218335 -0.09196734 -0.54786831 -0.01718488 -0.05221198\n",
      "  -0.14599023 -0.86969436 -0.33396115 -0.77834275 -0.379157   -0.15540844\n",
      "  -0.19050068]]\n",
      "[[0.33869108 1.84907175 0.31856054 1.93687553 0.05169727 0.16500132\n",
      "  0.46826727 3.14825272 1.15803762 2.7156409  1.27411784 0.54813636\n",
      "  0.63887314]]\n",
      "[[-0.12943363 -0.71709052 -0.12382339 -0.74155586 -0.02235461 -0.06871211\n",
      "  -0.19281696 -1.18451963 -0.44976491 -1.04990684 -0.50656878 -0.21022207\n",
      "  -0.254388  ]]\n",
      "[[0.33840349 1.82525431 0.31547875 1.93632333 0.04930788 0.15995759\n",
      "  0.45535157 3.13899207 1.14801373 2.69636578 1.25439789 0.55285056\n",
      "  0.63399783]]\n",
      "[[-0.16327398 -0.89961595 -0.15537127 -0.93518819 -0.0272854  -0.08470787\n",
      "  -0.23835211 -1.49841884 -0.56456628 -1.31954341 -0.63200857 -0.26550713\n",
      "  -0.31778778]]\n",
      "[[0.33142421 1.77053791 0.30670545 1.89714388 0.04700556 0.15397437\n",
      "  0.43911242 3.0555598  1.11756205 2.63008783 1.21769509 0.5481636\n",
      "  0.62227679]]\n",
      "[[-0.1964164  -1.07666975 -0.18604181 -1.12490258 -0.03198595 -0.1001053\n",
      "  -0.28226336 -1.80397482 -0.67632249 -1.5825522  -0.75377808 -0.32032349\n",
      "  -0.38001546]]\n",
      "[[0.31919116 1.6952287  0.29372024 1.82694636 0.04473025 0.1470322\n",
      "  0.42003562 2.92035268 1.07148756 2.5288655  1.16751028 0.53432649\n",
      "  0.60389009]]\n",
      "[[-0.22833552 -1.24619262 -0.21541384 -1.30759722 -0.03645898 -0.11480852\n",
      "  -0.32426692 -2.09601009 -0.78347124 -1.83543875 -0.87052911 -0.37375614\n",
      "  -0.44040447]]\n",
      "[[0.30337148 1.60756861 0.27808181 1.73554628 0.04245685 0.13932147\n",
      "  0.39893287 2.75415358 1.01509124 2.4046196  1.10810727 0.5129452\n",
      "  0.57997803]]\n",
      "[[-0.25867267 -1.40694948 -0.24322202 -1.48115185 -0.04070466 -0.12874067\n",
      "  -0.3641602  -2.37142544 -0.88498037 -2.07590071 -0.98133983 -0.42505066\n",
      "  -0.49840227]]\n",
      "[[0.28542731 1.51334933 0.26104325 1.63178116 0.04018393 0.13111772\n",
      "  0.37662962 2.57262515 0.95289219 2.26697949 1.04332419 0.48617789\n",
      "  0.55203595]]\n",
      "[[-0.2872154  -1.55828441 -0.26932634 -1.64432996 -0.04472306 -0.14185244\n",
      "  -0.40182317 -2.62868796 -0.98026958 -2.30259866 -1.08567225 -0.47366845\n",
      "  -0.55360587]]\n",
      "[[0.26648315 1.41653866 0.24349708 1.52241135 0.03792272 0.12269332\n",
      "  0.35382734 2.38644837 0.88830104 2.12308178 0.97618119 0.45612307\n",
      "  0.52152082]]\n",
      "[[-0.31386371 -1.69993827 -0.29367605 -1.7965711  -0.04851533 -0.15412177\n",
      "  -0.4372059  -2.8673328  -1.06909969 -2.51490683 -1.18329037 -0.51928075\n",
      "  -0.60575795]]\n"
     ]
    }
   ],
   "source": [
    "w_tes = run_logistic_regression(rdd_scaled, niters=10)"
   ]
  }
 ],
 "metadata": {
  "kernelspec": {
   "display_name": "Python 3",
   "language": "python",
   "name": "python3"
  },
  "language_info": {
   "codemirror_mode": {
    "name": "ipython",
    "version": 3
   },
   "file_extension": ".py",
   "mimetype": "text/x-python",
   "name": "python",
   "nbconvert_exporter": "python",
   "pygments_lexer": "ipython3",
   "version": "3.6.8"
  }
 },
 "nbformat": 4,
 "nbformat_minor": 4
}
