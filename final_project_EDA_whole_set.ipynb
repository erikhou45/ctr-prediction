{
 "cells": [
  {
   "cell_type": "markdown",
   "metadata": {},
   "source": [
    "# w261 Final Project - Clickthrough Rate Prediction\n"
   ]
  },
  {
   "cell_type": "markdown",
   "metadata": {},
   "source": [
    "[Team 15]   \n",
    "[Anu Yadav, Connor Stern, Erik Hou, Noah Pflaum]   \n",
    "Summer 2019, section [Hou, Stern, Yadav: Section 3; Pflaum: Section 5]   "
   ]
  },
  {
   "cell_type": "markdown",
   "metadata": {},
   "source": [
    "## Table of Contents\n",
    "\n",
    "* __Section 1__ - Question Formulation\n",
    "* __Section 2__ - Algorithm Explanation\n",
    "* __Section 3__ - EDA & Challenges\n",
    "* __Section 4__ - Algorithm Implementation\n",
    "* __Section 5__ - Course Concepts"
   ]
  },
  {
   "cell_type": "code",
   "execution_count": 1,
   "metadata": {},
   "outputs": [],
   "source": [
    "from pyspark.sql import types\n",
    "from pyspark.sql import SQLContext\n",
    "from pyspark.sql.functions import isnan\n",
    "from pyspark.sql import functions as F\n",
    "from pyspark.sql import SparkSession\n",
    "import numpy as np\n",
    "import matplotlib.pyplot as plt\n",
    "\n",
    "from pyspark.ml.feature import FeatureHasher\n",
    "from pyspark.ml.classification import LogisticRegression"
   ]
  },
  {
   "cell_type": "code",
   "execution_count": 3,
   "metadata": {},
   "outputs": [],
   "source": [
    "# Set the variable to True if running spark locally, to False if running this notebook using week 08 environment\n",
    "local = False"
   ]
  },
  {
   "cell_type": "code",
   "execution_count": 4,
   "metadata": {},
   "outputs": [],
   "source": [
    "\n",
    "if local:\n",
    "    # run if using local\n",
    "    app_name = \"final_project\"\n",
    "    master = \"local[*]\"\n",
    "    spark = SparkSession\\\n",
    "            .builder\\\n",
    "            .appName(app_name)\\\n",
    "            .master(master)\\\n",
    "            .getOrCreate()\n",
    "    # get the working directory\n",
    "    PWD = !pwd\n",
    "    PWD = PWD[0]\n",
    "    \n",
    "else:\n",
    "    # run if using wk08 environment\n",
    "    sqlContext = SQLContext(sc)\n",
    "    \n",
    "sc = spark.sparkContext"
   ]
  },
  {
   "cell_type": "code",
   "execution_count": null,
   "metadata": {},
   "outputs": [],
   "source": [
    "sc.getConf().getAll()"
   ]
  },
  {
   "cell_type": "markdown",
   "metadata": {},
   "source": [
    "# __Section 1__ - Question Formulation"
   ]
  },
  {
   "cell_type": "markdown",
   "metadata": {},
   "source": [
    "The goal of our analysis is to predict the clickthrough rate in online advertising. In online advertising platforms, advertisers publihs ads to websites where potential customers can view and click on them. For example, Nike as an advertiser might post an ad for running shoes on the ESPN.com website or in a google search for shoes. The position of the ad, the audience and the time that the ad is displayed may all significantly influence a user decision to click on it. \n",
    "\n",
    "Since several billions of ads are posted online each day, there is a vast amount of user log data that is collected showing the ad placement and whether or not a user clicked on an ad. \n",
    "\n",
    "The goal is to build a model that can predict given the features of the ad whether or not a user will click on the ad. \n",
    "\n",
    "A baseline for any model would be to measure the average click-through rate (CTR, percent of ads clicked). We also focus on __log-loss__ as a measure of the performance of the model since it provides better calibrated probabilities. To be practically useful we would want a prediction accuracy that is higher than the baseline, which we get currently with no model. "
   ]
  },
  {
   "cell_type": "markdown",
   "metadata": {},
   "source": [
    "In this project, we seek to build a Field-Aware Factorization Machine (FFM) model for CTR prediction, inspired by Juan, Zhuang, Chin, & Lin (paper reference), who were able to win multiple CTR-prediction competitions with such a model. \n",
    "\n",
    "While their approach to the problem makes use of a custom library that they wrote called LibFFM we wanted to explore how tis algorithm might be implemented using the techniques we learned in this class, such as pyspark and distributed computing using map/reduce patterns. The paper outlines an approach using the Hogwild algorithm that allows for concurrent updates to a sparse matrix of model coefficients which eliminates some of the issues with the communication and synchronization barriers that exist in using stochastic gradient descent. We do not expect our algorithm to be as performant as a customized C++ implmentation, instead we highlight the application of the ideas learned in this class to creating predicitve models for big data."
   ]
  },
  {
   "cell_type": "markdown",
   "metadata": {},
   "source": [
    "# __Section 2__ - Algorithm Explanation"
   ]
  },
  {
   "cell_type": "markdown",
   "metadata": {},
   "source": [
    "Because an online advertisement can either be clicked ($response = 1$) or not ($response = 0$) , Click-Through-Rate (CTR) Prediction is generally treated as a logistic regression problem. For any set of features, we calculate some value $s$, and perform the logit transformation to yield our CTR prediction:\n",
    "$$CTR = \\frac{1}{1+e^{-s}} $$\n",
    "\n",
    "There are several methods we can use to estimate $s$, each with its own benefits and drawbacks. Typical implementations include a linear model, a degree-2 polynomial mapping, a factorization machine, and a field-aware factorization machine. \n",
    "\n",
    "We will consider an example with the following dataset as we discuss the different methods of estimating $s$:\n",
    "\n",
    "<table>\n",
    "<th>Response</th>\n",
    "<th>Publisher</th>\n",
    "<th>Advertiser</th>\n",
    "<th>Gender</th>\n",
    "<tr><td>1</td><td>Netflix</td><td>Pepsi</td><td>Male</td></tr>\n",
    "<tr><td>0</td><td>Spotify</td><td>Pepsi</td><td>Male</td></tr>\n",
    "<tr><td>0</td><td>Facebook</td><td>Gatorade</td><td>Female</td></tr>\n",
    "<tr><td>1</td><td>Spotify</td><td>Coca-cola</td><td>Male</td></tr>\n",
    "<tr><td>1</td><td>Facebook</td><td>Coca-cola</td><td>Female</td></tr>\n",
    "<tr><td>0</td><td>Facebook</td><td>Pepsi</td><td>Female</td></tr>\n",
    "<tr><td>1</td><td>Netflix</td><td>Gatorade</td><td>Female</td></tr>\n",
    "</table>\n",
    "\n",
    "In this dataset, we refer to the categories Publisher, Advertiser, and Gender as \"fields\" and the labels within each field (Netflix, Spotify, Facebook, Pepsi, Gatorade, Coca-cola, Male, Female) as \"features.\"\n",
    "\n",
    "#### Linear Model\n",
    "In a linear model, the algorithm learns a weight for every given feature. The formulation of the model is:\n",
    "$$s = \\phi(\\textbf{w},\\textbf{x}) =\\textbf{w}^T \\textbf{x}  =\\sum_{j \\epsilon C_1}w_jx_j$$\n",
    "where $\\textbf{w}$ is the learned model, $\\textbf{x}$ is the data observation, and $C_1$ is the non-zero elements in $\\textbf{x}$. \n",
    "\n",
    "In our toy example, our model would learn different weights for the different Publishers (Netflix, Spotify, and Pepsi), Advertisers (Pepsi, Gatorade, and Coca-cola), and Genders (Male, Female). The value $s$ would then be calculated for each impression using these different weights. Thus, for each impression we would have have:\n",
    "\n",
    "$$\n",
    "\\begin{aligned}\n",
    "s =& w_{Netflix}\\cdot x_{Netflix} + w_{Spotify}\\cdot x_{Spotify} + w_{Facebook}\\cdot x_{Facebook} \\\\\n",
    "&+ w_{Coca-cola}\\cdot x_{Coca-cola} + w_{Pepsi}\\cdot x_{Pepsi} + w_{Gatorade}\\cdot x_{Gatorade} \\\\\n",
    "&+ + w_{Male}\\cdot x_{Male} + w_{Female}\\cdot x_{Female}\n",
    "\\end{aligned}\n",
    "$$\n",
    "\n",
    "For our first impression of the dataset (Netflix, Pepsi, Male) this becomes:\n",
    "$$s = w_{Netflix} + w_{Coca-cola} + w_{Male}$$\n",
    "since $x_j = 1$ for Netflix, Pepsi, and Male while $x_j = 0$ for all other features. \n",
    "\n",
    "\n",
    "This model is simple and efficient, yet it does not allow for interactive effects between features. For example, Coca-cola may have a higher CTR with Netflix than another publisher. A linear model is unable to learn this type of information, as it essentially learns the \"average effect\" of each feature.\n",
    "\n",
    "#### Degree-2 Polynomial Mapping\n",
    "The simplest way to learn the effect of the \"feature conjunction\" described above (in the case where a particular advertiser may have a higher CTR with one publisher compared to others) is to use a degree-2 polynomial mapping. In this model, the algorithm learns an additional weight for each feature pair. The formulation of the model is:\n",
    "$$s = \\phi(\\textbf{w},\\textbf{x}) = \\sum_{j_1, j_2 \\epsilon C_2} w_{j_1,j_2} \\cdot x_{j_1}x_{j_2}$$\n",
    "where $C_2$ is the pairwise combination of non-zero elements in $\\textbf{x}$.\n",
    "\n",
    "\n",
    "Returning to our example dataset and the impression with the features Netflix, Pepsi, and Male the model would be:\n",
    "$$s = w_{Netflix} + w_{Pepsi} + w_{Male} + w_{Netflix,Pepsi} + w_{Netflix,Male} + w_{Pepsi,Male}$$\n",
    "\n",
    "While this model improves on the linear model by allowing us to account for interactions between features, it does not handle sparse datasets well. Since we have 0 impressions of the advertiser Gatorade with the publisher Spotify, the model prediction will be trivial as no weight was learned for this feature combination. The model is also susceptible to overfitting, as it generates unreliable predictions for feature combinations with a very small number of impressions.\n",
    "\n",
    "#### Factorization Machine\n",
    "Factorization Machines (FM) begin to provide us a solution to the problem of sparse datasets. Here the model learns a latent vector, rather than an explicit weight, for each feature. The model formulation is:\n",
    "$$s = \\phi(\\textbf{w},\\textbf{x}) = \\sum_{j_1, j_2 \\epsilon C_2} \\langle \\textbf{w}_{j_1}, \\textbf{w}_{j_2} \\rangle x_{j_1}x_{j_2}$$\n",
    "where $\\textbf{w}_{j_1}$ and $\\textbf{w}_{j_2}$ are two learned latent vectors of length $k$ (some user-defined parameter).\n",
    "\n",
    "Returning to our example of an impression with the features of Netflix, Pepsi, and Male, the FM model would be:\n",
    "$$s = w_{Netflix} \\cdot w_{Pepsi} + w_{Netflix} \\cdot w_{Male} + w_{Pepsi} \\cdot w_{Male}$$\n",
    "where $w_{Netflix}, w_{Pepsi}, w_{Male} \\epsilon {\\rm I\\!R}^k$.\n",
    "\n",
    "This allows the model to learn the latent vectors for each feature based on all the data points for that feature, and these latent vectors can be used to predict the CTR for unobserved feature combinations (such as Spotify and Gatorade, as previously mentioned), something the degree-2 polynomial mapping method did not allow us to do.\n",
    "\n",
    "We notice in our example above, however, that the latent vector $w_{Netflix}$ is used twice: once to calculate the latent effect of the Publisher Netflix with the Advertiser Pepsi ($w_{Netflix} \\cdot w_{Pepsi}$), and once to calculate the latent effect of the Publisher Netflix with the Gender Male ($w_{Netflix} \\cdot w_{Male}$). Yet the latent effect for publisher with advertiser could be very different from the latent effect for publisher with gender, and as such the Factorization Machine model is too restrictive and unrealistic.\n",
    "\n",
    "\n",
    "#### Field-Aware Factorization Machine\n",
    "Field-Aware Factorization Machines (FFM) provide a solution to this problem by introducing the flexibility to learn multiple latent vectors for each feature. In the context of the above example, the FFM model will learn two separate latent vectors for Netflix: $w_{Netflix, A}$, which will be used for the calculation of $P \\times A$ (to learn the latent effect of Netflix with a given advertiser), and $w_{Netflix, G}$. $w_{Netflix, A}$, for the calculation of $P \\times G$ (to learn the latent effect of Netflix with a given gender).\n",
    "\n",
    "Specifically, the FFM model formulation with the (Netflix, Pepsi, Male) impression gives us:\n",
    "\n",
    "$$s = w_{Netflix, A} \\cdot w_{Pepsi, P} + w_{Netflix, G} \\cdot w_{Male, P} + w_{Pepsi, G} \\cdot w_{Male, A}$$\n",
    "\n",
    "Now, the latent effect of (Netflix, Pepsi), is learned by using the latent vector $w_{Netflix, A}$, since Pepsi belongs to the advertiser field (A). The latent effect of (Netflix, Male), by contrast, is learned using a different latent vector, $w_{Netflix, G}$, since Male belongs to the gender field (G). In this way, FFM splits the latent factors for $P \\times A$ and $P \\times G$, something the traditional Factorization Machine is unable to do. \n",
    "\n",
    "The full model formulation for a Field-Aware Factorization Machine is:\n",
    "$$s = \\phi(\\textbf{w},\\textbf{x}) = \\sum_{j_1, j_2 \\epsilon C_2} \\langle \\textbf{w}_{j_1, f_2}, \\textbf{w}_{j_2, f_1} \\rangle x_{j_1}x_{j_2}$$\n",
    "\n",
    "where $f_1$ and $f_2$ are the fields of $j_1$ and $j_2$, respectively. \n",
    "#### Optimization\n",
    "\n",
    "As part of a logistic regression problem, the goal is to find the set of parameters that minimize the log-loss function, defined by:\n",
    "\n",
    "$$ LogLoss = - \\frac{1}{n} \\sum_{i=1}^n [y_i \\cdot log_e(\\hat{y_i}) + (1-y_i) \\cdot log_e(1-\\hat{y_i})] $$\n",
    "\n",
    "\n",
    "where $n$ is the number of impressions, $y_i$ is the true CTR of impression $i$, and $\\hat{y_i}$ is the predicted CTR of impression $i$, $\\frac{1}{1+e^{-s_i}}$.\n",
    "\n",
    "For a given impression $x_i$, we have two cases:\n",
    "* If $y-i = 1$:\n",
    "$$\n",
    "\\begin{aligned}\n",
    "loss &= -log_e(\\hat{y_i}) \\\\\n",
    "&= -log_e \\left( \\frac{1}{1+e^{-s}} \\right) \\\\\n",
    "&= log_e (1+e^{-s})\n",
    "\\end{aligned}\n",
    "$$\n",
    "\n",
    "* If $y_i = 0$:\n",
    "$$\n",
    "\\begin{aligned}\n",
    "loss &= -log_e(1-\\hat{y_i}) \\\\\n",
    "&= -log_e \\left( 1 - \\frac{1}{1+e^{-s}} \\right)\\\\\n",
    "&= -log_e \\left( \\frac{1 + e^{-s} - 1}{1+e^{-s}} \\right) \\\\\n",
    "&= -log_e \\left( \\frac{e^-s}{1+e^{-s}} \\right) \\\\\n",
    "&= -log_e \\left( \\frac{1}{1+e^{s}} \\right) \\\\\n",
    "&= log_e(1+e^{s})\n",
    "\\end{aligned}\n",
    "$$\n",
    "\n",
    "As such, the loss for impression $x_i$ can be written as:\n",
    "$$log(1+exp(-\\bar{y_i}\\cdot s_i)$$\n",
    "where \n",
    "$$\\bar{y_i} = \n",
    "\\begin{cases}\n",
    "    1,\\ if\\ y_i=1\\\\\n",
    "    -1,\\ if\\ y_i=0\\\\\n",
    "\\end{cases}$$\n",
    "\n",
    "Therefore, we can rewrite the log-loss function as:\n",
    "$$ Loss = \\frac{1}{n} \\sum_{i=1}^n log(1+exp(-\\bar{y_i}\\cdot s_i))$$\n",
    "where \n",
    "$\\bar{y_i} = \n",
    "\\begin{cases}\n",
    "    1,\\ if\\ y_i=1\\\\\n",
    "    -1,\\ if\\ y_i=0\\\\\n",
    "\\end{cases}$\n",
    "\n",
    "\n",
    "and $s = \\phi(\\textbf{w},\\textbf{x}_i) = \\sum_{j_1, j_2 \\epsilon C_2} \\langle \\textbf{w}_{j_1, f_2}, \\textbf{w}_{j_2, f_1} \\rangle x_{j_1}x_{j_2}$\n",
    "\n",
    "\n",
    "Introducing regularization, the optimization problem we have is:\n",
    "\n",
    "$$ \\min_{\\textbf{w}} \\sum_{i=1}^m \\left( log(1+exp(-\\bar{y_i}\\phi(\\textbf{w},\\textbf{x}_i)) + \\frac{\\lambda}{2}\\|\\textbf{w}\\|^2 \\right)$$\n",
    "\n",
    "$m$ is the number of impressions, and  $\\lambda$ is our regularization parameter.\n",
    "\n",
    "We solve this optimization problem using gradient descent methods.\n"
   ]
  },
  {
   "cell_type": "markdown",
   "metadata": {},
   "source": [
    "#### Toy example: FFM in action\n",
    "\n",
    "We will now walk through an entire iteration of the FFM algorithm to learn a CTR prediction model.\n",
    "For our work here, we will utilize a hashed representation of our dataset. In this representation, each field is represented by the first integer in the hash, and the feature within that field is represented by the second integer. The Publisher field is represented by the integer 1, the Advertiser field by the integer 2, and the Gender field by the integer 3. Within the Publisher field, Netflix is represented by the integer 1, Spotify by 2, and Facebook by 3. Within the Advertiser field, Pepsi is represented by the integer 1, Gatorade by 2, and Coca-cola by 3. Within the Gender field, Male is represented by 1 and Female by 2. Using this hash representation, our first impression of (Netflix, Pepsi, Male) has the features 1:1, 2:1, 3:1.\n",
    "The full hashed representation of our dataset is shown below:\n",
    "\n",
    "<table>\n",
    "<th>Impression</th>\n",
    "<th>Response</th>\n",
    "<th>Features</th>\n",
    "<tr><td>1</td><td>1</td><td>1:1, 2:1, 3:1</td></tr>\n",
    "<tr><td>2</td><td>1</td><td>1:2, 2:1, 3:1</td></tr>\n",
    "<tr><td>3</td><td>0</td><td>1:3, 2:2, 3:2</td></tr>\n",
    "<tr><td>4</td><td>0</td><td>1:2, 2:3, 3:1</td></tr>\n",
    "<tr><td>5</td><td>1</td><td>1:3, 2:3, 3:2</td></tr>\n",
    "<tr><td>6</td><td>0</td><td>1:3, 2:1, 3:2</td></tr>\n",
    "<tr><td>7</td><td>1</td><td>1:1, 2:2, 3:2</td></tr>\n",
    "<table>"
   ]
  },
  {
   "cell_type": "code",
   "execution_count": 57,
   "metadata": {},
   "outputs": [
    {
     "name": "stdout",
     "output_type": "stream",
     "text": [
      "Overwriting data/toy_set.txt\n"
     ]
    }
   ],
   "source": [
    "%%writefile data/toy_set.txt\n",
    "1\t1\t1\t1\t1\n",
    "2\t1\t2\t1\t1\n",
    "3\t0\t3\t2\t2\n",
    "4\t0\t2\t3\t1\n",
    "5\t1\t3\t3\t2\n",
    "6\t0\t3\t1\t2\n",
    "7\t1\t1\t2\t2"
   ]
  },
  {
   "cell_type": "code",
   "execution_count": 58,
   "metadata": {},
   "outputs": [],
   "source": [
    "toyRDD = sc.textFile('data/toy_set.txt')"
   ]
  },
  {
   "cell_type": "markdown",
   "metadata": {},
   "source": [
    "__1)__ We define k (the length of our latent vectors) to be 3.\n",
    "\n",
    "__2)__ We randomly initialize our latent vectors $\\textbf{w}$. For the Publisher field, each feature will have two different latent vectors (represented by columns below)--one corresponding to Advertiser (A), and one corresponding to Gender (G):"
   ]
  },
  {
   "cell_type": "code",
   "execution_count": 34,
   "metadata": {},
   "outputs": [
    {
     "data": {
      "text/plain": [
       "array([[ 0.9, -0.2, -0.2],\n",
       "       [-0.6, -0. , -0.3],\n",
       "       [-0.1, -0.5, -1.2],\n",
       "       [-1.1,  0.2,  1.2],\n",
       "       [ 1.4, -0.7,  0.7],\n",
       "       [ 0. ,  0.8,  0.1]])"
      ]
     },
     "execution_count": 34,
     "metadata": {},
     "output_type": "execute_result"
    }
   ],
   "source": [
    "W_P = np.random.uniform(-1.7,1.7, size=(6,3)).round(1)\n",
    "W_P"
   ]
  },
  {
   "cell_type": "markdown",
   "metadata": {},
   "source": [
    "<table>\n",
    "<th>$\\textbf{w}_{Netflix,A}$</th>\n",
    "<th>$\\textbf{w}_{Netflix,G}$</th>\n",
    "<th>$\\textbf{w}_{Spotify,A}$</th>\n",
    "<th>$\\textbf{w}_{Spotify,G}$</th>\n",
    "<th>$\\textbf{w}_{Facebook,A}$</th>\n",
    "<th>$\\textbf{w}_{Facebook,G}$</th>\n",
    "<tr><td>0.9</td><td>-0.6</td><td>-0.1</td><td>-1.1</td><td>1.4</td><td>0</td></tr>\n",
    "<tr><td>-0.2</td><td>0</td><td>-0.5</td><td>0.2</td><td>-0.7</td><td>0.8</td></tr>\n",
    "<tr><td>-0.2</td><td>-0.3</td><td>-1.2</td><td>1.2</td><td>0.7</td><td>0.1</td></tr>\n",
    "<table>\n",
    "The Advertiser field will similarly have two different latent vectors for each feature--one for Publisher (P), and one for Gender (G):"
   ]
  },
  {
   "cell_type": "code",
   "execution_count": 35,
   "metadata": {},
   "outputs": [
    {
     "data": {
      "text/plain": [
       "array([[ 1. , -0.3, -0.1],\n",
       "       [-0.4, -1. , -0. ],\n",
       "       [-0.2, -1. , -1.7],\n",
       "       [ 0.7, -0.3, -1.1],\n",
       "       [ 0.1,  1.3, -0.2],\n",
       "       [ 0.5,  0.2,  0.5]])"
      ]
     },
     "execution_count": 35,
     "metadata": {},
     "output_type": "execute_result"
    }
   ],
   "source": [
    "W_A = np.random.uniform(-1.7,1.7, size=(6,3)).round(1)\n",
    "W_A"
   ]
  },
  {
   "cell_type": "markdown",
   "metadata": {},
   "source": [
    "<table>\n",
    "<th>$\\textbf{w}_{Pepsi,P}$</th>\n",
    "<th>$\\textbf{w}_{Pepsi,G}$</th>\n",
    "<th>$\\textbf{w}_{Gatorade,P}$</th>\n",
    "<th>$\\textbf{w}_{Gatorade,G}$</th>\n",
    "<th>$\\textbf{w}_{Coca-cola,P}$</th>\n",
    "<th>$\\textbf{w}_{Coca-cola,G}$</th>\n",
    "<tr><td>1</td><td>-0.4</td><td>-0.2</td><td>0.7</td><td>0.1</td><td>0.5</td></tr>\n",
    "<tr><td>-0.3</td><td>-1</td><td>-1</td><td>-0.3</td><td>-1.3</td><td>0.2</td></tr>\n",
    "<tr><td>-0.1</td><td>0</td><td>-1.7</td><td>-1.1</td><td>-0.2</td><td>0.5</td></tr>\n",
    "<table>\n",
    "\n",
    "The Gender field will also have two different latent vectors per feature (one for Publisher (P), one for Advertiser (A)): "
   ]
  },
  {
   "cell_type": "code",
   "execution_count": 36,
   "metadata": {},
   "outputs": [
    {
     "data": {
      "text/plain": [
       "array([[-0.4,  0.8,  1.5],\n",
       "       [-0.9,  1.3, -1. ],\n",
       "       [ 0.8, -1.5,  0.3],\n",
       "       [ 0.4,  0.7,  0.5]])"
      ]
     },
     "execution_count": 36,
     "metadata": {},
     "output_type": "execute_result"
    }
   ],
   "source": [
    "W_G = np.random.uniform(-1.7,1.7, size=(4,3)).round(1)\n",
    "W_G"
   ]
  },
  {
   "cell_type": "markdown",
   "metadata": {},
   "source": [
    "<table>\n",
    "<th>$\\textbf{w}_{Male,P}$</th>\n",
    "<th>$\\textbf{w}_{Male,A}$</th>\n",
    "<th>$\\textbf{w}_{Female,P}$</th>\n",
    "<th>$\\textbf{w}_{Female,A}$</th>\n",
    "<tr><td>-0.4</td><td>-0.9</td><td>0.8</td><td>0.4</td></tr>\n",
    "<tr><td>0.8</td><td>1.3</td><td>-1.5</td><td>0.7</td></tr>\n",
    "<tr><td>1.5</td><td>-1</td><td>0.3</td><td>0.5</td></tr>\n",
    "<table>"
   ]
  },
  {
   "cell_type": "markdown",
   "metadata": {},
   "source": [
    "__3)__ We calculate $s$ for each impression using these weight vectors.\n",
    "\n",
    "For each impression, we would use the formula\n",
    "$$s = \\phi(\\textbf{w},\\textbf{x}) = \\sum_{j_1, j_2 \\epsilon C_2} \\langle \\textbf{w}_{j_1, f_2}, \\textbf{w}_{j_2, f_1} \\rangle x_{j_1}x_{j_2}$$    \n",
    "to generate our value of $s$. Fully expanded, this would be:\n",
    "    \n",
    "$$\n",
    "\\begin{aligned}\n",
    "s =& \\langle\\textbf{w}_{Netflix,A} \\cdot \\textbf{w}_{Pepsi,P}\\rangle x_{Netflix}x_{Pepsi} + \\langle\\textbf{w}_{Netflix,A} \\cdot \\textbf{w}_{Coca-cola,P}\\rangle x_{Netflix}x_{Coca-cola} + \\langle\\textbf{w}_{Netflix,A} \\cdot \\textbf{w}_{Gatorade,P}\\rangle x_{Netflix}x_{Gatorade} \\\\\n",
    "&+ \\langle\\textbf{w}_{Netflix,G} \\cdot \\textbf{w}_{Male,P}\\rangle x_{Netflix}x_{Male} + \\langle\\textbf{w}_{Netflix,G} \\cdot \\textbf{w}_{Female,P}\\rangle x_{Netflix}x_{Female} + \\langle\\textbf{w}_{Spotify,A} \\cdot \\textbf{w}_{Pepsi,P}\\rangle x_{Spotify}x_{Pepsi} \\\\\n",
    "&+ \\langle\\textbf{w}_{Spotify,A} \\cdot \\textbf{w}_{Coca-cola,P}\\rangle x_{Spotify}x_{Coca-cola} + \\langle\\textbf{w}_{Spotify,A} \\cdot \\textbf{w}_{Gatorade,P}\\rangle x_{Spotify}x_{Gatorade} + \\langle\\textbf{w}_{Spotify,G} \\cdot \\textbf{w}_{Male,P}\\rangle x_{Spotify}x_{Male} \\\\\n",
    "&+ \\langle\\textbf{w}_{Spotify,G} \\cdot \\textbf{w}_{Female,P}\\rangle x_{Spotify}x_{Female} + \\langle\\textbf{w}_{Facebook,A} \\cdot \\textbf{w}_{Pepsi,P}\\rangle x_{Facebook}x_{Pepsi} + \\langle\\textbf{w}_{Facebook,A} \\cdot \\textbf{w}_{Coca-cola,P}\\rangle x_{Facebook}x_{Coca-cola} \\\\\n",
    "&+ \\langle\\textbf{w}_{Facebook,A} \\cdot \\textbf{w}_{Gatorade,P}\\rangle x_{Facebook}x_{Gatorade} + \\langle\\textbf{w}_{Facebook,G} \\cdot \\textbf{w}_{Male,P}\\rangle x_{Facebook}x_{Male} + \\langle\\textbf{w}_{Facebook,G} \\cdot \\textbf{w}_{Female,P}\\rangle x_{Facebook}x_{Female} \n",
    "\\end{aligned}\n",
    "$$\n",
    "\n",
    "For each impression, we are only concerned with the terms containing the features represented in the impression, since these $x$ values are equal to one, while all other terms become zero.\n",
    "    \n",
    "Our first impression (Netflix, Pepsi, Male) would therefore give us:\n",
    "$$\n",
    "\\begin{aligned}\n",
    "s &= \\langle\\textbf{w}_{Netflix,A} \\cdot \\textbf{w}_{Pepsi,P}\\rangle + \\langle\\textbf{w}_{Netflix,G} \\cdot \\textbf{w}_{Male,P}\\rangle + \\langle\\textbf{w}_{Pepsi,G} \\cdot \\textbf{w}_{Male,A}\\rangle\\\\\n",
    "&= (0.9*1 + -0.2*-0.3 + -0.2*-0.1) + (-0.6*-0.4 + 0*0.8 + -0.3*1.5) + (-0.4*-0.9 + -1*1.3 + 0*-1)  \\\\\n",
    "&= 0.98 + -0.21 + -0.94 \\\\\n",
    "&= -0.17\n",
    "\\end{aligned}\n",
    "$$\n",
    "\n",
    "\n",
    "Plugging this value into the logit transformation, we get a predicted CTR of:\n",
    "$$\\frac{1}{1+e^{-s}} = \\frac{1}{1+e^{0.17}} \\approx 0.46$$\n",
    "    \n",
    "Since this value is closer to 0 than 1, we would ultimately predict a non-click (incorrectly). However, this predicted value is vital for our log-loss calculation, which we will see momentarily.\n",
    "\n",
    "Below we calculate the value of $s$ and predicted CTR for each impression:"
   ]
  },
  {
   "cell_type": "code",
   "execution_count": 92,
   "metadata": {},
   "outputs": [],
   "source": [
    "W_p = sc.broadcast(W_P)\n",
    "W_a = sc.broadcast(W_A)\n",
    "W_g = sc.broadcast(W_G)\n",
    "\n",
    "def predict(x):\n",
    "    imp = x[0]\n",
    "    res = x[2]\n",
    "    pub = x[4]\n",
    "    adv = x[6]\n",
    "    gen = x[8]\n",
    "    #define appropriate latent vectors to use in calculations\n",
    "    if pub == '1':\n",
    "        w_pa = W_p.value[0]\n",
    "        w_pg = W_p.value[1]\n",
    "    elif pub == '2':\n",
    "        w_pa = W_p.value[2]\n",
    "        w_pg = W_p.value[3]\n",
    "    else:\n",
    "        w_pa = W_p.value[4]\n",
    "        w_pg = W_p.value[5]\n",
    "    if adv == '1':\n",
    "        w_ap = W_a.value[0]\n",
    "        w_ag = W_a.value[1]\n",
    "    elif adv == '2':\n",
    "        w_ap = W_a.value[2]\n",
    "        w_ag = W_a.value[3]\n",
    "    else:\n",
    "        w_ap = W_a.value[4]\n",
    "        w_ag = W_a.value[5]\n",
    "    if gen == '1':\n",
    "        w_gp = W_g.value[0]\n",
    "        w_ga = W_g.value[1]\n",
    "    else:\n",
    "        w_gp = W_g.value[2]\n",
    "        w_ga = W_g.value[3]\n",
    "    #calculate s using latent vectors\n",
    "    s = (np.dot(w_pa, w_ap) + np.dot(w_pg, w_gp) + np.dot(w_ag, w_ga)).round(2)\n",
    "    #calculate CTR\n",
    "    CTR = np.divide(1,1+np.exp(-s)).round(2)\n",
    "    yield imp,res, pub, adv, gen, s, CTR"
   ]
  },
  {
   "cell_type": "code",
   "execution_count": 93,
   "metadata": {},
   "outputs": [
    {
     "data": {
      "text/plain": [
       "[('1', '1', '1', '1', '1', -0.17, 0.46),\n",
       " ('2', '1', '2', '1', '1', 1.63, 0.84),\n",
       " ('3', '0', '3', '2', '2', -2.42, 0.08),\n",
       " ('4', '0', '2', '3', '1', 1.29, 0.78),\n",
       " ('5', '1', '3', '3', '2', -1.49, 0.18),\n",
       " ('6', '0', '3', '1', '2', -0.49, 0.38),\n",
       " ('7', '1', '1', '2', '2', -0.69, 0.33)]"
      ]
     },
     "execution_count": 93,
     "metadata": {},
     "output_type": "execute_result"
    }
   ],
   "source": [
    "resultRDD = toyRDD.flatMap(predict).cache()\n",
    "resultRDD.collect()"
   ]
  },
  {
   "cell_type": "markdown",
   "metadata": {},
   "source": [
    "Summarized in a table, we have:\n",
    "\n",
    "<table>\n",
    "<th>Impression</th>\n",
    "<th>$s$</th>\n",
    "<th>Predicted CTR</th>\n",
    "<th>True Response</th>\n",
    "<th>Correct?</th>\n",
    "<tr><td>(Netflix, Pepsi, Male)</td><td>-0.17</td><td>$\\approx 0.46$</td><td>1</td><td>No</td></tr>\n",
    "<tr><td>(Spotify, Pepsi, Male)</td><td>1.63</td><td>$\\approx 0.84$</td><td>1</td><td>Yes</td></tr>\n",
    "<tr><td>(Facebook, Gatoriade, Female)</td><td>-2.42</td><td>$\\approx 0.08$</td><td>0</td><td>Yes</td></tr>\n",
    "<tr><td>(Spotify, Coca-cola, Male)</td><td>1.29</td><td>$\\approx 0.78$</td><td>0</td><td>No</td></tr>\n",
    "<tr><td>(Facebook, Coca-cola, Female)</td><td>-1.49</td><td>$\\approx 0.18$</td><td>1</td><td>No</td></tr>\n",
    "<tr><td>(Facebook, Pepsi, Female)</td><td>-0.49</td><td>$\\approx 0.38$</td><td>0</td><td>Yes</td></tr>\n",
    "<tr><td>(Netflix, Gatorade, Female)</td><td>-0.69</td><td>$\\approx 0.33$</td><td>1</td><td>No</td></tr>\n",
    "<table>\n",
    "\n",
    "    \n",
    "__4)__ We can now calculate the log-loss of the model. While this is not necessary in order to find the optimum latent vectors for our model, we show the calculation here using the equation:\n",
    "$$ LogLoss = - \\frac{1}{n} \\sum_{i=1}^n [y_i \\cdot log_e(\\hat{y_i}) + (1-y_i) \\cdot log_e(1-\\hat{y_i})] $$\n",
    "\n",
    "Simply put, if our True Response ($y_i$) for an impression is 0, we add the log-value of `1-Predicted CTR` to our sum; if our True Response ($y_i$) for an impression is 1, we add the log-value of `CTR`.    \n",
    "\n",
    "Using our values from our table above, we have:\n",
    "\n",
    "$$ \\begin{aligned}\n",
    "LogLoss =& - \\frac{1}{7}[log_e(0.46) + log_e(0.84) + log_e(0.92) + log_e(0.22) + log_e(0.18) + log_e(0.62)+ log_e(0.33)]\\\\\n",
    "=& 0.8356\n",
    "\\end{aligned}\n",
    "$$\n",
    "    \n",
    "Our hand calculation is confirmed below:"
   ]
  },
  {
   "cell_type": "code",
   "execution_count": 103,
   "metadata": {},
   "outputs": [
    {
     "data": {
      "text/plain": [
       "[0.8356983388241626]"
      ]
     },
     "execution_count": 103,
     "metadata": {},
     "output_type": "execute_result"
    }
   ],
   "source": [
    "def log_loss(imp):\n",
    "    #helper function to calculate log(CTR) or log(1-CTR) depending on true response\n",
    "    resp = imp[1]\n",
    "    pred = imp[6]\n",
    "    if resp == '0':\n",
    "        yield 1, (np.log(1-pred), 1)\n",
    "    else:\n",
    "        yield 1, (np.log(pred), 1)\n",
    "\n",
    "def sum_loss(x, y):\n",
    "    #function to add log-losses, counts\n",
    "    return (x[0]+y[0],x[1]+y[1])\n",
    "\n",
    "loss = resultRDD.flatMap(log_loss).reduceByKey(lambda x, y: sum_loss(x, y))\\\n",
    "    .map(lambda x: -np.divide(x[1][0], x[1][1])).collect()\n",
    "loss"
   ]
  },
  {
   "cell_type": "markdown",
   "metadata": {},
   "source": [
    "__5)__ We then would optimize our weights using gradient descent. In their implementation outlined in their paper, Juan, Zhuang, Chin, & Lin update the weight matrix of latent vectors using stochastic gradient descent. We will replicate this method with our toy sample here.\n",
    "\n",
    "At each step, we choose a data point and update $\\textbf{w}_{j_1,f_2}$ and $\\textbf{w}_{j_2, f_1}$ for each non-zero pair of features $f_1 \\epsilon j_1$ and $f_2 \\epsilon j_2$. We first calculate the subgradients: \n",
    "$$\\textbf{g}_{j_1,f_2} = \\nabla \\textbf{w}_{j_1,f_2} f(\\textbf{w}) = \\lambda \\cdot \\textbf{w}_{j_1,f_2} + \\kappa \\cdot \\textbf{w}_{j_2,f_1}x_{j_1}x_{j_2} $$\n",
    "$$\\textbf{g}_{j_2,f_1} = \\nabla \\textbf{w}_{j_2,f_1} f(\\textbf{w}) = \\lambda \\cdot \\textbf{w}_{j_2,f_1} + \\kappa \\cdot \\textbf{w}_{j_1,f_2}x_{j_1}x_{j_2} $$\n",
    "where $$\\kappa = \\frac{-\\bar{y}}{1+exp(\\bar{y}\\phi(\\textbf{wx}))}$$\n",
    "\n",
    "with $\\bar{y}=1$ for a positive click response and $\\bar{y}=-1$ for a negative click response, as before.\n",
    "\n",
    "For simplicity here, we ignore the regularization term and consider the first datapoint- the impression of (Netflix, Pepsi, Male). We calculate $\\kappa = 0.46$, and calculate the first pair of subgradients:\n",
    "    $$\\textbf{g}_{Pepsi, P} = \\kappa\\textbf{w}_{Netflix, A}$$ \n",
    "    $$\\textbf{g}_{Netflix, A} = \\kappa\\textbf{w}_{Pepsi, P}$$\n",
    "    \n",
    "(Note: below we only continue to demonstrate how to update the latent vector $\\textbf{w}_{Pepsi,P}$. Updating all other latent vectors is analagous.)\n",
    "    \n",
    "Plugging in our known and calculated values, we have:\n",
    "    \n",
    "$$\\textbf{g}_{Pepsi, P}= 0.46 \\times \\begin{bmatrix}0.9\\\\-0.2\\\\-0.2 \\end{bmatrix} = \\begin{bmatrix}0.414\\\\-0.092\\\\-0.092 \\end{bmatrix} $$\n",
    "\n",
    "Next, for each coordinate $d = {1,...,k}$, the sum of squared gradient is accumulated:\n",
    "$$ (G_{j_1,f_2})_d \\leftarrow (G_{j_1,f_2})_d + (\\textbf{g}_{j_1,f_2})_d^2$$ where $(G_{j_1,f_2})_d$ are initialized as all 1s. Thus, we have:\n",
    "$$ (G_{Pepsi,P}) = \\begin{bmatrix}1\\\\1\\\\1\\end{bmatrix} + \\begin{bmatrix}(0.414)^2\\\\(-0.092)^2\\\\(-0.092)^2\\end{bmatrix} = \\begin{bmatrix}1.1714\\\\1.0085\\\\1.0085\\end{bmatrix}  $$\n",
    "    \n",
    "Finally, we update our latent vector $\\textbf{w}_{j_1,f_2}$ by:\n",
    "    $$(\\textbf{w}_{j_1,f_2})_d \\leftarrow (\\textbf{w}_{j_1,f_2})_d - \\frac{\\eta}{\\sqrt{(G_{j_1,f_2})_d}} \\textbf{g}_{j_1,f_2} $$\n",
    "where $\\eta$ is a specified learning rate. For this example, we use $\\eta = 0.1$, and get the following update to our latent vector, $\\textbf{w}_{Pepsi,P}$:\n",
    "\n",
    "$$\\textbf{w}_{Pepsi,P} = \\begin{bmatrix}1\\\\-0.3\\\\-0.1 \\end{bmatrix} - \\begin{bmatrix}\\frac{0.1}{\\sqrt{1.1714}} \\cdot 0.414\\\\\\frac{0.1}{\\sqrt{1.0085}} \\cdot -0.092\\\\\\frac{0.1}{\\sqrt{1.0085}} \\cdot -0.092 \\end{bmatrix} = \\begin{bmatrix}0.96\\\\-0.29\\\\-0.09 \\end{bmatrix}$$\n",
    "\n",
    "Using the same impression, we similarly update the latent vectors $\\textbf{w}_{Netflix,A}$, $\\textbf{w}_{Netflix,G}$, $\\textbf{w}_{Male,P}$, $\\textbf{w}_{Male,A}$, and $\\textbf{w}_{Pepsi,G}$.\n",
    "These newly updated latent vectors are calculated below:"
   ]
  },
  {
   "cell_type": "code",
   "execution_count": 27,
   "metadata": {},
   "outputs": [
    {
     "data": {
      "text/plain": [
       "[('1',\n",
       "  '1',\n",
       "  '1',\n",
       "  array([ 0.85838949, -0.1863995 , -0.19542876]),\n",
       "  array([-0.58199505, -0.03437703, -0.35659146]),\n",
       "  array([ 0.96191892, -0.29088605, -0.09088605]),\n",
       "  array([-0.36191892, -1.05112583,  0.04161051]),\n",
       "  array([-0.37352369,  0.8       ,  1.5136005 ]),\n",
       "  array([-0.88199505,  1.34161051, -1.        ]))]"
      ]
     },
     "execution_count": 27,
     "metadata": {},
     "output_type": "execute_result"
    }
   ],
   "source": [
    "def kappa(x):\n",
    "    #function to calculate kappa value based on true response and calculated s value\n",
    "    if x[1]==1:\n",
    "        y=1\n",
    "    else:\n",
    "        y=-1\n",
    "    return -np.divide(y,1 + np.exp(y*x[5])) #kappa calculation\n",
    "\n",
    "def gradient(x):\n",
    "    #function to calculate gradient update for latent vectors of an impression\n",
    "    #need response variables to be +1 or -1\n",
    "    if x[1]==1:\n",
    "        y=1\n",
    "    else:\n",
    "        y=-1\n",
    "    k = kappa(x)\n",
    "    pub = x[2]\n",
    "    adv = x[3]\n",
    "    gen = x[4]\n",
    "    #extract appropriate latent vectors to update, given the impression\n",
    "    if pub == '1':\n",
    "        w_pa = W_p.value[0]\n",
    "        w_pg = W_p.value[1]\n",
    "    elif pub == '2':\n",
    "        w_pa = W_p.value[2]\n",
    "        w_pg = W_p.value[3]\n",
    "    else:\n",
    "        w_pa = W_p.value[4]\n",
    "        w_pg = W_p.value[5]\n",
    "    if adv == '1':\n",
    "        w_ap = W_a.value[0]\n",
    "        w_ag = W_a.value[1]\n",
    "    elif adv == '2':\n",
    "        w_ap = W_a.value[2]\n",
    "        w_ag = W_a.value[3]\n",
    "    else:\n",
    "        w_ap = W_a.value[4]\n",
    "        w_ag = W_a.value[5]\n",
    "    if gen == '1':\n",
    "        w_gp = W_g.value[0]\n",
    "        w_ga = W_g.value[1]\n",
    "    else:\n",
    "        w_gp = W_g.value[2]\n",
    "        w_ga = W_g.value[3]\n",
    "    #calculate subgradients\n",
    "    g_pa = k*w_ap\n",
    "    g_pg = k*w_gp\n",
    "    g_ap = k*w_pa\n",
    "    g_ag = k*w_ga\n",
    "    g_gp = k*w_pg\n",
    "    g_ga = k*w_ag\n",
    "    #accumulate sum of squared gradients, add to G vector (initialized as ones)\n",
    "    G_pa = np.ones(3) + g_pa**2\n",
    "    G_pg = np.ones(3) + g_pg**2\n",
    "    G_ap = np.ones(3) + g_ap**2\n",
    "    G_ag = np.ones(3) + g_ag**2\n",
    "    G_gp = np.ones(3) + g_gp**2\n",
    "    G_ga = np.ones(3) + g_ga**2\n",
    "    \n",
    "    #update latent vectors\n",
    "    w_pa = w_pa - np.divide(0.1,np.sqrt(G_pa))*g_pa\n",
    "    w_pg = w_pg - np.divide(0.1,np.sqrt(G_pg))*g_pg\n",
    "    w_ap = w_ap - np.divide(0.1,np.sqrt(G_ap))*g_ap\n",
    "    w_ag = w_ag - np.divide(0.1,np.sqrt(G_ag))*g_ag\n",
    "    w_gp = w_gp - np.divide(0.1,np.sqrt(G_gp))*g_gp\n",
    "    w_ga = w_ga - np.divide(0.1,np.sqrt(G_ga))*g_ga\n",
    "    #yield features (to know which vectors to update in weight matrix) and updated latent vectors\n",
    "    yield  pub, adv, gen, w_pa, w_pg, w_ap, w_ag, w_gp, w_ga\n",
    "    \n",
    "# demonstrate, specifying first impression to check hand calculations\n",
    "update = sc.parallelize(resultRDD.takeOrdered(1)).flatMap(gradient).collect()\n",
    "update"
   ]
  },
  {
   "cell_type": "markdown",
   "metadata": {},
   "source": [
    "We note that the third vector here, representing the updated `PepsiP` latent vector,  matches our hand calculation (which rounded to the second decimal place). We must also pass along the features in order to ensure we update the correct latent vectors in the weight matrix. In the case of the first impression, we emit '1', '1', '1' for the features, so we know to update NetflixA (`W_P[0]`), Netflix G (`W_P[1]`), PepsiP(`W_A[0]`), PepsiG (`W_A[1]`), MaleP(`W_G[0]`), and MaleA (`W_G[1]`) in the weight matrix:  "
   ]
  },
  {
   "cell_type": "code",
   "execution_count": 52,
   "metadata": {},
   "outputs": [],
   "source": [
    "def updateWeights(W_P, W_A, W_G, update):\n",
    "# Function that takes current weight matrices, and updated vectors emitted after SGD\n",
    "# and updates Weight Matrices\n",
    "    #take first feature (Publisher), and update W_P latent vectors accordingly\n",
    "    if update[0][0] == '1':\n",
    "        W_P[0] = update[0][3]\n",
    "        W_P[1] = update[0][4]\n",
    "    elif update[0][0] == '2':\n",
    "        W_P[2] = update[0][3]\n",
    "        W_P[3] = update[0][4]\n",
    "    else:\n",
    "        W_P[4] = update[0][3]\n",
    "        W_P[5] = update[0][4]\n",
    "    #take second feature (Advertiser), and update W_A latent vectors accordingly\n",
    "    if update[0][1] == '1':\n",
    "        W_A[0] = update[0][5]\n",
    "        W_A[1] = update[0][6]\n",
    "    elif update[0][1] == '2':\n",
    "        W_A[2] = update[0][5]\n",
    "        W_A[3] = update[0][6]\n",
    "    else:\n",
    "        W_A[4] = update[0][5]\n",
    "        W_A[5] = update[0][6]\n",
    "    #take third feature (Gender), and update W_G latent vectors accordingly\n",
    "    if update[0][2] == '1':\n",
    "        W_G[0] = update[0][7]\n",
    "        W_G[1] = update[0][8]\n",
    "    else:\n",
    "        W_G[2] = update[0][7]\n",
    "        W_G[3] = update[0][8]\n",
    "    return W_P, W_A, W_G"
   ]
  },
  {
   "cell_type": "markdown",
   "metadata": {},
   "source": [
    "Below we print the updated matrices of latent vectors that would be broadcast back out for the next iteration:"
   ]
  },
  {
   "cell_type": "code",
   "execution_count": 53,
   "metadata": {},
   "outputs": [
    {
     "data": {
      "text/plain": [
       "(array([[ 0.85838949, -0.1863995 , -0.19542876],\n",
       "        [-0.58199505, -0.03437703, -0.35659146],\n",
       "        [-0.1       , -0.5       , -1.2       ],\n",
       "        [-1.1       ,  0.2       ,  1.2       ],\n",
       "        [ 1.4       , -0.7       ,  0.7       ],\n",
       "        [ 0.        ,  0.8       ,  0.1       ]]),\n",
       " array([[ 0.96191892, -0.29088605, -0.09088605],\n",
       "        [-0.36191892, -1.05112583,  0.04161051],\n",
       "        [-0.2       , -1.        , -1.7       ],\n",
       "        [ 0.7       , -0.3       , -1.1       ],\n",
       "        [ 0.1       ,  1.3       , -0.2       ],\n",
       "        [ 0.5       ,  0.2       ,  0.5       ]]),\n",
       " array([[-0.37352369,  0.8       ,  1.5136005 ],\n",
       "        [-0.88199505,  1.34161051, -1.        ],\n",
       "        [ 0.8       , -1.5       ,  0.3       ],\n",
       "        [ 0.4       ,  0.7       ,  0.5       ]]))"
      ]
     },
     "execution_count": 53,
     "metadata": {},
     "output_type": "execute_result"
    }
   ],
   "source": [
    "updateWeights(W_P, W_A, W_G, update)"
   ]
  },
  {
   "cell_type": "markdown",
   "metadata": {},
   "source": [
    "__6)__ We repeat 3-5 for a specified number of iterations or until some convergence criteria is met for the latent vectors. In each iteration we would use a different impression to update the latent vectors. Therefore, our code from above must be slightly modified (to choose an impression at random, and not explicitly the first impression. Below is the code we would run for 5 iterations:"
   ]
  },
  {
   "cell_type": "code",
   "execution_count": 110,
   "metadata": {},
   "outputs": [
    {
     "name": "stdout",
     "output_type": "stream",
     "text": [
      "Iteration: 1\n",
      "Loss: 0.7058294549762278\n",
      "Iteration: 2\n",
      "Loss: 0.7162205600072132\n",
      "Iteration: 3\n",
      "Loss: 0.7462950272968323\n",
      "Iteration: 4\n",
      "Loss: 0.7813475918959041\n",
      "Iteration: 5\n",
      "Loss: 0.782186033694875\n",
      "Final Weight Matrices:\n",
      "W_P:\n",
      " [[-0.71676634 -0.44099265  1.38293418]\n",
      " [-1.16044963 -0.85599659 -0.03402975]\n",
      " [-0.13152596  1.03183709  1.62547251]\n",
      " [ 0.62400263  0.93956582 -0.02968248]\n",
      " [ 0.11154184 -1.00811821  0.38331082]\n",
      " [ 0.99951528 -0.61178269 -0.0901044 ]] \n",
      "W_A:\n",
      " [[-0.92148006  0.85911833  1.03338662]\n",
      " [-0.74526918 -0.6326825  -0.95074939]\n",
      " [-0.78633076  0.56481366  1.13741097]\n",
      " [ 0.98467198 -1.56128082 -0.40693645]\n",
      " [ 0.3         0.3        -0.4       ]\n",
      " [-0.2         0.9        -1.3       ]] \n",
      "W_G:\n",
      " [[ 1.11385511  0.68908907 -0.98061568]\n",
      " [-1.17234951  0.99122502 -1.05696553]\n",
      " [ 0.01809611  0.81030484 -0.67022493]\n",
      " [ 0.654437    1.37389498 -0.52151561]]\n"
     ]
    }
   ],
   "source": [
    "W_P = np.random.uniform(-1.7,1.7, size=(6,3)).round(1)\n",
    "W_A = np.random.uniform(-1.7,1.7, size=(6,3)).round(1)\n",
    "W_G = np.random.uniform(-1.7,1.7, size=(4,3)).round(1)\n",
    "for i in range(5):\n",
    "    print('Iteration:', i+1)\n",
    "    W_p = sc.broadcast(W_P)\n",
    "    W_a = sc.broadcast(W_A)\n",
    "    W_g = sc.broadcast(W_G)\n",
    "    resultRDD = toyRDD.flatMap(predict).cache()\n",
    "    loss = resultRDD.flatMap(log_loss).reduceByKey(lambda x, y: sum_loss(x, y))\\\n",
    "        .map(lambda x: -np.divide(x[1][0], x[1][1])).collect()\n",
    "    print('Loss:', loss[0])\n",
    "    update = sc.parallelize(resultRDD.takeSample(True,1)).flatMap(gradient).collect()\n",
    "    updateWeights(W_P, W_A, W_G, update)\n",
    "    \n",
    "print('Final Weight Matrices:')\n",
    "print('W_P:\\n', W_P,'\\nW_A:\\n', W_A,'\\nW_G:\\n', W_G)"
   ]
  },
  {
   "cell_type": "markdown",
   "metadata": {},
   "source": [
    "We note that stochastic gradient descent does not always improve the loss from iteration to iteration, as only a single impression is used to update after each iteration. "
   ]
  },
  {
   "cell_type": "markdown",
   "metadata": {},
   "source": [
    "__6)__ We repeat 3-5 until some convergence criteria is met for the latent vectors."
   ]
  },
  {
   "cell_type": "markdown",
   "metadata": {},
   "source": [
    "#### Sources:\n",
    "- https://www.csie.ntu.edu.tw/~r01922136/slides/ffm.pdf\n",
    "- https://www.csie.ntu.edu.tw/~cjlin/papers/ffm.pdf\n",
    "- https://www.youtube.com/watch?v=1cRGpDXTJC8"
   ]
  },
  {
   "cell_type": "markdown",
   "metadata": {},
   "source": [
    "# __Section 3__ - EDA & Challenges"
   ]
  },
  {
   "cell_type": "markdown",
   "metadata": {},
   "source": [
    "Now that we've had a discussion about the algorithm we are going to use for the project, in this section, we seek to understand the important characteristics of the training dataset and how we can use them to inform our implementation of the FFM algorithm. "
   ]
  },
  {
   "cell_type": "markdown",
   "metadata": {},
   "source": [
    "## About the data\n",
    "\n",
    "We get the data from link from provided in `w261Project2019.pdf`, which is also in this repository. The link to the original data source is:\n",
    "\n",
    "http://labs.criteo.com/2014/02/kaggle-display-advertising-challenge-dataset/\n",
    "\n",
    "Desciption about the data from quoting the from the `readme.txt`:\n",
    "\n",
    "> \"The training dataset consists of a portion of Criteo's traffic over a period of 7 days. Each row corresponds to a display ad served by Criteo and the first column is indicates whether this ad has been clicked or not. The positive (clicked) and negatives (non-clicked) examples have both been subsampled (but at different rates) in order to reduce the dataset size. There are 13 features taking integer values (mostly count features) and 26 categorical features. The values of the categorical features have been hashed onto 32 bits for anonymization purposes. The semantic of these features is undisclosed. Some features may have missing values. The rows are chronologically ordered.\"\n",
    "\n",
    "The format of the training data is:\n",
    "\n",
    "> `<label> \\t <integer feature 1> \\t...\\t <integer feature 13> \\t <categorical feature 1> \\t...\\t <categorical feature 26>`  \n",
    "> A field is left empty when the value is missing."
   ]
  },
  {
   "cell_type": "code",
   "execution_count": 15,
   "metadata": {},
   "outputs": [],
   "source": [
    "# load the data. By default, in local environment we only load the mediumTrain.parquet which contains 5000 randomly sample instances from train.txt  \n",
    "# because the full dataset is too slow to run in local environment\n",
    "\n",
    "if local:\n",
    "    train_parquet = spark.read.parquet(f\"{PWD}/data/mediumTrain.parquet\")\n",
    "    # train_parquet = spark.read.parquet(f\"{PWD}/data/train.parquet\") #uncomment if loading the entire dataset\n",
    "else: # if using wk08 environment load the file from my bucket\n",
    "    train_parquet = spark.read.parquet(\"gs://w261-bucket-hou/final-project/data/train.parquet\") #train.parquet is the parquet file of train.txt\n",
    "\n",
    "oldColNames = train_parquet.schema.names"
   ]
  },
  {
   "cell_type": "code",
   "execution_count": 16,
   "metadata": {},
   "outputs": [],
   "source": [
    "#change the label to integer type and rename the label column\n",
    "train_parquet = train_parquet.withColumn(\"label\", train_parquet[\"_c0\"].cast(types.IntegerType()))\n",
    "\n",
    "#rename files and recast integer types on the first 13 features\n",
    "for colNum in range(1,14): \n",
    "    colName = \"_c\" + str(colNum)\n",
    "    train_parquet = train_parquet.withColumn(\"int_feature_\"+ str(colNum), train_parquet[colName].cast(types.IntegerType()))\n",
    "for colNum in range(14,40): \n",
    "    colName = \"_c\" + str(colNum)\n",
    "    train_parquet = train_parquet.withColumn(\"cate_feature_\"+ str(colNum-13), train_parquet[colName])\n",
    "\n",
    "#drop the old columns\n",
    "train_parquet = train_parquet.drop(*oldColNames)"
   ]
  },
  {
   "cell_type": "code",
   "execution_count": 17,
   "metadata": {},
   "outputs": [],
   "source": [
    "#record feature names by feature type\n",
    "intFieldNames = [colName for colName, dType in train_parquet.dtypes if dType == 'int']\n",
    "cateFieldNames = [colName for colName, dType in train_parquet.dtypes if dType == 'string' and colName != 'label']"
   ]
  },
  {
   "cell_type": "markdown",
   "metadata": {},
   "source": [
    "## EDA 1: Overview of the training data\n",
    "\n",
    "We will take a look at the general properties of the training data in this section, such as the shape of the dataset and the counts of null and distinct values of each column."
   ]
  },
  {
   "cell_type": "code",
   "execution_count": 8,
   "metadata": {},
   "outputs": [],
   "source": [
    "recCount = train_parquet.count() #get record count\n",
    "fieldCount = len(train_parquet.columns)-1 #get the count of features"
   ]
  },
  {
   "cell_type": "code",
   "execution_count": 9,
   "metadata": {
    "scrolled": true
   },
   "outputs": [],
   "source": [
    "#Get the counts of distinct values and null values in each columns in the data set\n",
    "\n",
    "distinctValues = []\n",
    "nullValues = []\n",
    "for colName in train_parquet.schema.names:\n",
    "    distinctValues.append(train_parquet.select(colName).distinct().count())\n",
    "    nullValues.append(train_parquet.filter((train_parquet[colName] == \"\") | train_parquet[colName].isNull() | isnan(train_parquet[colName])).count())"
   ]
  },
  {
   "cell_type": "code",
   "execution_count": 10,
   "metadata": {},
   "outputs": [
    {
     "name": "stdout",
     "output_type": "stream",
     "text": [
      "Training Dataset Overview:\n",
      "\n",
      "Record Count: 45840617\n",
      "Feature Count: 39\n",
      "Total Distinct Categorical Values: 33762577\n",
      "Null Value Percentage: 14.2%\n",
      "====================================================================== \n",
      "\n",
      "Column Level Information:\n",
      "\n",
      "Field Name     | Distinct Count | Null Count     | Null Percent   \n",
      "----------------------------------------------------------------------\n",
      "label          | 2              | 0              | 0.0%           \n",
      "int_feature_1  | 649            | 20793556       | 45.4%          \n",
      "int_feature_2  | 9364           | 0              | 0.0%           \n",
      "int_feature_3  | 14746          | 9839447        | 21.5%          \n",
      "int_feature_4  | 490            | 9937369        | 21.7%          \n",
      "int_feature_5  | 476707         | 1183117        | 2.6%           \n",
      "int_feature_6  | 11618          | 10252328       | 22.4%          \n",
      "int_feature_7  | 4142           | 1982866        | 4.3%           \n",
      "int_feature_8  | 1373           | 22773          | 0.0%           \n",
      "int_feature_9  | 7275           | 1982866        | 4.3%           \n",
      "int_feature_10 | 13             | 20793556       | 45.4%          \n",
      "int_feature_11 | 169            | 1982866        | 4.3%           \n",
      "int_feature_12 | 407            | 35071652       | 76.5%          \n",
      "int_feature_13 | 1376           | 9937369        | 21.7%          \n",
      "cate_feature_1 | 1460           | 0              | 0.0%           \n",
      "cate_feature_2 | 583            | 0              | 0.0%           \n",
      "cate_feature_3 | 10131227       | 1559473        | 3.4%           \n",
      "cate_feature_4 | 2202608        | 1559473        | 3.4%           \n",
      "cate_feature_5 | 305            | 0              | 0.0%           \n",
      "cate_feature_6 | 24             | 5540625        | 12.1%          \n",
      "cate_feature_7 | 12517          | 0              | 0.0%           \n",
      "cate_feature_8 | 633            | 0              | 0.0%           \n",
      "cate_feature_9 | 3              | 0              | 0.0%           \n",
      "cate_feature_10| 93145          | 0              | 0.0%           \n",
      "cate_feature_11| 5683           | 0              | 0.0%           \n",
      "cate_feature_12| 8351593        | 1559473        | 3.4%           \n",
      "cate_feature_13| 3194           | 0              | 0.0%           \n",
      "cate_feature_14| 27             | 0              | 0.0%           \n",
      "cate_feature_15| 14992          | 0              | 0.0%           \n",
      "cate_feature_16| 5461306        | 1559473        | 3.4%           \n",
      "cate_feature_17| 10             | 0              | 0.0%           \n",
      "cate_feature_18| 5652           | 0              | 0.0%           \n",
      "cate_feature_19| 2173           | 20172858       | 44.0%          \n",
      "cate_feature_20| 4              | 20172858       | 44.0%          \n",
      "cate_feature_21| 7046547        | 1559473        | 3.4%           \n",
      "cate_feature_22| 18             | 34955073       | 76.3%          \n",
      "cate_feature_23| 15             | 0              | 0.0%           \n",
      "cate_feature_24| 286181         | 1559473        | 3.4%           \n",
      "cate_feature_25| 105            | 20172858       | 44.0%          \n",
      "cate_feature_26| 142572         | 20172858       | 44.0%          \n"
     ]
    }
   ],
   "source": [
    "#print the results\n",
    "print(\"Training Dataset Overview:\\n\")\n",
    "print(\"Record Count:\", recCount)\n",
    "print(\"Feature Count:\", fieldCount)\n",
    "print(\"Total Distinct Categorical Values:\", np.sum(distinctValues[14:]))\n",
    "print(\"Null Value Percentage:\", str(round(float(sum(nullValues))/(recCount*fieldCount)*100,1)) + \"%\")\n",
    "\n",
    "print(\"=\"*70, \"\\n\")\n",
    "\n",
    "\n",
    "print(\"Column Level Information:\\n\")\n",
    "print('%-15s| %-15s| %-15s| %-15s' %('Field Name','Distinct Count', 'Null Count', 'Null Percent'))\n",
    "print('-'*70)\n",
    "for colName, distinctVal, nullVal in zip(train_parquet.schema.names, distinctValues, nullValues):\n",
    "    print('%-15s| %-15s| %-15s| %-15s' %(colName, distinctVal, nullVal, str(round(float(nullVal)/recCount*100,1)) + \"%\" ))"
   ]
  },
  {
   "cell_type": "markdown",
   "metadata": {},
   "source": [
    "__EDA 1 Findings:__\n",
    "\n",
    "There are a few things we see in our dataset that helps inform our implementation:\n",
    "\n",
    "> We have a total of $45,840,617$ records in the `train.txt`. We would still have $45,840,617 \\cdot 80\\% = 36,672,493$ records we can use to train our model even if we do a 80%, 20% split and save the 20% for validation. With this many records in our dataset and the difficulty in parallelize stochastic gradient descent, we might explore using mini-batch gradient descent to speed up training.\n",
    "\n",
    "> $14.2\\%$ of the data has null values, and some categorical features (see `cate_feature_3`, `cate_feature_16` and etc...) have a large number of distinct values. With these two properties, if we simply one-hot encode the categorial variable and stroe the entire vector, we will have a vary sparse dataset. To efficiently store the data in memory, we need to consider using a more dense representation of the data similar to stripes or pairs introduced in class.\n",
    "\n",
    "> We notice that categorical features (see `cate_feature_3`, `cate_feature_16` and etc...) with a large number of distinct values might imply very low counts of records per values which will make our model prone to overfitting and reduce the generalizability. For example, if we train many parameters on only a few records, would mean we are training our model based on some specific information only contained in this particular training set. Therefore, in the next EDA section, we will explore this topic further and suggest ways to deal with this issue if it exists."
   ]
  },
  {
   "cell_type": "markdown",
   "metadata": {},
   "source": [
    "## EDA 2: Categorical Features\n",
    "\n",
    "In this section of EDA, we will take a look at the categorical variables in the dataset with the main goal of exploring how many instances we have for each distinct value which is equivalent to a feature after one-hot encoding."
   ]
  },
  {
   "cell_type": "code",
   "execution_count": 11,
   "metadata": {},
   "outputs": [],
   "source": [
    "def get_distinct_summary(df, col, thresholds):\n",
    "    \"\"\"\n",
    "    Helper function which helps calculate the numbers of distinct values left after\n",
    "    exluding those whose count of instances is lower than given thresholds\n",
    "    \n",
    "    Args:\n",
    "        df         - a spark dataframe of the entire dataset\n",
    "        col        - the column name of the column used in the calculation\n",
    "        thresholds - a list of numbers used as the thresholds\n",
    "    Returns:\n",
    "        summary_values - a list: \n",
    "                         1. first element as the column name\n",
    "                         2. second element as the distinct value count\n",
    "                         3. the following elements as the counts of distinct values left \n",
    "                            after exluding the ones having counts lower than the threshold.\n",
    "    \"\"\"\n",
    "    \n",
    "    summary_values = [col]\n",
    "    summary_values.append(df.select(col).distinct().count())\n",
    "    \n",
    "    count_df = df.groupBy(col).count()\n",
    "    filtered_counts = [count_df.filter(f\"count >= {threshold}\").count() + 1 for threshold in thresholds]\n",
    "    summary_values.extend(filtered_counts)\n",
    "    \n",
    "    return [str(val) for val in summary_values]"
   ]
  },
  {
   "cell_type": "code",
   "execution_count": 12,
   "metadata": {},
   "outputs": [],
   "source": [
    "# get the distinct value counts for all categorical variables for the thresholds below\n",
    "\n",
    "thresholds = [5, 10, 25, 50, 100, 500, 1000]\n",
    "distinct_summary = [get_distinct_summary(train_parquet, c, thresholds) for c in cateFieldNames]"
   ]
  },
  {
   "cell_type": "code",
   "execution_count": 13,
   "metadata": {},
   "outputs": [],
   "source": [
    "# calculate the number and the percentage of feature preserved for a given threshold\n",
    "\n",
    "distinct_counts = np.asarray(distinct_summary)[:,1:].astype(int)\n",
    "feat_num = np.sum(distinct_counts, axis = 0)\n",
    "feat_percent_preserv = np.sum(distinct_counts, axis = 0)/np.sum(distinct_counts, axis = 0)[0]"
   ]
  },
  {
   "cell_type": "code",
   "execution_count": 14,
   "metadata": {},
   "outputs": [
    {
     "data": {
      "text/plain": [
       "Text(0.5, 1.0, 'Feature Counts by Threshold')"
      ]
     },
     "execution_count": 14,
     "metadata": {},
     "output_type": "execute_result"
    },
    {
     "data": {
      "image/png": "[encoded data removed]",
      "text/plain": [
       "<Figure size 648x360 with 1 Axes>"
      ]
     },
     "metadata": {
      "needs_background": "light"
     },
     "output_type": "display_data"
    }
   ],
   "source": [
    "# plot feature counts by threshold\n",
    "\n",
    "plt.figure(figsize=(9, 5))\n",
    "\n",
    "\n",
    "Ts = ['None'] + [f\"{threshold}\" for threshold in thresholds]\n",
    "y_pos = np.arange(len(Ts))\n",
    "\n",
    "plt.bar(y_pos, feat_num, align='center', alpha=0.5)\n",
    "plt.xticks(y_pos, Ts)\n",
    "plt.ylabel('Feature Count')\n",
    "plt.xlabel('Threshold')\n",
    "plt.title('Feature Counts by Threshold')"
   ]
  },
  {
   "cell_type": "code",
   "execution_count": 15,
   "metadata": {},
   "outputs": [
    {
     "name": "stdout",
     "output_type": "stream",
     "text": [
      "+-----------------+--------+----------+-----------+-----------+-----------+------------+------------+-------------+\n",
      "|          Feature|Distinct|count >= 5|count >= 10|count >= 25|count >= 50|count >= 100|count >= 500|count >= 1000|\n",
      "+-----------------+--------+----------+-----------+-----------+-----------+------------+------------+-------------+\n",
      "|   cate_feature_1|    1460|      1461|       1458|       1433|       1394|         701|         295|          213|\n",
      "|   cate_feature_2|     583|       558|        555|        552|        551|         540|         516|          482|\n",
      "|   cate_feature_3|10131227|    413575|     193949|      77902|      40203|       21055|        4869|         2585|\n",
      "|   cate_feature_4| 2202608|    248610|     138801|      68146|      40360|       23839|        6475|         3556|\n",
      "|   cate_feature_5|     305|       306|        306|        302|        290|         182|          97|           73|\n",
      "|   cate_feature_6|      24|        22|         19|         17|         15|          15|          13|           12|\n",
      "|   cate_feature_7|   12517|     12190|      11970|      11485|      10904|       10103|        6998|         5277|\n",
      "|   cate_feature_8|     633|       634|        634|        625|        608|         351|         159|          120|\n",
      "|   cate_feature_9|       3|         4|          4|          4|          4|           4|           4|            4|\n",
      "|  cate_feature_10|   93145|     54714|      42646|      30042|      22487|       16433|        6899|         4409|\n",
      "|  cate_feature_11|    5683|      5348|       5178|       4960|       4749|        4496|        3669|         3106|\n",
      "|  cate_feature_12| 8351593|    409900|     192773|      78045|      40626|       21498|        4994|         2652|\n",
      "|  cate_feature_13|    3194|      3180|       3175|       3159|       3138|        3103|        2856|         2555|\n",
      "|  cate_feature_14|      27|        27|         27|         27|         27|          27|          27|           26|\n",
      "|  cate_feature_15|   14992|     12498|      11422|       9762|       8394|        6967|        4029|         3003|\n",
      "|  cate_feature_16| 5461306|    365946|     181075|      77225|      41449|       22554|        5578|         3015|\n",
      "|  cate_feature_17|      10|        11|         11|         11|         11|          11|          11|           11|\n",
      "|  cate_feature_18|    5652|      4932|       4654|       4187|       3763|        3276|        2125|         1686|\n",
      "|  cate_feature_19|    2173|      2095|       2032|       1896|       1770|        1613|        1093|          823|\n",
      "|  cate_feature_20|       4|         5|          5|          5|          5|           5|           5|            5|\n",
      "|  cate_feature_21| 7046547|    398123|     189657|      77905|      41012|       21968|        5204|         2755|\n",
      "|  cate_feature_22|      18|        19|         18|         16|         15|          14|          10|           10|\n",
      "|  cate_feature_23|      15|        16|         16|         16|         16|          15|          15|           15|\n",
      "|  cate_feature_24|  286181|     88624|      59697|      35306|      23149|       15131|        5118|         3073|\n",
      "|  cate_feature_25|     105|        97|         86|         73|         65|          61|          46|           43|\n",
      "|  cate_feature_26|  142572|     64079|      45571|      28028|      18785|       12296|        3961|         2292|\n",
      "|      ***Total***|33762577|   2086974|    1085739|     511129|     303790|      186258|       65066|        41801|\n",
      "|***% Preserved***|  100.0%|      6.2%|       3.2%|       1.5%|       0.9%|        0.6%|        0.2%|         0.1%|\n",
      "+-----------------+--------+----------+-----------+-----------+-----------+------------+------------+-------------+\n",
      "\n"
     ]
    }
   ],
   "source": [
    "# show the distinct value count for all categorical variables for all thresholds and the summary at the bottom\n",
    "\n",
    "eda2_summary = distinct_summary + [[\"***Total***\"] + [str(num) for num in feat_num]]\n",
    "eda2_summary = eda2_summary + [[\"***% Preserved***\"] + [str(round(percent*100,1))+\"%\" for percent in feat_percent_preserv]]\n",
    "\n",
    "\n",
    "distinctCounts = spark.createDataFrame(eda2_summary, ['Feature', 'Distinct'] + [f\"count >= {threshold}\" for threshold in thresholds] )\n",
    "distinctCounts.show(40)"
   ]
  },
  {
   "cell_type": "markdown",
   "metadata": {},
   "source": [
    "__EDA 2 Findings:__\n",
    "\n",
    "> In this section, we found that most of the values of the categorical features have very few counts. Even a threshold of five occurance would cause a drastic drop in feature number (refer to the bar graph above). Looking at the row, `***% Preserved***` in the table above, we only have 6.2% of the values left if we set the threshold for minimum occurance to be 5 and 3.2% left when the threshold is set to 10. This piece of information helps inform the feature engineering. As part of our feature engineering, we will attempt to establish a threshold to exclude these values having very low occurances so we don't train our model with local trend that doesn't exist in the population. \n",
    "\n",
    "> Rare values does not equal missing value. Therefore, we will also explore to assign a special value to those rare values so the algorithm can distinguish them from missing data and observe this practice's impact on model performance.\n",
    "\n",
    "> Looking at the counts of features left after a given threshold is applied (row, `***Total***` in the table above), we can see that when the threshold is set to ten, we would still have around 1 million one-hot-encoded features, and we can guarantee that all the parameters in our models are trained as least on ten examples. Therefore, we will set the threshold at ten to filter our categorical values. \n",
    "\n"
   ]
  },
  {
   "cell_type": "markdown",
   "metadata": {},
   "source": [
    "## EDA 3: Integer Features\n",
    "\n",
    "In this section, we perform an EDA on the integer features (i.e., the first 13 features). The goal is to identify possible feature engineering that could potentially improve our algorithm's performance."
   ]
  },
  {
   "cell_type": "code",
   "execution_count": 16,
   "metadata": {},
   "outputs": [
    {
     "name": "stdout",
     "output_type": "stream",
     "text": [
      "+-------+------------------+------------------+------------------+-----------------+------------------+------------------+------------------+\n",
      "|summary|     int_feature_1|     int_feature_2|     int_feature_3|    int_feature_4|     int_feature_5|     int_feature_6|     int_feature_7|\n",
      "+-------+------------------+------------------+------------------+-----------------+------------------+------------------+------------------+\n",
      "|  count|          25047061|          45840617|          36001170|         35903248|          44657500|          35588289|          43857751|\n",
      "|   mean|3.5024133170754044|105.84841979766546|26.913041020611274|7.322680248873305|18538.991664871523|116.06185085211598|16.333130032135028|\n",
      "| stddev| 9.429076407105093| 391.4578226870699|397.97258302273343|8.793230712645762|  69394.6018462232|382.56644937123986| 66.04975524511694|\n",
      "|    min|                 0|                -3|                 0|                0|                 0|                 0|                 0|\n",
      "|    max|              5775|            257675|             65535|              969|          23159456|            431037|             56311|\n",
      "+-------+------------------+------------------+------------------+-----------------+------------------+------------------+------------------+\n",
      "\n",
      "+-------+------------------+------------------+------------------+------------------+------------------+------------------+-----------------+\n",
      "|summary|     int_feature_7|     int_feature_8|     int_feature_9|    int_feature_10|    int_feature_11|    int_feature_12|   int_feature_13|\n",
      "+-------+------------------+------------------+------------------+------------------+------------------+------------------+-----------------+\n",
      "|  count|          43857751|          45817844|          43857751|          25047061|          43857751|          10768965|         35903248|\n",
      "|   mean|16.333130032135028|12.517042137556713| 106.1098234380509|0.6175294977722137|2.7328343170173044|0.9910356287721244|8.217461161174054|\n",
      "| stddev| 66.04975524511696|16.688884567787493|220.28309398648057|0.6840505553977008| 5.199070884811365| 5.597723872237184|16.21193255817365|\n",
      "|    min|                 0|                 0|                 0|                 0|                 0|                 0|                0|\n",
      "|    max|             56311|              6047|             29019|                11|               231|              4008|             7393|\n",
      "+-------+------------------+------------------+------------------+------------------+------------------+------------------+-----------------+\n",
      "\n"
     ]
    }
   ],
   "source": [
    "train_parquet.select(intFieldNames[:7]).describe().show()\n",
    "train_parquet.select(intFieldNames[6:]).describe().show()"
   ]
  },
  {
   "cell_type": "code",
   "execution_count": 17,
   "metadata": {},
   "outputs": [
    {
     "data": {
      "image/png": "[encoded data removed]",
      "text/plain": [
       "<Figure size 1152x1152 with 13 Axes>"
      ]
     },
     "metadata": {
      "needs_background": "light"
     },
     "output_type": "display_data"
    }
   ],
   "source": [
    "fig = plt.figure(figsize=(16, 16))\n",
    "for i in range(len(intFieldNames)):\n",
    "    colName = intFieldNames[i]\n",
    "    ax = plt.subplot(5, 4, i+1)\n",
    "    ax.hist(train_parquet.select(colName).rdd.map(lambda r: r[0]).filter(lambda x: x!=None).collect())\n",
    "    ax.set_title(colName)\n",
    "\n",
    "st = fig.suptitle(\"Integer Feature Histogram\", fontsize=\"x-large\")\n",
    "fig.tight_layout()\n",
    "st.set_y(1.03)"
   ]
  },
  {
   "cell_type": "markdown",
   "metadata": {},
   "source": [
    "__EDA 3 Findings:__\n",
    "\n",
    "From both the histograms and statistics summary, we can see that most of the integer features are very right-skewed with outliers. When fitting to the integers without any feature engineering, we might give the outliers more than appropriate weight in affecting our model's decision-making. Therefore, it is worth it to try transforming the integers by taking the natural log of its values. We will compare the performance of the model with and without the log transformation."
   ]
  },
  {
   "cell_type": "markdown",
   "metadata": {},
   "source": [
    "==================================================================================================================================="
   ]
  },
  {
   "cell_type": "markdown",
   "metadata": {},
   "source": [
    "# __Section 4__ - Algorithm Implementation"
   ]
  },
  {
   "cell_type": "markdown",
   "metadata": {},
   "source": [
    "## Feature Engineering\n",
    "\n",
    "We start section 4 with our default feature engineering based on the EDA in section 3 that we think can improve the performance of our model."
   ]
  },
  {
   "cell_type": "markdown",
   "metadata": {},
   "source": [
    "### Categorical Variables\n",
    "\n",
    "We replace the categorical values having counts less than 10 occurances with a special value `***` to prevent overfitting and distinguishing them from missing values."
   ]
  },
  {
   "cell_type": "code",
   "execution_count": 18,
   "metadata": {},
   "outputs": [],
   "source": [
    "#set the default threshold at 10\n",
    "threshold = 10\n",
    "\n",
    "train_parquet_MD = train_parquet\n",
    "\n",
    "# transform data column by column\n",
    "for col in cateFieldNames:\n",
    "    valuesToKeep = train_parquet.groupBy(col).count().filter(f\"count >= {threshold}\").select(col)\n",
    "    valuesToKeep = valuesToKeep.withColumn(\"_\"+col, train_parquet[col])\n",
    "    valuesToKeep = valuesToKeep.drop(col)\n",
    "\n",
    "    train_parquet_MD = train_parquet_MD.join(F.broadcast(valuesToKeep), train_parquet_MD[col] == valuesToKeep[\"_\"+col], 'leftouter')\n",
    "    train_parquet_MD = train_parquet_MD.withColumn(col, F.when(F.col(\"_\"+col).isNull(), \"***\").otherwise(F.col(\"_\"+col)))\n",
    "    train_parquet_MD = train_parquet_MD.drop(\"_\"+col)\n",
    "    "
   ]
  },
  {
   "cell_type": "code",
   "execution_count": 19,
   "metadata": {
    "scrolled": true
   },
   "outputs": [
    {
     "name": "stdout",
     "output_type": "stream",
     "text": [
      "+-----+-------------+-------------+-------------+-------------+-------------+-------------+-------------+-------------+-------------+--------------+--------------+--------------+--------------+--------------+--------------+--------------+--------------+--------------+--------------+--------------+--------------+--------------+---------------+---------------+---------------+---------------+---------------+---------------+---------------+---------------+---------------+---------------+---------------+---------------+---------------+---------------+---------------+---------------+---------------+\n",
      "|label|int_feature_1|int_feature_2|int_feature_3|int_feature_4|int_feature_5|int_feature_6|int_feature_7|int_feature_8|int_feature_9|int_feature_10|int_feature_11|int_feature_12|int_feature_13|cate_feature_1|cate_feature_2|cate_feature_3|cate_feature_4|cate_feature_5|cate_feature_6|cate_feature_7|cate_feature_8|cate_feature_9|cate_feature_10|cate_feature_11|cate_feature_12|cate_feature_13|cate_feature_14|cate_feature_15|cate_feature_16|cate_feature_17|cate_feature_18|cate_feature_19|cate_feature_20|cate_feature_21|cate_feature_22|cate_feature_23|cate_feature_24|cate_feature_25|cate_feature_26|\n",
      "+-----+-------------+-------------+-------------+-------------+-------------+-------------+-------------+-------------+-------------+--------------+--------------+--------------+--------------+--------------+--------------+--------------+--------------+--------------+--------------+--------------+--------------+--------------+---------------+---------------+---------------+---------------+---------------+---------------+---------------+---------------+---------------+---------------+---------------+---------------+---------------+---------------+---------------+---------------+---------------+\n",
      "|    0|         null|          139|         null|            2|         4828|           28|           11|            2|           28|          null|             1|             0|             2|      05db9164|      d833535f|      77f2f2e5|      d16679b9|      4cf72387|      fe6b92e5|      9ea2e0f0|      0b153874|      a73ee510|       43b7a3fa|       2dad6ba2|       9f32b866|       47cb697a|       07d13a8f|       943169c2|       31ca40b6|       e5ba7672|       281769c2|            ***|            ***|       dfcfc3fa|       c9d4222a|       32c7478e|       aee52b6f|            ***|            ***|\n",
      "|    0|         null|            3|            7|            5|        46272|          314|            0|            5|           39|          null|             0|          null|             5|      05db9164|      9b25e48b|           ***|           ***|      25c83c98|           ***|      1401df5c|      0b153874|      7cc72ec2|       a4c398f8|       f697a983|            ***|       e5643e9a|       07d13a8f|       054ebda1|            ***|       e5ba7672|       7d8c03aa|       1d04f4a4|       5840adea|            ***|            ***|       c7dc6720|       48b11258|       ea9a246c|       b4a4615f|\n",
      "|    0|            3|            2|         null|            1|            0|            1|           42|           16|          390|             1|            18|            12|             0|      8cf07265|      38d50e09|      50b60277|      64607668|      25c83c98|      fbad5c96|      97f8984c|      0b153874|      a73ee510|       3b08e48b|       0a41d304|       c65541d1|       11aa1375|       cfef1c29|       71c460b5|       ff8dfb8b|       8efede7f|       582152eb|       21ddcdc9|       5840adea|       0c8b6f3b|            ***|       55dd3565|       51b4beaa|       001f3601|       1d5d3a57|\n",
      "|    0|            0|            0|         null|            7|         2831|         null|            0|           32|            1|             0|             0|             0|            32|      68fd1e64|      7cd19acc|      ad4b77ff|      d16679b9|      25c83c98|      7e0ccccf|      5c6e106b|      0b153874|      a73ee510|       2c443d6f|       5420373c|       a2f4e8b5|       ab160bba|       1adce6ef|       5e3f66c0|       89052618|       e5ba7672|       416587b1|            ***|            ***|       d4703ebd|            ***|       423fab69|       aee52b6f|            ***|            ***|\n",
      "|    0|         null|            4|            4|            1|            8|         null|            0|            1|            1|          null|             0|          null|             1|      05db9164|      bc478804|           ***|      13508380|      30903e74|      7e0ccccf|      038685fb|      5b392875|      a73ee510|       612f8227|       ed04080f|            ***|       5579ddc3|       07d13a8f|       0af7c64c|            ***|       1e88c74f|       65a2ac26|       423fab69|       b1252a9d|            ***|            ***|       32c7478e|       45ab94c8|       001f3601|       c84c4aec|\n",
      "+-----+-------------+-------------+-------------+-------------+-------------+-------------+-------------+-------------+-------------+--------------+--------------+--------------+--------------+--------------+--------------+--------------+--------------+--------------+--------------+--------------+--------------+--------------+---------------+---------------+---------------+---------------+---------------+---------------+---------------+---------------+---------------+---------------+---------------+---------------+---------------+---------------+---------------+---------------+---------------+\n",
      "only showing top 5 rows\n",
      "\n"
     ]
    }
   ],
   "source": [
    "# view data after the replacement\n",
    "train_parquet_MD.show(5)"
   ]
  },
  {
   "cell_type": "markdown",
   "metadata": {},
   "source": [
    "### Numeric Variables\n",
    "\n",
    "By default, we take the floor of the log of the numerical value + 2. \n",
    "> Log transform is aimming to reduce the potentially drastic effect out outliers can have in the model.  \n",
    "> The +2 is to prevent 0 becoming undefined and to separate 0 from 1 because 0 might have a more special meaning than value >= 1 since it represents the total absence of something.  \n",
    "> ($\\lfloor log(0+2) \\rfloor = 0$, $\\lfloor log(i+2) \\rfloor = 0, where\\ i=\\{1,2,3,4,5\\}$)"
   ]
  },
  {
   "cell_type": "code",
   "execution_count": 20,
   "metadata": {},
   "outputs": [],
   "source": [
    "# transform data column by column\n",
    "for col in intFieldNames:\n",
    "    train_parquet_MD = train_parquet_MD.withColumn(col, F.floor(F.log(F.col(col)+F.lit(1))))"
   ]
  },
  {
   "cell_type": "code",
   "execution_count": 21,
   "metadata": {
    "scrolled": true
   },
   "outputs": [
    {
     "name": "stdout",
     "output_type": "stream",
     "text": [
      "+-----+-------------+-------------+-------------+-------------+-------------+-------------+-------------+-------------+-------------+--------------+--------------+--------------+--------------+--------------+--------------+--------------+--------------+--------------+--------------+--------------+--------------+--------------+---------------+---------------+---------------+---------------+---------------+---------------+---------------+---------------+---------------+---------------+---------------+---------------+---------------+---------------+---------------+---------------+---------------+\n",
      "|label|int_feature_1|int_feature_2|int_feature_3|int_feature_4|int_feature_5|int_feature_6|int_feature_7|int_feature_8|int_feature_9|int_feature_10|int_feature_11|int_feature_12|int_feature_13|cate_feature_1|cate_feature_2|cate_feature_3|cate_feature_4|cate_feature_5|cate_feature_6|cate_feature_7|cate_feature_8|cate_feature_9|cate_feature_10|cate_feature_11|cate_feature_12|cate_feature_13|cate_feature_14|cate_feature_15|cate_feature_16|cate_feature_17|cate_feature_18|cate_feature_19|cate_feature_20|cate_feature_21|cate_feature_22|cate_feature_23|cate_feature_24|cate_feature_25|cate_feature_26|\n",
      "+-----+-------------+-------------+-------------+-------------+-------------+-------------+-------------+-------------+-------------+--------------+--------------+--------------+--------------+--------------+--------------+--------------+--------------+--------------+--------------+--------------+--------------+--------------+---------------+---------------+---------------+---------------+---------------+---------------+---------------+---------------+---------------+---------------+---------------+---------------+---------------+---------------+---------------+---------------+---------------+\n",
      "|    0|         null|            4|         null|            1|            8|            3|            2|            1|            3|          null|             0|             0|             1|      05db9164|      d833535f|      77f2f2e5|      d16679b9|      4cf72387|      fe6b92e5|      9ea2e0f0|      0b153874|      a73ee510|       43b7a3fa|       2dad6ba2|       9f32b866|       47cb697a|       07d13a8f|       943169c2|       31ca40b6|       e5ba7672|       281769c2|            ***|            ***|       dfcfc3fa|       c9d4222a|       32c7478e|       aee52b6f|            ***|            ***|\n",
      "|    0|         null|            1|            2|            1|           10|            5|            0|            1|            3|          null|             0|          null|             1|      05db9164|      9b25e48b|           ***|           ***|      25c83c98|           ***|      1401df5c|      0b153874|      7cc72ec2|       a4c398f8|       f697a983|            ***|       e5643e9a|       07d13a8f|       054ebda1|            ***|       e5ba7672|       7d8c03aa|       1d04f4a4|       5840adea|            ***|            ***|       c7dc6720|       48b11258|       ea9a246c|       b4a4615f|\n",
      "|    0|            1|            1|         null|            0|            0|            0|            3|            2|            5|             0|             2|             2|             0|      8cf07265|      38d50e09|      50b60277|      64607668|      25c83c98|      fbad5c96|      97f8984c|      0b153874|      a73ee510|       3b08e48b|       0a41d304|       c65541d1|       11aa1375|       cfef1c29|       71c460b5|       ff8dfb8b|       8efede7f|       582152eb|       21ddcdc9|       5840adea|       0c8b6f3b|            ***|       55dd3565|       51b4beaa|       001f3601|       1d5d3a57|\n",
      "|    0|            0|            0|         null|            2|            7|         null|            0|            3|            0|             0|             0|             0|             3|      68fd1e64|      7cd19acc|      ad4b77ff|      d16679b9|      25c83c98|      7e0ccccf|      5c6e106b|      0b153874|      a73ee510|       2c443d6f|       5420373c|       a2f4e8b5|       ab160bba|       1adce6ef|       5e3f66c0|       89052618|       e5ba7672|       416587b1|            ***|            ***|       d4703ebd|            ***|       423fab69|       aee52b6f|            ***|            ***|\n",
      "|    0|         null|            1|            1|            0|            2|         null|            0|            0|            0|          null|             0|          null|             0|      05db9164|      bc478804|           ***|      13508380|      30903e74|      7e0ccccf|      038685fb|      5b392875|      a73ee510|       612f8227|       ed04080f|            ***|       5579ddc3|       07d13a8f|       0af7c64c|            ***|       1e88c74f|       65a2ac26|       423fab69|       b1252a9d|            ***|            ***|       32c7478e|       45ab94c8|       001f3601|       c84c4aec|\n",
      "+-----+-------------+-------------+-------------+-------------+-------------+-------------+-------------+-------------+-------------+--------------+--------------+--------------+--------------+--------------+--------------+--------------+--------------+--------------+--------------+--------------+--------------+--------------+---------------+---------------+---------------+---------------+---------------+---------------+---------------+---------------+---------------+---------------+---------------+---------------+---------------+---------------+---------------+---------------+---------------+\n",
      "only showing top 5 rows\n",
      "\n"
     ]
    }
   ],
   "source": [
    "# view data after the transformation\n",
    "train_parquet_MD.show(5)"
   ]
  },
  {
   "cell_type": "markdown",
   "metadata": {},
   "source": [
    "### Hashing"
   ]
  },
  {
   "cell_type": "markdown",
   "metadata": {},
   "source": [
    "All four of the models we discussed in section 2 were parametric models. In order to train and use parametric models, we need to transform the text of categorical data so that they are represented by numbers. The most straight forward way to tackle this task is one-hot-encoding where for each category, a distinct value is represented by their position in the vector and a value of one in the position.\n",
    "\n",
    "In our project, we decided to use the hashing trick: https://en.wikipedia.org/wiki/Feature_hashing  \n",
    "The core idea of feature hash is simple: Instead of making a one-to-one mapping of a categorical value to a position and a number in the feature vector, we use a hashing function to decide the location of a categorical value in our feature vector, which usually has a lower dimension than the dimension of our features. \n",
    "\n",
    "Just like any other hashing methods, collision might occur (collision is bound to happen when hashing to a lower dimension), where two distinct features are hashed to the same location. Yet, empirical findings have suggusted that for very sparse feature space, it doesn't significantly impact performance. Since data is sparse, it is unlikely that a single feature can have great impact in the model performance. A collision is only catastrophic when two very important features collide but it is unlikely for sparse data since it's rare to have one deciding feature and the odds of two extremely features colliding in a large space is even lower. In some cases, collision brings in noise to our training data resulting in less overfitting and improved performance. \n",
    "\n",
    "In this project we consider to use feature hashing due to the following advantages it has over one-hot-encoding:\n",
    "1. It is faster than buiding the one-to-one mapping needed for one-hot-encoding\n",
    "2. We don't need to store that mapping in memory for lookup for transforming unseen data come inference time.\n",
    "3. We don't need to deal with unseen feature come inference time.\n",
    "\n",
    "_source: https://dzone.com/articles/feature-hashing-for-scalable-machine-learning_"
   ]
  },
  {
   "cell_type": "code",
   "execution_count": 22,
   "metadata": {
    "scrolled": false
   },
   "outputs": [],
   "source": [
    "# set the number of feature to 50000 about twice as much as the average feature count for each column. \n",
    "# This number is to be higher when using non-field-aware methods\n",
    "n_features = 50000 \n",
    "n_fields = len(intFieldNames) + len(cateFieldNames)\n",
    "\n",
    "# hash the features\n",
    "hasher = FeatureHasher()\n",
    "# the default is to hash integer features as categorical\n",
    "hasher.setCategoricalCols(intFieldNames)\n",
    "hasher.setNumFeatures(n_features)\n",
    "\n",
    "for col in intFieldNames + cateFieldNames:\n",
    "    hasher.setInputCols([col])\n",
    "    hasher.setOutputCol(col+\"_hashed\")\n",
    "    train_parquet_MD = hasher.transform(train_parquet_MD)\n",
    " \n",
    "\n",
    "hashed_columns = train_parquet_MD.schema.names[-n_fields:]\n",
    "\n",
    "# Convert values to hashes\n",
    "def parse_sparse_vectors(vector, field_ind):\n",
    "    \"\"\"\n",
    "    Helper function which takes in a sparse vector and field number and emit a tuple of (FIELD_NUMBER, FEATURE_NUMBER)\n",
    "    \n",
    "    Args:\n",
    "        vector  - a sparse vector with the hash\n",
    "        field_ind  - the field index of the feature\n",
    "    Returns:\n",
    "        a tuple of (FIELD_NUMBER, FEATURE_NUMBER)\n",
    "    \"\"\"\n",
    "    if vector.indices.size > 0:\n",
    "        return int(vector.indices[0])\n",
    "    else:\n",
    "        return None\n",
    "# build a udf with the function parse_sparse_vectors\n",
    "vector_parser = F.udf(parse_sparse_vectors, types.IntegerType())\n",
    "\n",
    "train_parquet_hashed = train_parquet_MD\n",
    "\n",
    "# convert the sparse vectors to tuples of (FIELD_NUMBER, FEATURE_NUMBER)\n",
    "\n",
    "for field_ind, col in enumerate(hashed_columns):\n",
    "    train_parquet_hashed = train_parquet_hashed.withColumn(col, vector_parser(col, F.lit(field_ind)))\n",
    "\n",
    "train_parquet_hashed = train_parquet_hashed.drop(*(intFieldNames + cateFieldNames))"
   ]
  },
  {
   "cell_type": "code",
   "execution_count": 24,
   "metadata": {
    "scrolled": true
   },
   "outputs": [
    {
     "name": "stdout",
     "output_type": "stream",
     "text": [
      "+------------+--------------------+--------------------+--------------------+--------------------+--------------------+--------------------+--------------------+--------------------+--------------------+---------------------+---------------------+---------------------+---------------------+---------------------+---------------------+---------------------+---------------------+---------------------+---------------------+---------------------+---------------------+---------------------+----------------------+----------------------+----------------------+----------------------+----------------------+----------------------+----------------------+----------------------+----------------------+----------------------+----------------------+----------------------+----------------------+----------------------+----------------------+----------------------+----------------------+\n",
      "|label_hashed|int_feature_1_hashed|int_feature_2_hashed|int_feature_3_hashed|int_feature_4_hashed|int_feature_5_hashed|int_feature_6_hashed|int_feature_7_hashed|int_feature_8_hashed|int_feature_9_hashed|int_feature_10_hashed|int_feature_11_hashed|int_feature_12_hashed|int_feature_13_hashed|cate_feature_1_hashed|cate_feature_2_hashed|cate_feature_3_hashed|cate_feature_4_hashed|cate_feature_5_hashed|cate_feature_6_hashed|cate_feature_7_hashed|cate_feature_8_hashed|cate_feature_9_hashed|cate_feature_10_hashed|cate_feature_11_hashed|cate_feature_12_hashed|cate_feature_13_hashed|cate_feature_14_hashed|cate_feature_15_hashed|cate_feature_16_hashed|cate_feature_17_hashed|cate_feature_18_hashed|cate_feature_19_hashed|cate_feature_20_hashed|cate_feature_21_hashed|cate_feature_22_hashed|cate_feature_23_hashed|cate_feature_24_hashed|cate_feature_25_hashed|cate_feature_26_hashed|\n",
      "+------------+--------------------+--------------------+--------------------+--------------------+--------------------+--------------------+--------------------+--------------------+--------------------+---------------------+---------------------+---------------------+---------------------+---------------------+---------------------+---------------------+---------------------+---------------------+---------------------+---------------------+---------------------+---------------------+----------------------+----------------------+----------------------+----------------------+----------------------+----------------------+----------------------+----------------------+----------------------+----------------------+----------------------+----------------------+----------------------+----------------------+----------------------+----------------------+----------------------+\n",
      "|        6501|                null|               42336|                null|                 679|                7993|               21606|               37940|               10669|               49130|                 null|                28649|                37498|                 2881|                38616|                10794|                 4981|                31787|                25021|                25660|                33850|                27171|                36563|                 12966|                 37799|                 35545|                 44921|                 33612|                 44819|                 16540|                 46193|                 33698|                 22179|                 25247|                 49759|                 43837|                 49761|                 17038|                 31686|                 27277|\n",
      "|        6501|                null|               39867|                3014|                 679|               40717|               13844|               42737|               10669|               49130|                 null|                28649|                 null|                 2881|                38616|                13184|                19906|                 8694|                34640|                23340|                29386|                27171|                  855|                 13041|                 27791|                 37894|                   536|                 33612|                 44466|                 47102|                 46193|                 28886|                 28402|                 47451|                 36487|                 32721|                 36426|                 17861|                 36388|                 42945|\n",
      "|        6501|               33715|               39867|                null|               46475|               45509|                4376|               45290|               20980|               49916|                20853|                27967|                38542|                22498|                38201|                20468|                 9925|                16934|                34640|                  746|                29988|                27171|                36563|                 43494|                 13280|                 45105|                 29890|                 10735|                  6135|                 30182|                 29862|                 46694|                   618|                 47451|                 13818|                 32721|                 32775|                 13305|                 22189|                   170|\n",
      "|        6501|                2838|                4408|                null|               46777|               45339|                null|               42737|                9529|               39301|                20853|                28649|                37498|                 9629|                27554|                43093|                 5819|                31787|                34640|                31272|                43231|                27171|                36563|                 45104|                 16906|                 21220|                  5839|                  9767|                 47273|                 14029|                 46193|                  1786|                 22179|                 25247|                 23858|                 32721|                 40270|                 17038|                 31686|                 27277|\n",
      "|        6501|                null|               39867|               36554|               46475|               49736|                null|               42737|               23152|               39301|                 null|                28649|                 null|                22498|                38616|                 5410|                19906|                 9516|                31757|                31272|                17255|                32336|                36563|                 26630|                 37265|                 37894|                  7333|                 33612|                 18538|                 47102|                 48309|                 49965|                 12466|                 32434|                 36487|                 32721|                 49761|                 12887|                 22189|                 25615|\n",
      "+------------+--------------------+--------------------+--------------------+--------------------+--------------------+--------------------+--------------------+--------------------+--------------------+---------------------+---------------------+---------------------+---------------------+---------------------+---------------------+---------------------+---------------------+---------------------+---------------------+---------------------+---------------------+---------------------+----------------------+----------------------+----------------------+----------------------+----------------------+----------------------+----------------------+----------------------+----------------------+----------------------+----------------------+----------------------+----------------------+----------------------+----------------------+----------------------+----------------------+\n",
      "only showing top 5 rows\n",
      "\n"
     ]
    }
   ],
   "source": [
    "# view the hashed df\n",
    "train_parquet_hashed.show(5)"
   ]
  },
  {
   "cell_type": "markdown",
   "metadata": {},
   "source": [
    "We have preprocessed our training data according with the default values suggested by our EDA. The next step is to train our FFM model."
   ]
  },
  {
   "cell_type": "markdown",
   "metadata": {},
   "source": [
    "================================================================================================================================================="
   ]
  },
  {
   "cell_type": "markdown",
   "metadata": {},
   "source": [
    "## FFM"
   ]
  },
  {
   "cell_type": "markdown",
   "metadata": {},
   "source": [
    "__Noah's Section for FFM__"
   ]
  },
  {
   "cell_type": "markdown",
   "metadata": {},
   "source": [
    "==============================================================================================================================================="
   ]
  },
  {
   "cell_type": "markdown",
   "metadata": {},
   "source": [
    "## Logistic Regression\n",
    "\n",
    "We will use the logistic regression from Spark ML to build a model using the 80% of the training set, and calculate the average log loss on the 20% of the heldout set."
   ]
  },
  {
   "cell_type": "code",
   "execution_count": 31,
   "metadata": {
    "scrolled": false
   },
   "outputs": [
    {
     "name": "stdout",
     "output_type": "stream",
     "text": [
      "+-----+-------------+-------------+-------------+-------------+-------------+-------------+-------------+-------------+-------------+--------------+--------------+--------------+--------------+--------------+--------------+--------------+--------------+--------------+--------------+--------------+--------------+--------------+---------------+---------------+---------------+---------------+---------------+---------------+---------------+---------------+---------------+---------------+---------------+---------------+---------------+---------------+---------------+---------------+---------------+\n",
      "|label|int_feature_1|int_feature_2|int_feature_3|int_feature_4|int_feature_5|int_feature_6|int_feature_7|int_feature_8|int_feature_9|int_feature_10|int_feature_11|int_feature_12|int_feature_13|cate_feature_1|cate_feature_2|cate_feature_3|cate_feature_4|cate_feature_5|cate_feature_6|cate_feature_7|cate_feature_8|cate_feature_9|cate_feature_10|cate_feature_11|cate_feature_12|cate_feature_13|cate_feature_14|cate_feature_15|cate_feature_16|cate_feature_17|cate_feature_18|cate_feature_19|cate_feature_20|cate_feature_21|cate_feature_22|cate_feature_23|cate_feature_24|cate_feature_25|cate_feature_26|\n",
      "+-----+-------------+-------------+-------------+-------------+-------------+-------------+-------------+-------------+-------------+--------------+--------------+--------------+--------------+--------------+--------------+--------------+--------------+--------------+--------------+--------------+--------------+--------------+---------------+---------------+---------------+---------------+---------------+---------------+---------------+---------------+---------------+---------------+---------------+---------------+---------------+---------------+---------------+---------------+---------------+\n",
      "|    0|         null|          139|         null|            2|         4828|           28|           11|            2|           28|          null|             1|             0|             2|      05db9164|      d833535f|      77f2f2e5|      d16679b9|      4cf72387|      fe6b92e5|      9ea2e0f0|      0b153874|      a73ee510|       43b7a3fa|       2dad6ba2|       9f32b866|       47cb697a|       07d13a8f|       943169c2|       31ca40b6|       e5ba7672|       281769c2|            ***|            ***|       dfcfc3fa|       c9d4222a|       32c7478e|       aee52b6f|            ***|            ***|\n",
      "|    0|         null|            3|            7|            5|        46272|          314|            0|            5|           39|          null|             0|          null|             5|      05db9164|      9b25e48b|           ***|           ***|      25c83c98|           ***|      1401df5c|      0b153874|      7cc72ec2|       a4c398f8|       f697a983|            ***|       e5643e9a|       07d13a8f|       054ebda1|            ***|       e5ba7672|       7d8c03aa|       1d04f4a4|       5840adea|            ***|            ***|       c7dc6720|       48b11258|       ea9a246c|       b4a4615f|\n",
      "|    0|            3|            2|         null|            1|            0|            1|           42|           16|          390|             1|            18|            12|             0|      8cf07265|      38d50e09|      50b60277|      64607668|      25c83c98|      fbad5c96|      97f8984c|      0b153874|      a73ee510|       3b08e48b|       0a41d304|       c65541d1|       11aa1375|       cfef1c29|       71c460b5|       ff8dfb8b|       8efede7f|       582152eb|       21ddcdc9|       5840adea|       0c8b6f3b|            ***|       55dd3565|       51b4beaa|       001f3601|       1d5d3a57|\n",
      "|    0|            0|            0|         null|            7|         2831|         null|            0|           32|            1|             0|             0|             0|            32|      68fd1e64|      7cd19acc|      ad4b77ff|      d16679b9|      25c83c98|      7e0ccccf|      5c6e106b|      0b153874|      a73ee510|       2c443d6f|       5420373c|       a2f4e8b5|       ab160bba|       1adce6ef|       5e3f66c0|       89052618|       e5ba7672|       416587b1|            ***|            ***|       d4703ebd|            ***|       423fab69|       aee52b6f|            ***|            ***|\n",
      "|    0|         null|            4|            4|            1|            8|         null|            0|            1|            1|          null|             0|          null|             1|      05db9164|      bc478804|           ***|      13508380|      30903e74|      7e0ccccf|      038685fb|      5b392875|      a73ee510|       612f8227|       ed04080f|            ***|       5579ddc3|       07d13a8f|       0af7c64c|            ***|       1e88c74f|       65a2ac26|       423fab69|       b1252a9d|            ***|            ***|       32c7478e|       45ab94c8|       001f3601|       c84c4aec|\n",
      "+-----+-------------+-------------+-------------+-------------+-------------+-------------+-------------+-------------+-------------+--------------+--------------+--------------+--------------+--------------+--------------+--------------+--------------+--------------+--------------+--------------+--------------+--------------+---------------+---------------+---------------+---------------+---------------+---------------+---------------+---------------+---------------+---------------+---------------+---------------+---------------+---------------+---------------+---------------+---------------+\n",
      "only showing top 5 rows\n",
      "\n",
      "+-----+-------------+-------------+-------------+-------------+-------------+-------------+-------------+-------------+-------------+--------------+--------------+--------------+--------------+--------------+--------------+--------------+--------------+--------------+--------------+--------------+--------------+--------------+---------------+---------------+---------------+---------------+---------------+---------------+---------------+---------------+---------------+---------------+---------------+---------------+---------------+---------------+---------------+---------------+---------------+\n",
      "|label|int_feature_1|int_feature_2|int_feature_3|int_feature_4|int_feature_5|int_feature_6|int_feature_7|int_feature_8|int_feature_9|int_feature_10|int_feature_11|int_feature_12|int_feature_13|cate_feature_1|cate_feature_2|cate_feature_3|cate_feature_4|cate_feature_5|cate_feature_6|cate_feature_7|cate_feature_8|cate_feature_9|cate_feature_10|cate_feature_11|cate_feature_12|cate_feature_13|cate_feature_14|cate_feature_15|cate_feature_16|cate_feature_17|cate_feature_18|cate_feature_19|cate_feature_20|cate_feature_21|cate_feature_22|cate_feature_23|cate_feature_24|cate_feature_25|cate_feature_26|\n",
      "+-----+-------------+-------------+-------------+-------------+-------------+-------------+-------------+-------------+-------------+--------------+--------------+--------------+--------------+--------------+--------------+--------------+--------------+--------------+--------------+--------------+--------------+--------------+---------------+---------------+---------------+---------------+---------------+---------------+---------------+---------------+---------------+---------------+---------------+---------------+---------------+---------------+---------------+---------------+---------------+\n",
      "|    0|         null|            4|         null|            1|            8|            3|            2|            1|            3|          null|             1|             0|             1|      05db9164|      d833535f|      77f2f2e5|      d16679b9|      4cf72387|      fe6b92e5|      9ea2e0f0|      0b153874|      a73ee510|       43b7a3fa|       2dad6ba2|       9f32b866|       47cb697a|       07d13a8f|       943169c2|       31ca40b6|       e5ba7672|       281769c2|            ***|            ***|       dfcfc3fa|       c9d4222a|       32c7478e|       aee52b6f|            ***|            ***|\n",
      "|    0|         null|            1|            2|            1|           10|            5|            0|            1|            3|          null|             0|          null|             1|      05db9164|      9b25e48b|           ***|           ***|      25c83c98|           ***|      1401df5c|      0b153874|      7cc72ec2|       a4c398f8|       f697a983|            ***|       e5643e9a|       07d13a8f|       054ebda1|            ***|       e5ba7672|       7d8c03aa|       1d04f4a4|       5840adea|            ***|            ***|       c7dc6720|       48b11258|       ea9a246c|       b4a4615f|\n",
      "|    0|            1|            1|         null|            1|            0|            1|            3|            2|            5|             1|             2|             2|             0|      8cf07265|      38d50e09|      50b60277|      64607668|      25c83c98|      fbad5c96|      97f8984c|      0b153874|      a73ee510|       3b08e48b|       0a41d304|       c65541d1|       11aa1375|       cfef1c29|       71c460b5|       ff8dfb8b|       8efede7f|       582152eb|       21ddcdc9|       5840adea|       0c8b6f3b|            ***|       55dd3565|       51b4beaa|       001f3601|       1d5d3a57|\n",
      "|    0|            0|            0|         null|            2|            7|         null|            0|            3|            1|             0|             0|             0|             3|      68fd1e64|      7cd19acc|      ad4b77ff|      d16679b9|      25c83c98|      7e0ccccf|      5c6e106b|      0b153874|      a73ee510|       2c443d6f|       5420373c|       a2f4e8b5|       ab160bba|       1adce6ef|       5e3f66c0|       89052618|       e5ba7672|       416587b1|            ***|            ***|       d4703ebd|            ***|       423fab69|       aee52b6f|            ***|            ***|\n",
      "|    0|         null|            1|            1|            1|            2|         null|            0|            1|            1|          null|             0|          null|             1|      05db9164|      bc478804|           ***|      13508380|      30903e74|      7e0ccccf|      038685fb|      5b392875|      a73ee510|       612f8227|       ed04080f|            ***|       5579ddc3|       07d13a8f|       0af7c64c|            ***|       1e88c74f|       65a2ac26|       423fab69|       b1252a9d|            ***|            ***|       32c7478e|       45ab94c8|       001f3601|       c84c4aec|\n",
      "+-----+-------------+-------------+-------------+-------------+-------------+-------------+-------------+-------------+-------------+--------------+--------------+--------------+--------------+--------------+--------------+--------------+--------------+--------------+--------------+--------------+--------------+--------------+---------------+---------------+---------------+---------------+---------------+---------------+---------------+---------------+---------------+---------------+---------------+---------------+---------------+---------------+---------------+---------------+---------------+\n",
      "only showing top 5 rows\n",
      "\n",
      "+-----+--------------------+\n",
      "|label|            features|\n",
      "+-----+--------------------+\n",
      "|    0|(1000000,[27171,3...|\n",
      "|    0|(1000000,[27171,5...|\n",
      "|    0|(1000000,[6135,99...|\n",
      "|    0|(1000000,[27171,1...|\n",
      "|    0|(1000000,[36554,7...|\n",
      "+-----+--------------------+\n",
      "only showing top 5 rows\n",
      "\n"
     ]
    }
   ],
   "source": [
    "#similar feature engineering process to FFM\n",
    "\n",
    "threshold = 10\n",
    "\n",
    "train_parquet_MD = train_parquet\n",
    "\n",
    "for col in cateFieldNames:\n",
    "    valuesToKeep = train_parquet.groupBy(col).count().filter(f\"count >= {threshold}\").select(col)\n",
    "    valuesToKeep = valuesToKeep.withColumn(\"_\"+col, train_parquet[col])\n",
    "    valuesToKeep = valuesToKeep.drop(col)\n",
    "\n",
    "    train_parquet_MD = train_parquet_MD.join(F.broadcast(valuesToKeep), train_parquet_MD[col] == valuesToKeep[\"_\"+col], 'leftouter')\n",
    "    train_parquet_MD = train_parquet_MD.withColumn(col, F.when(F.col(\"_\"+col).isNull(), \"***\").otherwise(F.col(\"_\"+col)))\n",
    "    train_parquet_MD = train_parquet_MD.drop(\"_\"+col)\n",
    "\n",
    "train_parquet_MD.show(5)\n",
    "\n",
    "for col in intFieldNames:\n",
    "    train_parquet_MD = train_parquet_MD.withColumn(col, F.floor(F.log(F.col(col)+F.lit(2))))\n",
    "\n",
    "train_parquet_MD.show(5)\n",
    "\n",
    "n_features = 1000000 #hash to a set of 1 million feature since it's not field aware and we have a total of 1085739 feature according to EDA\n",
    "\n",
    "\n",
    "hasher = FeatureHasher(inputCols=intFieldNames + cateFieldNames, outputCol=\"features\")\n",
    "hasher.setCategoricalCols(intFieldNames)\n",
    "hasher.setNumFeatures(n_features)\n",
    "\n",
    "df_hashed = hasher.transform(train_parquet_MD).select(\"label\", \"features\").cache()\n",
    "\n",
    "df_hashed.show(5)"
   ]
  },
  {
   "cell_type": "code",
   "execution_count": 32,
   "metadata": {},
   "outputs": [],
   "source": [
    "# do a 20%, 80% split\n",
    "heldOutDF, trainDF = df_hashed.randomSplit([0.2,0.8], seed = 5)"
   ]
  },
  {
   "cell_type": "code",
   "execution_count": 33,
   "metadata": {},
   "outputs": [],
   "source": [
    "# fit a logistic regression model with L2 regularization and regularization parameter = 1\n",
    "blor = LogisticRegression(regParam=0.1)\n",
    "blorModel = blor.fit(trainDF)\n",
    "result = blorModel.transform(heldOutDF).cache()"
   ]
  },
  {
   "cell_type": "code",
   "execution_count": 34,
   "metadata": {},
   "outputs": [],
   "source": [
    "def calculateLogLoss(df, probCol='probability', labelCol='label'):\n",
    "    def logloss(probVector, label):\n",
    "        \"\"\"\n",
    "        udf which helps calculate the log loss of test set\n",
    "\n",
    "        Args:\n",
    "            probVector - a dense vector with first number as the predicted probability of label being 0\n",
    "            label      - the true label of an instance\n",
    "        Returns:\n",
    "            the log loss of a instance\n",
    "        \"\"\"\n",
    "        import math\n",
    "        # get the predicted probability of label = 0\n",
    "        probability = probVector[0]\n",
    "        # convert label to a float for calculation\n",
    "        label = float(label)\n",
    "\n",
    "        return -1.0 * (label*math.log(1-probability)+(1.0-label)*math.log(probability))\n",
    "    \n",
    "    # create an udf for dataframe\n",
    "    cal_logloss = F.udf(logloss, types.DoubleType())\n",
    "    \n",
    "    # calculate the average log loss in the input dataframe\n",
    "    meanLoss = df.withColumn(\"loss\", cal_logloss('probability','label')).agg(F.avg(\"loss\")).collect()\n",
    "    \n",
    "    return meanLoss"
   ]
  },
  {
   "cell_type": "code",
   "execution_count": 35,
   "metadata": {},
   "outputs": [
    {
     "name": "stdout",
     "output_type": "stream",
     "text": [
      "+-----+--------------------+--------------------+--------------------+----------+\n",
      "|label|            features|       rawPrediction|         probability|prediction|\n",
      "+-----+--------------------+--------------------+--------------------+----------+\n",
      "|    0|(1000000,[1,63097...|[3.04323408301368...|[0.95448952211045...|       0.0|\n",
      "|    0|(1000000,[13,1510...|[2.82499730621538...|[0.94401177856229...|       0.0|\n",
      "|    0|(1000000,[13,2717...|[3.14050066054781...|[0.95853278536500...|       0.0|\n",
      "|    0|(1000000,[21,1643...|[3.53950764318955...|[0.97179121816449...|       0.0|\n",
      "|    0|(1000000,[29,2717...|[3.30615615511194...|[0.96463940028366...|       0.0|\n",
      "+-----+--------------------+--------------------+--------------------+----------+\n",
      "only showing top 5 rows\n",
      "\n"
     ]
    }
   ],
   "source": [
    "result.show(5)"
   ]
  },
  {
   "cell_type": "code",
   "execution_count": 36,
   "metadata": {
    "scrolled": false
   },
   "outputs": [
    {
     "data": {
      "text/plain": [
       "[Row(avg(loss)=0.08608094434475863)]"
      ]
     },
     "execution_count": 36,
     "metadata": {},
     "output_type": "execute_result"
    }
   ],
   "source": [
    "calculateLogLoss(result)"
   ]
  },
  {
   "cell_type": "markdown",
   "metadata": {},
   "source": [
    "# __Section 5__ - Course Concepts"
   ]
  },
  {
   "cell_type": "markdown",
   "metadata": {},
   "source": [
    "### Map Reduce Paradigm\n",
    "\n",
    "Our FFM algorithm is implemented by iteratively using a series of map-reduce tasks. At the beginning of each iteration, we  broadcast the current weight matrix of latent vectors to all worker nodes. The first map-reduce task then begins, with the mapper reading the broadcast latent vectors to calculate the predicted click-through-rate for each impression. A second map-reduce task is then used to update the weight matrix (using gradient descent methods) for the next iteration of the algorithm. In this second map-reduce task, the mapper is used to compute the sub-gradients on each partition of the data. The reduce phase of then aggregates the sub-gradients and generates a single gradient update for our weight matrix of latent vectors. This is closely related to the approach of using Map-Reduce to run OLS in Homework 4 in parallel.\n",
    "\n",
    "### Gradient Descent - Batch vs Stochastic\n",
    "\n",
    "As previously noted, Juan, Zhuang, Chin, & Lin utilize stochastic gradient descent for their implementation of FFM. They are able to do this by making use of the Hogwild algorithm to parallelize the algorithm across multiple cores with shared memory. This was not possible for our implementation using distributed computation without shared memory in Pyspark. In order to implement stochastic gradient descent, we would have had to repeatedly broadcast a massive array of coefficients and gradients, which is computationally infeasible. As such, we opted instead to implement a parallelized version of batch gradient descent to reduce the need for large shuffles and network communcation. This also prevented potential issues with synchronization of updates.\n",
    "\n",
    "\n",
    "### One-Hot Encoding, Sparse Data\n",
    "\n",
    "Given the raw structure of our data, we were faced with several decisions about how to represent and engineer our features. With many categorical variables, one possibility was to use one-hot encoding, essentially creating indicator variables for every feature within every category. Yet as seen in our EDA, each categorical variable had an enormous number of distinct features. A one-hot encoded representation of the dataset thus would have been very large, and very sparse. Instead, we elected to represent our data using feature hashing, as Juan, Zhuang, Chin, and Lin. With this method, each feature is simply encoded as `(field_index,feature_index)` since all values are one because integer features are all so treated as categorical after log transfomation. Therefore, instead of a size of data insteading of being feature number times number of instances, it is 39 times the number of instances. This leads to a much more efficient use of space for our dataset."
   ]
  }
 ],
 "metadata": {
  "kernelspec": {
   "display_name": "Python 3",
   "language": "python",
   "name": "python3"
  },
  "language_info": {
   "codemirror_mode": {
    "name": "ipython",
    "version": 3
   },
   "file_extension": ".py",
   "mimetype": "text/x-python",
   "name": "python",
   "nbconvert_exporter": "python",
   "pygments_lexer": "ipython3",
   "version": "3.6.6"
  }
 },
 "nbformat": 4,
 "nbformat_minor": 4
}
