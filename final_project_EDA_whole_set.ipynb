{
 "cells": [
  {
   "cell_type": "markdown",
   "metadata": {},
   "source": [
    "# w261 Final Project - Clickthrough Rate Prediction\n"
   ]
  },
  {
   "cell_type": "markdown",
   "metadata": {},
   "source": [
    "[Team 15]   \n",
    "[Anu Yadav, Connor Stern, Erik Hou, Noah Pflaum]   \n",
    "Summer 2019, section [Hou, Stern, Yadav: Section 3; Pflaum: Section 5]   "
   ]
  },
  {
   "cell_type": "markdown",
   "metadata": {},
   "source": [
    "## Table of Contents\n",
    "\n",
    "* __Section 1__ - Question Formulation\n",
    "* __Section 2__ - Algorithm Explanation\n",
    "* __Section 3__ - EDA & Challenges\n",
    "* __Section 4__ - Algorithm Implementation\n",
    "* __Section 5__ - Course Concepts"
   ]
  },
  {
   "cell_type": "code",
   "execution_count": 8,
   "metadata": {},
   "outputs": [],
   "source": [
    "from pyspark.sql import types\n",
    "from pyspark.sql import SQLContext\n",
    "from pyspark.sql.functions import isnan\n",
    "from pyspark.sql import functions as F\n",
    "from pyspark.sql import SparkSession\n",
    "import numpy as np\n",
    "import matplotlib.pyplot as plt\n",
    "\n",
    "from pyspark.ml.feature import FeatureHasher\n",
    "from pyspark.ml.classification import LogisticRegression"
   ]
  },
  {
   "cell_type": "code",
   "execution_count": 11,
   "metadata": {},
   "outputs": [],
   "source": [
    "# Set the variable to True if running spark locally, to False if running this notebook using week 08 environment\n",
    "local = True"
   ]
  },
  {
   "cell_type": "code",
   "execution_count": 12,
   "metadata": {},
   "outputs": [],
   "source": [
    "\n",
    "if local:\n",
    "    # run if using local\n",
    "    app_name = \"final_project\"\n",
    "    master = \"local[*]\"\n",
    "    spark = SparkSession\\\n",
    "            .builder\\\n",
    "            .appName(app_name)\\\n",
    "            .master(master)\\\n",
    "            .getOrCreate()\n",
    "    # get the working directory\n",
    "    PWD = !pwd\n",
    "    PWD = PWD[0]\n",
    "    \n",
    "else:\n",
    "    # run if using wk08 environment\n",
    "    sqlContext = SQLContext(sc)\n",
    "    \n",
    "sc = spark.sparkContext"
   ]
  },
  {
   "cell_type": "code",
   "execution_count": 13,
   "metadata": {},
   "outputs": [
    {
     "data": {
      "text/plain": [
       "[('spark.driver.port', '37483'),\n",
       " ('spark.app.name', 'final_project'),\n",
       " ('spark.app.id', 'local-1576099697938'),\n",
       " ('spark.rdd.compress', 'True'),\n",
       " ('spark.serializer.objectStreamReset', '100'),\n",
       " ('spark.master', 'local[*]'),\n",
       " ('spark.executor.id', 'driver'),\n",
       " ('spark.submit.deployMode', 'client'),\n",
       " ('spark.ui.showConsoleProgress', 'true'),\n",
       " ('spark.driver.host', 'docker.w261')]"
      ]
     },
     "execution_count": 13,
     "metadata": {},
     "output_type": "execute_result"
    }
   ],
   "source": [
    "sc.getConf().getAll()"
   ]
  },
  {
   "cell_type": "markdown",
   "metadata": {},
   "source": [
    "# __Section 1__ - Question Formulation"
   ]
  },
  {
   "cell_type": "markdown",
   "metadata": {},
   "source": [
    "The digital advertising industry is booming. Every day, advertisers publish billions of ads to websites and other online platforms where potential customers can view and click on them. For example, Nike as an advertiser might post an ad for running shoes on the ESPN.com website or in a Google search for shoes. The position of the ad, the audience, and the time that the ad is displayed may all significantly influence a user's decision to click on it or not. \n",
    "\n",
    "Ad posts generate vast amount of user log data representing ad placement and whether or not a user clicked on an ad. This data is a treasure trove for companies seeking to more effectively target their ads to specific consumers. As such 'clickthrough rate' prediction (determining whether or not a customer will click on an ad) has become a core task in the field of digital advertising, and multiple clickthrough rate prediction challenges have been launched in recent years to build and continuously improve models that can predict given the features of the ad, whether or not a user will click on the ad. \n",
    "\n",
    "In this project, we seek to build our own homegrown model to complete such a task, inspired by previous successful models. The primary goal is to beat a baseline model defined by measuring the overall click-through rate (CTR, percent of ads clicked). A secondary goal is to match the model performance of competition-winning models.\n",
    "\n",
    "\n",
    "\n",
    "We therefore begin with the question:\n",
    "\n",
    "-  What are some common approaches to CTR prediction? Which have been the most successful in previous competitions?\n",
    "\n",
    "-  What metric is appropriate to measure model performance?\n",
    "\n",
    "    -  After some initial research, we find that CTR prediction is typically treated as a logistic regression problem. However, there are many different methods *within* a logistic regression framework that the problem can be handled. One such method is that of a Field-Aware Factorization Machine (FFM), which was the winning model for several of the previously mentioned CTR prediction competitions.\n",
    "    -  For several reasons, we consider log-loss to be the most appropriate performance metric in comparison to other metrics, such as accuracy. \n",
    "        -  When making inferences, we output a probability (as opposed to a label) for each input. Accuracy is a metric for predicted labels, while log-loss is a metric for predicted probabilities.\n",
    "        - Our training data is unbalanced, with 75% of our responses being non-clicks. As a result, we can get an accuracy of 75% for free (using a base-line of always predicting non-clicks) if accuracy is used as a metric. Log-loss is a better metric for handling imbalanced training data.\n",
    "    \n",
    "Inspired by the success of Juan, Zhuang, Chin, and Lin (the authors of several papers on FFMs and winners of the CTR challenges), we decide to implement a FFM model of our own. This leads us to several additional questions we seek to answer:\n",
    "\n",
    "-  What resource requirements are there for implementing an FFM?\n",
    "\n",
    "-  Can the FFM model be implemented in Pyspark using distributed computing using map-reduce patterns? What modifications (if any) need to be made to the algorithm/implementation outlined by Juan, Zhuang, Chin, and Lin for an FFM model to work in our framework?  \n",
    "\n",
    "- What level of performance can we expect with our implementation?\n",
    "\n",
    "    -  Juan, Zhuang, Chin, & Lin have built their own custom library called 'LibFFM'. Their papers outline an approach using the Hogwild algorithm that allows for concurrent updates to a sparse matrix of model coefficients, which eliminates some of the issues with the communication and synchronization barriers that generally exist when using stochastic gradient descent. Our goal is to explore how this algorithm might be implemented using the techniques we learned in this class (such as Pyspark and distributed computing using map-reduce patterns, as mentioned above). We do not expect our algorithm to be as performant as a customized C++ implmentation; instead, we highlight the application of the ideas learned in this class for creating predicitve models for big data.\n",
    "    \n",
    "To build our model, we use real-world training data provided for a clickthrough rate competion on Kaggle. The data can be found at:\n",
    "\n",
    "http://labs.criteo.com/2014/02/kaggle-display-advertising-challenge-dataset/\n",
    "\n",
    "From the `readme.txt` file, we have the following description of the data:\n",
    "\n",
    "> \"The training dataset consists of a portion of Criteo's traffic over a period of 7 days. Each row corresponds to a display ad served by Criteo and the first column is indicates whether this ad has been clicked or not. The positive (clicked) and negatives (non-clicked) examples have both been subsampled (but at different rates) in order to reduce the dataset size. There are 13 features taking integer values (mostly count features) and 26 categorical features. The values of the categorical features have been hashed onto 32 bits for anonymization purposes. The semantic of these features is undisclosed. Some features may have missing values. The rows are chronologically ordered.\"\n",
    "\n",
    "As we build our own FFM model, we will likely need to follow the suggestion and take samples of this large real-world dataset. In this way we can ensure our algorithm is working correctly before we attempt to scale our model to run on the full dataset.\n",
    "\n",
    "We will next dive more deeply into our choice of implementing a FFM model, and a detailed description of the algorithm, complete with a toy example.\n"
   ]
  },
  {
   "cell_type": "markdown",
   "metadata": {},
   "source": [
    "# __Section 2__ - Algorithm Explanation"
   ]
  },
  {
   "cell_type": "markdown",
   "metadata": {},
   "source": [
    "Because an online advertisement can either be clicked ($response = 1$) or not ($response = -1$) , Click-Through-Rate (CTR) Prediction is generally treated as a logistic regression problem. For any set of features, we calculate some value $s$, and perform the logit transformation to yield our CTR prediction:\n",
    "$$CTR = \\frac{1}{1+e^{-s}} $$\n",
    "\n",
    "The calculated CTR represents our predicted probability for a success($response=-1$). Therefore, we desire CTRs close to 1 of positive responses and CTRs close to 0 for negative responses. There are several methods we can use to estimate $s$, each with its own benefits and drawbacks. Typical implementations include a linear model, a degree-2 polynomial mapping, a factorization machine, and a field-aware factorization machine. \n",
    "\n",
    "We will consider an example with the following dataset as we discuss the different methods of estimating $s$:\n",
    "\n",
    "<table>\n",
    "<th>Response</th>\n",
    "<th>Publisher</th>\n",
    "<th>Advertiser</th>\n",
    "<th>Gender</th>\n",
    "<tr><td>1</td><td>Netflix</td><td>Pepsi</td><td>Male</td></tr>\n",
    "<tr><td>-1</td><td>Spotify</td><td>Pepsi</td><td>Male</td></tr>\n",
    "<tr><td>-1</td><td>Facebook</td><td>Gatorade</td><td>Female</td></tr>\n",
    "<tr><td>1</td><td>Spotify</td><td>Coca-cola</td><td>Male</td></tr>\n",
    "<tr><td>1</td><td>Facebook</td><td>Coca-cola</td><td>Female</td></tr>\n",
    "<tr><td>-1</td><td>Facebook</td><td>Pepsi</td><td>Female</td></tr>\n",
    "<tr><td>1</td><td>Netflix</td><td>Gatorade</td><td>Female</td></tr>\n",
    "</table>\n",
    "\n",
    "In this dataset, we refer to the categories Publisher, Advertiser, and Gender as \"fields\" and the labels within each field (Netflix, Spotify, Facebook, Pepsi, Gatorade, Coca-cola, Male, Female) as \"features.\"\n",
    "\n",
    "#### Linear Model\n",
    "In a linear model, the algorithm learns a weight for every given feature. The formulation of the model is:\n",
    "$$s = \\phi(\\textbf{w},\\textbf{x}) =\\textbf{w}^T \\textbf{x}  =\\sum_{j \\epsilon C_1}w_jx_j$$\n",
    "where $\\textbf{w}$ is the learned model, $\\textbf{x}$ is the data observation, and $C_1$ is the non-zero elements in $\\textbf{x}$. \n",
    "\n",
    "In our toy example, our model would learn different weights for the different Publishers (Netflix, Spotify, and Pepsi), Advertisers (Pepsi, Gatorade, and Coca-cola), and Genders (Male, Female). The value $s$ would then be calculated for each impression using these different weights. Thus, for each impression we would have have:\n",
    "\n",
    "$$\n",
    "\\begin{aligned}\n",
    "s =& w_{Netflix}\\cdot x_{Netflix} + w_{Spotify}\\cdot x_{Spotify} + w_{Facebook}\\cdot x_{Facebook} \\\\\n",
    "&+ w_{Coca-cola}\\cdot x_{Coca-cola} + w_{Pepsi}\\cdot x_{Pepsi} + w_{Gatorade}\\cdot x_{Gatorade} \\\\\n",
    "&+ + w_{Male}\\cdot x_{Male} + w_{Female}\\cdot x_{Female}\n",
    "\\end{aligned}\n",
    "$$\n",
    "\n",
    "For our first impression of the dataset (Netflix, Pepsi, Male) this becomes:\n",
    "$$s = w_{Netflix} + w_{Coca-cola} + w_{Male}$$\n",
    "since $x_j = 1$ for Netflix, Pepsi, and Male while $x_j = 0$ for all other features. \n",
    "\n",
    "\n",
    "This model is simple and efficient, yet it does not allow for interactive effects between features. For example, Coca-cola may have a higher CTR with Netflix than another publisher. A linear model is unable to learn this type of information, as it essentially learns the \"average effect\" of each feature.\n",
    "\n",
    "#### Degree-2 Polynomial Mapping\n",
    "The simplest way to learn the effect of the \"feature conjunction\" described above (in the case where a particular advertiser may have a higher CTR with one publisher compared to others) is to use a degree-2 polynomial mapping. In this model, the algorithm learns an additional weight for each feature pair. The formulation of the model is:\n",
    "$$s = \\phi(\\textbf{w},\\textbf{x}) = \\sum_{j_1, j_2 \\epsilon C_2} w_{j_1,j_2} \\cdot x_{j_1}x_{j_2}$$\n",
    "where $C_2$ is the pairwise combination of non-zero elements in $\\textbf{x}$.\n",
    "\n",
    "\n",
    "Returning to our example dataset and the impression with the features Netflix, Pepsi, and Male the model would be:\n",
    "$$s = w_{Netflix} + w_{Pepsi} + w_{Male} + w_{Netflix,Pepsi} + w_{Netflix,Male} + w_{Pepsi,Male}$$\n",
    "\n",
    "While this model improves on the linear model by allowing us to account for interactions between features, it does not handle sparse datasets well. Since we have 0 impressions of the advertiser Gatorade with the publisher Spotify, the model prediction will be trivial as no weight was learned for this feature combination. The model is also susceptible to overfitting, as it generates unreliable predictions for feature combinations with a very small number of impressions.\n",
    "\n",
    "#### Factorization Machine\n",
    "Factorization Machines (FM) begin to provide us a solution to the problem of sparse datasets. Here the model learns a latent vector, rather than an explicit weight, for each feature. The model formulation is:\n",
    "$$s = \\phi(\\textbf{w},\\textbf{x}) = \\sum_{j_1, j_2 \\epsilon C_2} \\langle \\textbf{w}_{j_1}, \\textbf{w}_{j_2} \\rangle x_{j_1}x_{j_2}$$\n",
    "where $\\textbf{w}_{j_1}$ and $\\textbf{w}_{j_2}$ are two learned latent vectors of length $k$ (some user-defined parameter).\n",
    "\n",
    "Returning to our example of an impression with the features of Netflix, Pepsi, and Male, the FM model would be:\n",
    "$$s = w_{Netflix} \\cdot w_{Pepsi} + w_{Netflix} \\cdot w_{Male} + w_{Pepsi} \\cdot w_{Male}$$\n",
    "where $w_{Netflix}, w_{Pepsi}, w_{Male} \\epsilon {\\rm I\\!R}^k$.\n",
    "\n",
    "This allows the model to learn the latent vectors for each feature based on all the data points for that feature, and these latent vectors can be used to predict the CTR for unobserved feature combinations (such as Spotify and Gatorade, as previously mentioned), something the degree-2 polynomial mapping method did not allow us to do.\n",
    "\n",
    "We notice in our example above, however, that the latent vector $w_{Netflix}$ is used twice: once to calculate the latent effect of the Publisher Netflix with the Advertiser Pepsi ($w_{Netflix} \\cdot w_{Pepsi}$), and once to calculate the latent effect of the Publisher Netflix with the Gender Male ($w_{Netflix} \\cdot w_{Male}$). Yet the latent effect for publisher with advertiser could be very different from the latent effect for publisher with gender, and as such the Factorization Machine model is too restrictive and unrealistic.\n",
    "\n",
    "\n",
    "#### Field-Aware Factorization Machine\n",
    "Field-Aware Factorization Machines (FFM) provide a solution to this problem by introducing the flexibility to learn multiple latent vectors for each feature. In the context of the above example, the FFM model will learn two separate latent vectors for Netflix: $w_{Netflix, A}$, which will be used for the calculation of $P \\times A$ (to learn the latent effect of Netflix with a given advertiser), and $w_{Netflix, G}$. $w_{Netflix, A}$, for the calculation of $P \\times G$ (to learn the latent effect of Netflix with a given gender).\n",
    "\n",
    "Specifically, the FFM model formulation with the (Netflix, Pepsi, Male) impression gives us:\n",
    "\n",
    "$$s = w_{Netflix, A} \\cdot w_{Pepsi, P} + w_{Netflix, G} \\cdot w_{Male, P} + w_{Pepsi, G} \\cdot w_{Male, A}$$\n",
    "\n",
    "Now, the latent effect of (Netflix, Pepsi), is learned by using the latent vector $w_{Netflix, A}$, since Pepsi belongs to the advertiser field (A). The latent effect of (Netflix, Male), by contrast, is learned using a different latent vector, $w_{Netflix, G}$, since Male belongs to the gender field (G). In this way, FFM splits the latent factors for $P \\times A$ and $P \\times G$, something the traditional Factorization Machine is unable to do. \n",
    "\n",
    "The full model formulation for a Field-Aware Factorization Machine is:\n",
    "$$s = \\phi(\\textbf{w},\\textbf{x}) = \\sum_{j_1, j_2 \\epsilon C_2} \\langle \\textbf{w}_{j_1, f_2}, \\textbf{w}_{j_2, f_1} \\rangle x_{j_1}x_{j_2}$$\n",
    "\n",
    "where $f_1$ and $f_2$ are the fields of $j_1$ and $j_2$, respectively. \n",
    "#### Optimization\n",
    "\n",
    "As part of a logistic regression problem, the goal is to find the set of parameters that minimize the log-loss function, defined by:\n",
    "\n",
    "$$ LogLoss = - \\frac{1}{n} \\sum_{i=1}^n [y_i \\cdot log_e(\\hat{y_i}) + (1-y_i) \\cdot log_e(1-\\hat{y_i})] $$\n",
    "\n",
    "\n",
    "where $n$ is the number of impressions, $y_i$ is the true CTR of impression $i$, and $\\hat{y_i}$ is the predicted CTR of impression $i$, $\\frac{1}{1+e^{-s_i}}$.\n",
    "\n",
    "For a given impression $x_i$, we have two cases:\n",
    "* If the true response, $y_i = 1$:\n",
    "$$\n",
    "\\begin{aligned}\n",
    "loss &= -log_e(\\hat{y_i}) \\\\\n",
    "&= -log_e \\left( \\frac{1}{1+e^{-s}} \\right) \\\\\n",
    "&= log_e (1+e^{-s})\n",
    "\\end{aligned}\n",
    "$$\n",
    "\n",
    "* If the true response, $y_i = -1$:\n",
    "$$\n",
    "\\begin{aligned}\n",
    "loss &= -log_e(1-\\hat{y_i}) \\\\\n",
    "&= -log_e \\left( 1 - \\frac{1}{1+e^{-s}} \\right)\\\\\n",
    "&= -log_e \\left( \\frac{1 + e^{-s} - 1}{1+e^{-s}} \\right) \\\\\n",
    "&= -log_e \\left( \\frac{e^-s}{1+e^{-s}} \\right) \\\\\n",
    "&= -log_e \\left( \\frac{1}{1+e^{s}} \\right) \\\\\n",
    "&= log_e(1+e^{s})\n",
    "\\end{aligned}\n",
    "$$\n",
    "\n",
    "As such, the loss for impression $x_i$ can be written as:\n",
    "$$log(1+exp(-y_i\\cdot s_i)$$\n",
    "\n",
    "Therefore, we can rewrite the log-loss function as:\n",
    "$$ Loss = \\frac{1}{n} \\sum_{i=1}^n log(1+exp(-y_i\\cdot s_i))$$\n",
    "\n",
    "\n",
    "and $s = \\phi(\\textbf{w},\\textbf{x}_i) = \\sum_{j_1, j_2 \\epsilon C_2} \\langle \\textbf{w}_{j_1, f_2}, \\textbf{w}_{j_2, f_1} \\rangle x_{j_1}x_{j_2}$\n",
    "\n",
    "\n",
    "Introducing regularization, the optimization problem we have is:\n",
    "\n",
    "$$ \\min_{\\textbf{w}} \\sum_{i=1}^m \\left( log(1+exp(-y_i\\phi(\\textbf{w},\\textbf{x}_i)) + \\frac{\\lambda}{2}\\|\\textbf{w}\\|^2 \\right)$$\n",
    "\n",
    "$m$ is the number of impressions, and  $\\lambda$ is our regularization parameter.\n",
    "\n",
    "We solve this optimization problem using gradient descent methods.\n"
   ]
  },
  {
   "cell_type": "markdown",
   "metadata": {},
   "source": [
    "#### Toy example: FFM in action\n",
    "\n",
    "We will now walk through an entire iteration of the FFM algorithm to learn a CTR prediction model.\n",
    "For our work here, we will utilize a hashed representation of our dataset. In this representation, each field is represented by the first integer in the hash, and the feature within that field is represented by the second integer. The Publisher field is represented by the integer 1, the Advertiser field by the integer 2, and the Gender field by the integer 3. Within the Publisher field, Netflix is represented by the integer 1, Spotify by 2, and Facebook by 3. Within the Advertiser field, Pepsi is represented by the integer 1, Gatorade by 2, and Coca-cola by 3. Within the Gender field, Male is represented by 1 and Female by 2. Using this hash representation, our first impression of (Netflix, Pepsi, Male) has the features 1:1, 2:1, 3:1.\n",
    "The full hashed representation of our dataset is shown below:\n",
    "\n",
    "<table>\n",
    "<th>Impression</th>\n",
    "<th>Response</th>\n",
    "<th>Features</th>\n",
    "<tr><td>1</td><td>1</td><td>1:1, 2:1, 3:1</td></tr>\n",
    "<tr><td>2</td><td>1</td><td>1:2, 2:1, 3:1</td></tr>\n",
    "<tr><td>3</td><td>-1</td><td>1:3, 2:2, 3:2</td></tr>\n",
    "<tr><td>4</td><td>-1</td><td>1:2, 2:3, 3:1</td></tr>\n",
    "<tr><td>5</td><td>1</td><td>1:3, 2:3, 3:2</td></tr>\n",
    "<tr><td>6</td><td>-1</td><td>1:3, 2:1, 3:2</td></tr>\n",
    "<tr><td>7</td><td>1</td><td>1:1, 2:2, 3:2</td></tr>\n",
    "<table>"
   ]
  },
  {
   "cell_type": "code",
   "execution_count": 28,
   "metadata": {},
   "outputs": [
    {
     "name": "stdout",
     "output_type": "stream",
     "text": [
      "Overwriting data/toy_set.txt\n"
     ]
    }
   ],
   "source": [
    "%%writefile data/toy_set.txt\n",
    "1\t1\t1\t1\t1\n",
    "2\t1\t2\t1\t1\n",
    "3\t-1\t3\t2\t2\n",
    "4\t-1\t2\t3\t1\n",
    "5\t1\t3\t3\t2\n",
    "6\t-1\t3\t1\t2\n",
    "7\t1\t1\t2\t2"
   ]
  },
  {
   "cell_type": "code",
   "execution_count": 58,
   "metadata": {},
   "outputs": [],
   "source": [
    "toyRDD = sc.textFile('data/toy_set.txt')"
   ]
  },
  {
   "cell_type": "markdown",
   "metadata": {},
   "source": [
    "__1)__ We define k (the length of our latent vectors) to be 3.\n",
    "\n",
    "__2)__ We randomly initialize our latent vectors $\\textbf{w}$. For the Publisher field, each feature will have two different latent vectors (represented by columns below)--one corresponding to Advertiser (A), and one corresponding to Gender (G):"
   ]
  },
  {
   "cell_type": "code",
   "execution_count": 34,
   "metadata": {},
   "outputs": [
    {
     "data": {
      "text/plain": [
       "array([[ 0.9, -0.2, -0.2],\n",
       "       [-0.6, -0. , -0.3],\n",
       "       [-0.1, -0.5, -1.2],\n",
       "       [-1.1,  0.2,  1.2],\n",
       "       [ 1.4, -0.7,  0.7],\n",
       "       [ 0. ,  0.8,  0.1]])"
      ]
     },
     "execution_count": 34,
     "metadata": {},
     "output_type": "execute_result"
    }
   ],
   "source": [
    "W_P = np.random.uniform(-1.7,1.7, size=(6,3)).round(1)\n",
    "#uncomment the line below to use weights that match all subsequent hand calculations/tables\n",
    "#W_P =np.array([0.9, -0.2, -0.2, -0.6, 0, -0.3, -0.1, -0.5, -1.2, -1.1, 0.2, 1.2, 1.4,-0.7, 0.7, 0, 0.8, 0.1]).reshape(6,3)\n",
    "W_P"
   ]
  },
  {
   "cell_type": "markdown",
   "metadata": {},
   "source": [
    "<table>\n",
    "<th>$\\textbf{w}_{Netflix,A}$</th>\n",
    "<th>$\\textbf{w}_{Netflix,G}$</th>\n",
    "<th>$\\textbf{w}_{Spotify,A}$</th>\n",
    "<th>$\\textbf{w}_{Spotify,G}$</th>\n",
    "<th>$\\textbf{w}_{Facebook,A}$</th>\n",
    "<th>$\\textbf{w}_{Facebook,G}$</th>\n",
    "<tr><td>0.9</td><td>-0.6</td><td>-0.1</td><td>-1.1</td><td>1.4</td><td>0</td></tr>\n",
    "<tr><td>-0.2</td><td>0</td><td>-0.5</td><td>0.2</td><td>-0.7</td><td>0.8</td></tr>\n",
    "<tr><td>-0.2</td><td>-0.3</td><td>-1.2</td><td>1.2</td><td>0.7</td><td>0.1</td></tr>\n",
    "<table>\n",
    "The Advertiser field will similarly have two different latent vectors for each feature--one for Publisher (P), and one for Gender (G):"
   ]
  },
  {
   "cell_type": "code",
   "execution_count": 35,
   "metadata": {},
   "outputs": [
    {
     "data": {
      "text/plain": [
       "array([[ 1. , -0.3, -0.1],\n",
       "       [-0.4, -1. , -0. ],\n",
       "       [-0.2, -1. , -1.7],\n",
       "       [ 0.7, -0.3, -1.1],\n",
       "       [ 0.1,  1.3, -0.2],\n",
       "       [ 0.5,  0.2,  0.5]])"
      ]
     },
     "execution_count": 35,
     "metadata": {},
     "output_type": "execute_result"
    }
   ],
   "source": [
    "W_A = np.random.uniform(-1.7,1.7, size=(6,3)).round(1)\n",
    "#uncomment the line below to use weights that match all subsequent hand calculations/tables\n",
    "#W_A =np.array([1, -0.3, -0.1, -0.4, -1, 0, -0.2, -1, -1.7, 0.7, -0.3, -1.1, 0.1, 1.3, -0.2, 0.5, 0.2, 0.5]).reshape(6,3)\n",
    "W_A"
   ]
  },
  {
   "cell_type": "markdown",
   "metadata": {},
   "source": [
    "<table>\n",
    "<th>$\\textbf{w}_{Pepsi,P}$</th>\n",
    "<th>$\\textbf{w}_{Pepsi,G}$</th>\n",
    "<th>$\\textbf{w}_{Gatorade,P}$</th>\n",
    "<th>$\\textbf{w}_{Gatorade,G}$</th>\n",
    "<th>$\\textbf{w}_{Coca-cola,P}$</th>\n",
    "<th>$\\textbf{w}_{Coca-cola,G}$</th>\n",
    "<tr><td>1</td><td>-0.4</td><td>-0.2</td><td>0.7</td><td>0.1</td><td>0.5</td></tr>\n",
    "<tr><td>-0.3</td><td>-1</td><td>-1</td><td>-0.3</td><td>-1.3</td><td>0.2</td></tr>\n",
    "<tr><td>-0.1</td><td>0</td><td>-1.7</td><td>-1.1</td><td>-0.2</td><td>0.5</td></tr>\n",
    "<table>\n",
    "\n",
    "The Gender field will also have two different latent vectors per feature (one for Publisher (P), one for Advertiser (A)): "
   ]
  },
  {
   "cell_type": "code",
   "execution_count": 36,
   "metadata": {},
   "outputs": [
    {
     "data": {
      "text/plain": [
       "array([[-0.4,  0.8,  1.5],\n",
       "       [-0.9,  1.3, -1. ],\n",
       "       [ 0.8, -1.5,  0.3],\n",
       "       [ 0.4,  0.7,  0.5]])"
      ]
     },
     "execution_count": 36,
     "metadata": {},
     "output_type": "execute_result"
    }
   ],
   "source": [
    "W_G = np.random.uniform(-1.7,1.7, size=(4,3)).round(1)\n",
    "#uncomment the line below to use weights that match all subsequent hand calculations/tables\n",
    "#W_G =np.array([-0.4, 0.8, 1.5, -0.9, 1.3, -1, 0.8, -1.5, 0.3, 0.4, 0.7, 0.5]).reshape(4,3)\n",
    "W_G"
   ]
  },
  {
   "cell_type": "markdown",
   "metadata": {},
   "source": [
    "<table>\n",
    "<th>$\\textbf{w}_{Male,P}$</th>\n",
    "<th>$\\textbf{w}_{Male,A}$</th>\n",
    "<th>$\\textbf{w}_{Female,P}$</th>\n",
    "<th>$\\textbf{w}_{Female,A}$</th>\n",
    "<tr><td>-0.4</td><td>-0.9</td><td>0.8</td><td>0.4</td></tr>\n",
    "<tr><td>0.8</td><td>1.3</td><td>-1.5</td><td>0.7</td></tr>\n",
    "<tr><td>1.5</td><td>-1</td><td>0.3</td><td>0.5</td></tr>\n",
    "<table>"
   ]
  },
  {
   "cell_type": "markdown",
   "metadata": {},
   "source": [
    "__3)__ We calculate $s$ for each impression using these weight vectors.\n",
    "\n",
    "For each impression, we would use the formula\n",
    "$$s = \\phi(\\textbf{w},\\textbf{x}) = \\sum_{j_1, j_2 \\epsilon C_2} \\langle \\textbf{w}_{j_1, f_2}, \\textbf{w}_{j_2, f_1} \\rangle x_{j_1}x_{j_2}$$    \n",
    "to generate our value of $s$. Fully expanded, this would be:\n",
    "    \n",
    "$$\n",
    "\\begin{aligned}\n",
    "s =& \\langle\\textbf{w}_{Netflix,A} \\cdot \\textbf{w}_{Pepsi,P}\\rangle x_{Netflix}x_{Pepsi} + \\langle\\textbf{w}_{Netflix,A} \\cdot \\textbf{w}_{Coca-cola,P}\\rangle x_{Netflix}x_{Coca-cola} + \\langle\\textbf{w}_{Netflix,A} \\cdot \\textbf{w}_{Gatorade,P}\\rangle x_{Netflix}x_{Gatorade} \\\\\n",
    "&+ \\langle\\textbf{w}_{Netflix,G} \\cdot \\textbf{w}_{Male,P}\\rangle x_{Netflix}x_{Male} + \\langle\\textbf{w}_{Netflix,G} \\cdot \\textbf{w}_{Female,P}\\rangle x_{Netflix}x_{Female} + \\langle\\textbf{w}_{Spotify,A} \\cdot \\textbf{w}_{Pepsi,P}\\rangle x_{Spotify}x_{Pepsi} \\\\\n",
    "&+ \\langle\\textbf{w}_{Spotify,A} \\cdot \\textbf{w}_{Coca-cola,P}\\rangle x_{Spotify}x_{Coca-cola} + \\langle\\textbf{w}_{Spotify,A} \\cdot \\textbf{w}_{Gatorade,P}\\rangle x_{Spotify}x_{Gatorade} + \\langle\\textbf{w}_{Spotify,G} \\cdot \\textbf{w}_{Male,P}\\rangle x_{Spotify}x_{Male} \\\\\n",
    "&+ \\langle\\textbf{w}_{Spotify,G} \\cdot \\textbf{w}_{Female,P}\\rangle x_{Spotify}x_{Female} + \\langle\\textbf{w}_{Facebook,A} \\cdot \\textbf{w}_{Pepsi,P}\\rangle x_{Facebook}x_{Pepsi} + \\langle\\textbf{w}_{Facebook,A} \\cdot \\textbf{w}_{Coca-cola,P}\\rangle x_{Facebook}x_{Coca-cola} \\\\\n",
    "&+ \\langle\\textbf{w}_{Facebook,A} \\cdot \\textbf{w}_{Gatorade,P}\\rangle x_{Facebook}x_{Gatorade} + \\langle\\textbf{w}_{Facebook,G} \\cdot \\textbf{w}_{Male,P}\\rangle x_{Facebook}x_{Male} + \\langle\\textbf{w}_{Facebook,G} \\cdot \\textbf{w}_{Female,P}\\rangle x_{Facebook}x_{Female} \n",
    "\\end{aligned}\n",
    "$$\n",
    "\n",
    "For each impression, we are only concerned with the terms containing the features represented in the impression, since these $x$ values are equal to one, while all other terms become zero.\n",
    "    \n",
    "Our first impression (Netflix, Pepsi, Male) would therefore give us:\n",
    "$$\n",
    "\\begin{aligned}\n",
    "s &= \\langle\\textbf{w}_{Netflix,A} \\cdot \\textbf{w}_{Pepsi,P}\\rangle + \\langle\\textbf{w}_{Netflix,G} \\cdot \\textbf{w}_{Male,P}\\rangle + \\langle\\textbf{w}_{Pepsi,G} \\cdot \\textbf{w}_{Male,A}\\rangle\\\\\n",
    "&= (0.9*1 + -0.2*-0.3 + -0.2*-0.1) + (-0.6*-0.4 + 0*0.8 + -0.3*1.5) + (-0.4*-0.9 + -1*1.3 + 0*-1)  \\\\\n",
    "&= 0.98 + -0.21 + -0.94 \\\\\n",
    "&= -0.17\n",
    "\\end{aligned}\n",
    "$$\n",
    "\n",
    "\n",
    "Plugging this value into the logit transformation, we get a predicted CTR of:\n",
    "$$\\frac{1}{1+e^{-s}} = \\frac{1}{1+e^{0.17}} \\approx 0.46$$\n",
    "    \n",
    "Since this value is closer to 0 than 1, we would ultimately predict a non-click (incorrectly). However, this predicted value is vital for our log-loss calculation, which we will see momentarily.\n",
    "\n",
    "Below we calculate the value of $s$ and predicted CTR for each impression:"
   ]
  },
  {
   "cell_type": "code",
   "execution_count": 92,
   "metadata": {},
   "outputs": [],
   "source": [
    "W_p = sc.broadcast(W_P)\n",
    "W_a = sc.broadcast(W_A)\n",
    "W_g = sc.broadcast(W_G)\n",
    "\n",
    "def predict(x):\n",
    "    imp = x[0]\n",
    "    res = x[2]\n",
    "    pub = x[4]\n",
    "    adv = x[6]\n",
    "    gen = x[8]\n",
    "    #define appropriate latent vectors to use in calculations\n",
    "    if pub == '1':\n",
    "        w_pa = W_p.value[0]\n",
    "        w_pg = W_p.value[1]\n",
    "    elif pub == '2':\n",
    "        w_pa = W_p.value[2]\n",
    "        w_pg = W_p.value[3]\n",
    "    else:\n",
    "        w_pa = W_p.value[4]\n",
    "        w_pg = W_p.value[5]\n",
    "    if adv == '1':\n",
    "        w_ap = W_a.value[0]\n",
    "        w_ag = W_a.value[1]\n",
    "    elif adv == '2':\n",
    "        w_ap = W_a.value[2]\n",
    "        w_ag = W_a.value[3]\n",
    "    else:\n",
    "        w_ap = W_a.value[4]\n",
    "        w_ag = W_a.value[5]\n",
    "    if gen == '1':\n",
    "        w_gp = W_g.value[0]\n",
    "        w_ga = W_g.value[1]\n",
    "    else:\n",
    "        w_gp = W_g.value[2]\n",
    "        w_ga = W_g.value[3]\n",
    "    #calculate s using latent vectors\n",
    "    s = (np.dot(w_pa, w_ap) + np.dot(w_pg, w_gp) + np.dot(w_ag, w_ga)).round(2)\n",
    "    #calculate CTR\n",
    "    CTR = np.divide(1,1+np.exp(-s)).round(2)\n",
    "    yield imp,res, pub, adv, gen, s, CTR"
   ]
  },
  {
   "cell_type": "code",
   "execution_count": 30,
   "metadata": {},
   "outputs": [
    {
     "data": {
      "text/plain": [
       "[('1', '1', '1', '1', '1', -0.17, 0.46),\n",
       " ('2', '1', '2', '1', '1', 1.63, 0.84),\n",
       " ('3', '-1', '3', '2', '2', -2.42, 0.08),\n",
       " ('4', '-1', '2', '3', '1', 1.29, 0.78),\n",
       " ('5', '1', '3', '3', '2', -1.49, 0.18),\n",
       " ('6', '-1', '3', '1', '2', -0.49, 0.38),\n",
       " ('7', '1', '1', '2', '2', -0.69, 0.33)]"
      ]
     },
     "execution_count": 30,
     "metadata": {},
     "output_type": "execute_result"
    }
   ],
   "source": [
    "resultRDD = toyRDD.flatMap(predict).cache()\n",
    "resultRDD.collect()"
   ]
  },
  {
   "cell_type": "markdown",
   "metadata": {},
   "source": [
    "Summarized in a table, we have:\n",
    "\n",
    "<table>\n",
    "<th>Impression</th>\n",
    "<th>$s$</th>\n",
    "<th>Predicted CTR</th>\n",
    "<th>True Response</th>\n",
    "<tr><td>(Netflix, Pepsi, Male)</td><td>-0.17</td><td>$\\approx 0.46$</td><td>1</td></tr>\n",
    "<tr><td>(Spotify, Pepsi, Male)</td><td>1.63</td><td>$\\approx 0.84$</td><td>1</td></tr>\n",
    "<tr><td>(Facebook, Gatoriade, Female)</td><td>-2.42</td><td>$\\approx 0.08$</td><td>-1</td></tr>\n",
    "<tr><td>(Spotify, Coca-cola, Male)</td><td>1.29</td><td>$\\approx 0.78$</td><td>-1</td><td></tr>\n",
    "<tr><td>(Facebook, Coca-cola, Female)</td><td>-1.49</td><td>$\\approx 0.18$</td><td>1</td></tr>\n",
    "<tr><td>(Facebook, Pepsi, Female)</td><td>-0.49</td><td>$\\approx 0.38$</td><td>-1</td></tr>\n",
    "<tr><td>(Netflix, Gatorade, Female)</td><td>-0.69</td><td>$\\approx 0.33$</td><td>1</td></tr>\n",
    "<table>\n",
    "\n",
    "    \n",
    "__4)__ We can now calculate the log-loss of the model. While this is not necessary in order to find the optimum latent vectors for our model, we show the calculation here using the equation:\n",
    "$$ LogLoss = - \\frac{1}{n} \\sum_{i=1}^n [y_i \\cdot log_e(\\hat{y_i}) + (1-y_i) \\cdot log_e(1-\\hat{y_i})] $$\n",
    "\n",
    "Simply put, if our True Response ($y_i$) for an impression is -1, we add the log-value of `1-Predicted CTR` to our sum; if our True Response ($y_i$) for an impression is 1, we add the log-value of `CTR`.    \n",
    "\n",
    "Using our values from our table above, we have:\n",
    "\n",
    "$$ \\begin{aligned}\n",
    "LogLoss =& - \\frac{1}{7}[log_e(0.46) + log_e(0.84) + log_e(0.92) + log_e(0.22) + log_e(0.18) + log_e(0.62)+ log_e(0.33)]\\\\\n",
    "=& 0.8356\n",
    "\\end{aligned}\n",
    "$$\n",
    "    \n",
    "Our hand calculation is confirmed below:"
   ]
  },
  {
   "cell_type": "code",
   "execution_count": 103,
   "metadata": {},
   "outputs": [
    {
     "data": {
      "text/plain": [
       "[0.8356983388241626]"
      ]
     },
     "execution_count": 103,
     "metadata": {},
     "output_type": "execute_result"
    }
   ],
   "source": [
    "def log_loss(imp):\n",
    "    #helper function to calculate log(CTR) or log(1-CTR) depending on true response\n",
    "    resp = imp[1]\n",
    "    pred = imp[6]\n",
    "    if resp == '-1':\n",
    "        yield 1, (np.log(1-pred), 1)\n",
    "    else:\n",
    "        yield 1, (np.log(pred), 1)\n",
    "\n",
    "def sum_loss(x, y):\n",
    "    #function to add log-losses, counts\n",
    "    return (x[0]+y[0],x[1]+y[1])\n",
    "\n",
    "loss = resultRDD.flatMap(log_loss).reduceByKey(lambda x, y: sum_loss(x, y))\\\n",
    "    .map(lambda x: -np.divide(x[1][0], x[1][1])).collect()\n",
    "loss"
   ]
  },
  {
   "cell_type": "markdown",
   "metadata": {},
   "source": [
    "__5)__ We then would optimize our weights using gradient descent. In their implementation outlined in their paper, Juan, Zhuang, Chin, & Lin update the weight matrix of latent vectors using stochastic gradient descent. We will replicate this method with our toy sample here.\n",
    "\n",
    "At each step, we choose a data point and update $\\textbf{w}_{j_1,f_2}$ and $\\textbf{w}_{j_2, f_1}$ for each non-zero pair of features $f_1 \\epsilon j_1$ and $f_2 \\epsilon j_2$. We first calculate the subgradients: \n",
    "$$\\textbf{g}_{j_1,f_2} = \\nabla \\textbf{w}_{j_1,f_2} f(\\textbf{w}) = \\lambda \\cdot \\textbf{w}_{j_1,f_2} + \\kappa \\cdot \\textbf{w}_{j_2,f_1}x_{j_1}x_{j_2} $$\n",
    "$$\\textbf{g}_{j_2,f_1} = \\nabla \\textbf{w}_{j_2,f_1} f(\\textbf{w}) = \\lambda \\cdot \\textbf{w}_{j_2,f_1} + \\kappa \\cdot \\textbf{w}_{j_1,f_2}x_{j_1}x_{j_2} $$\n",
    "where $$\\kappa = \\frac{-y}{1+exp(y\\phi(\\textbf{wx}))}$$\n",
    "\n",
    "For simplicity here, we ignore the regularization term and consider the first datapoint- the impression of (Netflix, Pepsi, Male). We calculate $\\kappa = -0.54$, and calculate the first pair of subgradients:\n",
    "    $$\\textbf{g}_{Pepsi, P} = \\kappa\\textbf{w}_{Netflix, A}$$ \n",
    "    $$\\textbf{g}_{Netflix, A} = \\kappa\\textbf{w}_{Pepsi, P}$$\n",
    "    \n",
    "(Note: below we only continue to demonstrate how to update the latent vector $\\textbf{w}_{Pepsi,P}$. Updating all other latent vectors is analagous.)\n",
    "    \n",
    "Plugging in our known and calculated values, we have:\n",
    "    \n",
    "$$\\textbf{g}_{Pepsi, P}= -0.54 \\times \\begin{bmatrix}0.9\\\\-0.2\\\\-0.2 \\end{bmatrix} = \\begin{bmatrix}-0.488\\\\0.108\\\\0.108 \\end{bmatrix} $$\n",
    "\n",
    "Next, for each coordinate $d = {1,...,k}$, the sum of squared gradient is accumulated:\n",
    "$$ (G_{j_1,f_2})_d \\leftarrow (G_{j_1,f_2})_d + (\\textbf{g}_{j_1,f_2})_d^2$$ where $(G_{j_1,f_2})_d$ are initialized as all 1s. Thus, we have:\n",
    "$$ (G_{Pepsi,P}) = \\begin{bmatrix}1\\\\1\\\\1\\end{bmatrix} + \\begin{bmatrix}(-0.488)^2\\\\(0.108)^2\\\\(0.108)^2\\end{bmatrix} = \\begin{bmatrix}1.2383\\\\1.0117\\\\1.0117\\end{bmatrix}  $$\n",
    "    \n",
    "Finally, we update our latent vector $\\textbf{w}_{j_1,f_2}$ by:\n",
    "    $$(\\textbf{w}_{j_1,f_2})_d \\leftarrow (\\textbf{w}_{j_1,f_2})_d - \\frac{\\eta}{\\sqrt{(G_{j_1,f_2})_d}} \\textbf{g}_{j_1,f_2} $$\n",
    "where $\\eta$ is a specified learning rate. For this example, we use $\\eta = 0.1$, and get the following update to our latent vector, $\\textbf{w}_{Pepsi,P}$:\n",
    "\n",
    "$$\\textbf{w}_{Pepsi,P} = \\begin{bmatrix}1\\\\-0.3\\\\-0.1 \\end{bmatrix} - \\begin{bmatrix}\\frac{0.1}{\\sqrt{1.2383}} \\cdot -0.488\\\\\\frac{0.1}{\\sqrt{1.0117}} \\cdot 0.108\\\\\\frac{0.1}{\\sqrt{1.0117}} \\cdot 0.108 \\end{bmatrix} = \\begin{bmatrix}1.04\\\\-0.31\\\\-0.11 \\end{bmatrix}$$\n",
    "\n",
    "Using the same impression, we similarly update the latent vectors $\\textbf{w}_{Netflix,A}$, $\\textbf{w}_{Netflix,G}$, $\\textbf{w}_{Male,P}$, $\\textbf{w}_{Male,A}$, and $\\textbf{w}_{Pepsi,G}$.\n",
    "These newly updated latent vectors are calculated below:"
   ]
  },
  {
   "cell_type": "code",
   "execution_count": 30,
   "metadata": {},
   "outputs": [
    {
     "data": {
      "text/plain": [
       "[('1',\n",
       "  '1',\n",
       "  '1',\n",
       "  array([ 0.94767801, -0.2160607 , -0.20541602]),\n",
       "  array([-0.62120264,  0.03980592, -0.2368895 ]),\n",
       "  array([ 1.04386801, -0.31078469, -0.11078469]),\n",
       "  array([-0.44386801, -0.94237342, -0.04767801]),\n",
       "  array([-0.43094634,  0.8       ,  1.4839393 ]),\n",
       "  array([-0.92120264,  1.25232199, -1.        ]))]"
      ]
     },
     "execution_count": 30,
     "metadata": {},
     "output_type": "execute_result"
    }
   ],
   "source": [
    "def kappa(x):\n",
    "    #function to calculate kappa value based on true response and calculated s value\n",
    "    y=int(x[1])\n",
    "    return -np.divide(y,1 + np.exp(y*x[5])) #kappa calculation\n",
    "\n",
    "def gradient(x):\n",
    "    #function to calculate gradient update for latent vectors of an impression\n",
    "    #need response variables to be +1 or -1\n",
    "    k = kappa(x)\n",
    "    pub = x[2]\n",
    "    adv = x[3]\n",
    "    gen = x[4]\n",
    "    #extract appropriate latent vectors to update, given the impression\n",
    "    if pub == '1':\n",
    "        w_pa = W_p.value[0]\n",
    "        w_pg = W_p.value[1]\n",
    "    elif pub == '2':\n",
    "        w_pa = W_p.value[2]\n",
    "        w_pg = W_p.value[3]\n",
    "    else:\n",
    "        w_pa = W_p.value[4]\n",
    "        w_pg = W_p.value[5]\n",
    "    if adv == '1':\n",
    "        w_ap = W_a.value[0]\n",
    "        w_ag = W_a.value[1]\n",
    "    elif adv == '2':\n",
    "        w_ap = W_a.value[2]\n",
    "        w_ag = W_a.value[3]\n",
    "    else:\n",
    "        w_ap = W_a.value[4]\n",
    "        w_ag = W_a.value[5]\n",
    "    if gen == '1':\n",
    "        w_gp = W_g.value[0]\n",
    "        w_ga = W_g.value[1]\n",
    "    else:\n",
    "        w_gp = W_g.value[2]\n",
    "        w_ga = W_g.value[3]\n",
    "    #calculate subgradients\n",
    "    g_pa = k*w_ap\n",
    "    g_pg = k*w_gp\n",
    "    g_ap = k*w_pa\n",
    "    g_ag = k*w_ga\n",
    "    g_gp = k*w_pg\n",
    "    g_ga = k*w_ag\n",
    "    #accumulate sum of squared gradients, add to G vector (initialized as ones)\n",
    "    G_pa = np.ones(3) + g_pa**2\n",
    "    G_pg = np.ones(3) + g_pg**2\n",
    "    G_ap = np.ones(3) + g_ap**2\n",
    "    G_ag = np.ones(3) + g_ag**2\n",
    "    G_gp = np.ones(3) + g_gp**2\n",
    "    G_ga = np.ones(3) + g_ga**2\n",
    "    \n",
    "    #update latent vectors\n",
    "    w_pa = w_pa - np.divide(0.1,np.sqrt(G_pa))*g_pa\n",
    "    w_pg = w_pg - np.divide(0.1,np.sqrt(G_pg))*g_pg\n",
    "    w_ap = w_ap - np.divide(0.1,np.sqrt(G_ap))*g_ap\n",
    "    w_ag = w_ag - np.divide(0.1,np.sqrt(G_ag))*g_ag\n",
    "    w_gp = w_gp - np.divide(0.1,np.sqrt(G_gp))*g_gp\n",
    "    w_ga = w_ga - np.divide(0.1,np.sqrt(G_ga))*g_ga\n",
    "    #yield features (to know which vectors to update in weight matrix) and updated latent vectors\n",
    "    yield  pub, adv, gen, w_pa, w_pg, w_ap, w_ag, w_gp, w_ga\n",
    "    \n",
    "# demonstrate, specifying first impression to check hand calculations\n",
    "update = sc.parallelize(resultRDD.takeOrdered(1)).flatMap(gradient).collect()\n",
    "update"
   ]
  },
  {
   "cell_type": "markdown",
   "metadata": {},
   "source": [
    "We note that the third vector here, representing the updated `PepsiP` latent vector,  matches our hand calculation (which rounded to the second decimal place). We must also pass along the features in order to ensure we update the correct latent vectors in the weight matrix. In the case of the first impression, we emit '1', '1', '1' for the features, so we know to update NetflixA (`W_P[0]`), Netflix G (`W_P[1]`), PepsiP(`W_A[0]`), PepsiG (`W_A[1]`), MaleP(`W_G[0]`), and MaleA (`W_G[1]`) in the weight matrix:  "
   ]
  },
  {
   "cell_type": "code",
   "execution_count": 31,
   "metadata": {},
   "outputs": [],
   "source": [
    "def updateWeights(W_P, W_A, W_G, update):\n",
    "# Function that takes current weight matrices, and updated vectors emitted after SGD\n",
    "# and updates Weight Matrices\n",
    "    #take first feature (Publisher), and update W_P latent vectors accordingly\n",
    "    if update[0][0] == '1':\n",
    "        W_P[0] = update[0][3]\n",
    "        W_P[1] = update[0][4]\n",
    "    elif update[0][0] == '2':\n",
    "        W_P[2] = update[0][3]\n",
    "        W_P[3] = update[0][4]\n",
    "    else:\n",
    "        W_P[4] = update[0][3]\n",
    "        W_P[5] = update[0][4]\n",
    "    #take second feature (Advertiser), and update W_A latent vectors accordingly\n",
    "    if update[0][1] == '1':\n",
    "        W_A[0] = update[0][5]\n",
    "        W_A[1] = update[0][6]\n",
    "    elif update[0][1] == '2':\n",
    "        W_A[2] = update[0][5]\n",
    "        W_A[3] = update[0][6]\n",
    "    else:\n",
    "        W_A[4] = update[0][5]\n",
    "        W_A[5] = update[0][6]\n",
    "    #take third feature (Gender), and update W_G latent vectors accordingly\n",
    "    if update[0][2] == '1':\n",
    "        W_G[0] = update[0][7]\n",
    "        W_G[1] = update[0][8]\n",
    "    else:\n",
    "        W_G[2] = update[0][7]\n",
    "        W_G[3] = update[0][8]\n",
    "    return W_P, W_A, W_G"
   ]
  },
  {
   "cell_type": "markdown",
   "metadata": {},
   "source": [
    "Below we print the updated matrices of latent vectors that would be broadcast back out for the next iteration:"
   ]
  },
  {
   "cell_type": "code",
   "execution_count": 32,
   "metadata": {},
   "outputs": [
    {
     "data": {
      "text/plain": [
       "(array([[ 0.94767801, -0.2160607 , -0.20541602],\n",
       "        [-0.62120264,  0.03980592, -0.2368895 ],\n",
       "        [-0.1       , -0.5       , -1.2       ],\n",
       "        [-1.1       ,  0.2       ,  1.2       ],\n",
       "        [ 1.4       , -0.7       ,  0.7       ],\n",
       "        [ 0.        ,  0.8       ,  0.1       ]]),\n",
       " array([[ 1.04386801, -0.31078469, -0.11078469],\n",
       "        [-0.44386801, -0.94237342, -0.04767801],\n",
       "        [-0.2       , -1.        , -1.7       ],\n",
       "        [ 0.7       , -0.3       , -1.1       ],\n",
       "        [ 0.1       ,  1.3       , -0.2       ],\n",
       "        [ 0.5       ,  0.2       ,  0.5       ]]),\n",
       " array([[-0.43094634,  0.8       ,  1.4839393 ],\n",
       "        [-0.92120264,  1.25232199, -1.        ],\n",
       "        [ 0.8       , -1.5       ,  0.3       ],\n",
       "        [ 0.4       ,  0.7       ,  0.5       ]]))"
      ]
     },
     "execution_count": 32,
     "metadata": {},
     "output_type": "execute_result"
    }
   ],
   "source": [
    "updateWeights(W_P, W_A, W_G, update)"
   ]
  },
  {
   "cell_type": "markdown",
   "metadata": {},
   "source": [
    "__6)__ We repeat 3-5 for a specified number of iterations or until some convergence criteria is met for the latent vectors. In each iteration we would use a different impression to update the latent vectors. Therefore, our code from above must be slightly modified (to choose an impression at random, and not explicitly the first impression. Below is the code we would run for 10 iterations:"
   ]
  },
  {
   "cell_type": "code",
   "execution_count": 35,
   "metadata": {},
   "outputs": [
    {
     "name": "stdout",
     "output_type": "stream",
     "text": [
      "Iteration: 1\n",
      "Loss: 0.6674505942985505\n",
      "Iteration: 2\n",
      "Loss: 0.6494112620568574\n",
      "Iteration: 3\n",
      "Loss: 0.655285193107078\n",
      "Iteration: 4\n",
      "Loss: 0.6289630447180298\n",
      "Iteration: 5\n",
      "Loss: 0.6460073554561067\n",
      "Iteration: 6\n",
      "Loss: 0.6310762578752105\n",
      "Iteration: 7\n",
      "Loss: 0.6310762578752105\n",
      "Iteration: 8\n",
      "Loss: 0.6269998104577843\n",
      "Iteration: 9\n",
      "Loss: 0.6314429931312981\n",
      "Iteration: 10\n",
      "Loss: 0.6278931538743446\n",
      "Final Weight Matrices:\n",
      "W_P:\n",
      " [[ 0.43168523  0.74967893  0.34789988]\n",
      " [ 0.7024423   0.99953272  0.52493794]\n",
      " [-0.9         1.4        -1.5       ]\n",
      " [-1.6        -0.4        -1.4       ]\n",
      " [-0.04794223  1.54197082 -1.46481178]\n",
      " [-0.4055017   0.06581357  1.12199341]] \n",
      "W_A:\n",
      " [[ 0.40556162 -0.44751152  0.65177044]\n",
      " [ 0.89036241 -1.50447862  0.95611675]\n",
      " [ 1.45286369 -0.16237191  0.25864327]\n",
      " [ 1.27069659 -0.86144194  1.32753492]\n",
      " [-0.3         0.4         1.6       ]\n",
      " [-0.6        -0.7        -0.7       ]] \n",
      "W_G:\n",
      " [[-1.29278909 -0.38949718  1.60583298]\n",
      " [ 0.30907984 -1.41524401  1.00969589]\n",
      " [ 0.17304778 -0.42320007 -1.10260394]\n",
      " [ 1.08750227 -0.97697814 -0.2830387 ]]\n"
     ]
    }
   ],
   "source": [
    "W_P = np.random.uniform(-1.7,1.7, size=(6,3)).round(1)\n",
    "W_A = np.random.uniform(-1.7,1.7, size=(6,3)).round(1)\n",
    "W_G = np.random.uniform(-1.7,1.7, size=(4,3)).round(1)\n",
    "for i in range(10):\n",
    "    print('Iteration:', i+1)\n",
    "    W_p = sc.broadcast(W_P)\n",
    "    W_a = sc.broadcast(W_A)\n",
    "    W_g = sc.broadcast(W_G)\n",
    "    resultRDD = toyRDD.flatMap(predict).cache()\n",
    "    loss = resultRDD.flatMap(log_loss).reduceByKey(lambda x, y: sum_loss(x, y))\\\n",
    "        .map(lambda x: -np.divide(x[1][0], x[1][1])).collect()\n",
    "    print('Loss:', loss[0])\n",
    "    update = sc.parallelize(resultRDD.takeSample(True,1)).flatMap(gradient).collect()\n",
    "    updateWeights(W_P, W_A, W_G, update)\n",
    "    \n",
    "print('Final Weight Matrices:')\n",
    "print('W_P:\\n', W_P,'\\nW_A:\\n', W_A,'\\nW_G:\\n', W_G)"
   ]
  },
  {
   "cell_type": "markdown",
   "metadata": {},
   "source": [
    "We note that stochastic gradient descent does not always improve the loss from iteration to iteration, as only a single impression is used to update after each iteration. For this and other reasons, we consider using other methods of gradient descent moving forward."
   ]
  },
  {
   "cell_type": "markdown",
   "metadata": {},
   "source": [
    "#### Sources:\n",
    "- https://www.csie.ntu.edu.tw/~r01922136/slides/ffm.pdf\n",
    "- https://www.csie.ntu.edu.tw/~cjlin/papers/ffm.pdf\n",
    "- https://www.youtube.com/watch?v=1cRGpDXTJC8"
   ]
  },
  {
   "cell_type": "markdown",
   "metadata": {},
   "source": [
    "# __Section 3__ - EDA & Challenges"
   ]
  },
  {
   "cell_type": "markdown",
   "metadata": {},
   "source": [
    "Now that we've had a discussion about the algorithm we are going to use for the project, in this section, we seek to understand the important characteristics of the training dataset and how we can use them to inform our implementation of the FFM algorithm. "
   ]
  },
  {
   "cell_type": "markdown",
   "metadata": {},
   "source": [
    "## About the data\n",
    "\n",
    "We get the data from link from provided in `w261Project2019.pdf`, which is also in this repository. The link to the original data source is:\n",
    "\n",
    "http://labs.criteo.com/2014/02/kaggle-display-advertising-challenge-dataset/\n",
    "\n",
    "Desciption about the data from quoting the from the `readme.txt`:\n",
    "\n",
    "> \"The training dataset consists of a portion of Criteo's traffic over a period of 7 days. Each row corresponds to a display ad served by Criteo and the first column is indicates whether this ad has been clicked or not. The positive (clicked) and negatives (non-clicked) examples have both been subsampled (but at different rates) in order to reduce the dataset size. There are 13 features taking integer values (mostly count features) and 26 categorical features. The values of the categorical features have been hashed onto 32 bits for anonymization purposes. The semantic of these features is undisclosed. Some features may have missing values. The rows are chronologically ordered.\"\n",
    "\n",
    "The format of the training data is:\n",
    "\n",
    "> `<label> \\t <integer feature 1> \\t...\\t <integer feature 13> \\t <categorical feature 1> \\t...\\t <categorical feature 26>`  \n",
    "> A field is left empty when the value is missing."
   ]
  },
  {
   "cell_type": "code",
   "execution_count": 14,
   "metadata": {},
   "outputs": [],
   "source": [
    "# load the data. By default, in local environment we only load the mediumTrain.parquet which contains 5000 randomly sample instances from train.txt  \n",
    "# because the full dataset is too slow to run in local environment\n",
    "\n",
    "if local:\n",
    "    train_parquet = spark.read.parquet(f\"{PWD}/data/mediumTrain.parquet\")\n",
    "    # train_parquet = spark.read.parquet(f\"{PWD}/data/train.parquet\") #uncomment if loading the entire dataset\n",
    "else: # if using wk08 environment load the file from my bucket\n",
    "    train_parquet = spark.read.parquet(\"gs://w261-bucket-hou/final-project/data/train.parquet\") #train.parquet is the parquet file of train.txt\n",
    "\n",
    "oldColNames = train_parquet.schema.names"
   ]
  },
  {
   "cell_type": "code",
   "execution_count": 15,
   "metadata": {},
   "outputs": [],
   "source": [
    "#change the label to integer type and rename the label column\n",
    "train_parquet = train_parquet.withColumn(\"label\", train_parquet[\"_c0\"].cast(types.IntegerType()))\n",
    "\n",
    "#rename files and recast integer types on the first 13 features\n",
    "for colNum in range(1,14): \n",
    "    colName = \"_c\" + str(colNum)\n",
    "    train_parquet = train_parquet.withColumn(\"int_feature_\"+ str(colNum), train_parquet[colName].cast(types.IntegerType()))\n",
    "for colNum in range(14,40): \n",
    "    colName = \"_c\" + str(colNum)\n",
    "    train_parquet = train_parquet.withColumn(\"cate_feature_\"+ str(colNum-13), train_parquet[colName])\n",
    "\n",
    "#drop the old columns\n",
    "train_parquet = train_parquet.drop(*oldColNames)"
   ]
  },
  {
   "cell_type": "code",
   "execution_count": 45,
   "metadata": {},
   "outputs": [],
   "source": [
    "#record feature names by feature type\n",
    "intFieldNames = [colName for colName, dType in train_parquet.dtypes if dType == 'int' and colName != 'label']\n",
    "cateFieldNames = [colName for colName, dType in train_parquet.dtypes if dType == 'string' and colName != 'label']"
   ]
  },
  {
   "cell_type": "markdown",
   "metadata": {},
   "source": [
    "## EDA 1: Overview of the training data\n",
    "\n",
    "We will take a look at the general properties of the training data in this section, such as the shape of the dataset and the counts of null and distinct values of each column."
   ]
  },
  {
   "cell_type": "code",
   "execution_count": 17,
   "metadata": {},
   "outputs": [],
   "source": [
    "recCount = train_parquet.count() #get record count\n",
    "fieldCount = len(train_parquet.columns)-1 #get the count of features"
   ]
  },
  {
   "cell_type": "code",
   "execution_count": 18,
   "metadata": {
    "scrolled": true
   },
   "outputs": [],
   "source": [
    "#Get the counts of distinct values and null values in each columns in the data set\n",
    "\n",
    "distinctValues = []\n",
    "nullValues = []\n",
    "for colName in train_parquet.schema.names:\n",
    "    distinctValues.append(train_parquet.select(colName).distinct().count())\n",
    "    nullValues.append(train_parquet.filter((train_parquet[colName] == \"\") | train_parquet[colName].isNull() | isnan(train_parquet[colName])).count())"
   ]
  },
  {
   "cell_type": "code",
   "execution_count": 19,
   "metadata": {},
   "outputs": [
    {
     "name": "stdout",
     "output_type": "stream",
     "text": [
      "Training Dataset Overview:\n",
      "\n",
      "Record Count: 5000\n",
      "Feature Count: 39\n",
      "Total Distinct Categorical Values: 28063\n",
      "Null Value Percentage: 14.2%\n",
      "====================================================================== \n",
      "\n",
      "Column Level Information:\n",
      "\n",
      "Field Name     | Distinct Count | Null Count     | Null Percent   \n",
      "----------------------------------------------------------------------\n",
      "label          | 2              | 0              | 0.0%           \n",
      "int_feature_1  | 63             | 2212           | 44.2%          \n",
      "int_feature_2  | 570            | 0              | 0.0%           \n",
      "int_feature_3  | 208            | 1072           | 21.4%          \n",
      "int_feature_4  | 63             | 1034           | 20.7%          \n",
      "int_feature_5  | 3233           | 130            | 2.6%           \n",
      "int_feature_6  | 567            | 1099           | 22.0%          \n",
      "int_feature_7  | 207            | 215            | 4.3%           \n",
      "int_feature_8  | 52             | 3              | 0.1%           \n",
      "int_feature_9  | 582            | 215            | 4.3%           \n",
      "int_feature_10 | 6              | 2212           | 44.2%          \n",
      "int_feature_11 | 50             | 215            | 4.3%           \n",
      "int_feature_12 | 25             | 3826           | 76.5%          \n",
      "int_feature_13 | 77             | 1034           | 20.7%          \n",
      "cate_feature_1 | 115            | 0              | 0.0%           \n",
      "cate_feature_2 | 332            | 0              | 0.0%           \n",
      "cate_feature_3 | 3292           | 177            | 3.5%           \n",
      "cate_feature_4 | 2421           | 177            | 3.5%           \n",
      "cate_feature_5 | 48             | 0              | 0.0%           \n",
      "cate_feature_6 | 7              | 569            | 11.4%          \n",
      "cate_feature_7 | 2238           | 0              | 0.0%           \n",
      "cate_feature_8 | 63             | 0              | 0.0%           \n",
      "cate_feature_9 | 2              | 0              | 0.0%           \n",
      "cate_feature_10| 2085           | 0              | 0.0%           \n",
      "cate_feature_11| 1576           | 0              | 0.0%           \n",
      "cate_feature_12| 3111           | 177            | 3.5%           \n",
      "cate_feature_13| 1349           | 0              | 0.0%           \n",
      "cate_feature_14| 22             | 0              | 0.0%           \n",
      "cate_feature_15| 1486           | 0              | 0.0%           \n",
      "cate_feature_16| 2821           | 177            | 3.5%           \n",
      "cate_feature_17| 9              | 0              | 0.0%           \n",
      "cate_feature_18| 904            | 0              | 0.0%           \n",
      "cate_feature_19| 360            | 2227           | 44.5%          \n",
      "cate_feature_20| 4              | 2227           | 44.5%          \n",
      "cate_feature_21| 2960           | 177            | 3.5%           \n",
      "cate_feature_22| 7              | 3836           | 76.7%          \n",
      "cate_feature_23| 12             | 0              | 0.0%           \n",
      "cate_feature_24| 1594           | 177            | 3.5%           \n",
      "cate_feature_25| 35             | 2227           | 44.5%          \n",
      "cate_feature_26| 1210           | 2227           | 44.5%          \n"
     ]
    }
   ],
   "source": [
    "#print the results\n",
    "print(\"Training Dataset Overview:\\n\")\n",
    "print(\"Record Count:\", recCount)\n",
    "print(\"Feature Count:\", fieldCount)\n",
    "print(\"Total Distinct Categorical Values:\", np.sum(distinctValues[14:]))\n",
    "print(\"Null Value Percentage:\", str(round(float(sum(nullValues))/(recCount*fieldCount)*100,1)) + \"%\")\n",
    "\n",
    "print(\"=\"*70, \"\\n\")\n",
    "\n",
    "\n",
    "print(\"Column Level Information:\\n\")\n",
    "print('%-15s| %-15s| %-15s| %-15s' %('Field Name','Distinct Count', 'Null Count', 'Null Percent'))\n",
    "print('-'*70)\n",
    "for colName, distinctVal, nullVal in zip(train_parquet.schema.names, distinctValues, nullValues):\n",
    "    print('%-15s| %-15s| %-15s| %-15s' %(colName, distinctVal, nullVal, str(round(float(nullVal)/recCount*100,1)) + \"%\" ))"
   ]
  },
  {
   "cell_type": "markdown",
   "metadata": {},
   "source": [
    "__EDA 1 Findings:__\n",
    "\n",
    "There are a few things we see in our dataset that helps inform our implementation:\n",
    "\n",
    "> We have a total of $45,840,617$ records in the `train.txt`. We would still have $45,840,617 \\cdot 80\\% = 36,672,493$ records we can use to train our model even if we do a 80%, 20% split and save the 20% for validation. With this many records in our dataset and the difficulty in parallelize stochastic gradient descent, we might explore using mini-batch gradient descent to speed up training.\n",
    "\n",
    "> $14.2\\%$ of the data has null values, and some categorical features (see `cate_feature_3`, `cate_feature_16` and etc...) have a large number of distinct values. With these two properties, if we simply one-hot encode the categorial variable and stroe the entire vector, we will have a vary sparse dataset. To efficiently store the data in memory, we need to consider using a more dense representation of the data similar to stripes or pairs introduced in class.\n",
    "\n",
    "> We notice that categorical features (see `cate_feature_3`, `cate_feature_16` and etc...) with a large number of distinct values might imply very low counts of records per values which will make our model prone to overfitting and reduce the generalizability. For example, if we train many parameters on only a few records, would mean we are training our model based on some specific information only contained in this particular training set. Therefore, in the next EDA section, we will explore this topic further and suggest ways to deal with this issue if it exists."
   ]
  },
  {
   "cell_type": "markdown",
   "metadata": {},
   "source": [
    "## EDA 2: Categorical Features\n",
    "\n",
    "In this section of EDA, we will take a look at the categorical variables in the dataset with the main goal of exploring how many instances we have for each distinct value which is equivalent to a feature after one-hot encoding."
   ]
  },
  {
   "cell_type": "code",
   "execution_count": 20,
   "metadata": {},
   "outputs": [],
   "source": [
    "def get_distinct_summary(df, col, thresholds):\n",
    "    \"\"\"\n",
    "    Helper function which helps calculate the numbers of distinct values left after\n",
    "    exluding those whose count of instances is lower than given thresholds\n",
    "    \n",
    "    Args:\n",
    "        df         - a spark dataframe of the entire dataset\n",
    "        col        - the column name of the column used in the calculation\n",
    "        thresholds - a list of numbers used as the thresholds\n",
    "    Returns:\n",
    "        summary_values - a list: \n",
    "                         1. first element as the column name\n",
    "                         2. second element as the distinct value count\n",
    "                         3. the following elements as the counts of distinct values left \n",
    "                            after exluding the ones having counts lower than the threshold.\n",
    "    \"\"\"\n",
    "    \n",
    "    summary_values = [col]\n",
    "    summary_values.append(df.select(col).distinct().count())\n",
    "    \n",
    "    count_df = df.groupBy(col).count()\n",
    "    filtered_counts = [count_df.filter(f\"count >= {threshold}\").count() + 1 for threshold in thresholds]\n",
    "    summary_values.extend(filtered_counts)\n",
    "    \n",
    "    return [str(val) for val in summary_values]"
   ]
  },
  {
   "cell_type": "code",
   "execution_count": 21,
   "metadata": {},
   "outputs": [],
   "source": [
    "# get the distinct value counts for all categorical variables for the thresholds below\n",
    "\n",
    "thresholds = [5, 10, 25, 50, 100, 500, 1000]\n",
    "distinct_summary = [get_distinct_summary(train_parquet, c, thresholds) for c in cateFieldNames]"
   ]
  },
  {
   "cell_type": "code",
   "execution_count": 22,
   "metadata": {},
   "outputs": [],
   "source": [
    "# calculate the number and the percentage of feature preserved for a given threshold\n",
    "\n",
    "distinct_counts = np.asarray(distinct_summary)[:,1:].astype(int)\n",
    "feat_num = np.sum(distinct_counts, axis = 0)\n",
    "feat_percent_preserv = np.sum(distinct_counts, axis = 0)/np.sum(distinct_counts, axis = 0)[0]"
   ]
  },
  {
   "cell_type": "code",
   "execution_count": 23,
   "metadata": {},
   "outputs": [
    {
     "data": {
      "text/plain": [
       "Text(0.5,1,'Feature Counts by Threshold')"
      ]
     },
     "execution_count": 23,
     "metadata": {},
     "output_type": "execute_result"
    },
    {
     "data": {
      "image/png": "[encoded data removed]",
      "text/plain": [
       "<Figure size 648x360 with 1 Axes>"
      ]
     },
     "metadata": {},
     "output_type": "display_data"
    }
   ],
   "source": [
    "# plot feature counts by threshold\n",
    "\n",
    "plt.figure(figsize=(9, 5))\n",
    "\n",
    "\n",
    "Ts = ['None'] + [f\"{threshold}\" for threshold in thresholds]\n",
    "y_pos = np.arange(len(Ts))\n",
    "\n",
    "plt.bar(y_pos, feat_num, align='center', alpha=0.5)\n",
    "plt.xticks(y_pos, Ts)\n",
    "plt.ylabel('Feature Count')\n",
    "plt.xlabel('Threshold')\n",
    "plt.title('Feature Counts by Threshold')"
   ]
  },
  {
   "cell_type": "code",
   "execution_count": 24,
   "metadata": {},
   "outputs": [
    {
     "name": "stdout",
     "output_type": "stream",
     "text": [
      "+-----------------+--------+----------+-----------+-----------+-----------+------------+------------+-------------+\n",
      "|          Feature|Distinct|count >= 5|count >= 10|count >= 25|count >= 50|count >= 100|count >= 500|count >= 1000|\n",
      "+-----------------+--------+----------+-----------+-----------+-----------+------------+------------+-------------+\n",
      "|   cate_feature_1|     115|        35|         22|         13|          9|           7|           3|            2|\n",
      "|   cate_feature_2|     332|       144|         95|         41|         20|          12|           2|            1|\n",
      "|   cate_feature_3|    3292|        93|         41|         14|          5|           3|           1|            1|\n",
      "|   cate_feature_4|    2421|       122|         55|         17|         10|           6|           1|            1|\n",
      "|   cate_feature_5|      48|        19|         13|         10|          7|           6|           3|            2|\n",
      "|   cate_feature_6|       7|         8|          8|          8|          8|           8|           5|            3|\n",
      "|   cate_feature_7|    2238|       189|         56|         14|          4|           2|           1|            1|\n",
      "|   cate_feature_8|      63|        23|         17|         12|          8|           6|           3|            2|\n",
      "|   cate_feature_9|       2|         3|          3|          3|          3|           3|           3|            2|\n",
      "|  cate_feature_10|    2085|       139|         34|          7|          3|           2|           2|            2|\n",
      "|  cate_feature_11|    1576|       228|         78|         21|          8|           3|           1|            1|\n",
      "|  cate_feature_12|    3111|       102|         43|         15|          6|           4|           1|            1|\n",
      "|  cate_feature_13|    1349|       245|         93|         24|          9|           3|           1|            1|\n",
      "|  cate_feature_14|      22|        17|         13|         11|          9|           7|           4|            3|\n",
      "|  cate_feature_15|    1486|       246|        106|         27|          5|           1|           1|            1|\n",
      "|  cate_feature_16|    2821|       117|         52|         18|          7|           4|           1|            1|\n",
      "|  cate_feature_17|       9|        10|         10|         10|         10|          10|           4|            2|\n",
      "|  cate_feature_18|     904|       216|        111|         37|         13|           7|           1|            1|\n",
      "|  cate_feature_19|     360|        53|         21|          9|          4|           4|           3|            3|\n",
      "|  cate_feature_20|       4|         5|          5|          5|          5|           5|           5|            2|\n",
      "|  cate_feature_21|    2960|       111|         47|         17|          7|           4|           1|            1|\n",
      "|  cate_feature_22|       7|         7|          7|          5|          4|           4|           3|            2|\n",
      "|  cate_feature_23|      12|        13|         12|         10|          9|           8|           4|            3|\n",
      "|  cate_feature_24|    1594|       114|         60|         22|         16|           9|           1|            1|\n",
      "|  cate_feature_25|      35|        26|         19|         13|         11|          10|           4|            2|\n",
      "|  cate_feature_26|    1210|        84|         33|         12|          8|           4|           2|            2|\n",
      "|      ***Total***|   28063|      2369|       1054|        395|        208|         142|          61|           44|\n",
      "|***% Preserved***|  100.0%|      8.4%|       3.8%|       1.4%|       0.7%|        0.5%|        0.2%|         0.2%|\n",
      "+-----------------+--------+----------+-----------+-----------+-----------+------------+------------+-------------+\n",
      "\n"
     ]
    }
   ],
   "source": [
    "# show the distinct value count for all categorical variables for all thresholds and the summary at the bottom\n",
    "\n",
    "eda2_summary = distinct_summary + [[\"***Total***\"] + [str(num) for num in feat_num]]\n",
    "eda2_summary = eda2_summary + [[\"***% Preserved***\"] + [str(round(percent*100,1))+\"%\" for percent in feat_percent_preserv]]\n",
    "\n",
    "\n",
    "distinctCounts = spark.createDataFrame(eda2_summary, ['Feature', 'Distinct'] + [f\"count >= {threshold}\" for threshold in thresholds] )\n",
    "distinctCounts.show(40)"
   ]
  },
  {
   "cell_type": "markdown",
   "metadata": {},
   "source": [
    "__EDA 2 Findings:__\n",
    "\n",
    "> In this section, we found that most of the values of the categorical features have very few counts. Even a threshold of five occurance would cause a drastic drop in feature number (refer to the bar graph above). Looking at the row, `***% Preserved***` in the table above, we only have 6.2% of the values left if we set the threshold for minimum occurance to be 5 and 3.2% left when the threshold is set to 10. This piece of information helps inform the feature engineering. As part of our feature engineering, we will attempt to establish a threshold to exclude these values having very low occurances so we don't train our model with local trend that doesn't exist in the population. \n",
    "\n",
    "> Rare values does not equal missing value. Therefore, we will also explore to assign a special value to those rare values so the algorithm can distinguish them from missing data and observe this practice's impact on model performance.\n",
    "\n",
    "> Looking at the counts of features left after a given threshold is applied (row, `***Total***` in the table above), we can see that when the threshold is set to ten, we would still have around 1 million one-hot-encoded features, and we can guarantee that all the parameters in our models are trained as least on ten examples. Therefore, we will set the threshold at ten to filter our categorical values. \n",
    "\n"
   ]
  },
  {
   "cell_type": "markdown",
   "metadata": {},
   "source": [
    "## EDA 3: Integer Features\n",
    "\n",
    "In this section, we perform an EDA on the integer features (i.e., the first 13 features). The goal is to identify possible feature engineering that could potentially improve our algorithm's performance."
   ]
  },
  {
   "cell_type": "code",
   "execution_count": 25,
   "metadata": {},
   "outputs": [
    {
     "name": "stdout",
     "output_type": "stream",
     "text": [
      "+-------+-------------------+-----------------+------------------+-----------------+-----------------+------------------+------------------+\n",
      "|summary|              label|    int_feature_1|     int_feature_2|    int_feature_3|    int_feature_4|     int_feature_5|     int_feature_6|\n",
      "+-------+-------------------+-----------------+------------------+-----------------+-----------------+------------------+------------------+\n",
      "|  count|               5000|             2788|              5000|             3928|             3966|              4870|              3901|\n",
      "|   mean|              0.262|3.826757532281205|          110.9356| 43.9806517311609|7.389813414019163|17061.030184804928|118.69700076903358|\n",
      "| stddev|0.43976661871473055| 9.53160896120588|393.61348473815525|870.2330455018677|8.877438545143875| 58911.75067484051| 422.3105054811211|\n",
      "|    min|                  0|                0|                -2|                0|                0|                 0|                 0|\n",
      "|    max|                  1|              145|              4864|            37170|              107|           1077390|             17030|\n",
      "+-------+-------------------+-----------------+------------------+-----------------+-----------------+------------------+------------------+\n",
      "\n",
      "+-------+------------------+------------------+------------------+------------------+------------------+------------------+------------------+-----------------+\n",
      "|summary|     int_feature_6|     int_feature_7|     int_feature_8|     int_feature_9|    int_feature_10|    int_feature_11|    int_feature_12|   int_feature_13|\n",
      "+-------+------------------+------------------+------------------+------------------+------------------+------------------+------------------+-----------------+\n",
      "|  count|              3901|              4785|              4997|              4785|              2788|              4785|              1174|             3966|\n",
      "|   mean|118.69700076903358| 16.61671891327064|12.236141685011006|109.79958202716823|0.6362984218077475|2.7839080459770114|0.8091993185689949| 8.20196671709531|\n",
      "| stddev| 422.3105054811211|62.123301344325135|12.688856379647316|237.26999987911375| 0.684862885900568| 5.190126031125586| 3.549342920033132|13.69169835883991|\n",
      "|    min|                 0|                 0|                 0|                 0|                 0|                 0|                 0|                0|\n",
      "|    max|             17030|              1777|                71|              4371|                 4|                79|                69|              471|\n",
      "+-------+------------------+------------------+------------------+------------------+------------------+------------------+------------------+-----------------+\n",
      "\n"
     ]
    }
   ],
   "source": [
    "train_parquet.select(intFieldNames[:7]).describe().show()\n",
    "train_parquet.select(intFieldNames[6:]).describe().show()"
   ]
  },
  {
   "cell_type": "code",
   "execution_count": 26,
   "metadata": {},
   "outputs": [
    {
     "data": {
      "image/png": "[encoded data removed]",
      "text/plain": [
       "<Figure size 1152x1152 with 14 Axes>"
      ]
     },
     "metadata": {},
     "output_type": "display_data"
    }
   ],
   "source": [
    "fig = plt.figure(figsize=(16, 16))\n",
    "for i in range(len(intFieldNames)):\n",
    "    colName = intFieldNames[i]\n",
    "    ax = plt.subplot(5, 4, i+1)\n",
    "    ax.hist(train_parquet.select(colName).rdd.map(lambda r: r[0]).filter(lambda x: x!=None).collect())\n",
    "    ax.set_title(colName)\n",
    "\n",
    "st = fig.suptitle(\"Integer Feature Histogram\", fontsize=\"x-large\")\n",
    "fig.tight_layout()\n",
    "st.set_y(1.03)"
   ]
  },
  {
   "cell_type": "markdown",
   "metadata": {},
   "source": [
    "__EDA 3 Findings:__\n",
    "\n",
    "From both the histograms and statistics summary, we can see that most of the integer features are very right-skewed with outliers. When fitting to the integers without any feature engineering, we might give the outliers more than appropriate weight in affecting our model's decision-making. Therefore, it is worth it to try transforming the integers by taking the natural log of its values. We will compare the performance of the model with and without the log transformation."
   ]
  },
  {
   "cell_type": "markdown",
   "metadata": {},
   "source": [
    "==================================================================================================================================="
   ]
  },
  {
   "cell_type": "markdown",
   "metadata": {},
   "source": [
    "# __Section 4__ - Algorithm Implementation"
   ]
  },
  {
   "cell_type": "markdown",
   "metadata": {},
   "source": [
    "## Feature Engineering\n",
    "\n",
    "We start section 4 with our default feature engineering based on the EDA in section 3 that we think can improve the performance of our model."
   ]
  },
  {
   "cell_type": "markdown",
   "metadata": {},
   "source": [
    "### Categorical Variables\n",
    "\n",
    "We replace the categorical values having counts less than 10 occurances with a special value `***` to prevent overfitting and distinguishing them from missing values."
   ]
  },
  {
   "cell_type": "code",
   "execution_count": 46,
   "metadata": {},
   "outputs": [],
   "source": [
    "#set the default threshold at 10\n",
    "threshold = 10\n",
    "\n",
    "train_parquet_MD = train_parquet\n",
    "\n",
    "# transform data column by column\n",
    "for col in cateFieldNames:\n",
    "    valuesToKeep = train_parquet.groupBy(col).count().filter(f\"count >= {threshold}\").select(col)\n",
    "    valuesToKeep = valuesToKeep.withColumn(\"_\"+col, train_parquet[col])\n",
    "    valuesToKeep = valuesToKeep.drop(col)\n",
    "\n",
    "    train_parquet_MD = train_parquet_MD.join(F.broadcast(valuesToKeep), train_parquet_MD[col] == valuesToKeep[\"_\"+col], 'leftouter')\n",
    "    train_parquet_MD = train_parquet_MD.withColumn(col, F.when(F.col(\"_\"+col).isNull(), \"***\").otherwise(F.col(\"_\"+col)))\n",
    "    train_parquet_MD = train_parquet_MD.drop(\"_\"+col)\n",
    "    "
   ]
  },
  {
   "cell_type": "code",
   "execution_count": 47,
   "metadata": {
    "scrolled": true
   },
   "outputs": [
    {
     "name": "stdout",
     "output_type": "stream",
     "text": [
      "+-----+-------------+-------------+-------------+-------------+-------------+-------------+-------------+-------------+-------------+--------------+--------------+--------------+--------------+--------------+--------------+--------------+--------------+--------------+--------------+--------------+--------------+--------------+---------------+---------------+---------------+---------------+---------------+---------------+---------------+---------------+---------------+---------------+---------------+---------------+---------------+---------------+---------------+---------------+---------------+\n",
      "|label|int_feature_1|int_feature_2|int_feature_3|int_feature_4|int_feature_5|int_feature_6|int_feature_7|int_feature_8|int_feature_9|int_feature_10|int_feature_11|int_feature_12|int_feature_13|cate_feature_1|cate_feature_2|cate_feature_3|cate_feature_4|cate_feature_5|cate_feature_6|cate_feature_7|cate_feature_8|cate_feature_9|cate_feature_10|cate_feature_11|cate_feature_12|cate_feature_13|cate_feature_14|cate_feature_15|cate_feature_16|cate_feature_17|cate_feature_18|cate_feature_19|cate_feature_20|cate_feature_21|cate_feature_22|cate_feature_23|cate_feature_24|cate_feature_25|cate_feature_26|\n",
      "+-----+-------------+-------------+-------------+-------------+-------------+-------------+-------------+-------------+-------------+--------------+--------------+--------------+--------------+--------------+--------------+--------------+--------------+--------------+--------------+--------------+--------------+--------------+---------------+---------------+---------------+---------------+---------------+---------------+---------------+---------------+---------------+---------------+---------------+---------------+---------------+---------------+---------------+---------------+---------------+\n",
      "|    0|         null|         2015|         null|            2|        11727|         null|            0|           33|            2|          null|             0|             0|             2|      8cf07265|      2c16a946|           ***|      9e2401c7|      25c83c98|      fe6b92e5|      dc7659bd|      0b153874|      a73ee510|       03e48276|       e51ddf94|            ***|       3516f6e6|       b28479f6|       3628a186|            ***|       3486227d|       e4ca448c|            ***|            ***|            ***|            ***|       bcdee96c|       9117a34a|            ***|            ***|\n",
      "|    0|         null|           -1|           26|            7|        96252|         null|            0|            7|           14|          null|             0|          null|             7|      05db9164|      80e26c9b|           ***|           ***|      25c83c98|           ***|           ***|      64523cfa|      7cc72ec2|            ***|            ***|            ***|            ***|       cfef1c29|            ***|            ***|       e5ba7672|       f54016b9|       21ddcdc9|       b1252a9d|            ***|            ***|       423fab69|            ***|       e8b83407|            ***|\n",
      "|    0|         null|            1|            1|           29|          100|         null|            0|           29|           30|          null|             0|             0|            30|      5a9ed9b0|      8084ee93|      d032c263|      c18be181|      25c83c98|      7e0ccccf|      dda1fed2|      5b392875|      a73ee510|       547c0ffe|       7f8ffe57|       dfbb09fb|       46f42a63|       07d13a8f|       f3996583|       84898b2a|       1e88c74f|       003d4f4f|            ***|            ***|       0014c32a|            ***|       3a171ecb|       3b183c5c|            ***|            ***|\n",
      "|    0|         null|           -1|         null|         null|        30147|            7|            2|            0|            3|          null|             1|          null|          null|           ***|      38a947a1|           ***|           ***|      25c83c98|      6f6d9be8|           ***|      5b392875|      7cc72ec2|            ***|       7a3651f5|            ***|       95bc260c|       07d13a8f|            ***|            ***|       07c540c4|            ***|            ***|            ***|            ***|            ***|       32c7478e|            ***|            ***|            ***|\n",
      "|    0|         null|            5|           11|            1|         1183|         null|            0|           44|          108|          null|             0|          null|             1|      39af2607|      287130e0|           ***|           ***|      30903e74|      fe6b92e5|           ***|      5b392875|      a73ee510|       3b08e48b|            ***|            ***|            ***|       b28479f6|       9efd8b77|            ***|       e5ba7672|       891589e7|            ***|       b1252a9d|            ***|       78e2e389|       bcdee96c|       3fdb382b|       ea9a246c|       49d68486|\n",
      "+-----+-------------+-------------+-------------+-------------+-------------+-------------+-------------+-------------+-------------+--------------+--------------+--------------+--------------+--------------+--------------+--------------+--------------+--------------+--------------+--------------+--------------+--------------+---------------+---------------+---------------+---------------+---------------+---------------+---------------+---------------+---------------+---------------+---------------+---------------+---------------+---------------+---------------+---------------+---------------+\n",
      "only showing top 5 rows\n",
      "\n"
     ]
    }
   ],
   "source": [
    "# view data after the replacement\n",
    "train_parquet_MD.show(5)"
   ]
  },
  {
   "cell_type": "markdown",
   "metadata": {},
   "source": [
    "### Numeric Variables\n",
    "\n",
    "By default, we take the floor of the log of the numerical value + 2. \n",
    "> Log transform is aimming to reduce the potentially drastic effect out outliers can have in the model.  \n",
    "> The +2 is to prevent 0 becoming undefined and to separate 0 from 1 because 0 might have a more special meaning than value >= 1 since it represents the total absence of something.  \n",
    "> ($\\lfloor log(0+2) \\rfloor = 0$, $\\lfloor log(i+2) \\rfloor = 0, where\\ i=\\{1,2,3,4,5\\}$)"
   ]
  },
  {
   "cell_type": "code",
   "execution_count": 48,
   "metadata": {},
   "outputs": [],
   "source": [
    "# transform data column by column\n",
    "for col in intFieldNames:\n",
    "    train_parquet_MD = train_parquet_MD.withColumn(col, F.floor(F.log(F.col(col)+F.lit(1))))"
   ]
  },
  {
   "cell_type": "code",
   "execution_count": 49,
   "metadata": {
    "scrolled": true
   },
   "outputs": [
    {
     "name": "stdout",
     "output_type": "stream",
     "text": [
      "+-----+-------------+-------------+-------------+-------------+-------------+-------------+-------------+-------------+-------------+--------------+--------------+--------------+--------------+--------------+--------------+--------------+--------------+--------------+--------------+--------------+--------------+--------------+---------------+---------------+---------------+---------------+---------------+---------------+---------------+---------------+---------------+---------------+---------------+---------------+---------------+---------------+---------------+---------------+---------------+\n",
      "|label|int_feature_1|int_feature_2|int_feature_3|int_feature_4|int_feature_5|int_feature_6|int_feature_7|int_feature_8|int_feature_9|int_feature_10|int_feature_11|int_feature_12|int_feature_13|cate_feature_1|cate_feature_2|cate_feature_3|cate_feature_4|cate_feature_5|cate_feature_6|cate_feature_7|cate_feature_8|cate_feature_9|cate_feature_10|cate_feature_11|cate_feature_12|cate_feature_13|cate_feature_14|cate_feature_15|cate_feature_16|cate_feature_17|cate_feature_18|cate_feature_19|cate_feature_20|cate_feature_21|cate_feature_22|cate_feature_23|cate_feature_24|cate_feature_25|cate_feature_26|\n",
      "+-----+-------------+-------------+-------------+-------------+-------------+-------------+-------------+-------------+-------------+--------------+--------------+--------------+--------------+--------------+--------------+--------------+--------------+--------------+--------------+--------------+--------------+--------------+---------------+---------------+---------------+---------------+---------------+---------------+---------------+---------------+---------------+---------------+---------------+---------------+---------------+---------------+---------------+---------------+---------------+\n",
      "|    0|         null|            7|         null|            1|            9|         null|            0|            3|            1|          null|             0|             0|             1|      8cf07265|      2c16a946|           ***|      9e2401c7|      25c83c98|      fe6b92e5|      dc7659bd|      0b153874|      a73ee510|       03e48276|       e51ddf94|            ***|       3516f6e6|       b28479f6|       3628a186|            ***|       3486227d|       e4ca448c|            ***|            ***|            ***|            ***|       bcdee96c|       9117a34a|            ***|            ***|\n",
      "|    0|         null|         null|            3|            2|           11|         null|            0|            2|            2|          null|             0|          null|             2|      05db9164|      80e26c9b|           ***|           ***|      25c83c98|           ***|           ***|      64523cfa|      7cc72ec2|            ***|            ***|            ***|            ***|       cfef1c29|            ***|            ***|       e5ba7672|       f54016b9|       21ddcdc9|       b1252a9d|            ***|            ***|       423fab69|            ***|       e8b83407|            ***|\n",
      "|    0|         null|            0|            0|            3|            4|         null|            0|            3|            3|          null|             0|             0|             3|      5a9ed9b0|      8084ee93|      d032c263|      c18be181|      25c83c98|      7e0ccccf|      dda1fed2|      5b392875|      a73ee510|       547c0ffe|       7f8ffe57|       dfbb09fb|       46f42a63|       07d13a8f|       f3996583|       84898b2a|       1e88c74f|       003d4f4f|            ***|            ***|       0014c32a|            ***|       3a171ecb|       3b183c5c|            ***|            ***|\n",
      "|    0|         null|         null|         null|         null|           10|            2|            1|            0|            1|          null|             0|          null|          null|           ***|      38a947a1|           ***|           ***|      25c83c98|      6f6d9be8|           ***|      5b392875|      7cc72ec2|            ***|       7a3651f5|            ***|       95bc260c|       07d13a8f|            ***|            ***|       07c540c4|            ***|            ***|            ***|            ***|            ***|       32c7478e|            ***|            ***|            ***|\n",
      "|    0|         null|            1|            2|            0|            7|         null|            0|            3|            4|          null|             0|          null|             0|      39af2607|      287130e0|           ***|           ***|      30903e74|      fe6b92e5|           ***|      5b392875|      a73ee510|       3b08e48b|            ***|            ***|            ***|       b28479f6|       9efd8b77|            ***|       e5ba7672|       891589e7|            ***|       b1252a9d|            ***|       78e2e389|       bcdee96c|       3fdb382b|       ea9a246c|       49d68486|\n",
      "+-----+-------------+-------------+-------------+-------------+-------------+-------------+-------------+-------------+-------------+--------------+--------------+--------------+--------------+--------------+--------------+--------------+--------------+--------------+--------------+--------------+--------------+--------------+---------------+---------------+---------------+---------------+---------------+---------------+---------------+---------------+---------------+---------------+---------------+---------------+---------------+---------------+---------------+---------------+---------------+\n",
      "only showing top 5 rows\n",
      "\n"
     ]
    }
   ],
   "source": [
    "# view data after the transformation\n",
    "train_parquet_MD.show(5)"
   ]
  },
  {
   "cell_type": "markdown",
   "metadata": {},
   "source": [
    "### Hashing"
   ]
  },
  {
   "cell_type": "markdown",
   "metadata": {},
   "source": [
    "All four of the models we discussed in section 2 were parametric models. In order to train and use parametric models, we need to transform the text of categorical data so that they are represented by numbers. The most straight forward way to tackle this task is one-hot-encoding where for each category, a distinct value is represented by their position in the vector and a value of one in the position.\n",
    "\n",
    "In our project, we decided to use the hashing trick: https://en.wikipedia.org/wiki/Feature_hashing  \n",
    "The core idea of feature hash is simple: Instead of making a one-to-one mapping of a categorical value to a position and a number in the feature vector, we use a hashing function to decide the location of a categorical value in our feature vector, which usually has a lower dimension than the dimension of our features. \n",
    "\n",
    "Just like any other hashing methods, collision might occur (collision is bound to happen when hashing to a lower dimension), where two distinct features are hashed to the same location. Yet, empirical findings have suggusted that for very sparse feature space, it doesn't significantly impact performance. Since data is sparse, it is unlikely that a single feature can have great impact in the model performance. A collision is only catastrophic when two very important features collide but it is unlikely for sparse data since it's rare to have one deciding feature and the odds of two extremely features colliding in a large space is even lower. In some cases, collision brings in noise to our training data resulting in less overfitting and improved performance. \n",
    "\n",
    "In this project we consider to use feature hashing due to the following advantages it has over one-hot-encoding:\n",
    "1. It is faster than buiding the one-to-one mapping needed for one-hot-encoding\n",
    "2. We don't need to store that mapping in memory for lookup for transforming unseen data come inference time.\n",
    "3. We don't need to deal with unseen feature come inference time.\n",
    "\n",
    "_source: https://dzone.com/articles/feature-hashing-for-scalable-machine-learning_"
   ]
  },
  {
   "cell_type": "code",
   "execution_count": 50,
   "metadata": {
    "scrolled": false
   },
   "outputs": [],
   "source": [
    "# set the number of feature to 50000 about twice as much as the average feature count for each column. \n",
    "# This number is to be higher when using non-field-aware methods\n",
    "n_features = 50000 \n",
    "n_fields = len(intFieldNames) + len(cateFieldNames)\n",
    "\n",
    "# hash the features\n",
    "hasher = FeatureHasher()\n",
    "# the default is to hash integer features as categorical\n",
    "hasher.setCategoricalCols(intFieldNames)\n",
    "hasher.setNumFeatures(n_features)\n",
    "\n",
    "for col in intFieldNames + cateFieldNames:\n",
    "    hasher.setInputCols([col])\n",
    "    hasher.setOutputCol(col+\"_hashed\")\n",
    "    train_parquet_MD = hasher.transform(train_parquet_MD)\n",
    " \n",
    "\n",
    "hashed_columns = train_parquet_MD.schema.names[-n_fields:]\n",
    "\n",
    "# Convert values to hashes\n",
    "def parse_sparse_vectors(vector, field_ind):\n",
    "    \"\"\"\n",
    "    Helper function which takes in a sparse vector and field number and emit a tuple of (FIELD_NUMBER, FEATURE_NUMBER)\n",
    "    \n",
    "    Args:\n",
    "        vector  - a sparse vector with the hash\n",
    "        field_ind  - the field index of the feature\n",
    "    Returns:\n",
    "        a tuple of (FIELD_NUMBER, FEATURE_NUMBER)\n",
    "    \"\"\"\n",
    "    if vector.indices.size > 0:\n",
    "        return int(vector.indices[0])\n",
    "    else:\n",
    "        return None\n",
    "# build a udf with the function parse_sparse_vectors\n",
    "vector_parser = F.udf(parse_sparse_vectors, types.IntegerType())\n",
    "\n",
    "train_parquet_hashed = train_parquet_MD\n",
    "\n",
    "# convert the sparse vectors to tuples of (FIELD_NUMBER, FEATURE_NUMBER)\n",
    "\n",
    "for field_ind, col in enumerate(hashed_columns):\n",
    "    train_parquet_hashed = train_parquet_hashed.withColumn(col, vector_parser(col, F.lit(field_ind)))\n",
    "\n",
    "train_parquet_hashed = train_parquet_hashed.drop(*(intFieldNames + cateFieldNames))"
   ]
  },
  {
   "cell_type": "code",
   "execution_count": 51,
   "metadata": {
    "scrolled": true
   },
   "outputs": [
    {
     "name": "stdout",
     "output_type": "stream",
     "text": [
      "+-----+--------------------+--------------------+--------------------+--------------------+--------------------+--------------------+--------------------+--------------------+--------------------+---------------------+---------------------+---------------------+---------------------+---------------------+---------------------+---------------------+---------------------+---------------------+---------------------+---------------------+---------------------+---------------------+----------------------+----------------------+----------------------+----------------------+----------------------+----------------------+----------------------+----------------------+----------------------+----------------------+----------------------+----------------------+----------------------+----------------------+----------------------+----------------------+----------------------+\n",
      "|label|int_feature_1_hashed|int_feature_2_hashed|int_feature_3_hashed|int_feature_4_hashed|int_feature_5_hashed|int_feature_6_hashed|int_feature_7_hashed|int_feature_8_hashed|int_feature_9_hashed|int_feature_10_hashed|int_feature_11_hashed|int_feature_12_hashed|int_feature_13_hashed|cate_feature_1_hashed|cate_feature_2_hashed|cate_feature_3_hashed|cate_feature_4_hashed|cate_feature_5_hashed|cate_feature_6_hashed|cate_feature_7_hashed|cate_feature_8_hashed|cate_feature_9_hashed|cate_feature_10_hashed|cate_feature_11_hashed|cate_feature_12_hashed|cate_feature_13_hashed|cate_feature_14_hashed|cate_feature_15_hashed|cate_feature_16_hashed|cate_feature_17_hashed|cate_feature_18_hashed|cate_feature_19_hashed|cate_feature_20_hashed|cate_feature_21_hashed|cate_feature_22_hashed|cate_feature_23_hashed|cate_feature_24_hashed|cate_feature_25_hashed|cate_feature_26_hashed|\n",
      "+-----+--------------------+--------------------+--------------------+--------------------+--------------------+--------------------+--------------------+--------------------+--------------------+---------------------+---------------------+---------------------+---------------------+---------------------+---------------------+---------------------+---------------------+---------------------+---------------------+---------------------+---------------------+---------------------+----------------------+----------------------+----------------------+----------------------+----------------------+----------------------+----------------------+----------------------+----------------------+----------------------+----------------------+----------------------+----------------------+----------------------+----------------------+----------------------+----------------------+\n",
      "|    0|                null|               20820|                null|                 679|               27024|                null|               42737|                9529|               31135|                 null|                28649|                37498|                 2881|                38201|                41359|                19906|                49376|                34640|                25660|                35091|                27171|                36563|                 19215|                 28094|                 37894|                 21219|                 11095|                 40079|                 47102|                 20385|                 40672|                 22179|                 25247|                 36487|                 32721|                 46979|                 26081|                 31686|                 27277|\n",
      "|    0|                null|                null|               19573|               46777|               11705|                null|               42737|               20980|               47212|                 null|                28649|                 null|                12994|                38616|                29633|                19906|                 8694|                34640|                23340|                11202|                37328|                  855|                 25306|                 37462|                 37894|                 18815|                 10735|                 17855|                 47102|                 46193|                 33752|                   618|                 32434|                 36487|                 32721|                 40270|                 34140|                  6937|                 27277|\n",
      "|    0|                null|                4408|               33977|               46072|               27501|                null|               42737|                9529|               49130|                 null|                28649|                37498|                 9629|                49167|                47909|                14873|                32334|                34640|                31272|                16936|                32336|                36563|                 26278|                 44453|                 47519|                 49310|                 33612|                 23164|                 10670|                 48309|                   539|                 22179|                 25247|                 44275|                 32721|                 42773|                 39091|                 31686|                 27277|\n",
      "|    0|                null|                null|                null|                null|               40717|               19038|               43509|               23152|               31135|                 null|                28649|                 null|                 null|                14192|                18153|                19906|                 8694|                34640|                13097|                11202|                32336|                  855|                 25306|                   345|                 37894|                 32169|                 33612|                 17855|                 47102|                  3602|                 12289|                 22179|                 25247|                 36487|                 32721|                 49761|                 34140|                 31686|                 27277|\n",
      "|    0|                null|               39867|                3014|               46475|               45339|                null|               42737|                9529|                3133|                 null|                28649|                 null|                22498|                17641|                36715|                19906|                 8694|                31757|                25660|                11202|                32336|                36563|                 43494|                 37462|                 37894|                 18815|                 11095|                 18700|                 47102|                 46193|                 36234|                 22179|                 32434|                 36487|                 37690|                 46979|                 25014|                 36388|                  7695|\n",
      "+-----+--------------------+--------------------+--------------------+--------------------+--------------------+--------------------+--------------------+--------------------+--------------------+---------------------+---------------------+---------------------+---------------------+---------------------+---------------------+---------------------+---------------------+---------------------+---------------------+---------------------+---------------------+---------------------+----------------------+----------------------+----------------------+----------------------+----------------------+----------------------+----------------------+----------------------+----------------------+----------------------+----------------------+----------------------+----------------------+----------------------+----------------------+----------------------+----------------------+\n",
      "only showing top 5 rows\n",
      "\n"
     ]
    }
   ],
   "source": [
    "# view the hashed df\n",
    "train_parquet_hashed.show(5)"
   ]
  },
  {
   "cell_type": "markdown",
   "metadata": {},
   "source": [
    "We have preprocessed our training data according with the default values suggested by our EDA. The next step is to train our FFM model."
   ]
  },
  {
   "cell_type": "markdown",
   "metadata": {},
   "source": [
    "================================================================================================================================================="
   ]
  },
  {
   "cell_type": "markdown",
   "metadata": {},
   "source": [
    "## FFM"
   ]
  },
  {
   "cell_type": "markdown",
   "metadata": {},
   "source": [
    "### FFM\n",
    "Mathematically, FMM can be expressed as:\n",
    "\n",
    "$ \\phi_{FFM}(w, x) = \\sum\\limits^{n}_{j_1=1} \\sum\\limits^{n}_{j_2=j_1+1}(w_{j_1} \\cdot w_{j_2})x_{j_1}x_{j_2}$\n",
    "\n",
    "However, in the models considered, either all variables are categorical or all integer values are binned effectively making them categorical and the $x_{j_1}$ and $x_{j_2}$ are both equal to 1. This reduces the formula to:\n",
    "\n",
    "$ \\phi_{FFM}(w, x) = \\sum\\limits^{n}_{j_1=1} \\sum\\limits^{n}_{j_2=j_1+1}(w_{j_1} \\cdot w_{j_2})$\n",
    "\n",
    "The optimization function considered for this model is log loss with regularization and the following formula is to be minimized.\n",
    "\n",
    "$\\underset{w}{min}$   $\\dfrac{\\lambda}{2}||w||_2^2 + \\sum\\limits^{m}_{i=1}log(1 + exp(-y_i\\phi_{FFM}(w,x_i)))$\n",
    "\n",
    "Currently, a closed-form solution for minimizing log loss is not known and therefore gradient descent is applied. The gradients for $\\phi_{FFM}(w, x)$ are:\n",
    "\n",
    "$g_{j_1,f_2} = \\triangledown_{w_{j_1,f_2}} f(w) = \\lambda \\cdot w_{j_1,f_2} + \\kappa \\cdot w_{j_2,f_1}$\n",
    "\n",
    "$g_{j_2,f_1} = \\triangledown_{w_{j_2,f_1}} f(w) = \\lambda \\cdot w_{j_2,f_1} + \\kappa \\cdot w_{j_1,f_2}$\n",
    "\n",
    "where,\n",
    "\n",
    "$\\kappa = \\dfrac{\\partial log(1 + exp(-y\\phi_{FFM}(w,x)))}{\\partial \\phi_{FFM}(w, x)} = \\dfrac{-y}{1 + exp(y\\phi_{FFM}(w,x))}$\n",
    "\n",
    "Initially we define two helper function for $\\phi_{FFM}$ and $\\kappa$"
   ]
  },
  {
   "cell_type": "code",
   "execution_count": 52,
   "metadata": {},
   "outputs": [],
   "source": [
    "def phi(x, W):\n",
    "    total = 0\n",
    "    for i in range(len(x) - 1):\n",
    "        if not x[i]:\n",
    "            continue\n",
    "            \n",
    "        for j in range(i + 1, len(x)):\n",
    "            if x[j]:\n",
    "                total += np.dot(W[x[i], j, :], W[x[j], i, :])\n",
    "                            \n",
    "    return total\n",
    "\n",
    "def kappa(y, features, W):\n",
    "    return -int(y)/(1 + np.exp(y*phi(features, W)))"
   ]
  },
  {
   "cell_type": "markdown",
   "metadata": {},
   "source": [
    "## Evaluation\n",
    "In addition to these helper functions, an associated cost function to minimize and evaluate the performance of the model during training and validation was required. As noted above, the evaluation method used is the log loss. A helper function is created to evaluate model performance."
   ]
  },
  {
   "cell_type": "code",
   "execution_count": 53,
   "metadata": {},
   "outputs": [],
   "source": [
    "def log_loss(dataRDD, W):\n",
    "    return dataRDD.map(lambda x: np.log(1 + np.exp(-int(x[0]) * phi(x[1:], W)))).mean()"
   ]
  },
  {
   "cell_type": "markdown",
   "metadata": {},
   "source": [
    "## Implementation 1\n",
    "The first implementation of the algorithm applies batch gradient descent to the model and the algorithm takes the following form for $t$ epochs:\n",
    "\n",
    "1. Map over instance, calculate all subgradients and emit the form ((feature, field) $g_{j_1,f_2}$) and ((feature, field) $g_{j_2,f_1}$) for all field pair combinations\n",
    "2. Reduce by the key to summing values for each key and number of occurances and incrementing a count variable so an average can be calculated. Emit ((feature, field), gradient, count).\n",
    "3. Map over each value, diving the gradient by the count to find an average gradient step.\n",
    "4. Create a tensor of zeroes $R^{n x f x k}$ where $n$ is the number of features, $f$ is the number of fields and $k$ is the size of each latent vector.\n",
    "5. Add each latent vector gradient step to the tensor of zeroes\n",
    "6. Subtract the gradient step multiplied by a learning rate from the original model: $W - eta * gradient$ where W is the original model."
   ]
  },
  {
   "cell_type": "code",
   "execution_count": 54,
   "metadata": {},
   "outputs": [],
   "source": [
    "train_parquet_hashed = train_parquet_hashed.cache()"
   ]
  },
  {
   "cell_type": "markdown",
   "metadata": {},
   "source": [
    "The model is first split into train and test for later evaluation before the training set is split into 100 mini batches."
   ]
  },
  {
   "cell_type": "code",
   "execution_count": 55,
   "metadata": {},
   "outputs": [],
   "source": [
    "# Test Train Split\n",
    "train_df, test_df = train_parquet_hashed.randomSplit([0.8, 0.2])\n",
    "batches = train_df.randomSplit([0.01] * 100)"
   ]
  },
  {
   "cell_type": "code",
   "execution_count": 56,
   "metadata": {},
   "outputs": [
    {
     "data": {
      "text/plain": [
       "<pyspark.broadcast.Broadcast at 0x7f6a68c8a080>"
      ]
     },
     "execution_count": 56,
     "metadata": {},
     "output_type": "execute_result"
    }
   ],
   "source": [
    "# Initialize model parameters\n",
    "k = 2\n",
    "n_features = 50000\n",
    "n_fields = 39\n",
    "eta = 0.3\n",
    "reg_c = 0.1\n",
    "sc.broadcast(k)\n",
    "sc.broadcast(n_features)\n",
    "sc.broadcast(n_fields)\n",
    "sc.broadcast(reg_c)\n",
    "sc.broadcast(eta)"
   ]
  },
  {
   "cell_type": "code",
   "execution_count": 57,
   "metadata": {},
   "outputs": [],
   "source": [
    "def gradient(x, W):\n",
    "    y = int(x[0])\n",
    "    features = x[1:]\n",
    "    kap = kappa(y, features, W)\n",
    "    \n",
    "    for i in range(len(features) - 1):\n",
    "        if not features[i]:\n",
    "            continue\n",
    "            \n",
    "        for j in range(i+1, len(features)):\n",
    "            if features[j]:\n",
    "                yield ((features[i], j), (kap * W[int(features[j]), i, :], 1))\n",
    "                yield ((features[j], i), (kap * W[int(features[i]), j, :], 1))"
   ]
  },
  {
   "cell_type": "code",
   "execution_count": 58,
   "metadata": {},
   "outputs": [],
   "source": [
    "def gd_update(dataRDD, W):\n",
    "    grad = dataRDD.flatMap(lambda x: gradient(x, W))\\\n",
    "                .reduceByKey(lambda x, y: (x[0] + y[0], x[1] + y[1]))\\\n",
    "                .map(lambda x: ((x[0][0], x[0][1]), x[1][0] / x[1][1]))\\\n",
    "                .collect()\n",
    "    \n",
    "    grad_update = np.zeros(shape=(n_features, n_fields, k))\n",
    "    \n",
    "    for indices, vector in grad:\n",
    "        feature_index = indices[0]\n",
    "        field_index = indices[1]\n",
    "        \n",
    "        grad_update[int(feature_index), field_index, :] += vector\n",
    "    \n",
    "    new_model = W - eta * grad_update\n",
    "    \n",
    "    return new_model"
   ]
  },
  {
   "cell_type": "code",
   "execution_count": 59,
   "metadata": {},
   "outputs": [
    {
     "name": "stdout",
     "output_type": "stream",
     "text": [
      "----------\n",
      "STEP: 1\n",
      "Training Loss: 0.5472214583367988\n",
      "Test Loss: 0.5262784148695879\n",
      "----------\n",
      "STEP: 2\n",
      "Training Loss: 0.5647865915673629\n",
      "Test Loss: 0.5028714839356467\n",
      "----------\n",
      "STEP: 3\n",
      "Training Loss: 0.5245438123156343\n",
      "Test Loss: 0.577622650466621\n",
      "----------\n",
      "STEP: 4\n",
      "Training Loss: 0.4733688062360602\n",
      "Test Loss: 0.4455946160742505\n",
      "----------\n",
      "STEP: 5\n",
      "Training Loss: 0.5198603854199589\n",
      "Test Loss: 0.457182182922517\n",
      "----------\n",
      "STEP: 6\n",
      "Training Loss: 0.5545177444479563\n",
      "Test Loss: 0.4219156751234449\n",
      "----------\n",
      "STEP: 7\n",
      "Training Loss: 0.44559461607425044\n",
      "Test Loss: 0.5096670445293715\n",
      "----------\n",
      "STEP: 8\n",
      "Training Loss: 0.5446156418685285\n",
      "Test Loss: 0.4786016246723432\n",
      "----------\n",
      "STEP: 9\n",
      "Training Loss: 0.5986271104835891\n",
      "Test Loss: 0.5406548008367574\n",
      "----------\n",
      "STEP: 10\n",
      "Training Loss: 0.5240868926184952\n",
      "Test Loss: 0.5237112030897364\n",
      "\n",
      "... trained 10 iterations in 88.05562472343445 seconds\n"
     ]
    }
   ],
   "source": [
    "import time\n",
    "def gradient_descent(split_data, w_init, n_steps = 10):\n",
    "    \n",
    "    model = sc.broadcast(w_init)\n",
    "\n",
    "    start = time.time()\n",
    "    for i in range(n_steps):\n",
    "        train_rdd = split_data[i].rdd\n",
    "        print(\"----------\")\n",
    "        print(f\"STEP: {i+1}\")\n",
    "        new_model = gd_update(train_rdd, model.value)\n",
    "        model = sc.broadcast(new_model)\n",
    "        train_loss = log_loss(train_rdd, model.value)\n",
    "        print(f\"Training Loss: {train_loss}\")\n",
    "        test_loss = log_loss(split_data[i + 50].rdd, model.value)\n",
    "        print(f\"Test Loss: {test_loss}\")\n",
    "    print(f\"\\n... trained {n_steps} iterations in {time.time() - start} seconds\")\n",
    "\n",
    "np.random.seed(1)\n",
    "w_init = np.random.uniform(0, 1/np.sqrt(k), size=(n_features, n_fields, k))\n",
    "gradient_descent(batches, w_init)"
   ]
  },
  {
   "cell_type": "markdown",
   "metadata": {},
   "source": [
    "```\n",
    "----------\n",
    "STEP: 1\n",
    "Training Loss: 62.73936057037036\n",
    "Test Loss: 60.10183410156437\n",
    "----------\n",
    "STEP: 2\n",
    "Training Loss: 22.328150602460546\n",
    "Test Loss: 36.45676808231048\n",
    "----------\n",
    "STEP: 3\n",
    "Training Loss: 4.307155265608798\n",
    "Test Loss: 13.901616519936255\n",
    "----------\n",
    "STEP: 4\n",
    "Training Loss: 0.8664094322811013\n",
    "Test Loss: 3.973589613149072\n",
    "----------\n",
    "STEP: 5\n",
    "Training Loss: 1.475896230765925\n",
    "Test Loss: 4.674988641481719\n",
    "----------\n",
    "STEP: 6\n",
    "Training Loss: 2.440370214571568\n",
    "Test Loss: 2.0451115558223574\n",
    "----------\n",
    "STEP: 7\n",
    "Training Loss: 0.882557069689214\n",
    "Test Loss: 5.096213680944408\n",
    "----------\n",
    "STEP: 8\n",
    "Training Loss: 0.018436663839698046\n",
    "Test Loss: 3.3981814430053627\n",
    "----------\n",
    "STEP: 9\n",
    "Training Loss: 1.6968265521501424\n",
    "Test Loss: 2.6162523317611956\n",
    "----------\n",
    "STEP: 10\n",
    "Training Loss: 0.24230267188769136\n",
    "Test Loss: 3.4301517522897385\n",
    "\n",
    "... trained 10 iterations in 31.028324842453003 seconds\n",
    "```"
   ]
  },
  {
   "cell_type": "markdown",
   "metadata": {},
   "source": [
    "## Implementation 1 Evaluation\n",
    "As can be seen from the outputs, the gradient steps are performing correctly with the log loss improving on each iteration. In this case the training occurs over the first 10 batches and testing is performed on batches 50-59. The training loss unsurprisingly converges a lot more than the test loss due to the presence of the most recent gradient step being performed on the training data that was just tested. A suggestion would be to add regularization, which we tried, but it didn't improve performance all that much, which is similar to the conclusions noted in the paper this model is based off of. It should be noted that the losses shown in the saved text above are for a locally run model and performance here is particularly bad because there are as many as 200,000 unique features and only 10000 features are used for the hashing. Moreover, the number of latent vectors is set to 2, which is fairly low. The output from the cell contains 50000 features and performs a lot better.\n",
    "\n",
    "The example above is on a 5000 instance training set, however, the full dataset was evaluated similarly broken into 100 equal blocks. However, training on just one of the blocks (450k instances) took close to 3 hours with the following computational set up:\n",
    " - 1 n1-standard driver \n",
    " - 6 n1-standard workers\n",
    "     - 8 cores each\n",
    "     - 30GB of RAM\n",
    "\n",
    "That said, it was calculating logloss that took close to an hour each time. It was determined that our implementation was too computational inefficient to continue to attempt on the full dataset and we decided to pivot."
   ]
  },
  {
   "cell_type": "markdown",
   "metadata": {},
   "source": [
    "<img src=\"image (3).png\">"
   ]
  },
  {
   "cell_type": "markdown",
   "metadata": {},
   "source": [
    "## Implementation 2\n",
    "A second implementation was devised that would split the data into separate partitions, performing stochastic gradient descent locally before collecting and summing all gradients at the driver. The hope here was that having the model coefficients locally would enable SGD, but also reduce the amount of emitting done by the mappers, improving performance of the model."
   ]
  },
  {
   "cell_type": "code",
   "execution_count": null,
   "metadata": {},
   "outputs": [],
   "source": [
    "k = 2\n",
    "n_features = 10000\n",
    "n_fields = 39\n",
    "eta = 0.3\n",
    "reg_c = 0.1\n",
    "sc.broadcast(k)\n",
    "sc.broadcast(n_features)\n",
    "sc.broadcast(n_fields)\n",
    "sc.broadcast(reg_c)\n",
    "sc.broadcast(eta)\n",
    "\n",
    "def update_gradient(x, w_old, w_new, G, reg_c = 0.1):\n",
    "    \"\"\"Update the gradient of a FFM\n",
    "    \n",
    "    Args:\n",
    "        x: the input row from the RDD, assume that it has been hashed and that \n",
    "            the first entry is the label the update takes values from w_old and \n",
    "            updates w_new. The format of x is [label, h_1, ..., h_F]\n",
    "            where h_i is the hashed value of the field i and F is the total number of fields.\n",
    "        w_old: the old value of the coefficient matrix (this is usually a broadcast variable\n",
    "            from the driver)\n",
    "        w_new: the new coefficient matrix, this will be mutated/updated within this function\n",
    "        n_features: number of features\n",
    "        n_fiels: number of fields\n",
    "        reg_c: regularization parameter\n",
    "    \n",
    "    Implements steps from Algorithm 1 (lines 5 - 11) in paper \n",
    "    https://www.csie.ntu.edu.tw/~cjlin/papers/ffm.pdf\n",
    "    \"\"\"\n",
    "    eta = 0.3\n",
    "    y = x[0]\n",
    "    features = x[1:]\n",
    "    # Keep a mapping from the hashed value back to the field it came from\n",
    "    w_v = w_old.value\n",
    "#     D = {h:i for i, h in enumerate(H)}\n",
    "    kappa = -int(y)/(1 + np.exp(int(y)*phi(features, w_v)))\n",
    "    # Iterate through the features and update the gradient, use D for lookups\n",
    "    for f1 in range(len(features) - 1):\n",
    "        j1 = features[f1]\n",
    "        if not j1:\n",
    "            continue\n",
    "            \n",
    "        for f2 in range(1, len(features)):\n",
    "            j2 = features[f2]\n",
    "            if not j2:\n",
    "                continue         \n",
    "            \n",
    "            g1 = kappa*w_v[j2,f1,:] + reg_c*w_v[j1, f2, :]\n",
    "            g2 = kappa*w_v[j1,f2,:] + reg_c*w_v[j2, f1, :]\n",
    "#             G[j1,f2, :] += g1**2\n",
    "#             G[j2,f1, :] += g2**2\n",
    "            w_new[j1,f2,:] = w_v[j1,f2,:] - eta * g1 # eta*g1/np.sqrt(G[j1,f2,:])\n",
    "            w_new[j2,f1,:] = w_v[j2,f1,:] - eta * g2 # eta*g2/np.sqrt(G[j2,f1,:])\n",
    "\n",
    "def apply_sgd_step(rdd, W_old, n_features, n_fields, k, reg_c):\n",
    "    \"\"\"\n",
    "    Implements the sampling part of Algorithm 1 \n",
    "    https://www.csie.ntu.edu.tw/~cjlin/papers/ffm.pdf, lines 3 -- 4\n",
    "    \n",
    "    Args:\n",
    "        rdd: The RDD on each partition\n",
    "        W_old: the old value of the coefficient matrix (this is usually a broadcast variable\n",
    "            from the driver)\n",
    "        n_features: number of features\n",
    "        n_fiels: number of fields\n",
    "        reg_c: regularization parameter\n",
    "    \"\"\"\n",
    "    \n",
    "    G = np.ones((n_features, n_fields, k))\n",
    "    W_new = np.zeros((n_features, n_fields, k))\n",
    "    for x in rdd: \n",
    "        #= rdd.sample(False, 0.1)\n",
    "        if np.random.uniform() < 0.1:\n",
    "            update_gradient(x, w_old=W_old, w_new=W_new, G = G, reg_c = reg_c)\n",
    "    yield W_new\n",
    "    \n",
    "def run_ffm_train(rdd_hashed, n_features, n_fields, k, n_iters=10, learning_rate=0.1, reg_c=1):\n",
    "    \"\"\"Runs the FFM algorithm and returns the update coefficient matrix. \n",
    "    \n",
    "    \n",
    "    Implements the SGD parallelization in Algorithm 1 \n",
    "    https://www.csie.ntu.edu.tw/~cjlin/papers/ffm.pdf, lines 1 - 2\n",
    "    \n",
    "    Args:\n",
    "        rdd_hashed: An RDD of hashed values in the format where each row is of the form\n",
    "            [label, feature_hash_1, feature_hash_2, ..., feature_hash_n]\n",
    "        n_features: The number of features, for example 10**6\n",
    "        n_fields: The number of fields, e.g. 39 for Criteo dataset\n",
    "        k: dimension of the latent vector\n",
    "        n_iters: number of iterations of gradient descent\n",
    "        reg_c: regulization parameter \n",
    "        \n",
    "    Returns:\n",
    "        The returned matrix is of the type W[j,f,k] where the first index is the feature, \n",
    "        the second is the field and the third is the latent component \n",
    "        of the vector. So if there are 1,000,000 features, 39 fields and 10 latent vectors \n",
    "        the return value is a 1,000,000 x 39 x 10 tensor\n",
    "\n",
    "    \"\"\"\n",
    "    W_old = sc.broadcast(np.random.uniform(0, 1/np.sqrt(k), size=(n_features, n_fields, k)))\n",
    "    for i in range(n_iters):\n",
    "        W_new = rdd_hashed.mapPartitions(lambda rdd, w_old=W_old, n_features=n_features, n_fields=n_fields, k=k, reg_c = reg_c: apply_sgd_step(rdd, W_old, n_features, n_fields, k, reg_c))\\\n",
    "        .sum()\n",
    "        train_loss = log_loss(rdd_hashed, W_new)\n",
    "        print(f\"Training Loss: {train_loss}\")\n",
    "        W_old = sc.broadcast(W_new)\n",
    "    return W_new"
   ]
  },
  {
   "cell_type": "code",
   "execution_count": null,
   "metadata": {},
   "outputs": [],
   "source": [
    "run_ffm_train(train_df.rdd , 10000, 39, 2, n_iters=10)"
   ]
  },
  {
   "cell_type": "markdown",
   "metadata": {},
   "source": [
    "```\n",
    "Training Loss: 51.371761288573545\n",
    "Training Loss: 23.607517955943024\n",
    "Training Loss: 10.84718644190816\n",
    "Training Loss: 5.006273222880837\n",
    "Training Loss: 2.3819632135011095\n",
    "Training Loss: 1.3357208715515054\n",
    "Training Loss: 0.973598711605685\n",
    "Training Loss: 0.8419300960457365\n",
    "Training Loss: 0.7821930373896475\n",
    "Training Loss: 0.7496892202336619\n",
    "```"
   ]
  },
  {
   "cell_type": "markdown",
   "metadata": {},
   "source": [
    "## Implementation 2 Evaluation\n",
    "The second implementation was similar to the first implementation in that the models tested locally on a subset of 5000 instances worked appropriately with the log loss reducing over each iteration. That said, it struggled with similar constraints as the first in that it simply wasn't performany enough. Even on much smaller subsets of the full dataset (1%) it still took close to an hour when run on GCP."
   ]
  },
  {
   "cell_type": "markdown",
   "metadata": {},
   "source": [
    "## Future FFM Work\n",
    "\n",
    "Beyond the two main implementations above, the team read some other literature to better understand how to boost performance of the model. First, the libFFM implementation that won the kaggle competition was compiled and run on a 1% subset of the dataset, which it was able to complete in some minutes. This prompted to the team to consider compiling the C++ library in the cloud and creating a python wrapper to call out to the libFFM implementation, however, it wasn't proving to be feasible in the given time constraints. Further, the team came across another paper from Criteo that stated their distributed solution takes almost 21 hours to run on a much more powerful setup. (Source: https://arxiv.org/pdf/1701.04099.pdf)\n",
    "\n",
    "After noting that performance of numpy arrays and pandas are close to that of C++. Another possible solution, yet to be attempted, is to install pyarrows and enable arrows in the spark environment. This allows writing of pandas UDFs, which allows for vectorization of method across all rows at once that can greatly improve performance. That said, the dataset is too large to hold in memory requiring the data to be chunked into smaller pieces that are run on their own partition. If the team were to continue with the project, this would be our next most likely step to try if an FFM implementation was desired.\n",
    "\n",
    "In realizing our model was too computationally intensive for this task, the team decided to pivot onto using logistic regression on the dataset."
   ]
  },
  {
   "cell_type": "markdown",
   "metadata": {},
   "source": [
    "==============================================================================================================================================="
   ]
  },
  {
   "cell_type": "markdown",
   "metadata": {},
   "source": [
    "## Logistic Regression\n",
    "\n",
    "We will use the logistic regression from Spark ML to build a model using the 80% of the training set, and calculate the average log loss on the 20% of the heldout set."
   ]
  },
  {
   "cell_type": "code",
   "execution_count": 31,
   "metadata": {
    "scrolled": false
   },
   "outputs": [
    {
     "name": "stdout",
     "output_type": "stream",
     "text": [
      "+-----+-------------+-------------+-------------+-------------+-------------+-------------+-------------+-------------+-------------+--------------+--------------+--------------+--------------+--------------+--------------+--------------+--------------+--------------+--------------+--------------+--------------+--------------+---------------+---------------+---------------+---------------+---------------+---------------+---------------+---------------+---------------+---------------+---------------+---------------+---------------+---------------+---------------+---------------+---------------+\n",
      "|label|int_feature_1|int_feature_2|int_feature_3|int_feature_4|int_feature_5|int_feature_6|int_feature_7|int_feature_8|int_feature_9|int_feature_10|int_feature_11|int_feature_12|int_feature_13|cate_feature_1|cate_feature_2|cate_feature_3|cate_feature_4|cate_feature_5|cate_feature_6|cate_feature_7|cate_feature_8|cate_feature_9|cate_feature_10|cate_feature_11|cate_feature_12|cate_feature_13|cate_feature_14|cate_feature_15|cate_feature_16|cate_feature_17|cate_feature_18|cate_feature_19|cate_feature_20|cate_feature_21|cate_feature_22|cate_feature_23|cate_feature_24|cate_feature_25|cate_feature_26|\n",
      "+-----+-------------+-------------+-------------+-------------+-------------+-------------+-------------+-------------+-------------+--------------+--------------+--------------+--------------+--------------+--------------+--------------+--------------+--------------+--------------+--------------+--------------+--------------+---------------+---------------+---------------+---------------+---------------+---------------+---------------+---------------+---------------+---------------+---------------+---------------+---------------+---------------+---------------+---------------+---------------+\n",
      "|    0|         null|          139|         null|            2|         4828|           28|           11|            2|           28|          null|             1|             0|             2|      05db9164|      d833535f|      77f2f2e5|      d16679b9|      4cf72387|      fe6b92e5|      9ea2e0f0|      0b153874|      a73ee510|       43b7a3fa|       2dad6ba2|       9f32b866|       47cb697a|       07d13a8f|       943169c2|       31ca40b6|       e5ba7672|       281769c2|            ***|            ***|       dfcfc3fa|       c9d4222a|       32c7478e|       aee52b6f|            ***|            ***|\n",
      "|    0|         null|            3|            7|            5|        46272|          314|            0|            5|           39|          null|             0|          null|             5|      05db9164|      9b25e48b|           ***|           ***|      25c83c98|           ***|      1401df5c|      0b153874|      7cc72ec2|       a4c398f8|       f697a983|            ***|       e5643e9a|       07d13a8f|       054ebda1|            ***|       e5ba7672|       7d8c03aa|       1d04f4a4|       5840adea|            ***|            ***|       c7dc6720|       48b11258|       ea9a246c|       b4a4615f|\n",
      "|    0|            3|            2|         null|            1|            0|            1|           42|           16|          390|             1|            18|            12|             0|      8cf07265|      38d50e09|      50b60277|      64607668|      25c83c98|      fbad5c96|      97f8984c|      0b153874|      a73ee510|       3b08e48b|       0a41d304|       c65541d1|       11aa1375|       cfef1c29|       71c460b5|       ff8dfb8b|       8efede7f|       582152eb|       21ddcdc9|       5840adea|       0c8b6f3b|            ***|       55dd3565|       51b4beaa|       001f3601|       1d5d3a57|\n",
      "|    0|            0|            0|         null|            7|         2831|         null|            0|           32|            1|             0|             0|             0|            32|      68fd1e64|      7cd19acc|      ad4b77ff|      d16679b9|      25c83c98|      7e0ccccf|      5c6e106b|      0b153874|      a73ee510|       2c443d6f|       5420373c|       a2f4e8b5|       ab160bba|       1adce6ef|       5e3f66c0|       89052618|       e5ba7672|       416587b1|            ***|            ***|       d4703ebd|            ***|       423fab69|       aee52b6f|            ***|            ***|\n",
      "|    0|         null|            4|            4|            1|            8|         null|            0|            1|            1|          null|             0|          null|             1|      05db9164|      bc478804|           ***|      13508380|      30903e74|      7e0ccccf|      038685fb|      5b392875|      a73ee510|       612f8227|       ed04080f|            ***|       5579ddc3|       07d13a8f|       0af7c64c|            ***|       1e88c74f|       65a2ac26|       423fab69|       b1252a9d|            ***|            ***|       32c7478e|       45ab94c8|       001f3601|       c84c4aec|\n",
      "+-----+-------------+-------------+-------------+-------------+-------------+-------------+-------------+-------------+-------------+--------------+--------------+--------------+--------------+--------------+--------------+--------------+--------------+--------------+--------------+--------------+--------------+--------------+---------------+---------------+---------------+---------------+---------------+---------------+---------------+---------------+---------------+---------------+---------------+---------------+---------------+---------------+---------------+---------------+---------------+\n",
      "only showing top 5 rows\n",
      "\n",
      "+-----+-------------+-------------+-------------+-------------+-------------+-------------+-------------+-------------+-------------+--------------+--------------+--------------+--------------+--------------+--------------+--------------+--------------+--------------+--------------+--------------+--------------+--------------+---------------+---------------+---------------+---------------+---------------+---------------+---------------+---------------+---------------+---------------+---------------+---------------+---------------+---------------+---------------+---------------+---------------+\n",
      "|label|int_feature_1|int_feature_2|int_feature_3|int_feature_4|int_feature_5|int_feature_6|int_feature_7|int_feature_8|int_feature_9|int_feature_10|int_feature_11|int_feature_12|int_feature_13|cate_feature_1|cate_feature_2|cate_feature_3|cate_feature_4|cate_feature_5|cate_feature_6|cate_feature_7|cate_feature_8|cate_feature_9|cate_feature_10|cate_feature_11|cate_feature_12|cate_feature_13|cate_feature_14|cate_feature_15|cate_feature_16|cate_feature_17|cate_feature_18|cate_feature_19|cate_feature_20|cate_feature_21|cate_feature_22|cate_feature_23|cate_feature_24|cate_feature_25|cate_feature_26|\n",
      "+-----+-------------+-------------+-------------+-------------+-------------+-------------+-------------+-------------+-------------+--------------+--------------+--------------+--------------+--------------+--------------+--------------+--------------+--------------+--------------+--------------+--------------+--------------+---------------+---------------+---------------+---------------+---------------+---------------+---------------+---------------+---------------+---------------+---------------+---------------+---------------+---------------+---------------+---------------+---------------+\n",
      "|    0|         null|            4|         null|            1|            8|            3|            2|            1|            3|          null|             1|             0|             1|      05db9164|      d833535f|      77f2f2e5|      d16679b9|      4cf72387|      fe6b92e5|      9ea2e0f0|      0b153874|      a73ee510|       43b7a3fa|       2dad6ba2|       9f32b866|       47cb697a|       07d13a8f|       943169c2|       31ca40b6|       e5ba7672|       281769c2|            ***|            ***|       dfcfc3fa|       c9d4222a|       32c7478e|       aee52b6f|            ***|            ***|\n",
      "|    0|         null|            1|            2|            1|           10|            5|            0|            1|            3|          null|             0|          null|             1|      05db9164|      9b25e48b|           ***|           ***|      25c83c98|           ***|      1401df5c|      0b153874|      7cc72ec2|       a4c398f8|       f697a983|            ***|       e5643e9a|       07d13a8f|       054ebda1|            ***|       e5ba7672|       7d8c03aa|       1d04f4a4|       5840adea|            ***|            ***|       c7dc6720|       48b11258|       ea9a246c|       b4a4615f|\n",
      "|    0|            1|            1|         null|            1|            0|            1|            3|            2|            5|             1|             2|             2|             0|      8cf07265|      38d50e09|      50b60277|      64607668|      25c83c98|      fbad5c96|      97f8984c|      0b153874|      a73ee510|       3b08e48b|       0a41d304|       c65541d1|       11aa1375|       cfef1c29|       71c460b5|       ff8dfb8b|       8efede7f|       582152eb|       21ddcdc9|       5840adea|       0c8b6f3b|            ***|       55dd3565|       51b4beaa|       001f3601|       1d5d3a57|\n",
      "|    0|            0|            0|         null|            2|            7|         null|            0|            3|            1|             0|             0|             0|             3|      68fd1e64|      7cd19acc|      ad4b77ff|      d16679b9|      25c83c98|      7e0ccccf|      5c6e106b|      0b153874|      a73ee510|       2c443d6f|       5420373c|       a2f4e8b5|       ab160bba|       1adce6ef|       5e3f66c0|       89052618|       e5ba7672|       416587b1|            ***|            ***|       d4703ebd|            ***|       423fab69|       aee52b6f|            ***|            ***|\n",
      "|    0|         null|            1|            1|            1|            2|         null|            0|            1|            1|          null|             0|          null|             1|      05db9164|      bc478804|           ***|      13508380|      30903e74|      7e0ccccf|      038685fb|      5b392875|      a73ee510|       612f8227|       ed04080f|            ***|       5579ddc3|       07d13a8f|       0af7c64c|            ***|       1e88c74f|       65a2ac26|       423fab69|       b1252a9d|            ***|            ***|       32c7478e|       45ab94c8|       001f3601|       c84c4aec|\n",
      "+-----+-------------+-------------+-------------+-------------+-------------+-------------+-------------+-------------+-------------+--------------+--------------+--------------+--------------+--------------+--------------+--------------+--------------+--------------+--------------+--------------+--------------+--------------+---------------+---------------+---------------+---------------+---------------+---------------+---------------+---------------+---------------+---------------+---------------+---------------+---------------+---------------+---------------+---------------+---------------+\n",
      "only showing top 5 rows\n",
      "\n",
      "+-----+--------------------+\n",
      "|label|            features|\n",
      "+-----+--------------------+\n",
      "|    0|(1000000,[27171,3...|\n",
      "|    0|(1000000,[27171,5...|\n",
      "|    0|(1000000,[6135,99...|\n",
      "|    0|(1000000,[27171,1...|\n",
      "|    0|(1000000,[36554,7...|\n",
      "+-----+--------------------+\n",
      "only showing top 5 rows\n",
      "\n"
     ]
    }
   ],
   "source": [
    "#similar feature engineering process to FFM\n",
    "\n",
    "threshold = 10\n",
    "\n",
    "train_parquet_MD = train_parquet\n",
    "\n",
    "for col in cateFieldNames:\n",
    "    valuesToKeep = train_parquet.groupBy(col).count().filter(f\"count >= {threshold}\").select(col)\n",
    "    valuesToKeep = valuesToKeep.withColumn(\"_\"+col, train_parquet[col])\n",
    "    valuesToKeep = valuesToKeep.drop(col)\n",
    "\n",
    "    train_parquet_MD = train_parquet_MD.join(F.broadcast(valuesToKeep), train_parquet_MD[col] == valuesToKeep[\"_\"+col], 'leftouter')\n",
    "    train_parquet_MD = train_parquet_MD.withColumn(col, F.when(F.col(\"_\"+col).isNull(), \"***\").otherwise(F.col(\"_\"+col)))\n",
    "    train_parquet_MD = train_parquet_MD.drop(\"_\"+col)\n",
    "\n",
    "train_parquet_MD.show(5)\n",
    "\n",
    "for col in intFieldNames:\n",
    "    train_parquet_MD = train_parquet_MD.withColumn(col, F.floor(F.log(F.col(col)+F.lit(2))))\n",
    "\n",
    "train_parquet_MD.show(5)\n",
    "\n",
    "n_features = 1000000 #hash to a set of 1 million feature since it's not field aware and we have a total of 1085739 feature according to EDA\n",
    "\n",
    "\n",
    "hasher = FeatureHasher(inputCols=intFieldNames + cateFieldNames, outputCol=\"features\")\n",
    "hasher.setCategoricalCols(intFieldNames)\n",
    "hasher.setNumFeatures(n_features)\n",
    "\n",
    "df_hashed = hasher.transform(train_parquet_MD).select(\"label\", \"features\").cache()\n",
    "\n",
    "df_hashed.show(5)"
   ]
  },
  {
   "cell_type": "code",
   "execution_count": 32,
   "metadata": {},
   "outputs": [],
   "source": [
    "# do a 20%, 80% split\n",
    "heldOutDF, trainDF = df_hashed.randomSplit([0.2,0.8], seed = 5)"
   ]
  },
  {
   "cell_type": "code",
   "execution_count": 33,
   "metadata": {},
   "outputs": [],
   "source": [
    "# fit a logistic regression model with L2 regularization and regularization parameter = 1\n",
    "blor = LogisticRegression(regParam=0.1)\n",
    "blorModel = blor.fit(trainDF)\n",
    "result = blorModel.transform(heldOutDF).cache()"
   ]
  },
  {
   "cell_type": "code",
   "execution_count": 34,
   "metadata": {},
   "outputs": [],
   "source": [
    "def calculateLogLoss(df, probCol='probability', labelCol='label'):\n",
    "    def logloss(probVector, label):\n",
    "        \"\"\"\n",
    "        udf which helps calculate the log loss of test set\n",
    "\n",
    "        Args:\n",
    "            probVector - a dense vector with first number as the predicted probability of label being 0\n",
    "            label      - the true label of an instance\n",
    "        Returns:\n",
    "            the log loss of a instance\n",
    "        \"\"\"\n",
    "        import math\n",
    "        # get the predicted probability of label = 0\n",
    "        probability = probVector[0]\n",
    "        # convert label to a float for calculation\n",
    "        label = float(label)\n",
    "\n",
    "        return -1.0 * (label*math.log(1-probability)+(1.0-label)*math.log(probability))\n",
    "    \n",
    "    # create an udf for dataframe\n",
    "    cal_logloss = F.udf(logloss, types.DoubleType())\n",
    "    \n",
    "    # calculate the average log loss in the input dataframe\n",
    "    meanLoss = df.withColumn(\"loss\", cal_logloss('probability','label')).agg(F.avg(\"loss\")).collect()\n",
    "    \n",
    "    return meanLoss"
   ]
  },
  {
   "cell_type": "code",
   "execution_count": 35,
   "metadata": {},
   "outputs": [
    {
     "name": "stdout",
     "output_type": "stream",
     "text": [
      "+-----+--------------------+--------------------+--------------------+----------+\n",
      "|label|            features|       rawPrediction|         probability|prediction|\n",
      "+-----+--------------------+--------------------+--------------------+----------+\n",
      "|    0|(1000000,[1,63097...|[3.04323408301368...|[0.95448952211045...|       0.0|\n",
      "|    0|(1000000,[13,1510...|[2.82499730621538...|[0.94401177856229...|       0.0|\n",
      "|    0|(1000000,[13,2717...|[3.14050066054781...|[0.95853278536500...|       0.0|\n",
      "|    0|(1000000,[21,1643...|[3.53950764318955...|[0.97179121816449...|       0.0|\n",
      "|    0|(1000000,[29,2717...|[3.30615615511194...|[0.96463940028366...|       0.0|\n",
      "+-----+--------------------+--------------------+--------------------+----------+\n",
      "only showing top 5 rows\n",
      "\n"
     ]
    }
   ],
   "source": [
    "result.show(5)"
   ]
  },
  {
   "cell_type": "code",
   "execution_count": 36,
   "metadata": {
    "scrolled": false
   },
   "outputs": [
    {
     "data": {
      "text/plain": [
       "[Row(avg(loss)=0.08608094434475863)]"
      ]
     },
     "execution_count": 36,
     "metadata": {},
     "output_type": "execute_result"
    }
   ],
   "source": [
    "calculateLogLoss(result)"
   ]
  },
  {
   "cell_type": "markdown",
   "metadata": {},
   "source": [
    "# __Section 5__ - Course Concepts"
   ]
  },
  {
   "cell_type": "markdown",
   "metadata": {},
   "source": [
    "### Map Reduce Paradigm\n",
    "\n",
    "Our FFM algorithm is implemented by iteratively using a series of map-reduce tasks. At the beginning of each iteration, we  broadcast the current weight matrix of latent vectors to all worker nodes. The first map-reduce task then begins, with the mapper reading the broadcast latent vectors to calculate the predicted click-through-rate for each impression. A second map-reduce task is then used to update the weight matrix (using gradient descent methods) for the next iteration of the algorithm. In this second map-reduce task, the mapper is used to compute the sub-gradients on each partition of the data. The reduce phase of then aggregates the sub-gradients and generates a single gradient update for our weight matrix of latent vectors. This is closely related to the approach of using Map-Reduce to run OLS in Homework 4 in parallel.\n",
    "\n",
    "### Gradient Descent - Batch vs Stochastic\n",
    "\n",
    "As previously noted, Juan, Zhuang, Chin, & Lin utilize stochastic gradient descent for their implementation of FFM. They are able to do this by making use of the Hogwild algorithm to parallelize the algorithm across multiple cores with shared memory. This was not possible for our implementation using distributed computation without shared memory in Pyspark. In order to implement stochastic gradient descent, we would have had to repeatedly broadcast a massive array of coefficients and gradients, which is computationally infeasible. As such, we opted instead to implement a parallelized version of batch gradient descent to reduce the need for large shuffles and network communcation. This also prevented potential issues with synchronization of updates.\n",
    "\n",
    "\n",
    "### One-Hot Encoding, Sparse Data\n",
    "\n",
    "Given the raw structure of our data, we were faced with several decisions about how to represent and engineer our features. With many categorical variables, one possibility was to use one-hot encoding, essentially creating indicator variables for every feature within every category. Yet as seen in our EDA, each categorical variable had an enormous number of distinct features. A one-hot encoded representation of the dataset thus would have been very large, and very sparse. Instead, we elected to represent our data using feature hashing, as Juan, Zhuang, Chin, and Lin. With this method, each feature is simply encoded as `(field_index,feature_index)` since all values are one because integer features are all so treated as categorical after log transfomation. Therefore, instead of a size of data insteading of being feature number times number of instances, it is 39 times the number of instances. This leads to a much more efficient use of space for our dataset."
   ]
  }
 ],
 "metadata": {
  "kernelspec": {
   "display_name": "Python 3",
   "language": "python",
   "name": "python3"
  },
  "language_info": {
   "codemirror_mode": {
    "name": "ipython",
    "version": 3
   },
   "file_extension": ".py",
   "mimetype": "text/x-python",
   "name": "python",
   "nbconvert_exporter": "python",
   "pygments_lexer": "ipython3",
   "version": "3.6.6"
  }
 },
 "nbformat": 4,
 "nbformat_minor": 4
}
