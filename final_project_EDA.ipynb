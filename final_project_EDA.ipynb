{
 "cells": [
  {
   "cell_type": "markdown",
   "metadata": {},
   "source": [
    "# w261 Final Project - Clickthrough Rate Prediction\n"
   ]
  },
  {
   "cell_type": "markdown",
   "metadata": {},
   "source": [
    "[Your team number (from the spreadsheet)]   \n",
    "[Your team names]   \n",
    "Summer 2019, section [Your section numbers>]   "
   ]
  },
  {
   "cell_type": "markdown",
   "metadata": {},
   "source": [
    "## Table of Contents\n",
    "\n",
    "* __Section 1__ - Question Formulation\n",
    "* __Section 2__ - Algorithm Explanation\n",
    "* __Section 3__ - EDA & Challenges\n",
    "* __Section 4__ - Algorithm Implementation\n",
    "* __Section 5__ - Course Concepts"
   ]
  },
  {
   "cell_type": "code",
   "execution_count": 3,
   "metadata": {},
   "outputs": [],
   "source": [
    "from pyspark.sql import types\n",
    "from pyspark.sql import SQLContext\n",
    "from pyspark.sql.functions import isnan\n",
    "from pyspark.sql import functions as F\n",
    "from pyspark.sql import SparkSession\n",
    "import numpy as np\n",
    "import matplotlib.pyplot as plt"
   ]
  },
  {
   "cell_type": "code",
   "execution_count": 4,
   "metadata": {},
   "outputs": [],
   "source": [
    "# Set the variable to True if running spark locally, to False if running this notebook using week 08 environment\n",
    "local = True"
   ]
  },
  {
   "cell_type": "code",
   "execution_count": 5,
   "metadata": {},
   "outputs": [],
   "source": [
    "\n",
    "if local:\n",
    "    # run if using local\n",
    "    app_name = \"final_project\"\n",
    "    master = \"local[*]\"\n",
    "    spark = SparkSession\\\n",
    "            .builder\\\n",
    "            .appName(app_name)\\\n",
    "            .master(master)\\\n",
    "            .getOrCreate()\n",
    "    # get the working directory\n",
    "    PWD = !pwd\n",
    "    PWD = PWD[0]\n",
    "    \n",
    "else:\n",
    "    # run if using wk08 environment\n",
    "    sqlContext = SQLContext(sc)\n",
    "    \n",
    "sc = spark.sparkContext"
   ]
  },
  {
   "cell_type": "code",
   "execution_count": 6,
   "metadata": {},
   "outputs": [
    {
     "data": {
      "text/plain": [
       "[('spark.app.name', 'final_project'),\n",
       " ('spark.rdd.compress', 'True'),\n",
       " ('spark.serializer.objectStreamReset', '100'),\n",
       " ('spark.master', 'local[*]'),\n",
       " ('spark.executor.id', 'driver'),\n",
       " ('spark.submit.deployMode', 'client'),\n",
       " ('spark.app.id', 'local-1575396431869'),\n",
       " ('spark.ui.showConsoleProgress', 'true'),\n",
       " ('spark.driver.host', 'docker.w261'),\n",
       " ('spark.driver.port', '41157')]"
      ]
     },
     "execution_count": 6,
     "metadata": {},
     "output_type": "execute_result"
    }
   ],
   "source": [
    "sc.getConf().getAll()"
   ]
  },
  {
   "cell_type": "markdown",
   "metadata": {},
   "source": [
    "# __Section 1__ - Question Formulation"
   ]
  },
  {
   "cell_type": "markdown",
   "metadata": {},
   "source": []
  },
  {
   "cell_type": "markdown",
   "metadata": {},
   "source": []
  },
  {
   "cell_type": "markdown",
   "metadata": {},
   "source": [
    "# __Section 2__ - Algorithm Explanation"
   ]
  },
  {
   "cell_type": "markdown",
   "metadata": {},
   "source": [
    "How do we justify the selection of a particular algorithm for our project?\n",
    "1. when data is sparse, FM and FFM work better (need to see if the data is sparse)\n",
    "2. how to justify the choice of FFM over neronets, and trees and other algorithm??"
   ]
  },
  {
   "cell_type": "markdown",
   "metadata": {},
   "source": []
  },
  {
   "cell_type": "markdown",
   "metadata": {},
   "source": [
    "# __Section 3__ - EDA & Challenges"
   ]
  },
  {
   "cell_type": "markdown",
   "metadata": {},
   "source": [
    "In this section, we seek to understand the important characteristics of the training dataset and how we can use them to inform our implementation of the FFM algorithm. "
   ]
  },
  {
   "cell_type": "markdown",
   "metadata": {},
   "source": [
    "## About the data\n",
    "\n",
    "__(write some general intro about the data and create the parquet file we need to use to perform EDA)__"
   ]
  },
  {
   "cell_type": "code",
   "execution_count": null,
   "metadata": {},
   "outputs": [],
   "source": [
    "# create a parquet file that can be used to perform EDA to increase performance\n",
    "\n",
    "# if local:\n",
    "#     train_data = spark.read.csv(f\"{PWD}/data/train.txt\", sep=\"\\t\")\n",
    "#     train_data.write.format(\"parquet\").save(f\"{PWD}/data/train.parquet\")\n",
    "# else:\n",
    "#     train_data = spark.read.csv(\"gs://w261-bucket-hou/final-project/data/train.txt\", sep=\"\\t\")\n",
    "#     train_data.write.format(\"parquet\").save(\"gs://w261-bucket-hou/final-project/data/train.parquet\")\n",
    "\n",
    "\n",
    "# In local environment randomly sample 5000 records to form a medium set for code testing\n",
    "\n",
    "# if local:\n",
    "#     samples = train_data.takeSample(False, 5000)\n",
    "#     with open(PWD + f\"{PWD}/data/mediumTrain.txt\", 'w') as filehandle:\n",
    "#         for listitem in samples:\n",
    "#             filehandle.write('%s\\n' % listitem)\n",
    "#     filehandle.close()\n",
    "#     train_data = spark.read.csv(f\"{PWD}/data/mediumTrain.txt\", sep=\"\\t\")\n",
    "#     train_data.write.format(\"parquet\").save(f\"{PWD}/data/mediumTrain.parquet\")"
   ]
  },
  {
   "cell_type": "code",
   "execution_count": 7,
   "metadata": {},
   "outputs": [],
   "source": [
    "# load the data. By default, we only load the mediumTrain.txt in local environment because the full dataset is too slow to run in local environment\n",
    "\n",
    "if local:\n",
    "    # train_parquet = spark.read.parquet(f\"{PWD}/data/train.parquet\")\n",
    "    train_parquet = spark.read.parquet(f\"{PWD}/data/mediumTrain.parquet\")\n",
    "else: # if using wk08 environment load the file from my bucket\n",
    "    train_parquet = spark.read.parquet(\"gs://w261-bucket-hou/final-project/data/train.parquet\")\n",
    "\n",
    "oldColNames = train_parquet.schema.names"
   ]
  },
  {
   "cell_type": "code",
   "execution_count": 8,
   "metadata": {},
   "outputs": [],
   "source": [
    "#rename files and recast integer types on the first 13 features\n",
    "train_parquet = train_parquet.withColumn(\"label\", train_parquet[\"_c0\"])\n",
    "for colNum in range(1,14): \n",
    "    colName = \"_c\" + str(colNum)\n",
    "    train_parquet = train_parquet.withColumn(\"int_feature_\"+ str(colNum), train_parquet[colName].cast(types.IntegerType()))\n",
    "for colNum in range(14,40): \n",
    "    colName = \"_c\" + str(colNum)\n",
    "    train_parquet = train_parquet.withColumn(\"cate_feature_\"+ str(colNum-13), train_parquet[colName])\n",
    "\n",
    "#drop the old columns\n",
    "train_parquet = train_parquet.drop(*oldColNames)"
   ]
  },
  {
   "cell_type": "code",
   "execution_count": 9,
   "metadata": {},
   "outputs": [],
   "source": [
    "#record feature names by feature type\n",
    "intFieldNames = [colName for colName, dType in train_parquet.dtypes if dType == 'int']\n",
    "cateFieldNames = [colName for colName, dType in train_parquet.dtypes if dType == 'string' and colName != 'label']"
   ]
  },
  {
   "cell_type": "markdown",
   "metadata": {},
   "source": [
    "## EDA 1: Overview of the training data\n",
    "\n",
    "We will take a look at the general properties of the training data in this section, such as the shape of the dataset and the counts of null and distinct values of each column."
   ]
  },
  {
   "cell_type": "code",
   "execution_count": 10,
   "metadata": {},
   "outputs": [],
   "source": [
    "recCount = train_parquet.count() #get record count\n",
    "fieldCount = len(train_parquet.columns)-1 #get the count of features"
   ]
  },
  {
   "cell_type": "code",
   "execution_count": 11,
   "metadata": {
    "scrolled": true
   },
   "outputs": [],
   "source": [
    "#Get the counts of distinct values and null values in each columns in the data set\n",
    "\n",
    "distinctValues = []\n",
    "nullValues = []\n",
    "for colName in train_parquet.schema.names:\n",
    "    distinctValues.append(train_parquet.select(colName).distinct().count())\n",
    "    nullValues.append(train_parquet.filter((train_parquet[colName] == \"\") | train_parquet[colName].isNull() | isnan(train_parquet[colName])).count())"
   ]
  },
  {
   "cell_type": "code",
   "execution_count": 12,
   "metadata": {},
   "outputs": [
    {
     "name": "stdout",
     "output_type": "stream",
     "text": [
      "Training Dataset Overview:\n",
      "\n",
      "Record Count: 5000\n",
      "Feature Count: 39\n",
      "Total Distinct Categorical Values: 28063\n",
      "Null Value Percentage: 14.2%\n",
      "====================================================================== \n",
      "\n",
      "Column Level Information:\n",
      "\n",
      "Field Name     | Distinct Count | Null Count     | Null Percent   \n",
      "----------------------------------------------------------------------\n",
      "label          | 2              | 0              | 0.0%           \n",
      "int_feature_1  | 63             | 2212           | 44.2%          \n",
      "int_feature_2  | 570            | 0              | 0.0%           \n",
      "int_feature_3  | 208            | 1072           | 21.4%          \n",
      "int_feature_4  | 63             | 1034           | 20.7%          \n",
      "int_feature_5  | 3233           | 130            | 2.6%           \n",
      "int_feature_6  | 567            | 1099           | 22.0%          \n",
      "int_feature_7  | 207            | 215            | 4.3%           \n",
      "int_feature_8  | 52             | 3              | 0.1%           \n",
      "int_feature_9  | 582            | 215            | 4.3%           \n",
      "int_feature_10 | 6              | 2212           | 44.2%          \n",
      "int_feature_11 | 50             | 215            | 4.3%           \n",
      "int_feature_12 | 25             | 3826           | 76.5%          \n",
      "int_feature_13 | 77             | 1034           | 20.7%          \n",
      "cate_feature_1 | 115            | 0              | 0.0%           \n",
      "cate_feature_2 | 332            | 0              | 0.0%           \n",
      "cate_feature_3 | 3292           | 177            | 3.5%           \n",
      "cate_feature_4 | 2421           | 177            | 3.5%           \n",
      "cate_feature_5 | 48             | 0              | 0.0%           \n",
      "cate_feature_6 | 7              | 569            | 11.4%          \n",
      "cate_feature_7 | 2238           | 0              | 0.0%           \n",
      "cate_feature_8 | 63             | 0              | 0.0%           \n",
      "cate_feature_9 | 2              | 0              | 0.0%           \n",
      "cate_feature_10| 2085           | 0              | 0.0%           \n",
      "cate_feature_11| 1576           | 0              | 0.0%           \n",
      "cate_feature_12| 3111           | 177            | 3.5%           \n",
      "cate_feature_13| 1349           | 0              | 0.0%           \n",
      "cate_feature_14| 22             | 0              | 0.0%           \n",
      "cate_feature_15| 1486           | 0              | 0.0%           \n",
      "cate_feature_16| 2821           | 177            | 3.5%           \n",
      "cate_feature_17| 9              | 0              | 0.0%           \n",
      "cate_feature_18| 904            | 0              | 0.0%           \n",
      "cate_feature_19| 360            | 2227           | 44.5%          \n",
      "cate_feature_20| 4              | 2227           | 44.5%          \n",
      "cate_feature_21| 2960           | 177            | 3.5%           \n",
      "cate_feature_22| 7              | 3836           | 76.7%          \n",
      "cate_feature_23| 12             | 0              | 0.0%           \n",
      "cate_feature_24| 1594           | 177            | 3.5%           \n",
      "cate_feature_25| 35             | 2227           | 44.5%          \n",
      "cate_feature_26| 1210           | 2227           | 44.5%          \n"
     ]
    }
   ],
   "source": [
    "print(\"Training Dataset Overview:\\n\")\n",
    "print(\"Record Count:\", recCount)\n",
    "print(\"Feature Count:\", fieldCount)\n",
    "print(\"Total Distinct Categorical Values:\", np.sum(distinctValues[14:]))\n",
    "print(\"Null Value Percentage:\", str(round(float(sum(nullValues))/(recCount*fieldCount)*100,1)) + \"%\")\n",
    "\n",
    "print(\"=\"*70, \"\\n\")\n",
    "\n",
    "\n",
    "print(\"Column Level Information:\\n\")\n",
    "print('%-15s| %-15s| %-15s| %-15s' %('Field Name','Distinct Count', 'Null Count', 'Null Percent'))\n",
    "print('-'*70)\n",
    "for colName, distinctVal, nullVal in zip(train_parquet.schema.names, distinctValues, nullValues):\n",
    "    print('%-15s| %-15s| %-15s| %-15s' %(colName, distinctVal, nullVal, str(round(float(nullVal)/recCount*100,1)) + \"%\" ))"
   ]
  },
  {
   "cell_type": "markdown",
   "metadata": {},
   "source": [
    "__EDA 1 Findings:__\n",
    "\n",
    "There are a few things we see in our dataset that helps inform our implementation:\n",
    "\n",
    "> We have a total of $45,840,617$ records in the `train.txt`. We would still have $45,840,617 \\cdot 80\\% = 36,672,493$ records we can use to train our model even if we do a 80%, 20% split and save the 20% for validation. With this many records in our dataset and the difficulty in parallelize stochastic gradient descent, we might explore using mini-batch gradient descent to speed up training.\n",
    "\n",
    "> $14.2\\%$ of the data has null values, and some categorical features (see `cate_feature_3`, `cate_feature_16` and etc...) have a large number of distinct values. With these two properties, if we simply one-hot encode the categorial variable, we will have a vary sparse dataset. To efficiently store the data in memory, we need to consider using a more dense representation of the data similar to stripes or pairs introduced in class.\n",
    "\n",
    "> We notice that categorical features (see `cate_feature_3`, `cate_feature_16` and etc...) with a large number of distinct values might imply very low counts of records per values which will make our model prone to overfitting and reduce the generalizability. For example, if we train many parameters on only a few records, would mean we are training our model based on some specific information only contained in this particular training set. Therefore, in the next EDA section, we will explore this topic further and suggest ways to deal with this issue if it exists."
   ]
  },
  {
   "cell_type": "markdown",
   "metadata": {},
   "source": [
    "## EDA 2: Categorical Features\n",
    "\n",
    "In this section of EDA, we will take a look at the categorical variables in the dataset with the main goal of exploring how many instances we have for each distinct value which is equivalent to a feature after one-hot encoding."
   ]
  },
  {
   "cell_type": "code",
   "execution_count": 13,
   "metadata": {},
   "outputs": [],
   "source": [
    "def get_distinct_summary(df, col, thresholds):\n",
    "    \"\"\"\n",
    "    Helper function which helps calculate the numbers of distinct values left after\n",
    "    exluding those whose count of instances is lower than given thresholds\n",
    "    \n",
    "    Args:\n",
    "        df         - a spark dataframe of the entire dataset\n",
    "        col        - the column name of the column used in the calculation\n",
    "        thresholds - a list of numbers used as the thresholds\n",
    "    Returns:\n",
    "        summary_values - a list: \n",
    "                         1. first element as the column name\n",
    "                         2. second element as the distinct value count\n",
    "                         3. the following elements as the counts of distinct values left \n",
    "                            after exluding the ones having counts lower than the threshold.\n",
    "    \"\"\"\n",
    "    \n",
    "    summary_values = [col]\n",
    "    summary_values.append(df.select(col).distinct().count())\n",
    "    \n",
    "    count_df = df.groupBy(col).count()\n",
    "    filtered_counts = [count_df.filter(f\"count >= {threshold}\").count() + 1 for threshold in thresholds]\n",
    "    summary_values.extend(filtered_counts)\n",
    "    \n",
    "    return [str(val) for val in summary_values]"
   ]
  },
  {
   "cell_type": "code",
   "execution_count": 14,
   "metadata": {},
   "outputs": [],
   "source": [
    "# get the distinct value counts for all categorical variables for the thresholds below\n",
    "\n",
    "thresholds = [5, 10, 25, 50, 100, 500, 1000]\n",
    "distinct_summary = [get_distinct_summary(train_parquet, c, thresholds) for c in cateFieldNames]"
   ]
  },
  {
   "cell_type": "code",
   "execution_count": 15,
   "metadata": {},
   "outputs": [],
   "source": [
    "# calculate the number and the percentage of feature preserved for a given threshold\n",
    "\n",
    "distinct_counts = np.asarray(distinct_summary)[:,1:].astype(int)\n",
    "feat_num = np.sum(distinct_counts, axis = 0)\n",
    "feat_percent_preserv = np.sum(distinct_counts, axis = 0)/np.sum(distinct_counts, axis = 0)[0]"
   ]
  },
  {
   "cell_type": "code",
   "execution_count": 16,
   "metadata": {},
   "outputs": [
    {
     "data": {
      "text/plain": [
       "Text(0.5,1,'Feature Counts by Threshold')"
      ]
     },
     "execution_count": 16,
     "metadata": {},
     "output_type": "execute_result"
    },
    {
     "data": {
      "image/png": "[encoded data removed]",
      "text/plain": [
       "<Figure size 648x360 with 1 Axes>"
      ]
     },
     "metadata": {},
     "output_type": "display_data"
    }
   ],
   "source": [
    "# plot feature counts by threshold\n",
    "\n",
    "plt.figure(figsize=(9, 5))\n",
    "\n",
    "\n",
    "Ts = ['None'] + [f\"{threshold}\" for threshold in thresholds]\n",
    "y_pos = np.arange(len(Ts))\n",
    "\n",
    "plt.bar(y_pos, feat_num, align='center', alpha=0.5)\n",
    "plt.xticks(y_pos, Ts)\n",
    "plt.ylabel('Feature Count')\n",
    "plt.xlabel('Threshold')\n",
    "plt.title('Feature Counts by Threshold')"
   ]
  },
  {
   "cell_type": "code",
   "execution_count": 17,
   "metadata": {},
   "outputs": [
    {
     "name": "stdout",
     "output_type": "stream",
     "text": [
      "+-----------------+--------+----------+-----------+-----------+-----------+------------+------------+-------------+\n",
      "|          Feature|Distinct|count >= 5|count >= 10|count >= 25|count >= 50|count >= 100|count >= 500|count >= 1000|\n",
      "+-----------------+--------+----------+-----------+-----------+-----------+------------+------------+-------------+\n",
      "|   cate_feature_1|     115|        35|         22|         13|          9|           7|           3|            2|\n",
      "|   cate_feature_2|     332|       144|         95|         41|         20|          12|           2|            1|\n",
      "|   cate_feature_3|    3292|        93|         41|         14|          5|           3|           1|            1|\n",
      "|   cate_feature_4|    2421|       122|         55|         17|         10|           6|           1|            1|\n",
      "|   cate_feature_5|      48|        19|         13|         10|          7|           6|           3|            2|\n",
      "|   cate_feature_6|       7|         8|          8|          8|          8|           8|           5|            3|\n",
      "|   cate_feature_7|    2238|       189|         56|         14|          4|           2|           1|            1|\n",
      "|   cate_feature_8|      63|        23|         17|         12|          8|           6|           3|            2|\n",
      "|   cate_feature_9|       2|         3|          3|          3|          3|           3|           3|            2|\n",
      "|  cate_feature_10|    2085|       139|         34|          7|          3|           2|           2|            2|\n",
      "|  cate_feature_11|    1576|       228|         78|         21|          8|           3|           1|            1|\n",
      "|  cate_feature_12|    3111|       102|         43|         15|          6|           4|           1|            1|\n",
      "|  cate_feature_13|    1349|       245|         93|         24|          9|           3|           1|            1|\n",
      "|  cate_feature_14|      22|        17|         13|         11|          9|           7|           4|            3|\n",
      "|  cate_feature_15|    1486|       246|        106|         27|          5|           1|           1|            1|\n",
      "|  cate_feature_16|    2821|       117|         52|         18|          7|           4|           1|            1|\n",
      "|  cate_feature_17|       9|        10|         10|         10|         10|          10|           4|            2|\n",
      "|  cate_feature_18|     904|       216|        111|         37|         13|           7|           1|            1|\n",
      "|  cate_feature_19|     360|        53|         21|          9|          4|           4|           3|            3|\n",
      "|  cate_feature_20|       4|         5|          5|          5|          5|           5|           5|            2|\n",
      "|  cate_feature_21|    2960|       111|         47|         17|          7|           4|           1|            1|\n",
      "|  cate_feature_22|       7|         7|          7|          5|          4|           4|           3|            2|\n",
      "|  cate_feature_23|      12|        13|         12|         10|          9|           8|           4|            3|\n",
      "|  cate_feature_24|    1594|       114|         60|         22|         16|           9|           1|            1|\n",
      "|  cate_feature_25|      35|        26|         19|         13|         11|          10|           4|            2|\n",
      "|  cate_feature_26|    1210|        84|         33|         12|          8|           4|           2|            2|\n",
      "|      ***Total***|   28063|      2369|       1054|        395|        208|         142|          61|           44|\n",
      "|***% Preserved***|  100.0%|      8.4%|       3.8%|       1.4%|       0.7%|        0.5%|        0.2%|         0.2%|\n",
      "+-----------------+--------+----------+-----------+-----------+-----------+------------+------------+-------------+\n",
      "\n"
     ]
    }
   ],
   "source": [
    "# show the distinct value count for all categorical variables for all thresholds and the summary at the bottom\n",
    "\n",
    "eda2_summary = distinct_summary + [[\"***Total***\"] + [str(num) for num in feat_num]]\n",
    "eda2_summary = eda2_summary + [[\"***% Preserved***\"] + [str(round(percent*100,1))+\"%\" for percent in feat_percent_preserv]]\n",
    "\n",
    "\n",
    "distinctCounts = spark.createDataFrame(eda2_summary, ['Feature', 'Distinct'] + [f\"count >= {threshold}\" for threshold in thresholds] )\n",
    "distinctCounts.show(40)"
   ]
  },
  {
   "cell_type": "markdown",
   "metadata": {},
   "source": [
    "__EDA 2 Findings:__\n",
    "\n",
    "> In this section, we found that most of the values of the categorical features have very few counts. Even a threshold of five occurance would cause a drastic drop in feature number (refer to the bar graph above). Looking at the row, `***% Preserved***` in the table above, we only have 6.2% of the values left if we set the threshold for minimum occurance to be 5 and 3.2% left when the threshold is set to 10. This piece of information helps inform the feature engineering. We will need to establish a threshold to exlude these values having very low occurances so we don't train our model with local trend that doesn't exist in the popultion.\n",
    "\n",
    "> Looking at the counts of features left after a given threshold is applied (row, `***Total***` in the table above), we can see that when the threshold is set to ten, we would still have around 1 million one-hot-encoded features, and we can guarantee that all the parameters in our models are trained as least on ten examples. Therefore, we will set the threshold at ten to filter our categorical values. \n",
    "\n",
    "> __ARE WE GOING TO ASSIGN A SPECIAL VALUE TO FEATURE BELOW THE THRESHOLD?__\n"
   ]
  },
  {
   "cell_type": "markdown",
   "metadata": {},
   "source": [
    "## EDA 3: Integer Features\n",
    "\n",
    "In this section, we perform an EDA on the integer features (i.e., the first 13 features). The goal is to identify possible feature engineering that will improve our algorithm's performance."
   ]
  },
  {
   "cell_type": "code",
   "execution_count": 50,
   "metadata": {},
   "outputs": [
    {
     "name": "stdout",
     "output_type": "stream",
     "text": [
      "+-------+-----------------+------------------+-----------------+-----------------+------------------+------------------+------------------+\n",
      "|summary|    int_feature_1|     int_feature_2|    int_feature_3|    int_feature_4|     int_feature_5|     int_feature_6|     int_feature_7|\n",
      "+-------+-----------------+------------------+-----------------+-----------------+------------------+------------------+------------------+\n",
      "|  count|             2788|              5000|             3928|             3966|              4870|              3901|              4785|\n",
      "|   mean|3.826757532281205|          110.9356| 43.9806517311609|7.389813414019163|17061.030184804928|118.69700076903358| 16.61671891327064|\n",
      "| stddev| 9.53160896120588|393.61348473815525|870.2330455018677|8.877438545143875| 58911.75067484051| 422.3105054811211|62.123301344325135|\n",
      "|    min|                0|                -2|                0|                0|                 0|                 0|                 0|\n",
      "|    max|              145|              4864|            37170|              107|           1077390|             17030|              1777|\n",
      "+-------+-----------------+------------------+-----------------+-----------------+------------------+------------------+------------------+\n",
      "\n",
      "+-------+------------------+------------------+------------------+------------------+------------------+------------------+-----------------+\n",
      "|summary|     int_feature_7|     int_feature_8|     int_feature_9|    int_feature_10|    int_feature_11|    int_feature_12|   int_feature_13|\n",
      "+-------+------------------+------------------+------------------+------------------+------------------+------------------+-----------------+\n",
      "|  count|              4785|              4997|              4785|              2788|              4785|              1174|             3966|\n",
      "|   mean| 16.61671891327064|12.236141685011006|109.79958202716823|0.6362984218077475|2.7839080459770114|0.8091993185689949| 8.20196671709531|\n",
      "| stddev|62.123301344325135|12.688856379647316|237.26999987911375| 0.684862885900568| 5.190126031125586| 3.549342920033132|13.69169835883991|\n",
      "|    min|                 0|                 0|                 0|                 0|                 0|                 0|                0|\n",
      "|    max|              1777|                71|              4371|                 4|                79|                69|              471|\n",
      "+-------+------------------+------------------+------------------+------------------+------------------+------------------+-----------------+\n",
      "\n"
     ]
    }
   ],
   "source": [
    "train_parquet.select(intFieldNames[:7]).describe().show()\n",
    "train_parquet.select(intFieldNames[6:]).describe().show()"
   ]
  },
  {
   "cell_type": "code",
   "execution_count": 69,
   "metadata": {},
   "outputs": [
    {
     "data": {
      "image/png": "[encoded data removed]",
      "text/plain": [
       "<Figure size 1152x1152 with 13 Axes>"
      ]
     },
     "metadata": {},
     "output_type": "display_data"
    }
   ],
   "source": [
    "fig = plt.figure(figsize=(16, 16))\n",
    "for i in range(len(intFieldNames)):\n",
    "    colName = intFieldNames[i]\n",
    "    ax = plt.subplot(5, 4, i+1)\n",
    "    ax.hist(train_parquet.select(colName).rdd.map(lambda r: r[0]).filter(lambda x: x!=None).collect())\n",
    "    ax.set_title(colName)\n",
    "\n",
    "st = fig.suptitle(\"Integer Feature Histogram\", fontsize=\"x-large\")\n",
    "fig.tight_layout()\n",
    "st.set_y(1.03)"
   ]
  },
  {
   "cell_type": "markdown",
   "metadata": {},
   "source": [
    "__EDA 3 Findings:__\n",
    "\n",
    "From both the histograms and statistics summary, we can see that most of the integer features besides `int_feature_10` are very right-skewed with outliers. When fitting to the integers without any feature engineering, we might give the outliers more than appropriate weight in affecting our model's decision-making. Therefore, it is worth it to try transforming the integers by taking the natural log of its value. We will compare the performance of the model with and without the log transformation."
   ]
  },
  {
   "cell_type": "markdown",
   "metadata": {},
   "source": [
    "==================================================================================================================================="
   ]
  },
  {
   "cell_type": "markdown",
   "metadata": {},
   "source": [
    "# __Section 4__ - Algorithm Implementation"
   ]
  },
  {
   "cell_type": "markdown",
   "metadata": {},
   "source": []
  },
  {
   "cell_type": "markdown",
   "metadata": {},
   "source": []
  },
  {
   "cell_type": "markdown",
   "metadata": {},
   "source": [
    "# __Section 5__ - Course Concepts"
   ]
  },
  {
   "cell_type": "markdown",
   "metadata": {},
   "source": []
  },
  {
   "cell_type": "markdown",
   "metadata": {},
   "source": []
  },
  {
   "cell_type": "code",
   "execution_count": null,
   "metadata": {},
   "outputs": [],
   "source": []
  }
 ],
 "metadata": {
  "kernelspec": {
   "display_name": "Python 3",
   "language": "python",
   "name": "python3"
  },
  "language_info": {
   "codemirror_mode": {
    "name": "ipython",
    "version": 3
   },
   "file_extension": ".py",
   "mimetype": "text/x-python",
   "name": "python",
   "nbconvert_exporter": "python",
   "pygments_lexer": "ipython3",
   "version": "3.6.6"
  }
 },
 "nbformat": 4,
 "nbformat_minor": 2
}
